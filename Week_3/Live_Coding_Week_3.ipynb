{
  "nbformat": 4,
  "nbformat_minor": 0,
  "metadata": {
    "colab": {
      "provenance": []
    },
    "kernelspec": {
      "name": "python3",
      "display_name": "Python 3"
    },
    "language_info": {
      "name": "python"
    }
  },
  "cells": [
    {
      "cell_type": "markdown",
      "source": [
        "# Question_1\n",
        "\n",
        "A **queue** is a data structure in which whatever comes first will go out first. It follows the FIFO (First-In-First-Out) policy. In Queue, the insertion is done from one end known as the rear end of the queue, whereas the deletion is done from another end known as the front end of the queue.\n",
        "\n",
        "For a given class **Queue**, create two methods:\n",
        "\n",
        "* **Enqueue(data):** that accepts an integer `data` and inserts it into the queue in the last position.\n",
        "* **Dequeue():** if queue is empty, returns `None`. Otherwise, delete one element of the queue from the first position and returns deleted element value. \n",
        "\n",
        "**Note-**  Use given linked list structure for implementation. \n",
        "\n",
        "```python\n",
        "class Node:\n",
        "    def __init__(self, data):\n",
        "        self.data = data # store data\n",
        "        self.next = None #point to the next node\n",
        "class Queue:\n",
        "    def __init__(self):\n",
        "        self.head = None # point to the first node of the list\n",
        "        self.last = None # point to the last node of the list\n",
        "```\n",
        "\n",
        "\n",
        "\n",
        "**Sample input**\n",
        "\n",
        "```python\n",
        "[2,4,6,8,10] #elements for insert in queue\n",
        "3 # remove 3 elements from queue\n",
        "```\n",
        "\n",
        "Output\n",
        "\n",
        "```python\n",
        "2 # first removed element from queue\n",
        "4 # second removed element from queue\n",
        "6 # third removed element from queue\n",
        "8, 10 #remaining elements in queue\n",
        "```"
      ],
      "metadata": {
        "id": "lyUhpWrHmP7k"
      }
    },
    {
      "cell_type": "code",
      "execution_count": 1,
      "metadata": {
        "id": "pUWoscgMmL-0"
      },
      "outputs": [],
      "source": [
        "class Node:\n",
        "    def __init__(self, data):\n",
        "        self.data = data\n",
        "        self.next = None\n",
        "class Queue:\n",
        "    def __init__(self):\n",
        "        self.head = None\n",
        "        self.last = None\n",
        "    def Enqueue(self, data):\n",
        "      # Instantiate a new Node\n",
        "      new_node = Node(data)\n",
        "\n",
        "      if self.head == None:\n",
        "        # If list is empty\n",
        "        self.head = new_node\n",
        "        self.last = new_node\n",
        "      else:\n",
        "        # Add element to end of list\n",
        "        self.last.next = new_node\n",
        "        self.last = new_node\n",
        "    def Dequeue(self):\n",
        "      if self.head == None:\n",
        "        return None\n",
        "      else:\n",
        "        head_data = self.head.data\n",
        "        if self.head == self.last:\n",
        "          self.head = None\n",
        "          self.last = None\n",
        "        else:\n",
        "          self.head = self.head.next\n",
        "        return head_data\n",
        "    def traverse(self):\n",
        "        temp = self.head\n",
        "        if temp != None:\n",
        "            while temp != None:\n",
        "                if temp.next != None:\n",
        "                    print(temp.data, end=',')\n",
        "                else:\n",
        "                    print(temp.data)\n",
        "                temp = temp.next\n",
        "        else:\n",
        "            print('None')"
      ]
    },
    {
      "cell_type": "code",
      "source": [
        "ins = eval(input())\n",
        "delt = int(input())\n",
        "A = Queue()\n",
        "for i in ins:\n",
        "    A.Enqueue(i)\n",
        "for j in range(delt):\n",
        "    print(A.Dequeue())\n",
        "A.traverse()"
      ],
      "metadata": {
        "colab": {
          "base_uri": "https://localhost:8080/"
        },
        "id": "fDiWXFTTo2-e",
        "outputId": "65551928-130f-4956-9d9a-1f78cf8aecca"
      },
      "execution_count": 2,
      "outputs": [
        {
          "output_type": "stream",
          "name": "stdout",
          "text": [
            "[1,2,3,4,5,6,7]\n",
            "3\n",
            "1\n",
            "2\n",
            "3\n",
            "4,5,6,7\n"
          ]
        }
      ]
    },
    {
      "cell_type": "markdown",
      "source": [
        "# Question_2\n",
        "\n",
        "A **doubly linked list** is a linked data structure that consists of a set of sequentially linked records called nodes. Each node contains three fields: two link fields (references to the previous and to the next node in the sequence of nodes) and one data field. So, it can be traversed in both directions.\n",
        "\n",
        "For the given class **doubly_linked_list**, create one methods:\n",
        "\n",
        "* **insert_at_pos(data,pos):** that accepts an integer `data` and inserts it into the list at given `pos` position where `1 < pos <= length(list)`\n",
        "\n",
        "**Note-** Use given linked list structure to implementation.\n",
        "\n",
        "```python\n",
        "class Node:\n",
        "    def __init__(self, data):\n",
        "        self.data = data # Stores data\n",
        "        self.next = None # Contains the reference of next node\n",
        "        self.prev = None # Contains the reference of previous node\n",
        "class doubly_linked_list:\n",
        "    def __init__(self):\n",
        "        self.head = None # Contains the reference of first node of the list\n",
        "        self.last = None # Contains the reference of the last node of the list\n",
        "```\n",
        "\n",
        "**Sample Input**\n",
        "\n",
        "```python\n",
        "[1,3,5,7,9] # Elements for insert in list one by one, start from 1\n",
        "20 # data\n",
        "2 # position\n",
        "```\n",
        "\n",
        "**Output**\n",
        "\n",
        "```python\n",
        "1,20,3,5,7,9 # Traversed list from head to last \n",
        "9,7,5,3,20,1 # Traversed list from last to head \n",
        "```"
      ],
      "metadata": {
        "id": "FLu1ZV6lpBgG"
      }
    },
    {
      "cell_type": "code",
      "source": [
        "class Node:\n",
        "    def __init__(self, data):\n",
        "        self.data = data\n",
        "        self.next = None\n",
        "        self.prev = None\n",
        "class doubly_linked_list:\n",
        "    def __init__(self):\n",
        "        self.head = None\n",
        "        self.last = None\n",
        "      \n",
        "    def insert_end(self,data):\n",
        "        newnode = Node(data)\n",
        "        newnode.prev = self.last\n",
        "        if self.head == None:            \n",
        "            self.head = newnode\n",
        "            self.last = newnode\n",
        "        else:\n",
        "            self.last.next = newnode\n",
        "            self.last = newnode\n",
        "    def insert_at_pos(self, data, pos):\n",
        "      new_node = Node(data)\n",
        "\n",
        "      if pos == 1:\n",
        "        new_node.next = self.head\n",
        "        self.head.prev = new_node\n",
        "        self.head = new_node\n",
        "      else:\n",
        "        temp = self.head\n",
        "        for i in range(1, pos - 1):\n",
        "          if temp != None:\n",
        "            temp = temp.next\n",
        "      \n",
        "      if(temp != None):\n",
        "        new_node.next = temp.next\n",
        "        new_node.prev = temp\n",
        "        temp.next = new_node\n",
        "        if(new_node.next != None):\n",
        "          new_node.next.prev = new_node\n",
        "      \n",
        "    def traverse(self):\n",
        "        temp = self.head\n",
        "        while temp != None:\n",
        "            if temp.next != None:\n",
        "                print(temp.data, end=',')\n",
        "            else:\n",
        "                print(temp.data)\n",
        "            temp = temp.next\n",
        "\n",
        "    def traverse_rev(self):\n",
        "        temp = self.last\n",
        "        while temp != None:\n",
        "            if temp.prev != None:\n",
        "                print(temp.data, end=',')\n",
        "            else:\n",
        "                print(temp.data)\n",
        "            temp = temp.prev"
      ],
      "metadata": {
        "id": "7wHDrMgHpZZr"
      },
      "execution_count": 6,
      "outputs": []
    },
    {
      "cell_type": "code",
      "source": [
        "ins = eval(input())\n",
        "data = int(input())\n",
        "pos = int(input())\n",
        "A = doubly_linked_list()\n",
        "for i in ins:\n",
        "    A.insert_end(i)\n",
        "A.insert_at_pos(data, pos)\n",
        "A.traverse()\n",
        "A.traverse_rev()"
      ],
      "metadata": {
        "colab": {
          "base_uri": "https://localhost:8080/"
        },
        "id": "iXMBMKS_vd-o",
        "outputId": "ba27bacf-43e9-436c-82a3-bd4c85c49b7d"
      },
      "execution_count": 5,
      "outputs": [
        {
          "output_type": "stream",
          "name": "stdout",
          "text": [
            "[10,20,30,40,50,60]\n",
            "15\n",
            "2\n",
            "10,15,20,30,40,50,60\n",
            "60,50,40,30,20,15,10\n"
          ]
        }
      ]
    },
    {
      "cell_type": "markdown",
      "source": [
        "# Question_3\n",
        "\n",
        "Implement a Stack using only two Queues. The implemented Stack should support all the functions of a normal stack (`push`, `pop`, `top`, and `isempty`).\n",
        "\n",
        "Create the following method for given class `stack`.\n",
        "\n",
        "- `push(data)` insert element `data` to the top of the stack.\n",
        "- `pop()` If stack is empty return message `Stack is empty`. Otherwise, remove the element from the top of the stack and return it. \n",
        "- `top()` If stack is empty return message `Stack is empty`. Otherwise, return the element on the top of the stack.\n",
        "- `isempty()` Returns `True` if the stack is empty, `False` otherwise.\n",
        "\n",
        "**Sample Input**\n",
        "\n",
        "```\n",
        "[10,20,30,40,50] #push one by one \n",
        "2 # pop 2 elemnts\n",
        "```\n",
        "\n",
        "**Sample Output**\n",
        "\n",
        "```\n",
        "50 #first popped element\n",
        "40 #second popped element\n",
        "30 #top element\n",
        "False #isempty\n",
        "```"
      ],
      "metadata": {
        "id": "IzetE548vkyI"
      }
    },
    {
      "cell_type": "code",
      "source": [
        "# Prefix Code\n",
        "class Queue:\n",
        "    def __init__(self):\n",
        "        self.items = []\n",
        "    def enqueue(self, key):\n",
        "        self.items.insert(0,key)\n",
        "    def dequeue(self):\n",
        "        return self.items.pop()\n",
        "            \n",
        "class stack:\n",
        "    def __init__(self):\n",
        "        self.q1 = Queue()\n",
        "        self.q2 = Queue()\n",
        "        self.size = 0\n",
        "    \n",
        "    def isempty(self):\n",
        "      return self.size == 0\n",
        "\n",
        "    def push(self, data):\n",
        "      self.size += 1\n",
        "      self.q2.enqueue(data)\n",
        "      while self.q1.items != []:\n",
        "        self.q2.enqueue(self.q1.dequeue())\n",
        "      self.temp = self.q1\n",
        "      self.q1 = self.q2\n",
        "      self.q2 = self.temp\n",
        "    \n",
        "    def pop(self):\n",
        "      if self.isempty():\n",
        "        return \"Stack is empty\"\n",
        "      else:\n",
        "        self.size -= 1\n",
        "        return self.q1.dequeue()\n",
        "    \n",
        "    def top(self):\n",
        "      if self.isempty():\n",
        "        return \"Stack is empty\"\n",
        "      else:\n",
        "        return self.q1.items[-1]"
      ],
      "metadata": {
        "id": "iGHcqMqGvvvq"
      },
      "execution_count": 7,
      "outputs": []
    },
    {
      "cell_type": "code",
      "source": [
        "# Suffix Code\n",
        "inp = eval(input())\n",
        "dl = int(input())\n",
        "A = stack()\n",
        "for el in inp:\n",
        "    A.push(el)\n",
        "for i in range(dl):\n",
        "    print(A.pop())\n",
        "print(A.top())\n",
        "print(A.isempty())"
      ],
      "metadata": {
        "colab": {
          "base_uri": "https://localhost:8080/"
        },
        "id": "Zp0_cDryws0M",
        "outputId": "5aa6197c-fbb8-4934-8125-b109df11a4f2"
      },
      "execution_count": 8,
      "outputs": [
        {
          "output_type": "stream",
          "name": "stdout",
          "text": [
            "[1,2,3,4,5,8,10,45,76,88,99,32,19]\n",
            "5\n",
            "19\n",
            "32\n",
            "99\n",
            "88\n",
            "76\n",
            "45\n",
            "False\n"
          ]
        }
      ]
    }
  ]
}