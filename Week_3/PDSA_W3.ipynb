{
  "nbformat": 4,
  "nbformat_minor": 0,
  "metadata": {
    "colab": {
      "provenance": []
    },
    "kernelspec": {
      "name": "python3",
      "display_name": "Python 3"
    },
    "language_info": {
      "name": "python"
    }
  },
  "cells": [
    {
      "cell_type": "markdown",
      "source": [
        "# Setup Timer To Analyse Algorithms!"
      ],
      "metadata": {
        "id": "7NfRI3aT4Y64"
      }
    },
    {
      "cell_type": "code",
      "source": [
        "# A more elaborate version\n",
        "\n",
        "import time\n",
        "\n",
        "class TimerError(Exception):\n",
        "  \"\"\"A Custom exception used to report errors in use of Timer class\"\"\"\n",
        "\n",
        "class Timer:\n",
        "  def __init__(self):\n",
        "    self._start_time = None\n",
        "    self._elapsed_time = None\n",
        "\n",
        "  def start(self):\n",
        "    \"\"\"Start a new timer\"\"\"\n",
        "    if self._start_time is not None:\n",
        "      raise TimerError(\"Timer is running. Use .stop()\")\n",
        "    self._start_time = time.perf_counter()\n",
        "  \n",
        "  def stop(self):\n",
        "    \"\"\"Save the elapsed time and re-initialize time\"\"\"\n",
        "    if self._start_time is None:\n",
        "      raise TimerError(\"Timer is not running. Use .start()\")\n",
        "    self._elapsed_time = time.perf_counter() - self._start_time\n",
        "    self._start_time = None\n",
        "  \n",
        "  def elapsed(self):\n",
        "    \"\"\"Report elapsed time\"\"\"\n",
        "    if self._elapsed_time is None:\n",
        "      raise TimerError(\"Timer has not been run yet. Use .start()\")\n",
        "    return(self._elapsed_time)\n",
        "  \n",
        "  def __str__(self):\n",
        "    \"\"\"print() prints elapsde time\"\"\"\n",
        "    return(str(self._elapsed_time))"
      ],
      "metadata": {
        "id": "a69_sEk54Z71"
      },
      "execution_count": null,
      "outputs": []
    },
    {
      "cell_type": "markdown",
      "source": [
        "# Sorting"
      ],
      "metadata": {
        "id": "17D1uH-uygnc"
      }
    },
    {
      "cell_type": "markdown",
      "source": [
        "## QuickSort\n",
        "\n",
        "### Shortcomings of Merge Sort\n",
        "\n",
        "- Extra storage can be costly!\n",
        "- Recursive calls and returns, expensive.\n",
        "- Mergings happens because elements in the left half need to move to the right half and vice versa.\n",
        "\n",
        "### Idea\n",
        "\n",
        "- Can we divide the list in such a way so that everything on the left is smaller than everything on the right?\n",
        "  - No need to merge then!\n",
        "\n"
      ],
      "metadata": {
        "id": "AUErnxBVypHI"
      }
    },
    {
      "cell_type": "markdown",
      "source": [
        "### Approach_1\n",
        "\n",
        "- Suppose the median of `L`is `m`.\n",
        "- Move all values $<=m$ to left half of `L`.\n",
        "  - Right half has values $>m$\n",
        "- Recursively sort left and right halves\n",
        "  - `L` is now sorted, no merge!\n",
        "- Recurrence: $T(n) = 2T(n/2) - n$\n",
        "  - Rearrange in a single pass.\n",
        "- Time Complexity\n",
        "  - $O(nlogn)$\n",
        "- Here, we choose a random `pivot` and mark lower and upper elements. Recursively Quicksort again!\n",
        "\n",
        "### Algorithm\n",
        "\n",
        "- Scan the list from left to right.\n",
        "- Four Segments: Pivot, Lower, Upper, Unclassified.\n",
        "- Examine the first unclassified element.\n",
        "  - If it is larger than the pivot, extend Upper to include this element.\n",
        "  - If it is less than or equal to pivot, exchange with the first element in Upper. This extends Lower and shifts Upper by one position"
      ],
      "metadata": {
        "id": "PeKfLT6OzcR_"
      }
    },
    {
      "cell_type": "code",
      "execution_count": null,
      "metadata": {
        "id": "mbW4MBM8yeuO"
      },
      "outputs": [],
      "source": [
        "def quicksort(L, left, right):\n",
        "  if (right - left <= 1):\n",
        "    return L\n",
        "  pivot = L[left]\n",
        "  lower = left + 1\n",
        "  upper = left + 1\n",
        "  for i in range(left + 1, right):\n",
        "    if L[i] > pivot: # Extend Upper\n",
        "      upper += 1\n",
        "    else: # Exchange L[i] with start of upper segment\n",
        "      L[i], L[lower] = L[lower], L[i]\n",
        "      lower += 1 # Update lower\n",
        "      upper += 1 # Update Upper\n",
        "  \n",
        "  # Update pivot between Lower and Upper to create LOWER | PIVOT | UPPER\n",
        "  L[left], L[lower - 1] = L[lower - 1], L[left]\n",
        "  lower -= 1 # Update Lower\n",
        "\n",
        "  quicksort(L, left, lower) # Sort the LOWER part\n",
        "  quicksort(L, lower + 1, upper) # Sort the UPPER part\n",
        "\n",
        "  return L"
      ]
    },
    {
      "cell_type": "markdown",
      "source": [
        "### Analysis of QuickSort"
      ],
      "metadata": {
        "id": "iSfmwDh64KGy"
      }
    },
    {
      "cell_type": "markdown",
      "source": [
        "- Worst case\n",
        "  - Pivot is maximum or minimum\n",
        "  - Partitions are of size $0, n - 1$\n",
        "  - $T(n) = n + (n-1) + ... 1$\n",
        "  - $T(n)$ is $O(n^2)$\n",
        "  - Already sorted array $-$ Worst case!\n",
        "\n",
        "- However, Average case is $O(nlogn)$."
      ],
      "metadata": {
        "id": "3ESRKMtL4pPG"
      }
    },
    {
      "cell_type": "code",
      "source": [
        "import sys\n",
        "sys.setrecursionlimit(2**31 - 1)"
      ],
      "metadata": {
        "id": "DnPuvh5x6KV5"
      },
      "execution_count": null,
      "outputs": []
    },
    {
      "cell_type": "code",
      "source": [
        "import random\n",
        "\n",
        "random.seed(2022)\n",
        "input_lists = {}\n",
        "\n",
        "input_lists[\"random\"] = [random.randrange(100000) for i in range(5000)]\n",
        "input_lists[\"ascending\"] = [i for i in range(5000)]\n",
        "input_lists[\"descending\"] = [i for i in range(4999, -1, -1)]\n",
        "\n",
        "t = Timer()\n",
        "\n",
        "for i in input_lists.keys():\n",
        "  l = input_lists[i][:]\n",
        "  t.start()\n",
        "  quicksort(l, 0, len(l))\n",
        "  t.stop()\n",
        "  print(i, t)"
      ],
      "metadata": {
        "colab": {
          "base_uri": "https://localhost:8080/"
        },
        "id": "SwBj_-ZO4NYV",
        "outputId": "30e1649d-3415-4c58-d8f3-85aa64b03ce6"
      },
      "execution_count": null,
      "outputs": [
        {
          "output_type": "stream",
          "name": "stdout",
          "text": [
            "random 0.0161947940000573\n",
            "ascending 1.5464928979999968\n",
            "descending 2.538722294999843\n"
          ]
        }
      ]
    },
    {
      "cell_type": "markdown",
      "source": [
        "### Approach_2\n",
        "\n",
        "- Randomize choice of Pivot!"
      ],
      "metadata": {
        "id": "HxY5MfFg6dQZ"
      }
    },
    {
      "cell_type": "code",
      "source": [
        "import random\n",
        "\n",
        "def quicksort(L, left, right):\n",
        "  if (right - left <= 1):\n",
        "    return L\n",
        "  pivot = random.randint(0, right - 1)\n",
        "  lower = left + 1\n",
        "  upper = left + 1\n",
        "  for i in range(left + 1, right):\n",
        "    if L[i] > pivot: # Extend Upper\n",
        "      upper += 1\n",
        "    else: # Exchange L[i] with start of upper segment\n",
        "      L[i], L[lower] = L[lower], L[i]\n",
        "      lower += 1 # Update lower\n",
        "      upper += 1 # Update Upper\n",
        "  \n",
        "  # Update pivot between Lower and Upper to create LOWER | PIVOT | UPPER\n",
        "  L[left], L[lower - 1] = L[lower - 1], L[left]\n",
        "  lower -= 1 # Update Lower\n",
        "\n",
        "  quicksort(L, left, lower) # Sort the LOWER part\n",
        "  quicksort(L, lower + 1, upper) # Sort the UPPER part\n",
        "\n",
        "  return L"
      ],
      "metadata": {
        "id": "YjyDG4Ib6ikZ"
      },
      "execution_count": null,
      "outputs": []
    },
    {
      "cell_type": "markdown",
      "source": [
        "### Analysis of Approach_2"
      ],
      "metadata": {
        "id": "WeBt32eZ7eHk"
      }
    },
    {
      "cell_type": "code",
      "source": [
        "import random\n",
        "\n",
        "random.seed(2022)\n",
        "input_lists = {}\n",
        "\n",
        "input_lists[\"random\"] = [random.randrange(100000000) for i in range(10000)]\n",
        "input_lists[\"ascending\"] = [i for i in range(10000)]\n",
        "input_lists[\"descending\"] = [i for i in range(9999, -1, -1)]\n",
        "\n",
        "t = Timer()\n",
        "\n",
        "for i in input_lists.keys():\n",
        "  l = input_lists[i][:]\n",
        "  t.start()\n",
        "  quicksort(l, 0, len(l))\n",
        "  t.stop()\n",
        "  print(i, t)"
      ],
      "metadata": {
        "colab": {
          "base_uri": "https://localhost:8080/"
        },
        "id": "F3xY831a7cpG",
        "outputId": "1cc564c1-38ee-4836-ea81-1992a8fdc568"
      },
      "execution_count": null,
      "outputs": [
        {
          "output_type": "stream",
          "name": "stdout",
          "text": [
            "random 0.03552606499988542\n",
            "ascending 6.42362421100006\n",
            "descending 11.484227608999845\n"
          ]
        }
      ]
    },
    {
      "cell_type": "markdown",
      "source": [
        "# Lists And Arrays"
      ],
      "metadata": {
        "id": "SyaVk9y6uk30"
      }
    },
    {
      "cell_type": "markdown",
      "source": [
        "## Python_Lists"
      ],
      "metadata": {
        "id": "k_osCTGXdRrO"
      }
    },
    {
      "cell_type": "markdown",
      "source": [
        "- Append is $O(1)$"
      ],
      "metadata": {
        "id": "pOI4Vm0BdwuF"
      }
    },
    {
      "cell_type": "code",
      "source": [
        "t = Timer()\n",
        "t.start()\n",
        "l = []\n",
        "for i in range(10000000):\n",
        "  l.append(i)\n",
        "t.stop()\n",
        "print(t)"
      ],
      "metadata": {
        "colab": {
          "base_uri": "https://localhost:8080/"
        },
        "id": "ANUDVQCKdToC",
        "outputId": "947fe14d-7a92-4f50-9685-3c4c9f68e65f"
      },
      "execution_count": null,
      "outputs": [
        {
          "output_type": "stream",
          "name": "stdout",
          "text": [
            "1.5015613229998053\n"
          ]
        }
      ]
    },
    {
      "cell_type": "markdown",
      "source": [
        "- Insert is $O(n^2)$"
      ],
      "metadata": {
        "id": "Od0EghQEeBHj"
      }
    },
    {
      "cell_type": "code",
      "source": [
        "t = Timer()\n",
        "t.start()\n",
        "l = []\n",
        "for i in range(300000):\n",
        "  l.insert(0, i)\n",
        "t.stop()\n",
        "print(t)"
      ],
      "metadata": {
        "colab": {
          "base_uri": "https://localhost:8080/"
        },
        "id": "gpNa4EgVd92W",
        "outputId": "13ab1733-7294-437d-a681-f59d03a990c6"
      },
      "execution_count": null,
      "outputs": [
        {
          "output_type": "stream",
          "name": "stdout",
          "text": [
            "23.086674478000532\n"
          ]
        }
      ]
    },
    {
      "cell_type": "markdown",
      "source": [
        "## Searching_with_Arrays_and_Lists"
      ],
      "metadata": {
        "id": "V0pZmd3meuyJ"
      }
    },
    {
      "cell_type": "markdown",
      "source": [
        "### Lists"
      ],
      "metadata": {
        "id": "6ZVB5PFNe0oy"
      }
    },
    {
      "cell_type": "code",
      "source": [
        "def naive_search(v, L):\n",
        "  \"\"\"Returns true if key is found in the list by Naive Search\"\"\"\n",
        "  for i in range(len(L)):\n",
        "    if v == L[i]:\n",
        "      return True\n",
        "  return False"
      ],
      "metadata": {
        "id": "X6GNPioZexuo"
      },
      "execution_count": null,
      "outputs": []
    },
    {
      "cell_type": "code",
      "source": [
        "def binary_search(key, L): # L is Sorted\n",
        "  \"\"\"Returns true if key is found in the list by Binary Search\"\"\"\n",
        "  if L == []: # List is empty, key is not there in list\n",
        "    return False\n",
        "  \n",
        "  m = len(L) // 2\n",
        "\n",
        "  if key == L[m]: # If key is in midpoint of current list\n",
        "    return True\n",
        "  \n",
        "  if key > L[m]: # If key is greater than the current middle element.\n",
        "    return binary_search(key, L[m+1:])\n",
        "  else:\n",
        "    return binary_search(key, L[:m])"
      ],
      "metadata": {
        "id": "bGx6n4Ete-iy"
      },
      "execution_count": null,
      "outputs": []
    },
    {
      "cell_type": "markdown",
      "source": [
        "### Numpy_Arrays"
      ],
      "metadata": {
        "id": "CxM5N4kufGAk"
      }
    },
    {
      "cell_type": "code",
      "source": [
        "def naive_search_array(v, A, l, r):\n",
        "  \"\"\"Returns true if key is found in the array by Naive Search\"\"\"\n",
        "  for i in range(l, r):\n",
        "    if v == A[i]:\n",
        "      return True\n",
        "  return False"
      ],
      "metadata": {
        "id": "tp2S1ppsfRaU"
      },
      "execution_count": null,
      "outputs": []
    },
    {
      "cell_type": "code",
      "source": [
        "def binary_search_array(v, A, l, r):\n",
        "  \"\"\"Returns true if key is found in the array by Binary Search\"\"\"\n",
        "  if r - l <= 0:\n",
        "    return False\n",
        "  \n",
        "  m = (l + r) // 2\n",
        "\n",
        "  if v == A[m]:\n",
        "    return True\n",
        "  \n",
        "  if v < A[m]:\n",
        "    return binary_search_array(v, A, l, m)\n",
        "  else:\n",
        "    return binary_search_array(v, A, m+1, r)"
      ],
      "metadata": {
        "id": "HPOJPhUxfck0"
      },
      "execution_count": null,
      "outputs": []
    },
    {
      "cell_type": "code",
      "source": [
        "l = list(range(0, 100000, 2)) # List of Even Numbers\n",
        "t = Timer() # Create an Instance of the timer object\n",
        "\n",
        "t.start()\n",
        "\n",
        "for i in range(3001, 13000, 2):\n",
        "  v = naive_search(i, l)\n",
        "t.stop()\n",
        "\n",
        "print(\"Naive_Search_Lists\", t)\n",
        "\n",
        "t.start()\n",
        "for i in range(3001, 13000, 2):\n",
        "  v = binary_search(i, l)\n",
        "t.stop()\n",
        "\n",
        "print(\"Binary_Search_List\", t)"
      ],
      "metadata": {
        "colab": {
          "base_uri": "https://localhost:8080/"
        },
        "id": "4aV44W4TgEU-",
        "outputId": "5de1712e-da53-4aa9-c29c-c34802feb994"
      },
      "execution_count": null,
      "outputs": [
        {
          "output_type": "stream",
          "name": "stdout",
          "text": [
            "Naive_Search_Lists 17.148326804000135\n",
            "Binary_Search_List 0.8598581899996134\n"
          ]
        }
      ]
    },
    {
      "cell_type": "code",
      "source": [
        "import numpy as np\n",
        "\n",
        "my_array = np.arange(0, 100000, 2)\n",
        "t = Timer()\n",
        "\n",
        "t.start()\n",
        "for i in range(3001, 5000, 2):\n",
        "  v = naive_search_array(i, my_array, 0, np.prod(my_array.shape))\n",
        "t.stop()\n",
        "\n",
        "print(\"Naive_Search_Array\", t)\n",
        "\n",
        "t.start()\n",
        "for i in range(3001, 13000, 2):\n",
        "  v = binary_search_array(i, my_array, 0, np.prod(my_array.shape))\n",
        "t.stop()\n",
        "\n",
        "print(\"Binary_Search_Array\", t)"
      ],
      "metadata": {
        "colab": {
          "base_uri": "https://localhost:8080/"
        },
        "id": "mAToqyAEgpU_",
        "outputId": "341436cb-d313-4013-fe26-0298bf0c9978"
      },
      "execution_count": null,
      "outputs": [
        {
          "output_type": "stream",
          "name": "stdout",
          "text": [
            "Naive_Search_Array 13.29835367800024\n",
            "Binary_Search_Array 0.14629965700078174\n"
          ]
        }
      ]
    },
    {
      "cell_type": "markdown",
      "source": [
        "### Questions\n",
        "\n",
        "- Binary Search in arrays is much faster than in lists\n",
        "- Why is naive search in arrays slower than in lists?"
      ],
      "metadata": {
        "id": "J_2bhmbkhRRn"
      }
    },
    {
      "cell_type": "markdown",
      "metadata": {
        "id": "IrkFYqxMsZ9W"
      },
      "source": [
        "## Sorting_With_Arrays_And_Lists"
      ]
    },
    {
      "cell_type": "markdown",
      "source": [
        "### Selection_Sort"
      ],
      "metadata": {
        "id": "U-DCfqcOh1fB"
      }
    },
    {
      "cell_type": "markdown",
      "source": [
        "#### Selection_Sort_List"
      ],
      "metadata": {
        "id": "AvJcSO8Hh3ts"
      }
    },
    {
      "cell_type": "code",
      "source": [
        "def SelectionSortList(L):\n",
        "   n = len(L)\n",
        "   if n < 1:\n",
        "      return(L)\n",
        "   for i in range(n):\n",
        "      # Assume L[:i] is sorted\n",
        "      mpos = i  \n",
        "      # mpos is position of minimum in L[i:]\n",
        "      for j in range(i+1,n):\n",
        "        if L[j] < L[mpos]:\n",
        "           mpos = j\n",
        "      # L[mpos] is the smallest value in L[i:]\n",
        "      (L[i],L[mpos]) = (L[mpos],L[i])\n",
        "      # Now L[:i+1] is sorted\n",
        "   return(L)"
      ],
      "metadata": {
        "id": "HDMdLWK7h6o4"
      },
      "execution_count": null,
      "outputs": []
    },
    {
      "cell_type": "markdown",
      "source": [
        "#### Selection_Sort_Array"
      ],
      "metadata": {
        "id": "FdWCXb34h9qr"
      }
    },
    {
      "cell_type": "code",
      "source": [
        "def SelectionSortArray(A):\n",
        "   n = np.prod(A.shape)\n",
        "   if n < 1:\n",
        "      return(A)\n",
        "   for i in range(n):\n",
        "      # Assume A[:i] is sorted\n",
        "      mpos = i  \n",
        "      # mpos is position of minimum in A[i:]\n",
        "      for j in range(i+1,n):\n",
        "        if A[j] < A[mpos]:\n",
        "           mpos = j\n",
        "      # A[mpos] is the smallest value in A[i:]\n",
        "      (A[i],A[mpos]) = (A[mpos],A[i])\n",
        "      # Now A[:i+1] is sorted\n",
        "   return(A)"
      ],
      "metadata": {
        "id": "pD5xh_CCiAVY"
      },
      "execution_count": null,
      "outputs": []
    },
    {
      "cell_type": "markdown",
      "source": [
        "***Question:*** Why is selection sort slower on arrays than on lists?"
      ],
      "metadata": {
        "id": "pldFfkY9i7Rs"
      }
    },
    {
      "cell_type": "code",
      "source": [
        "import random\n",
        "import numpy as np\n",
        "print(\"Selection_Sort_Lists\\n\")\n",
        "random.seed(2021)\n",
        "inputlists = {}\n",
        "inputlists[\"random\"] = [random.randrange(100000) for i in range(10000)]\n",
        "inputlists[\"ascending\"] = [i for i in range(10000)]\n",
        "inputlists[\"descending\"] = [i for i in range (9999,-1,-1)]\n",
        "t = Timer()\n",
        "for k in inputlists.keys():\n",
        "    tmplist = inputlists[k][:]\n",
        "    t.start()\n",
        "    SelectionSortList(tmplist)\n",
        "    t.stop()\n",
        "    print(k,t)\n",
        "\n",
        "print(\"\\nSelection_Sort_Arrays\\n\")\n",
        "inputarrays = {}\n",
        "inputarrays[\"random\"] = np.arange(10000)\n",
        "for i in range(10000):\n",
        "    inputarrays[\"random\"][i] = random.randrange(100000)\n",
        "inputarrays[\"ascending\"] = np.arange(10000)\n",
        "inputarrays[\"descending\"] = np.arange(9999,-1,-1)\n",
        "t = Timer()\n",
        "for k in inputarrays.keys():\n",
        "    tmparray = inputarrays[k][:]\n",
        "    t.start()\n",
        "    SelectionSortArray(tmparray)\n",
        "    t.stop()\n",
        "    print(k,t)"
      ],
      "metadata": {
        "colab": {
          "base_uri": "https://localhost:8080/"
        },
        "id": "G4FSz3LtiEJ_",
        "outputId": "854df991-5013-4519-a38e-04fdbd76f83f"
      },
      "execution_count": null,
      "outputs": [
        {
          "output_type": "stream",
          "name": "stdout",
          "text": [
            "Selection_Sort_Lists\n",
            "\n",
            "random 4.319338629000413\n",
            "ascending 4.1922265110006265\n",
            "descending 4.479455159998906\n",
            "\n",
            "Selection_Sort_Arrays\n",
            "\n",
            "random 11.601615706000302\n",
            "ascending 11.884914026999468\n",
            "descending 12.066124184999353\n"
          ]
        }
      ]
    },
    {
      "cell_type": "markdown",
      "source": [
        "### Insertion_Sort"
      ],
      "metadata": {
        "id": "Ymw6CvT8iqvE"
      }
    },
    {
      "cell_type": "markdown",
      "source": [
        "#### Insertion_Sort_List"
      ],
      "metadata": {
        "id": "K4o0-Bu0ivQq"
      }
    },
    {
      "cell_type": "code",
      "source": [
        "def InsertionSortList(L):\n",
        "   n = len(L)\n",
        "   if n < 1:\n",
        "      return(L)\n",
        "   for i in range(n):\n",
        "      # Assume L[:i] is sorted\n",
        "      # Move L[i] to correct position in L[:i]\n",
        "      j = i\n",
        "      while(j > 0 and L[j] < L[j-1]):\n",
        "        (L[j],L[j-1]) = (L[j-1],L[j])\n",
        "        j = j-1\n",
        "      # Now L[:i+1] is sorted\n",
        "   return(L)"
      ],
      "metadata": {
        "id": "DdSbfrIQiuE8"
      },
      "execution_count": null,
      "outputs": []
    },
    {
      "cell_type": "markdown",
      "source": [
        "#### Insertion_Sort_Array"
      ],
      "metadata": {
        "id": "9SFe1QzhixrV"
      }
    },
    {
      "cell_type": "code",
      "source": [
        "def InsertionSortArray(A):\n",
        "   n = np.prod(A.shape)\n",
        "   if n < 1:\n",
        "      return(A)\n",
        "   for i in range(n):\n",
        "      # Assume A[:i] is sorted\n",
        "      # Move A[i] to correct position in A[:i]\n",
        "      j = i\n",
        "      while(j > 0 and A[j] < A[j-1]):\n",
        "        (A[j],A[j-1]) = (A[j-1],A[j])\n",
        "        j = j-1\n",
        "      # Now A[:i+1] is sorted\n",
        "   return(A)"
      ],
      "metadata": {
        "id": "W8P4ZH4oiz4C"
      },
      "execution_count": null,
      "outputs": []
    },
    {
      "cell_type": "markdown",
      "metadata": {
        "id": "BYq-qcbTsZ9Y"
      },
      "source": [
        "#### Insertion sort preformance\n",
        "- On already sorted input, performance is very good\n",
        "- On reverse sorted input, performance is worse than selection sort"
      ]
    },
    {
      "cell_type": "code",
      "source": [
        "import random\n",
        "import numpy as np\n",
        "\n",
        "print(\"Insertion_Sort_Lists\\n\")\n",
        "random.seed(2021)\n",
        "inputlists = {}\n",
        "inputlists[\"random\"] = [random.randrange(100000) for i in range(10000)]\n",
        "inputlists[\"ascending\"] = [i for i in range(10000)]\n",
        "inputlists[\"descending\"] = [i for i in range (9999,-1,-1)]\n",
        "t = Timer()\n",
        "for k in inputlists.keys():\n",
        "    tmplist = inputlists[k][:]\n",
        "    t.start()\n",
        "    InsertionSortList(tmplist)\n",
        "    t.stop()\n",
        "    print(k,t)\n",
        "\n",
        "print(\"\\nInsertion_Sort_Arrays\\n\")\n",
        "inputarrays = {}\n",
        "inputarrays[\"random\"] = np.arange(10000)\n",
        "for i in range(10000):\n",
        "    inputarrays[\"random\"][i] = random.randrange(100000)\n",
        "inputarrays[\"ascending\"] = np.arange(10000)\n",
        "inputarrays[\"descending\"] = np.arange(9999,-1,-1)\n",
        "t = Timer()\n",
        "for k in inputarrays.keys():\n",
        "    tmparray = inputarrays[k][:]\n",
        "    t.start()\n",
        "    InsertionSortArray(tmparray)\n",
        "    t.stop()\n",
        "    print(k,t)"
      ],
      "metadata": {
        "colab": {
          "base_uri": "https://localhost:8080/"
        },
        "id": "ncsFJ7IQjGV-",
        "outputId": "7890c513-8072-4967-de39-d8e9a66e58d1"
      },
      "execution_count": null,
      "outputs": [
        {
          "output_type": "stream",
          "name": "stdout",
          "text": [
            "Insertion_Sort_Lists\n",
            "\n",
            "random 8.92390286599948\n",
            "ascending 0.001614929000425036\n",
            "descending 17.406479404000493\n",
            "\n",
            "Insertion_Sort_Arrays\n",
            "\n",
            "random 19.02291744300055\n",
            "ascending 0.0031277840007533086\n",
            "descending 42.17288534299951\n"
          ]
        }
      ]
    },
    {
      "cell_type": "markdown",
      "metadata": {
        "id": "_I_Kwq5RsZ9S"
      },
      "source": [
        "***Question:*** Why is insertion sort slower on arrays than on lists?"
      ]
    },
    {
      "cell_type": "markdown",
      "source": [
        "### Merge_Sort"
      ],
      "metadata": {
        "id": "a_zTHaFjjlve"
      }
    },
    {
      "cell_type": "markdown",
      "source": [
        "#### Merge_Sort_List"
      ],
      "metadata": {
        "id": "6LYOjh6fjnii"
      }
    },
    {
      "cell_type": "code",
      "source": [
        "def mergeList(A,B):\n",
        "  (m,n) = (len(A),len(B))\n",
        "  (C,i,j,k) = ([],0,0,0)\n",
        "  while k < m+n:\n",
        "    if i == m:\n",
        "      C.append(B[j])\n",
        "      (j,k) = (j+1,k+1)\n",
        "    elif j == n:\n",
        "      C.append(A[i])\n",
        "      (i,k) = (i+1,k+1)\n",
        "    elif A[i] < B[j]:\n",
        "      C.append(A[i])\n",
        "      (i,k) = (i+1,k+1)\n",
        "    else:\n",
        "      C.append(B[j])\n",
        "      (j,k) = (j+1,k+1)\n",
        "  return(C)\n",
        "\n",
        "def mergesortList(L):\n",
        "  n = len(L)\n",
        "\n",
        "  if n <= 1:\n",
        "     return(L)\n",
        "  \n",
        "  Left = mergesortList(L[:n//2])\n",
        "  Right = mergesortList(L[n//2:])\n",
        "\n",
        "  Lsorted = mergeList(Left,Right)\n",
        "\n",
        "  return(Lsorted)"
      ],
      "metadata": {
        "id": "_zey28qnjrJS"
      },
      "execution_count": null,
      "outputs": []
    },
    {
      "cell_type": "markdown",
      "source": [
        "#### Merge_Sort_Arrays"
      ],
      "metadata": {
        "id": "gUAAExZSjvYQ"
      }
    },
    {
      "cell_type": "code",
      "source": [
        "def mergeArray(A,B):\n",
        "  (m,n) = (np.prod(A.shape),np.prod(B.shape))\n",
        "  (C,i,j,k) = (np.zeros(m+n,dtype=int),0,0,0)\n",
        "  while k < m+n:\n",
        "    if i == m:\n",
        "      C[k] = B[j]\n",
        "      (j,k) = (j+1,k+1)\n",
        "    elif j == n:\n",
        "      C[k] = A[i]\n",
        "      (i,k) = (i+1,k+1)\n",
        "    elif A[i] < B[j]:\n",
        "      C[k] = A[i]\n",
        "      (i,k) = (i+1,k+1)\n",
        "    else:\n",
        "      C[k] = B[j]\n",
        "      (j,k) = (j+1,k+1)\n",
        "  return(C)\n",
        "\n",
        "def mergesortArray(A,l,r):\n",
        "  if r-l <= 1:\n",
        "    B = np.array(A[l:r])\n",
        "    return(B)\n",
        "    \n",
        "  mid = (l+r)//2\n",
        "  \n",
        "  L = mergesortArray(A,l,mid)\n",
        "  R = mergesortArray(A,mid,r)\n",
        "\n",
        "  B = mergeArray(L,R)\n",
        "\n",
        "  return(B)"
      ],
      "metadata": {
        "id": "7XiDiFhtjxcq"
      },
      "execution_count": null,
      "outputs": []
    },
    {
      "cell_type": "code",
      "source": [
        "import random\n",
        "import numpy as np\n",
        "\n",
        "print(\"Merge_Sort_Lists\\n\")\n",
        "random.seed(2021)\n",
        "inputlists = {}\n",
        "inputlists[\"random\"] = [random.randrange(100000000) for i in range(1000000)]\n",
        "inputlists[\"ascending\"] = [i for i in range(1000000)]\n",
        "inputlists[\"descending\"] = [i for i in range (999999,-1,-1)]\n",
        "t = Timer()\n",
        "for k in inputlists.keys():\n",
        "    tmplist = inputlists[k][:]\n",
        "    t.start()\n",
        "    mergesortList(tmplist)\n",
        "    t.stop()\n",
        "    print(k,t)\n",
        "\n",
        "print(\"\\nMerge_Sort_Arrays\\n\")\n",
        "inputarrays = {}\n",
        "inputarrays[\"random\"] = np.arange(1000000)\n",
        "for i in range(1000000):\n",
        "    inputarrays[\"random\"][i] = random.randrange(100000000)\n",
        "inputarrays[\"ascending\"] = np.arange(1000000)\n",
        "inputarrays[\"descending\"] = np.arange(999999,-1,-1)\n",
        "t = Timer()\n",
        "for k in inputarrays.keys():\n",
        "    tmparray = inputarrays[k][:]\n",
        "    t.start()\n",
        "    mergesortArray(tmparray,0,1000000)\n",
        "    t.stop()\n",
        "    print(k,t)"
      ],
      "metadata": {
        "colab": {
          "base_uri": "https://localhost:8080/"
        },
        "id": "FWN2UBEBj8uy",
        "outputId": "cedb6208-7bd6-4585-ccc1-4ffe2dd2554c"
      },
      "execution_count": null,
      "outputs": [
        {
          "output_type": "stream",
          "name": "stdout",
          "text": [
            "Merge_Sort_Lists\n",
            "\n",
            "random 9.304844260001119\n",
            "ascending 7.18981144099962\n",
            "descending 7.406235430999004\n",
            "\n",
            "Merge_Sort_Arrays\n",
            "\n",
            "random 39.716200221999316\n",
            "ascending 35.46264583800075\n",
            "descending 37.522356953999406\n"
          ]
        }
      ]
    },
    {
      "cell_type": "markdown",
      "source": [
        "### Quick_Sort"
      ],
      "metadata": {
        "id": "_idsbrFfkxwm"
      }
    },
    {
      "cell_type": "markdown",
      "source": [
        "#### Quick_Sort_List"
      ],
      "metadata": {
        "id": "TKOIb-A9k03Y"
      }
    },
    {
      "cell_type": "code",
      "source": [
        "def quicksortList(L, left, right):\n",
        "  if (right - left <= 1):\n",
        "    return L\n",
        "  pivot = L[left]\n",
        "  lower = left + 1\n",
        "  upper = left + 1\n",
        "  for i in range(left + 1, right):\n",
        "    if L[i] > pivot: # Extend Upper\n",
        "      upper += 1\n",
        "    else: # Exchange L[i] with start of upper segment\n",
        "      L[i], L[lower] = L[lower], L[i]\n",
        "      lower += 1 # Update lower\n",
        "      upper += 1 # Update Upper\n",
        "  \n",
        "  # Update pivot between Lower and Upper to create LOWER | PIVOT | UPPER\n",
        "  L[left], L[lower - 1] = L[lower - 1], L[left]\n",
        "  lower -= 1 # Update Lower\n",
        "\n",
        "  quicksort(L, left, lower) # Sort the LOWER part\n",
        "  quicksort(L, lower + 1, upper) # Sort the UPPER part\n",
        "\n",
        "  return L"
      ],
      "metadata": {
        "id": "FKJCgnpFk2ib"
      },
      "execution_count": null,
      "outputs": []
    },
    {
      "cell_type": "markdown",
      "source": [
        "#### Quick_Sort_Array"
      ],
      "metadata": {
        "id": "_r_k81sek9Q-"
      }
    },
    {
      "cell_type": "code",
      "source": [
        "def quicksortArray(A,l,r):  # Sort A[l:r]\n",
        "  if (r - l <= 1):\n",
        "    return(A)\n",
        "  (pivot,lower,upper) = (A[l],l+1,l+1)\n",
        "  for i in range(l+1,r):\n",
        "    if A[i] > pivot:  # Extend upper segment\n",
        "      upper = upper+1\n",
        "    else:  # Exchange L[i] with start of upper segment\n",
        "      (A[i], A[lower]) = (A[lower], A[i])\n",
        "      # Shift both segments\n",
        "      (lower,upper) = (lower+1,upper+1)\n",
        "  # Move pivot between lower and upper\n",
        "  (A[l],A[lower-1]) = (A[lower-1],A[l])\n",
        "  lower = lower-1\n",
        "  # Recursive calls\n",
        "  quicksortArray(A,l,lower)\n",
        "  quicksortArray(A,lower+1,upper)\n",
        "  return(A)"
      ],
      "metadata": {
        "id": "Lstn4xeck_Kg"
      },
      "execution_count": null,
      "outputs": []
    },
    {
      "cell_type": "code",
      "source": [
        "import random\n",
        "import numpy as np\n",
        "print(\"Quick_Sort_List\\n\")\n",
        "random.seed(2021)\n",
        "inputlists = {}\n",
        "inputlists[\"random\"] = [random.randrange(100000000) for i in range(1000000)]\n",
        "inputlists[\"ascending\"] = [i for i in range(20000)]\n",
        "inputlists[\"descending\"] = [i for i in range (19999,-1,-1)]\n",
        "t = Timer()\n",
        "for k in inputlists.keys():\n",
        "    tmplist = inputlists[k][:]\n",
        "    t.start()\n",
        "    quicksortList(tmplist,0,len(tmplist))\n",
        "    t.stop()\n",
        "    print(k,t)\n",
        "\n",
        "print(\"\\nQuick_Sort_Array\\n\")\n",
        "inputarrays = {}\n",
        "inputarrays[\"random\"] = np.arange(1000000)\n",
        "for i in range(1000000):\n",
        "    inputarrays[\"random\"][i] = random.randrange(100000000)\n",
        "inputarrays[\"ascending\"] = np.arange(20000)\n",
        "inputarrays[\"descending\"] = np.arange(19999,-1,-1)\n",
        "t = Timer()\n",
        "for k in inputarrays.keys():\n",
        "    tmparray = inputarrays[k][:]\n",
        "    t.start()\n",
        "    quicksortArray(tmparray,0,np.prod(tmparray.shape))\n",
        "    t.stop()\n",
        "    print(k,t)"
      ],
      "metadata": {
        "colab": {
          "base_uri": "https://localhost:8080/"
        },
        "id": "lZ_pXKr-lEQJ",
        "outputId": "dd0e24e2-acaa-4b45-f704-025ba8d0b3e3"
      },
      "execution_count": null,
      "outputs": [
        {
          "output_type": "stream",
          "name": "stdout",
          "text": [
            "Quick_Sort_List\n",
            "\n",
            "random 6.508223352000641\n",
            "ascending 29.416329518000566\n",
            "descending 51.31639829999949\n",
            "\n",
            "Quick_Sort_Array\n",
            "\n",
            "random 10.525607249999666\n",
            "ascending 46.952226466000866\n",
            "descending 103.27215891800006\n"
          ]
        }
      ]
    },
    {
      "cell_type": "markdown",
      "source": [
        "#### Quicksort performance\n",
        "- Random input of size $10^7$\n",
        "    - Compare with merge sort on $10^7$ random input\n",
        "- Sorted inputs of size $2 \\times 10^4$"
      ],
      "metadata": {
        "id": "kBIXM74ulTPS"
      }
    },
    {
      "cell_type": "markdown",
      "source": [
        "## Linked_List\n",
        "\n",
        "- Typically a sequence of nodes\n",
        "- Let's implement this idea in Python"
      ],
      "metadata": {
        "id": "-l1PYZXw3Xe8"
      }
    },
    {
      "cell_type": "markdown",
      "source": [
        "### Single_Linked_List\n",
        "\n",
        "- Each node has a value and an address to the next element"
      ],
      "metadata": {
        "id": "_lhsmFk46Jy2"
      }
    },
    {
      "cell_type": "code",
      "source": [
        "class Node:\n",
        "  def __init__(self, v = None):\n",
        "    self.value = v\n",
        "    self.next = None\n",
        "    return\n",
        "  \n",
        "  def is_empty(self):\n",
        "    if self.value == None:\n",
        "      return True\n",
        "    else:\n",
        "      return False\n",
        "  \n",
        "class singly_linked_list:\n",
        "  def __init__(self):\n",
        "    self.head = None\n",
        "  \n",
        "  def append(self, v):\n",
        "    \"\"\"Inserts element at the end of the list\"\"\"\n",
        "    if self.is_empty():\n",
        "      self.value = v\n",
        "    elif self.next == None:\n",
        "      self.next = Node(v)\n",
        "    else:\n",
        "      self.next.append(v)\n",
        "    return\n",
        "  \n",
        "  def append_iterative(self, v):\n",
        "    \"\"\"Inserts element at the end of the list\"\"\"\n",
        "    if self.is_empty():\n",
        "      self.value = v\n",
        "      return\n",
        "    \n",
        "    temp = self\n",
        "    while(temp.next != None):\n",
        "      temp = temp.next\n",
        "    \n",
        "    temp.next = Node(v)\n",
        "    return\n",
        "  \n",
        "  def insert(self, v):\n",
        "    \"\"\"Insert element at the front of the list\"\"\"\n",
        "    if self.is_empty():\n",
        "      self.value = v\n",
        "      return\n",
        "    \n",
        "    new_node = Node(v)\n",
        "\n",
        "    self.value, new_node.value = new_node.value, self.value\n",
        "    self.next, new_node.next = new_node, self.next\n",
        "\n",
        "    return\n",
        "  \n",
        "  def delete(self, v):\n",
        "    \"\"\"Deletes value v from the list\"\"\"\n",
        "    if self.is_empty():\n",
        "      return\n",
        "    \n",
        "    if self.value == v:\n",
        "      self.value = None\n",
        "      if self.next != None:\n",
        "        self.value = self.next.value\n",
        "        self.next = self.next.next\n",
        "      return\n",
        "    else:\n",
        "      if self.next != None:\n",
        "        self.next.delete(v)\n",
        "        if self.next.value == None:\n",
        "          self.next = None\n",
        "    \n",
        "    return"
      ],
      "metadata": {
        "id": "7_QCNFXMunGp"
      },
      "execution_count": null,
      "outputs": []
    },
    {
      "cell_type": "markdown",
      "source": [
        "## List_Comprehension"
      ],
      "metadata": {
        "id": "PH_2qoJvCZIo"
      }
    },
    {
      "cell_type": "code",
      "source": [
        "# Usually what we do when initializing a multidimensional list\n",
        "zero_list = [0,0,0]\n",
        "zero_matrix = [zero_list, zero_list, zero_list]\n",
        "\n",
        "zero_matrix[1][1] = 1\n",
        "\n",
        "print(\"Incorrect:\", zero_matrix) # Wrong Output\n",
        "\n",
        "# Using List Comprehension\n",
        "zero_matrix = [[0 for i in range(3)] for j in range(3)]\n",
        "zero_matrix[1][1] = 1\n",
        "print(\"Correct:\", zero_matrix)"
      ],
      "metadata": {
        "colab": {
          "base_uri": "https://localhost:8080/"
        },
        "id": "AD2QptbiCbt3",
        "outputId": "69823ccd-fbf4-45d2-da71-a88c9eb80818"
      },
      "execution_count": null,
      "outputs": [
        {
          "output_type": "stream",
          "name": "stdout",
          "text": [
            "Incorrect: [[0, 1, 0], [0, 1, 0], [0, 1, 0]]\n",
            "Correct: [[0, 0, 0], [0, 1, 0], [0, 0, 0]]\n"
          ]
        }
      ]
    },
    {
      "cell_type": "markdown",
      "source": [
        "## Numpy_Arrays"
      ],
      "metadata": {
        "id": "SswoS8XRDM1i"
      }
    },
    {
      "cell_type": "code",
      "source": [
        "import numpy as np\n",
        "\n",
        "# Multidimensional Arrays shape = (m*n) -> Dimensions\n",
        "zero_matrix = np.zeros(shape=(3,3))\n",
        "print(zero_matrix)\n",
        "\n",
        "# Arrays\n",
        "new_array = np.array([[0,1], [1,0]])\n",
        "print(new_array)\n",
        "\n",
        "new_array = np.arange(5)\n",
        "print(new_array)\n",
        "\n",
        "# Can operate on a matrix as a whole\n",
        "print(\"\\nMatrix Operations\\n\")\n",
        "A = np.random.randint(2022, size=(3,5))\n",
        "B = np.random.randint(2021, size=(5,3))\n",
        "print(f\"A = {A}\\n\")\n",
        "print(f\"B = {B}\\n\")\n",
        "print(f\"A x B = {np.matmul(A, B)}\")"
      ],
      "metadata": {
        "colab": {
          "base_uri": "https://localhost:8080/"
        },
        "id": "H7PjJny9DOoi",
        "outputId": "11350643-9ad1-45d3-fa70-7944556f22c6"
      },
      "execution_count": null,
      "outputs": [
        {
          "output_type": "stream",
          "name": "stdout",
          "text": [
            "[[0. 0. 0.]\n",
            " [0. 0. 0.]\n",
            " [0. 0. 0.]]\n",
            "[[0 1]\n",
            " [1 0]]\n",
            "[0 1 2 3 4]\n",
            "\n",
            "Matrix Operations\n",
            "\n",
            "A = [[1918  712 1485  902 1097]\n",
            " [1584  330  578  329 1733]\n",
            " [1475  548 1923  197  480]]\n",
            "\n",
            "B = [[ 192  259 1068]\n",
            " [1815  643 1057]\n",
            " [1679 1276 1498]\n",
            " [1719  305 1267]\n",
            " [ 630   24  503]]\n",
            "\n",
            "A x B = [[6395499 3150876 6720163]\n",
            " [3530881 1501911 4194908]\n",
            " [5147580 3259742 5526229]]\n"
          ]
        }
      ]
    },
    {
      "cell_type": "markdown",
      "source": [
        "# Dictionaries\n",
        "\n",
        "- Collection of key-value pairs.\n",
        "- Random Access\n",
        "  - Access time same for all keys\n",
        "- Underlying storage in an array\n",
        "  - Given an offset $i$, find $A[i]$ in constant time\n",
        "\n",
        "## Concept\n",
        "\n",
        "- Keys have to be mapped to ${0, 1, ... n-1}$\n",
        "  - Given a key $k$, convert it to an offset $i$.\n",
        "  - The function that does this is `Hash Function`"
      ],
      "metadata": {
        "id": "Cz8yb51GFDtB"
      }
    },
    {
      "cell_type": "markdown",
      "source": [
        "## Hashing"
      ],
      "metadata": {
        "id": "EMdQ8nAKNZeC"
      }
    },
    {
      "cell_type": "markdown",
      "source": [
        "### Hash_Function\n",
        "\n",
        "- $h: S → X$ maps a set of values $s$ to a small range of integers {$0,1,2,... n-1$}\n",
        "- Typically $|X| << |S|$, but there will be collisions\n",
        "\n",
        "#### Collisions\n",
        "\n",
        "- $h(s) = h(s')$ for $s \\neq s'$\n",
        "- A good Hash Function will `minimize collisions`.\n",
        "\n",
        "#### SHA 256\n",
        "\n",
        "- Industry Standard Hash Function\n",
        "- Used to hash large cloud files, avoid uploading duplicates to cloud storage!\n",
        "\n",
        "[`More about SHA 256`](https://www.movable-type.co.uk/scripts/sha256.html)\n",
        "\n"
      ],
      "metadata": {
        "id": "4br_ms6MYjPK"
      }
    },
    {
      "cell_type": "markdown",
      "source": [
        "### Hash Tables\n",
        "\n",
        "- An array of size $n$ combined with a hash function.\n",
        "- $h$ maps keys to {$0,1,2,3...n-1$}\n",
        "- Ideally, when we create an entry for a key $k$, $A[h(k)]$ will be unused.\n",
        "  - But collisions will happen if already used.\n",
        "  - How to handle this?"
      ],
      "metadata": {
        "id": "XXNTNiUpair1"
      }
    },
    {
      "cell_type": "markdown",
      "source": [
        "#### Open_Addressing [Cloased_Hashing]\n",
        "\n",
        "- Probe a sequence of alternate slots in the same way inside the array!"
      ],
      "metadata": {
        "id": "jnxV-9jaa-gp"
      }
    },
    {
      "cell_type": "markdown",
      "source": [
        "#### Open_Hashing\n",
        "\n",
        "- Each slot in the array points to a list.\n",
        "- Insert into the list in the given slot."
      ],
      "metadata": {
        "id": "t6xy9bN3bUpP"
      }
    },
    {
      "cell_type": "code",
      "source": [],
      "metadata": {
        "id": "poxVRdheFHhs"
      },
      "execution_count": null,
      "outputs": []
    }
  ]
}