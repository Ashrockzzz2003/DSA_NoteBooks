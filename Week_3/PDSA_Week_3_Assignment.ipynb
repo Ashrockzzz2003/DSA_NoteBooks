{
  "nbformat": 4,
  "nbformat_minor": 0,
  "metadata": {
    "colab": {
      "provenance": []
    },
    "kernelspec": {
      "name": "python3",
      "display_name": "Python 3"
    },
    "language_info": {
      "name": "python"
    }
  },
  "cells": [
    {
      "cell_type": "markdown",
      "source": [
        "# Practice Assignments"
      ],
      "metadata": {
        "id": "ARs4tRirpiCR"
      }
    },
    {
      "cell_type": "markdown",
      "source": [
        "## PPA_1"
      ],
      "metadata": {
        "id": "BzEv8c0Epk1r"
      }
    },
    {
      "cell_type": "code",
      "execution_count": null,
      "metadata": {
        "id": "M4gClcINpJhL"
      },
      "outputs": [],
      "source": [
        "class Node:\n",
        "  def __init__(self, data):\n",
        "    self.data = data\n",
        "    self.next = None # Initialized to NULL\n",
        "    self.prev = None # Inititalized to NULL\n",
        "\n",
        "class doubly_linked_list:\n",
        "  def __init__(self):\n",
        "    self.head = None # Head Node Address\n",
        "    self.last = None # Tail Node Address\n",
        "  def insert_end(self, data):\n",
        "    # Initiate A New Node\n",
        "    new_node = Node(data)\n",
        "\n",
        "    if(self.head == None):\n",
        "      self.head = self.last = new_node\n",
        "      self.head.prev = None\n",
        "      self.last.next = None\n",
        "    else:\n",
        "      self.last.next = new_node\n",
        "      new_node.prev = self.last\n",
        "      self.last = new_node\n",
        "      self.last.next = None\n",
        "  \n",
        "  def print_list(self):\n",
        "    temp = self.head\n",
        "    L = []\n",
        "    while(temp.next != None):\n",
        "      temp = temp.next\n",
        "      L.append(temp.data)\n",
        "    print(L)\n",
        "  \n",
        "  def delete_end(self):\n",
        "    if self.head.next == None:\n",
        "      print(\"UNDERFLOW\")\n",
        "    else:\n",
        "      # Make last before node point to NULL\n",
        "      self.last = self.last.prev\n",
        "      self.last.next = None"
      ]
    },
    {
      "cell_type": "code",
      "source": [
        "L = doubly_linked_list()\n",
        "\n",
        "for i in range(8):\n",
        "  L.insert_end(i)\n",
        "  L.print_list()\n",
        "\n",
        "for i in range(8):\n",
        "  L.delete_end()\n",
        "  L.print_list()"
      ],
      "metadata": {
        "colab": {
          "base_uri": "https://localhost:8080/"
        },
        "id": "i3IYh9snyw_X",
        "outputId": "4179ba1b-5b65-43cd-d64f-684c08fd9ba2"
      },
      "execution_count": null,
      "outputs": [
        {
          "output_type": "stream",
          "name": "stdout",
          "text": [
            "[]\n",
            "[1]\n",
            "[1, 2]\n",
            "[1, 2, 3]\n",
            "[1, 2, 3, 4]\n",
            "[1, 2, 3, 4, 5]\n",
            "[1, 2, 3, 4, 5, 6]\n",
            "[1, 2, 3, 4, 5, 6, 7]\n",
            "[1, 2, 3, 4, 5, 6]\n",
            "[1, 2, 3, 4, 5]\n",
            "[1, 2, 3, 4]\n",
            "[1, 2, 3]\n",
            "[1, 2]\n",
            "[1]\n",
            "[]\n",
            "UNDERFLOW\n",
            "[]\n"
          ]
        }
      ]
    },
    {
      "cell_type": "markdown",
      "source": [
        "## PPA_2"
      ],
      "metadata": {
        "id": "UiLn82bx2cnD"
      }
    },
    {
      "cell_type": "code",
      "source": [
        "class Hashing:\n",
        "  def __init__(self,c1,c2,m):\n",
        "    self.hashtable = []\n",
        "    for i in range(m):\n",
        "        self.hashtable.append(None)     \n",
        "    self.c1 = c1\n",
        "    self.c2 = c2\n",
        "    self.m = m\n",
        "\n",
        "  def store_data(self, data):\n",
        "    i = 0\n",
        "    flag = False\n",
        "    while flag != True and i < m:\n",
        "      index = ((data % (self.m)) + (self.c1)*i + (self.c2)*(i**2))%m\n",
        "      if self.hashtable[index] == None:\n",
        "        self.hashtable[index] = data\n",
        "        flag = True\n",
        "      i += 1\n",
        "    \n",
        "    if(flag == False):\n",
        "      print(\"Hash table is full\")\n",
        "  \n",
        "  def display_hashtable(self):\n",
        "    return self.hashtable\n",
        "\n",
        "c1 = int(input())\n",
        "c2 = int(input())\n",
        "m = int(input())\n",
        "data=eval(input())\n",
        "A = Hashing(c1,c2,m)\n",
        "for i in data:\n",
        "\tA.store_data(i)\n",
        "print(A.display_hashtable())"
      ],
      "metadata": {
        "id": "3UqG5vDZ2d2T",
        "colab": {
          "base_uri": "https://localhost:8080/"
        },
        "outputId": "10d7a032-e605-4675-c90a-94ad31be372a"
      },
      "execution_count": 4,
      "outputs": [
        {
          "output_type": "stream",
          "name": "stdout",
          "text": [
            "1\n",
            "2\n",
            "11\n",
            "[10,11,12,13,14,15,16,17,18,19,20,21]\n",
            "Hash table is full\n",
            "[11, 12, 13, 14, 15, 16, 17, 18, 19, 20, 10]\n"
          ]
        }
      ]
    },
    {
      "cell_type": "markdown",
      "source": [
        "# Graded Assignments"
      ],
      "metadata": {
        "id": "F6LS9DMDV16-"
      }
    },
    {
      "cell_type": "markdown",
      "source": [
        "## GrPA_1"
      ],
      "metadata": {
        "id": "Ho-b2ABHV5hQ"
      }
    },
    {
      "cell_type": "code",
      "source": [
        "def merge_list_2(A, B):\n",
        "  (m,n) = (len(A),len(B))\n",
        "  (C,i,j,k) = ([],0,0,0)\n",
        "  while k < m+n:\n",
        "    if i == m:\n",
        "      C.append(B[j])\n",
        "      (j,k) = (j+1,k+1)\n",
        "    elif j == n:\n",
        "      C.append(A[i])\n",
        "      (i,k) = (i+1,k+1)\n",
        "    elif A[i] < B[j]:\n",
        "      C.append(A[i])\n",
        "      (i,k) = (i+1,k+1)\n",
        "    else:\n",
        "      C.append(B[j])\n",
        "      (j,k) = (j+1,k+1)\n",
        "  return(C)\n",
        "\n",
        "def merge_sort(L):\n",
        "  n = len(L)\n",
        "\n",
        "  if n <= 1:\n",
        "     return(L)\n",
        "  \n",
        "  Left = merge_sort(L[:n//2])\n",
        "  Right = merge_sort(L[n//2:])\n",
        "\n",
        "  Lsorted = merge_list_2(Left,Right)\n",
        "\n",
        "  return(Lsorted)\n",
        "\n",
        "def mergeList(A,B):\n",
        "  (m,n) = (len(A),len(B))\n",
        "  (C,i,j,k) = ([],0,0,0)\n",
        "  while k < m+n:\n",
        "    if i == m:\n",
        "      C.append(B[j])\n",
        "      (j,k) = (j+1,k+1)\n",
        "    elif j == n:\n",
        "      C.append(A[i])\n",
        "      (i,k) = (i+1,k+1)\n",
        "    elif A[i][1] > B[j][1]:\n",
        "      C.append(A[i])\n",
        "      (i,k) = (i+1,k+1)\n",
        "    else:\n",
        "      C.append(B[j])\n",
        "      (j,k) = (j+1,k+1)\n",
        "  return(C)\n",
        "\n",
        "def mergesortList(L):\n",
        "  n = len(L)\n",
        "\n",
        "  if n <= 1:\n",
        "     return(L)\n",
        "  \n",
        "  Left = mergesortList(L[:n//2])\n",
        "  Right = mergesortList(L[n//2:])\n",
        "\n",
        "  Lsorted = mergeList(Left,Right)\n",
        "\n",
        "  return(Lsorted)\n",
        "\n",
        "def DishPrepareOrder(order_list):\n",
        "  d = {}\n",
        "  for i in order_list:\n",
        "    d[i] = 0\n",
        "  for i in order_list:\n",
        "    d[i] += 1\n",
        "  L = []\n",
        "  for i in d:\n",
        "    L.append((i, d[i]))\n",
        "  L = mergesortList(L)\n",
        "  final_list = {}\n",
        "  for i in L:\n",
        "    final_list[i[1]] = []\n",
        "  for i in L:\n",
        "    final_list[i[1]].append(i[0])\n",
        "  for i in final_list:\n",
        "    final_list[i] = merge_sort(final_list[i])\n",
        "  prepare_order = []\n",
        "  for i in final_list:\n",
        "    prepare_order += final_list[i]\n",
        "  return prepare_order"
      ],
      "metadata": {
        "id": "QakbJK3eV7Da"
      },
      "execution_count": 84,
      "outputs": []
    },
    {
      "cell_type": "code",
      "source": [
        "order_list = [1006, 1008, 1009, 1008, 1007, 1005, 1008, 1001, 1003, 1009, 1006, 1003, 1004, 1002, 1008, 1005, 1004, 1007, 1006, 1002, 1002, 1001, 1004, 1001, 1003, 1007, 1007, 1005, 1004, 1002]\n",
        "print(DishPrepareOrder(order_list))"
      ],
      "metadata": {
        "colab": {
          "base_uri": "https://localhost:8080/"
        },
        "id": "m3YsPRQaWO0j",
        "outputId": "3fac5b1f-fe13-4b22-816d-af826aa5d80f"
      },
      "execution_count": 85,
      "outputs": [
        {
          "output_type": "stream",
          "name": "stdout",
          "text": [
            "[1002, 1004, 1007, 1008, 1001, 1003, 1005, 1006, 1009]\n"
          ]
        }
      ]
    },
    {
      "cell_type": "markdown",
      "source": [
        "## GrPA_2"
      ],
      "metadata": {
        "id": "P9KIFJEeeR1R"
      }
    },
    {
      "cell_type": "code",
      "source": [
        "def EvaluateExpression(exp):\n",
        "  expression = exp.split(' ')\n",
        "  stack = []\n",
        "  for i in range(len(expression)):\n",
        "    if expression[i].isdigit() == True:\n",
        "      stack.append(expression[i])\n",
        "    else:\n",
        "      B = stack.pop()\n",
        "      A = stack.pop()\n",
        "      stack.append(str(eval(f\"{A}{expression[i]}{B}\")))\n",
        "  \n",
        "  return stack.pop()"
      ],
      "metadata": {
        "id": "yBedVCFBeTdy"
      },
      "execution_count": 87,
      "outputs": []
    },
    {
      "cell_type": "code",
      "source": [
        "print(float(EvaluateExpression(input())))"
      ],
      "metadata": {
        "colab": {
          "base_uri": "https://localhost:8080/"
        },
        "id": "j9euifeSgnB4",
        "outputId": "3d46ba17-137c-4424-dafb-1437b2a155c5"
      },
      "execution_count": 89,
      "outputs": [
        {
          "output_type": "stream",
          "name": "stdout",
          "text": [
            "100 200 + 2 / 5 * 7 +\n",
            "757.0\n"
          ]
        }
      ]
    },
    {
      "cell_type": "markdown",
      "source": [
        "## GrPA_3"
      ],
      "metadata": {
        "id": "LQNJumajhp4n"
      }
    },
    {
      "cell_type": "code",
      "source": [
        "# 1 -> 2 -> 3 -> 4\n",
        "# 1 <- 2 <- 3 <- 4\n",
        "\n",
        "def reverse(root):\n",
        "  current_node = root\n",
        "  previous_node = None\n",
        "\n",
        "  while current_node != None:\n",
        "    next_node = current_node.next\n",
        "    current_node.next = previous_node\n",
        "    previous_node = current_node\n",
        "    current_node = next_node\n",
        "  \n",
        "  return previous_node"
      ],
      "metadata": {
        "id": "X6Wxrtpehfp7"
      },
      "execution_count": null,
      "outputs": []
    }
  ]
}