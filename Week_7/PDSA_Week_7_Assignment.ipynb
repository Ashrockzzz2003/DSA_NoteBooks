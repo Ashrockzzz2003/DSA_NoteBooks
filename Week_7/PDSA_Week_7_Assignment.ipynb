{
  "nbformat": 4,
  "nbformat_minor": 0,
  "metadata": {
    "colab": {
      "provenance": [],
      "collapsed_sections": [],
      "authorship_tag": "ABX9TyM8VLFDTM3aaBPbgJhBgJMh",
      "include_colab_link": true
    },
    "kernelspec": {
      "name": "python3",
      "display_name": "Python 3"
    },
    "language_info": {
      "name": "python"
    }
  },
  "cells": [
    {
      "cell_type": "markdown",
      "metadata": {
        "id": "view-in-github",
        "colab_type": "text"
      },
      "source": [
        "<a href=\"https://colab.research.google.com/github/Ashrockzzz2003/DSA_NoteBooks/blob/main/Week_7/PDSA_Week_7_Assignment.ipynb\" target=\"_parent\"><img src=\"https://colab.research.google.com/assets/colab-badge.svg\" alt=\"Open In Colab\"/></a>"
      ]
    },
    {
      "cell_type": "markdown",
      "source": [
        "# GrPA_1"
      ],
      "metadata": {
        "id": "qrPkLqGJ7ZEM"
      }
    },
    {
      "cell_type": "code",
      "execution_count": 1,
      "metadata": {
        "colab": {
          "base_uri": "https://localhost:8080/"
        },
        "id": "fe098iGa3aCD",
        "outputId": "97194887-19ca-416d-d821-b75c0ff0e06a"
      },
      "outputs": [
        {
          "output_type": "stream",
          "name": "stdout",
          "text": [
            "[1,2,3,4,5,6,7]\n",
            "[1, 2, 3, 4, 5, 6, 7]\n",
            "[4, 2, 1, 3, 6, 5, 7]\n",
            "[1, 3, 2, 5, 7, 6, 4]\n"
          ]
        }
      ],
      "source": [
        "class AVLTree:\n",
        "    # Constructor:\n",
        "    def __init__(self,initval=None):\n",
        "        self.value = initval\n",
        "        if self.value:\n",
        "            self.left = AVLTree()\n",
        "            self.right = AVLTree()\n",
        "            self.height = 1\n",
        "        else:\n",
        "            self.left = None\n",
        "            self.right = None\n",
        "            self.height = 0\n",
        "        return\n",
        "\n",
        "    def isempty(self):\n",
        "        return (self.value == None)\n",
        "\n",
        "    def isleaf(self):\n",
        "        return (self.value != None and self.left.isempty() and self.right.isempty())\n",
        "\n",
        "    def leftrotate(self):\n",
        "        v = self.value\n",
        "        vr = self.right.value\n",
        "        tl = self.left\n",
        "        trl = self.right.left\n",
        "        trr = self.right.right\n",
        "        newleft = AVLTree(v)\n",
        "        newleft.left = tl\n",
        "        newleft.right = trl\n",
        "        self.value = vr\n",
        "        self.right = trr\n",
        "        self.left = newleft\n",
        "        return\n",
        "    def rightrotate(self):\n",
        "        v = self.value\n",
        "        vl = self.left.value\n",
        "        tll = self.left.left\n",
        "        tlr = self.left.right\n",
        "        tr = self.right\n",
        "        newright = AVLTree(v)\n",
        "        newright.left = tlr\n",
        "        newright.right = tr\n",
        "        self.right = newright\n",
        "        self.value = vl\n",
        "        self.left = tll\n",
        "        return\n",
        "    def insert(self,v):\n",
        "        if self.isempty():\n",
        "            self.value = v\n",
        "            self.left = AVLTree()\n",
        "            self.right = AVLTree()\n",
        "            self.height = 1\n",
        "            return        \n",
        "        if self.value == v:\n",
        "            return        \n",
        "        if v < self.value:\n",
        "            self.left.insert(v)\n",
        "            self.rebalance()\n",
        "            self.height = 1 + max(self.left.height, self.right.height)            \n",
        "        if v > self.value:\n",
        "            self.right.insert(v)\n",
        "            self.rebalance()            \n",
        "            self.height = 1 + max(self.left.height, self.right.height)    \n",
        "                              \n",
        "    def rebalance(self):\n",
        "        if self.left == None:\n",
        "            hl = 0\n",
        "        else:\n",
        "            hl = self.left.height\n",
        "        if self.right == None:\n",
        "            hr = 0\n",
        "        else:\n",
        "            hr = self.right.height                        \n",
        "        if  hl - hr > 1:\n",
        "            if self.left.left.height > self.left.right.height:\n",
        "                self.rightrotate()\n",
        "            if self.left.left.height < self.left.right.height:\n",
        "                self.left.leftrotate()\n",
        "                self.rightrotate()\n",
        "            self.updateheight()        \n",
        "        if  hl - hr < -1:\n",
        "            if self.right.left.height < self.right.right.height:\n",
        "                self.leftrotate()\n",
        "            if self.right.left.height > self.left.right.height:\n",
        "                self.right.rightrotate()\n",
        "                self.leftrotate()\n",
        "            self.updateheight()\n",
        "            \n",
        "    def updateheight(self):\n",
        "        if self.isempty():\n",
        "            return\n",
        "        else:\n",
        "            self.left.updateheight()\n",
        "            self.right.updateheight()\n",
        "            self.height = 1 + max(self.left.height, self.right.height)\n",
        "    def inorder(self):\n",
        "        if self.isempty():\n",
        "            return([])\n",
        "        else:\n",
        "            return(self.left.inorder()+ [self.value]+ self.right.inorder())\n",
        "    def preorder(self):\n",
        "        if self.isempty():\n",
        "            return([])\n",
        "        else:\n",
        "            return([self.value] + self.left.preorder()+  self.right.preorder())\n",
        "    def postorder(self):\n",
        "        if self.isempty():\n",
        "            return([])\n",
        "        else:\n",
        "            return(self.left.postorder()+ self.right.postorder() + [self.value])\n",
        "\n",
        "A = AVLTree()\n",
        "nodes = eval(input())\n",
        "for i in nodes:\n",
        "    A.insert(i)\n",
        "\n",
        "print(A.inorder())\n",
        "print(A.preorder())\n",
        "print(A.postorder())"
      ]
    },
    {
      "cell_type": "markdown",
      "source": [
        "# GrPA_2"
      ],
      "metadata": {
        "id": "dB_Ib2lE7b_e"
      }
    },
    {
      "cell_type": "code",
      "source": [
        "def minimum_platform(train_schedule):\n",
        "    count = 1\n",
        "    train_list = []\n",
        "    for (i,j,k) in train_schedule:\n",
        "        train_list.append((int(j.replace(':','')),int(k.replace(':','')),i))\n",
        "    train_list.sort()\n",
        "    train_at_plateform = []\n",
        "    for train in train_list:        \n",
        "        \n",
        "        t = len(train_at_plateform)-1\n",
        "        while t >= 0:\n",
        "            if train[0] > train_at_plateform[t][1]:\n",
        "                train_at_plateform.pop(t)\n",
        "            t = t-1        \n",
        "        t = len(train_at_plateform)-1\n",
        "        while t >= 0:\n",
        "            if train[0] < train_at_plateform[t][1]:\n",
        "                t = t - 1        \n",
        "            elif train[1] > train_at_plateform[t][1]:\n",
        "                train_at_plateform.pop(t)\n",
        "                t = t - 1                \n",
        "        train_at_plateform.append(train)                    \n",
        "        if len(train_at_plateform) > count:\n",
        "            count = len(train_at_plateform)\n",
        "    return count\n",
        "\n",
        "schedule = eval(input())           \n",
        "print(minimum_platform(schedule))"
      ],
      "metadata": {
        "colab": {
          "base_uri": "https://localhost:8080/"
        },
        "id": "-Gvv3t297dKc",
        "outputId": "d1cab086-c1b6-4356-ba09-f7c699947ea6"
      },
      "execution_count": 2,
      "outputs": [
        {
          "output_type": "stream",
          "name": "stdout",
          "text": [
            "[(1,'09:00','09:10'),(2,'09:40','12:00'),(3,'09:50','11:20'),(4,'11:00','11:30'),(5,'11:40','12:10'),(6,'12:05','19:00'),(7,'12:06','13:00'),(8,'13:05','14:00'),(9,'14:05','15:00'),(10,'18:00','20:00')]\n",
            "3\n"
          ]
        }
      ]
    },
    {
      "cell_type": "markdown",
      "source": [
        "# GrPA_3"
      ],
      "metadata": {
        "id": "W4dbOk8C7oZ7"
      }
    },
    {
      "cell_type": "code",
      "source": [
        "def tuplesort(L, index):\n",
        "    L_ = []\n",
        "    for t in L:\n",
        "        L_.append(t[index:index+1] + t[:index] + t[index+1:])\n",
        "    L_.sort()\n",
        "\n",
        "    L__ = []\n",
        "    for t in L_:\n",
        "        L__.append(t[1:index+1] + t[0:1] + t[index+1:])\n",
        "    return L__\n",
        "\n",
        "def no_overlap(L):\n",
        "    sortedL = tuplesort(L, 2)\n",
        "    accepted = [sortedL[0][0]]\n",
        "    for i, s, f in sortedL[1:]:\n",
        "        if s > L[accepted[-1]][2]:\n",
        "            accepted.append(i)\n",
        "    return accepted"
      ],
      "metadata": {
        "id": "XlGX6Kq27qXd"
      },
      "execution_count": null,
      "outputs": []
    }
  ]
}