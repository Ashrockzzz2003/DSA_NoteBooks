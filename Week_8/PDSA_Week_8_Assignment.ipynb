{
  "nbformat": 4,
  "nbformat_minor": 0,
  "metadata": {
    "colab": {
      "provenance": [],
      "authorship_tag": "ABX9TyMKUVKvW6J5Frhrp3dKdO3e",
      "include_colab_link": true
    },
    "kernelspec": {
      "name": "python3",
      "display_name": "Python 3"
    },
    "language_info": {
      "name": "python"
    }
  },
  "cells": [
    {
      "cell_type": "markdown",
      "metadata": {
        "id": "view-in-github",
        "colab_type": "text"
      },
      "source": [
        "<a href=\"https://colab.research.google.com/github/Ashrockzzz2003/DSA_NoteBooks/blob/main/Week_8/PDSA_Week_8_Assignment.ipynb\" target=\"_parent\"><img src=\"https://colab.research.google.com/assets/colab-badge.svg\" alt=\"Open In Colab\"/></a>"
      ]
    },
    {
      "cell_type": "markdown",
      "source": [
        "# GrPA_1"
      ],
      "metadata": {
        "id": "5MPPsSNJ4Fhm"
      }
    },
    {
      "cell_type": "code",
      "execution_count": null,
      "metadata": {
        "id": "qVDTtSbs4Cwe"
      },
      "outputs": [],
      "source": [
        "import math\n",
        "def findLeft(A, x, l, r):\n",
        "  if (l>r):\n",
        "    return None\n",
        "\n",
        "  mid = (l+r)//2\n",
        "  if (A[mid] == x):\n",
        "    if (mid == 0 or A[mid] != A[mid-1]):\n",
        "      return mid\n",
        "    else:\n",
        "      return findLeft(A, x, l, mid)\n",
        "  elif (x > A[mid]):\n",
        "    return findLeft(A, x, mid+1, r)\n",
        "  else:\n",
        "    return findLeft(A, x, l, mid-1)\n",
        "\n",
        "def findRight(A, x, s, l, r):\n",
        "  if (l>r):\n",
        "    return None\n",
        "\n",
        "  mid = math.ceil((l+r)/2)\n",
        "  if (A[mid] == x):\n",
        "    if (mid == s-1 or A[mid] != A[mid+1]):\n",
        "      return mid\n",
        "    else:\n",
        "      return findRight(A, x, s, mid, r)\n",
        "  elif (x > A[mid]):\n",
        "    return findRight(A, x, s, mid+1, r)\n",
        "  else:\n",
        "    return findRight(A, x, s, l, mid-1)\n",
        "\n",
        "\n",
        "def findOccOf(L, x):\n",
        "  s = len(L)\n",
        "  if (s<1):\n",
        "    return None\n",
        "  \n",
        "  start = findLeft(L, x, 0, s-1)\n",
        "  end = findRight(L, x, s, 0, s-1)\n",
        "  return (start, end)\n"
      ]
    },
    {
      "cell_type": "markdown",
      "source": [
        "# GrPA_2"
      ],
      "metadata": {
        "id": "8tgS1Xu25Zru"
      }
    },
    {
      "cell_type": "code",
      "source": [
        "def mergeAndCount(A,B):\n",
        "  (m,n) = len(A), len(B)\n",
        "  (C, i, j, k, count) = ([], 0, 0, 0, 0)\n",
        "  while k< m+n:\n",
        "    if i == m:\n",
        "      C.append(B[j])\n",
        "      (j,k) = (j+1, k+1)\n",
        "    elif j == n:\n",
        "      C.append(A[i])\n",
        "      (i,k) = (i+1, k+1)\n",
        "    elif A[i] < B[j]:\n",
        "      C.append(A[i]) \n",
        "      (i,k) = (i+1, k+1)\n",
        "    else:\n",
        "      C.append(B[j])\n",
        "      (j, k, count) = (j+1, k+1, count+(m-i))\n",
        "  return (C,count)\n",
        "\n",
        "def sortAndCount(A):\n",
        "  n = len(A)\n",
        "\n",
        "  if n <= 1:\n",
        "    return(A,0)\n",
        "  \n",
        "  (L,countL) = sortAndCount(A[:n//2])\n",
        "  (R,countR) = sortAndCount(A[n//2:])\n",
        "  \n",
        "  (B,countB) = mergeAndCount(L,R)\n",
        "  \n",
        "  return(B,countL+countR+countB)\n",
        "\n",
        "def countIntersection(X1, X2):\n",
        "  # Sort according to one points while keeping the matching of points in X1 to X2\n",
        "  combined = [(X1[i], X2[i]) for i in range(0, len(X1))]\n",
        "  combined.sort()\n",
        "  X1, X2 = zip(*combined)\n",
        "\n",
        "  # Now we just need to count the inversions in X2 for number of intersection points.\n",
        "  return sortAndCount(X2)[1]\n"
      ],
      "metadata": {
        "id": "x7b6JbcV5bBE"
      },
      "execution_count": null,
      "outputs": []
    },
    {
      "cell_type": "markdown",
      "source": [
        "# GrPA_3"
      ],
      "metadata": {
        "id": "DweFyxu05eG0"
      }
    },
    {
      "cell_type": "code",
      "source": [
        "import math\n",
        "\n",
        "# Returns eucledian disatnce between points p and q\n",
        "def distance(p, q):\n",
        "  return math.sqrt(math.pow(p[0] - q[0],2) + math.pow(p[1] - q[1],2))\n",
        "\n",
        "def minDistanceRec(Px, Py):\n",
        "  s = len(Px)\n",
        "  # Given number of points cannot be less than 2.\n",
        "  # If only 2 or 3 points are left return the minimum distance accordingly.\n",
        "  if (s == 2):\n",
        "    return distance(Px[0],Px[1])\n",
        "  elif (s == 3):\n",
        "    return min(distance(Px[0],Px[1]), distance(Px[1],Px[2]), distance(Px[2],Px[0]))\n",
        "\n",
        "  # For more than 3 points divide the poitns by point around median of x coordinates\n",
        "  m = s//2\n",
        "  Qx = Px[:m]\n",
        "  Rx = Px[m:]\n",
        "  xR = Rx[0][0]    # minimum x value in Rx\n",
        "  \n",
        "  # Construct Qy and Ry in O(n) rather from Py\n",
        "  Qy=[]\n",
        "  Ry=[]\n",
        "  for p in Py:\n",
        "    if(p[0] < xR):\n",
        "      Qy.append(p)\n",
        "    else:\n",
        "      Ry.append(p)\n",
        "\n",
        "  # Extract Sy using delta\n",
        "  delta = min(minDistanceRec(Qx, Qy), minDistanceRec(Rx, Ry))\n",
        "  Sy = []\n",
        "  for p in Py:\n",
        "    if abs(p[0]-xR) <= delta:\n",
        "      Sy.append(p)\n",
        "    \n",
        "  #print(xR,delta,Sy)\n",
        "  sizeS = len(Sy)\n",
        "  if sizeS > 1:\n",
        "      minS = distance(Sy[0], Sy[1])\n",
        "      for i in range(1, sizeS-1):\n",
        "          for j in range(i, min(i+15, sizeS)-1):\n",
        "              minS = min(minS, distance(Sy[i], Sy[j+1]))\n",
        "      return min(delta, minS)\n",
        "  else:\n",
        "      return delta\n",
        "\n",
        "def minDistance(Points):\n",
        "  Px = sorted(Points)\n",
        "  Py = Points\n",
        "  Py.sort(key=lambda x: x[-1])\n",
        "  #print(Px,Py)\n",
        "  return round(minDistanceRec(Px, Py), 2)\n"
      ],
      "metadata": {
        "id": "zNpM6kgy5fTk"
      },
      "execution_count": null,
      "outputs": []
    },
    {
      "cell_type": "markdown",
      "source": [
        "# GrPA_4"
      ],
      "metadata": {
        "id": "24peJQcY5kPX"
      }
    },
    {
      "cell_type": "code",
      "source": [
        "def partitionPos(arr, pivot):\n",
        "  arr[pivot], arr[0] = arr[0], arr[pivot]\n",
        "  l = 1\n",
        "  r = len(arr)-1\n",
        "  while (l<r):\n",
        "    while(arr[l] < arr[0]):\n",
        "      l+=1\n",
        "    while(arr[r]>=arr[0]):\n",
        "      r-=1\n",
        "    arr[l], arr[r] = arr[r], arr[l]\n",
        "\n",
        "  return l-1\n",
        "\n",
        "def MoM7(arr):\n",
        "  if len(arr) <= 7:\n",
        "    arr.sort()\n",
        "    return(arr[len(arr)//2])\n",
        "\n",
        "  # Construct list of block medians\n",
        "  M = []\n",
        "\n",
        "  for i in range(0, len(arr), 7):\n",
        "    X = arr[i:i+7]\n",
        "    X.sort()\n",
        "    M.append(X[len(X)//2])\n",
        "\n",
        "  return(MoM7(M))\n",
        "\n",
        "def MoM7Pos(arr): \n",
        "  mom = MoM7(arr)\n",
        "  return partitionPos(arr, arr.index(mom))"
      ],
      "metadata": {
        "id": "_8jCZur_5jy-"
      },
      "execution_count": null,
      "outputs": []
    }
  ]
}