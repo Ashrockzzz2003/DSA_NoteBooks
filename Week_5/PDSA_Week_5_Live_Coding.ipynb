{
  "nbformat": 4,
  "nbformat_minor": 0,
  "metadata": {
    "colab": {
      "provenance": [],
      "authorship_tag": "ABX9TyNxk1jPm782cOij2/8gw7p3",
      "include_colab_link": true
    },
    "kernelspec": {
      "name": "python3",
      "display_name": "Python 3"
    },
    "language_info": {
      "name": "python"
    }
  },
  "cells": [
    {
      "cell_type": "markdown",
      "metadata": {
        "id": "view-in-github",
        "colab_type": "text"
      },
      "source": [
        "<a href=\"https://colab.research.google.com/github/Ashrockzzz2003/DSA_NoteBooks/blob/main/Week_5/PDSA_Week_5_Live_Coding.ipynb\" target=\"_parent\"><img src=\"https://colab.research.google.com/assets/colab-badge.svg\" alt=\"Open In Colab\"/></a>"
      ]
    },
    {
      "cell_type": "markdown",
      "source": [
        "# Question 1\n",
        "\n",
        "An Airline company wants to make airport to connect `n` cities labeled `0` to `n-1` all across the country . Write a function **Airport(distance_map)** that accepts a weighted adjacency list `distance_map` in the following format:-\n",
        "\n",
        "```\n",
        "distance_map = {\n",
        "   \tsource_index : [(destination_index,distance(km)),(destination_index,distance),..],\n",
        "    ..\n",
        "    ..\n",
        "    source_index : [(destination_index,distance),(destination_index,distance),..]    \n",
        "}\n",
        "```\n",
        "\n",
        "The function returns the minimum distance of airport netwrok to connect all `n` cities. \n",
        "\n",
        "**For the given graph**\n",
        "\n",
        "![](https://backend.seek.onlinedegree.iitm.ac.in/22t1_cs2002/assets/img/W5LQ1.1.png)\n",
        "\n",
        "### Sample Input\n",
        "\n",
        "```\n",
        "7\n",
        "[(0,1,10),(0,2,50),(0,3,300),(5,6,45),(2,1,30),(6,4,37),(1,6,65),(2,5,76),(1,3,40),(3,4,60),(2,4,20)]\n",
        "```\n",
        "### Output\n",
        "182"
      ],
      "metadata": {
        "id": "osxh8WKa95xu"
      }
    },
    {
      "cell_type": "code",
      "execution_count": 3,
      "metadata": {
        "id": "1pGs3uWT91kZ"
      },
      "outputs": [],
      "source": [
        "def Airport(distance_map):\n",
        "  edges = []\n",
        "  component = {}\n",
        "  cost = 0\n",
        "\n",
        "  for u in distance_map.keys():\n",
        "    edges.extend([d, u, v] for (v, d) in distance_map[u])\n",
        "    component[u] = u\n",
        "  \n",
        "  edges.sort()\n",
        "\n",
        "  for (d, u, v) in edges:\n",
        "    if component[u] != component[v]:\n",
        "      cost += d\n",
        "      c = component[u]\n",
        "    for w in distance_map.keys():\n",
        "      if component[w] == c:\n",
        "        component[w] = component[v]\n",
        "  \n",
        "  return cost"
      ]
    },
    {
      "cell_type": "code",
      "source": [
        "edges = [(0,1,10),(0,2,50),(0,3,300),(5,6,45),(2,1,30),(6,4,37),(1,6,65),(2,5,76),(1,3,40),(3,4,60),(2,4,20)]\n",
        "size = 7\n",
        "\n",
        "WL = {}\n",
        "for i in range(size):\n",
        "    WL[i] = []\n",
        "for ed in edges:\n",
        "    WL[ed[0]].append((ed[1], ed[2]))\n",
        "    WL[ed[1]].append((ed[0], ed[2]))\n",
        "print(Airport(WL))"
      ],
      "metadata": {
        "colab": {
          "base_uri": "https://localhost:8080/"
        },
        "id": "zOvbUVqR_Ukf",
        "outputId": "80b6c90d-a294-445a-a519-636828f8eb60"
      },
      "execution_count": 4,
      "outputs": [
        {
          "output_type": "stream",
          "name": "stdout",
          "text": [
            "182\n"
          ]
        }
      ]
    },
    {
      "cell_type": "markdown",
      "source": [
        "# Question 2\n",
        "\n",
        "You are given a network of `n` nodes, labelled from `0` to `n-1`. You are also given `travel_times`, a list of signal travel times as directed edges `travel_times[i] = (ui, vi, wi)`, where `ui` is the source node, `vi` is the target node, and `wi` is the time it takes for a signal to travel from source to target.\n",
        "\n",
        "Write a function **min_transmission_time(n, travel_times, s)** that accept number of nodes `n`, a list `travel_times` and a source node `s` to send the signal . The function returns the **minimum** time required for the signal sent by the source node `s` to be received by all the remaining `n-1` nodes. If it is impossible to obtain a signal for all `n-1` nodes, return `-1`.\n",
        "\n",
        "**Sample Input 1**\n",
        "\n",
        "```python\n",
        "4 #\n",
        "[(2,1,1),(2,3,1),(3,4,1)] #travel_times\n",
        "2 #s\n",
        "```\n",
        "\n",
        "**Output**\n",
        "\n",
        "```\n",
        "2\n",
        "```\n",
        "\n",
        "\n",
        "\n",
        "**Sample Input 2**\n",
        "\n",
        "```python\n",
        "4 #\n",
        "[(2,1,1),(2,3,1),(4,3,1)] #travel_times\n",
        "2 #s\n",
        "```\n",
        "\n",
        "**Output**\n",
        "\n",
        "```\n",
        "-1\n",
        "```\n",
        "\n",
        "\n",
        "\n",
        "**Sample Input 3**\n",
        "\n",
        "```python\n",
        "7\n",
        "[(0,1,10),(0,2,80),(1,2,6),(1,4,20),(2,3,70),(4,5,50),(4,6,5),(5,6,10)]\n",
        "0\n",
        "```\n",
        "\n",
        "Output\n",
        "\n",
        "```\n",
        "86\n",
        "```"
      ],
      "metadata": {
        "id": "ORQKGc0w_nGS"
      }
    },
    {
      "cell_type": "code",
      "source": [
        "def dijkstra(WList, s):\n",
        "  infinity = 1 + len(WList.keys())*max([d for u in WList.keys() for (v,d)\n",
        "  in WList[u]])\n",
        "  (visited,distance) = ({},{})\n",
        "  for v in WList.keys():\n",
        "    (visited[v],distance[v]) = (False,infinity)\n",
        "  \n",
        "  distance[s] = 0\n",
        "\n",
        "  for u in WList.keys():\n",
        "    nextd = min([distance[v] for v in WList.keys() if not visited[v]])\n",
        "    nextvlist = [v for v in WList.keys() if (not visited[v]) and\n",
        "    distance[v] == nextd]\n",
        "    nextv = min(nextvlist)\n",
        "    visited[nextv] = True\n",
        "    for (v,d) in WList[nextv]:\n",
        "      if not visited[v]:\n",
        "        distance[v] = min(distance[v],distance[nextv]+d)\n",
        "\n",
        "  return(distance,infinity)\n",
        "\n",
        "def min_transmission_time(n, travel_times, s):\n",
        "  AList={}\n",
        "  for i in range(n):\n",
        "    AList[i]=[]\n",
        "  for u,v,d in travel_times:\n",
        "    AList[u].append((v,d))\n",
        "  \n",
        "  dist,inf = dijkstra(AList,s)\n",
        "  maxtime = 0\n",
        "  for node,distance in dist.items():\n",
        "    if distance >= maxtime:\n",
        "      maxtime = distance\n",
        "  if maxtime >= inf:\n",
        "    return -1\n",
        "  else:\n",
        "    return maxtime"
      ],
      "metadata": {
        "id": "GhkfAPHu_1m_"
      },
      "execution_count": 24,
      "outputs": []
    },
    {
      "cell_type": "code",
      "source": [
        "n = 4\n",
        "edges = [(1,0,1),(1,2,1),(2,3,1)]\n",
        "s = 1\n",
        "\n",
        "print(min_transmission_time(n, edges, s))"
      ],
      "metadata": {
        "colab": {
          "base_uri": "https://localhost:8080/"
        },
        "id": "jsJ5cJdNGuxO",
        "outputId": "d15aae8f-2f1a-49d0-d2e8-08727411a94a"
      },
      "execution_count": 25,
      "outputs": [
        {
          "output_type": "stream",
          "name": "stdout",
          "text": [
            "2\n"
          ]
        }
      ]
    },
    {
      "cell_type": "markdown",
      "source": [
        "# Question 3"
      ],
      "metadata": {
        "id": "QvtgEzdDJ2DW"
      }
    },
    {
      "cell_type": "code",
      "source": [
        "def addallpath(WList,u, d, visited, path,allpath):\n",
        "  visited[u]= True\n",
        "  path.append(u)\n",
        "  if u == d:\n",
        "    L = path.copy()\n",
        "    allpath.append(L)\n",
        "  else:\n",
        "    for i in WList[u]:\n",
        "      if visited[i[0]]== False:\n",
        "        addallpath(WList, i[0], d, visited, path, allpath)\n",
        "\n",
        "  path.pop()\n",
        "  visited[u]= False\n",
        "\n",
        "def findallpath(WList,s,d):\n",
        "  visited = {}\n",
        "  allpath = []\n",
        "  for v in WList.keys():\n",
        "    visited[v] = False\n",
        "  path = []\n",
        "\n",
        "  addallpath(WList,s, d, visited, path,allpath)\n",
        "  \n",
        "  return(allpath)\n",
        "\n",
        "def best_fare(flight_route,source,destination,k):\n",
        "  L = findallpath(flight_route,source,destination)\n",
        "  if L != []:\n",
        "    cost = 1 + len(flight_route.keys())*max([d for u in\n",
        "flight_route.keys() for (v,d) in flight_route[u]])\n",
        "    route = []\n",
        "    for pth in L:\n",
        "      if len(pth) < k+3:\n",
        "        s = 0\n",
        "        for i in range(0,len(pth)-1):\n",
        "          for j in flight_route[pth[i]]:\n",
        "            if pth[i+1] == j[0]:\n",
        "              s += j[1]\n",
        "        if s < cost:\n",
        "          cost = s\n",
        "          route = pth\n",
        "    if route != []:\n",
        "      return (cost,route)\n",
        "    else:\n",
        "      return 'Not found'\n",
        "  else:\n",
        "    return 'Not found'"
      ],
      "metadata": {
        "id": "4IBe4aLwJ3HF"
      },
      "execution_count": 26,
      "outputs": []
    }
  ]
}