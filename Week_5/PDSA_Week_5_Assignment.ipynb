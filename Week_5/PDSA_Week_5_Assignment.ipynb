{
  "nbformat": 4,
  "nbformat_minor": 0,
  "metadata": {
    "colab": {
      "provenance": [],
      "authorship_tag": "ABX9TyMoLHryU7/4lNdvZE7Z8x4w",
      "include_colab_link": true
    },
    "kernelspec": {
      "name": "python3",
      "display_name": "Python 3"
    },
    "language_info": {
      "name": "python"
    }
  },
  "cells": [
    {
      "cell_type": "markdown",
      "metadata": {
        "id": "view-in-github",
        "colab_type": "text"
      },
      "source": [
        "<a href=\"https://colab.research.google.com/github/Ashrockzzz2003/DSA_NoteBooks/blob/main/Week_5/PDSA_Week_5_Assignment.ipynb\" target=\"_parent\"><img src=\"https://colab.research.google.com/assets/colab-badge.svg\" alt=\"Open In Colab\"/></a>"
      ]
    },
    {
      "cell_type": "markdown",
      "source": [
        "# Practice Assignments"
      ],
      "metadata": {
        "id": "LhX5gE4_lL2I"
      }
    },
    {
      "cell_type": "markdown",
      "source": [
        "## PPA_1"
      ],
      "metadata": {
        "id": "msjFPX5tlOFS"
      }
    },
    {
      "cell_type": "code",
      "execution_count": null,
      "metadata": {
        "id": "EVcC0DUWlJRa"
      },
      "outputs": [],
      "source": [
        "import numpy as np\n",
        "\n",
        "class XYZ_Courier:\n",
        "  def __init__(self, Route_map):\n",
        "    self.WList = Route_map\n",
        "\n",
        "  def cost(self, s, destination):\n",
        "    WList = self.WList\n",
        "    infinity = 1 + len(WList.keys())*max([d for u in WList.keys() for (v, d) in WList[u]])\n",
        "    distance = {}\n",
        "\n",
        "    for v in WList.keys():\n",
        "      distance[v] = infinity\n",
        "\n",
        "    # Set Source\n",
        "    distance[s] = 0\n",
        "\n",
        "    for i in WList.keys():\n",
        "      for u in WList.keys():\n",
        "        for (v, d) in WList[u]:\n",
        "          distance[v] = min(distance[v], distance[u] + d)\n",
        "    \n",
        "    # print(distance)\n",
        "    return distance[destination]*5\n",
        "  \n",
        "  def route(self, s, destination):\n",
        "    WList = self.WList\n",
        "    infinity = 1 + len(WList.keys())*max([d for u in WList.keys() for (v, d) in WList[u]])\n",
        "    distance = {}\n",
        "    parent = {}\n",
        "\n",
        "    for v in WList.keys():\n",
        "      distance[v] = infinity\n",
        "\n",
        "    # Set Source\n",
        "    distance[s] = 0\n",
        "\n",
        "    for i in WList.keys():\n",
        "      for u in WList.keys():\n",
        "        for (v, d) in WList[u]:\n",
        "          if distance[u] + d < distance[v]:\n",
        "            distance[v] = distance[u] + d\n",
        "            parent[v] = u\n",
        "    \n",
        "    # print(parent)\n",
        "    path = []\n",
        "    current = destination\n",
        "    while True:\n",
        "      path.append(current)\n",
        "      try:\n",
        "        current = parent[current]\n",
        "      except KeyError:\n",
        "        break\n",
        "    \n",
        "    return list(reversed(path))"
      ]
    },
    {
      "cell_type": "code",
      "source": [
        "size = 7\n",
        "# edges = [(0,1,10),(0,2,50),(0,3,300),(5,6,45),(2,1,30),(6,4,37),(1,6,65),(2,5,76),(1,3,40),(3,4,60),(2,4,20)]\n",
        "edges = [(0,1,10),(0,2,50),(0,3,300),(5,6,45),(2,1,30),(6,4,37),(1,6,65),(2,5,76),(1,3,40),(3,4,60),(2,4,20)]\n",
        "# edges = [(0,1,10),(0,2,50),(0,3,300),(5,6,45),(2,1,30),(6,4,37),(1,6,65),(2,5,76),(1,3,40),(3,4,60),(2,4,20)]\n",
        "s = 2\n",
        "d = 6\n",
        "\n",
        "WL = {}\n",
        "for i in range(size):\n",
        "    WL[i] = []\n",
        "for ed in edges: #for create list for undirected graph\n",
        "    WL[ed[0]].append((ed[1],ed[2]))\n",
        "    WL[ed[1]].append((ed[0],ed[2]))\n",
        "C = XYZ_Courier(WL)\n",
        "\n",
        "print(C.cost(s,d))\n",
        "print(C.route(s,d))"
      ],
      "metadata": {
        "colab": {
          "base_uri": "https://localhost:8080/"
        },
        "id": "K76_gtRBscRJ",
        "outputId": "972e4dfc-1689-4176-c0c4-1a40deaf9837"
      },
      "execution_count": null,
      "outputs": [
        {
          "output_type": "stream",
          "name": "stdout",
          "text": [
            "285\n",
            "[2, 4, 6]\n"
          ]
        }
      ]
    },
    {
      "cell_type": "markdown",
      "source": [
        "## PPA_2"
      ],
      "metadata": {
        "id": "wxsjcSvi4uGc"
      }
    },
    {
      "cell_type": "code",
      "source": [
        "def min_cost(WList, s, destination):\n",
        "  infinity = 1 + len(WList.keys())*max([d for u in WList.keys() for (v, d) in WList[u]])\n",
        "  distance = {}\n",
        "  parent = {}\n",
        "\n",
        "  for v in WList.keys():\n",
        "    distance[v] = infinity\n",
        "\n",
        "  # Set Source\n",
        "  distance[s] = 0\n",
        "\n",
        "  for i in WList.keys():\n",
        "    for u in WList.keys():\n",
        "      for (v, d) in WList[u]:\n",
        "        if distance[u] + d < distance[v]:\n",
        "          distance[v] = distance[u] + d\n",
        "          parent[v] = u\n",
        "  \n",
        "  # Get Path\n",
        "  path = []\n",
        "  current = destination\n",
        "\n",
        "  while True:\n",
        "    path.append(current)\n",
        "    try:\n",
        "      current = parent[current]\n",
        "    except KeyError:\n",
        "      break\n",
        "\n",
        "  return (distance[destination], list(reversed(path)))"
      ],
      "metadata": {
        "id": "v3QEy5sk4vVX"
      },
      "execution_count": null,
      "outputs": []
    },
    {
      "cell_type": "code",
      "source": [
        "size = 8\n",
        "edges = [(0,1,1000),(0,7,800),(1,5,200),(2,1,100),(2,3,100),(3,4,300),(4,5,500),(5,2,-200),(2,4,-200),(6,1,400),(6,5,100),(7,6,100)]\n",
        "s = 0\n",
        "d = 1\n",
        "\n",
        "\n",
        "WL = {}\n",
        "for i in range(size):\n",
        "    WL[i] = []\n",
        "for ed in edges: #for create list for directed graph\n",
        "    WL[ed[0]].append((ed[1],ed[2]))\n",
        "print(min_cost(WL,s,d))"
      ],
      "metadata": {
        "colab": {
          "base_uri": "https://localhost:8080/"
        },
        "id": "3ON6iLY-6Hn9",
        "outputId": "d9e803b7-2ac5-4f1c-b52e-034b0c19ae98"
      },
      "execution_count": null,
      "outputs": [
        {
          "output_type": "stream",
          "name": "stdout",
          "text": [
            "(900, [0, 7, 6, 5, 2, 1])\n"
          ]
        }
      ]
    },
    {
      "cell_type": "markdown",
      "source": [
        "# Graded Assignments"
      ],
      "metadata": {
        "id": "dvoPZ2PH6l1B"
      }
    },
    {
      "cell_type": "markdown",
      "source": [
        "## GrPA_1"
      ],
      "metadata": {
        "id": "RyXv7hue6nby"
      }
    },
    {
      "cell_type": "code",
      "source": [
        "def FiberLink(WList):\n",
        "  edges, component = [], {}\n",
        "  for u in WList.keys():\n",
        "    # (weight, u, v) to sort\n",
        "    edges.extend([(d, u, v) for (v, d) in WList[u]])\n",
        "    component[u] = u\n",
        "  \n",
        "  edges.sort()\n",
        "  # print(edges)\n",
        "\n",
        "  cost = 0\n",
        "  \n",
        "  for (d, u, v) in edges:\n",
        "    if component[u] != component[v]:\n",
        "      c = component[u]\n",
        "      cost += d\n",
        "      for w in WList.keys():\n",
        "        if component[w] == c:\n",
        "          component[w] = component[v]\n",
        "\n",
        "  return cost"
      ],
      "metadata": {
        "id": "VC3QM0Tr6wO1"
      },
      "execution_count": null,
      "outputs": []
    },
    {
      "cell_type": "code",
      "source": [
        "size = 7\n",
        "edges = [(0,1,10),(0,2,50),(0,3,300),(5,6,45),(2,1,30),(6,4,37),(1,6,65),(2,5,76),(1,3,40),(3,4,60),(2,4,20)]\n",
        "\n",
        "WL = {}\n",
        "for i in range(size):\n",
        "    WL[i] = []\n",
        "for ed in edges:\n",
        "    WL[ed[0]].append((ed[1],ed[2]))\n",
        "    WL[ed[1]].append((ed[0],ed[2]))\n",
        "print(FiberLink(WL))"
      ],
      "metadata": {
        "colab": {
          "base_uri": "https://localhost:8080/"
        },
        "id": "c0rSTtjs7fij",
        "outputId": "a8f625f4-3d55-43a8-c1f7-befe98a3b3ca"
      },
      "execution_count": null,
      "outputs": [
        {
          "output_type": "stream",
          "name": "stdout",
          "text": [
            "182\n"
          ]
        }
      ]
    },
    {
      "cell_type": "markdown",
      "source": [
        "## GrPA_2"
      ],
      "metadata": {
        "id": "NBajtI1j8OwL"
      }
    },
    {
      "cell_type": "code",
      "source": [
        "def min_cost(WList, s, destination):\n",
        "  infinity = 1 + len(WList.keys())*max([d for u in WList.keys() for (v, d) in WList[u]])\n",
        "  distance = {}\n",
        "  parent = {}\n",
        "\n",
        "  for v in WList.keys():\n",
        "    distance[v] = infinity\n",
        "\n",
        "  # Set Source\n",
        "  distance[s] = 0\n",
        "\n",
        "  for i in WList.keys():\n",
        "    for u in WList.keys():\n",
        "      for (v, d) in WList[u]:\n",
        "        if distance[u] + d < distance[v]:\n",
        "          distance[v] = distance[u] + d\n",
        "          parent[v] = u\n",
        "  \n",
        "  # Get Path\n",
        "  path = []\n",
        "  current = destination\n",
        "\n",
        "  while True:\n",
        "    path.append(current)\n",
        "    try:\n",
        "      current = parent[current]\n",
        "    except KeyError:\n",
        "      break\n",
        "\n",
        "  return (distance[destination], list(reversed(path)))\n",
        "\n",
        "def min_cost_walk(WL, S, D, V):\n",
        "  path_1 = min_cost(WL, S, V)\n",
        "  path_2 = min_cost(WL, V, D)\n",
        "\n",
        "  cost = path_1[0] + path_2[0]\n",
        "  path = path_1[1] + path_2[1][1:]\n",
        "\n",
        "  return (cost, path)"
      ],
      "metadata": {
        "id": "CvQE3ow_8Qlz"
      },
      "execution_count": null,
      "outputs": []
    },
    {
      "cell_type": "code",
      "source": [
        "size = 7\n",
        "edges = [(0,1,10),(0,2,50),(0,3,300),(5,6,45),(2,1,30),(6,4,37),(1,6,65),(2,5,76),(1,3,40),(3,4,60),(2,4,20)]\n",
        "S = 0\n",
        "D = 4\n",
        "V = 5\n",
        "\n",
        "\n",
        "WL = {}\n",
        "for i in range(size):\n",
        "    WL[i] = []\n",
        "for ed in edges: #for create list for undirected graph\n",
        "    WL[ed[0]].append((ed[1],ed[2]))\n",
        "    WL[ed[1]].append((ed[0],ed[2]))\n",
        "print(min_cost_walk(WL,S, D, V))"
      ],
      "metadata": {
        "colab": {
          "base_uri": "https://localhost:8080/"
        },
        "id": "6lHwEPqn-IId",
        "outputId": "aeaf760a-f893-4c71-eda5-4d88124447b5"
      },
      "execution_count": null,
      "outputs": [
        {
          "output_type": "stream",
          "name": "stdout",
          "text": [
            "(198, [0, 1, 2, 5, 6, 4])\n"
          ]
        }
      ]
    },
    {
      "cell_type": "markdown",
      "source": [
        "## GrPA_3"
      ],
      "metadata": {
        "id": "UK9w4nKl_w1w"
      }
    },
    {
      "cell_type": "code",
      "source": [
        "def bellmanford_list(WList, s):\n",
        "  infinity = 1 + len(WList.keys())*max([d for u in WList.keys() for (v, d) in WList[u]])\n",
        "  distance = {}\n",
        "\n",
        "  for v in WList.keys():\n",
        "    distance[v] = infinity\n",
        "\n",
        "  # Set Source\n",
        "  distance[s] = 0\n",
        "\n",
        "  for i in WList.keys():\n",
        "    for u in WList.keys():\n",
        "      for (v, d) in WList[u]:\n",
        "        distance[v] = min(distance[v], distance[u] + d)\n",
        "\n",
        "  return distance\n",
        "\n",
        "def IsNegativeWeightCyclePresent(WList):\n",
        "  edges = []\n",
        "  for u in WList.keys():\n",
        "    for (v, d) in WList[u]:\n",
        "      edges.append((u, v, d))\n",
        "\n",
        "  distance = bellmanford_list(WList, 0)\n",
        "\n",
        "  for (u, v, d) in edges:\n",
        "    if (distance[u] + d < distance[v]):\n",
        "      return True\n",
        "  \n",
        "  return False\n"
      ],
      "metadata": {
        "id": "vW4XGQQp_yt2"
      },
      "execution_count": null,
      "outputs": []
    },
    {
      "cell_type": "code",
      "source": [
        "size = 4\n",
        "# edges = [(0,1,10),(0,2,-5),(0,3,2),(3,2,-5),(2,1,-20),(1,3,10)]\n",
        "edges = [(0,1,10),(0,2,-5),(0,3,2),(3,2,-5),(2,1,-2),(1,3,10)]\n",
        "\n",
        "\n",
        "WL = {}\n",
        "for i in range(size):\n",
        "    WL[i] = []\n",
        "for ed in edges:\n",
        "    WL[ed[0]].append((ed[1],ed[2]))\n",
        "    \n",
        "print(IsNegativeWeightCyclePresent(WL))"
      ],
      "metadata": {
        "colab": {
          "base_uri": "https://localhost:8080/"
        },
        "id": "XhQamfyZHKJN",
        "outputId": "870ef203-b83c-4133-b694-36f677b437f0"
      },
      "execution_count": null,
      "outputs": [
        {
          "output_type": "stream",
          "name": "stdout",
          "text": [
            "False\n"
          ]
        }
      ]
    }
  ]
}