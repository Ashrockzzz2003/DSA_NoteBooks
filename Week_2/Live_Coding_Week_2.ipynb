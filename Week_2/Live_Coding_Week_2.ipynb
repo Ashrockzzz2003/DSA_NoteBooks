{
  "nbformat": 4,
  "nbformat_minor": 0,
  "metadata": {
    "colab": {
      "provenance": []
    },
    "kernelspec": {
      "name": "python3",
      "display_name": "Python 3"
    },
    "language_info": {
      "name": "python"
    }
  },
  "cells": [
    {
      "cell_type": "markdown",
      "source": [
        "# Question_1"
      ],
      "metadata": {
        "id": "8tw_knCJwd2e"
      }
    },
    {
      "cell_type": "code",
      "execution_count": null,
      "metadata": {
        "id": "AjH49gLUwbiM"
      },
      "outputs": [],
      "source": [
        "def Findpeak(L):\n",
        "  # Peak Element is greater than it's neighbours\n",
        "  left = 0\n",
        "  right = len(L) - 1\n",
        "\n",
        "  while left <= right:\n",
        "    middle = left + (right - left) // 2\n",
        "\n",
        "    if middle == 0:\n",
        "      if L[middle] > L[middle + 1]:\n",
        "        return L[middle]\n",
        "    \n",
        "    elif middle == len(L) - 1:\n",
        "      if L[middle] > L[middle - 1]:\n",
        "        return L[middle]\n",
        "    \n",
        "    elif L[middle] > L[middle - 1] and L[middle] > L[middle + 1]:\n",
        "      return L[middle]\n",
        "    \n",
        "    elif L[middle] > L[middle - 1] and L[middle] < L[middle + 1]:\n",
        "      left = middle + 1\n",
        "    \n",
        "    elif L[middle] > L[middle + 1] and L[middle] < L[middle - 1]:\n",
        "      right = middle"
      ]
    },
    {
      "cell_type": "code",
      "source": [
        "L = [5,6,4,3,2,1]\n",
        "print(Findpeak(L))\n",
        "\n",
        "L = [5, 10, 20, 15]\n",
        "print(Findpeak(L))"
      ],
      "metadata": {
        "colab": {
          "base_uri": "https://localhost:8080/"
        },
        "id": "Ju7-lw91x6u7",
        "outputId": "8712dd89-6b54-4634-8aee-14c230cb8055"
      },
      "execution_count": null,
      "outputs": [
        {
          "output_type": "stream",
          "name": "stdout",
          "text": [
            "6\n",
            "20\n"
          ]
        }
      ]
    },
    {
      "cell_type": "markdown",
      "source": [
        "# Question_2\n",
        "\n",
        "Write a Python function `findCommonElements(L1, L2)` that accepts two integer lists `L1` and `L2` of same length `n` and return a list that contains elements that are common to both lists. Write a efficient solution that runs in `O(nlogn)` time.\n",
        "\n",
        "* `L1` contains all distinct integers and `L2` contains all distinct integers, but there can be many elements common between `L1` and `L2`.\n",
        "\n",
        "* Returned list contains all elements that are common to `L1` and `L2`. The elements in the returned list can be in any order.\n",
        "\n",
        "**For example.**\n",
        "\n",
        "if `L1` = [5, 8, 2] and `L2` = [6, 8, 1] then, `findCommonElements(L1, L2)` should return list [8].\n",
        "\n",
        "if `L1` = [3, 7, 2, 9, 5] and `L2` = [6, 3, 7, 5, 4] then, `findCommonElements(L1, L2)` should return list  [3, 7, 5].\n",
        "\n",
        "*Elements in returned list can be in any order.*\n",
        "\n",
        "**Do not use Python set built-in function**\n",
        "\n",
        "**Sample input**\n",
        "\n",
        "```\n",
        "[23, 24, 18, 22, 20, 10, 17, 12, 16, 19, 21, 15, 14, 11, 13]\n",
        "[23, 22, 33, 24, 31, 21, 20, 26, 30, 29, 25, 27, 28, 34, 32]\n",
        "```\n",
        "\n",
        "**Output**\n",
        "\n",
        "```\n",
        "[20, 21, 22, 23, 24]\n",
        "```\n",
        "\n",
        "**Sample input 2**\n",
        "\n",
        "```\n",
        "[3, 7, 2, 9, 5]\n",
        "[6, 3, 7, 5, 4]\n",
        "```\n",
        "\n",
        "**Output**\n",
        "\n",
        "```\n",
        "[3, 5, 7]\n",
        "```\n",
        "\n",
        "### "
      ],
      "metadata": {
        "id": "3w06BClz2G8g"
      }
    },
    {
      "cell_type": "code",
      "source": [
        "def binary_search(L, k, left, right):\n",
        "  if right - left <= 0:\n",
        "    return (k == L[left])\n",
        "  \n",
        "  middle = (left + right) // 2\n",
        "  if k == L[middle]:\n",
        "    return True\n",
        "  if k < L[middle]:\n",
        "    return binary_search(L, k, 0, middle - 1)\n",
        "  else:\n",
        "    return binary_search(L, k, middle + 1, right)\n",
        "\n",
        "def findCommonElements(L1, L2):\n",
        "  merged_list = []\n",
        "  L2.sort()\n",
        "  for i in L1:\n",
        "    # print(i, binary_search(L2, i, 0, len(L2) - 1))\n",
        "    if binary_search(L2, i, 0, len(L2) - 1) == True:\n",
        "      merged_list.append(i)\n",
        "  \n",
        "  return merged_list"
      ],
      "metadata": {
        "id": "48RLP_C42JmL"
      },
      "execution_count": null,
      "outputs": []
    },
    {
      "cell_type": "code",
      "source": [
        "L1 = [23, 24, 18, 22, 20, 10, 17, 12, 16, 19, 21, 15, 14, 11, 13]\n",
        "L2 = [23, 22, 33, 24, 31, 21, 20, 26, 30, 29, 25, 27, 28, 34, 32]\n",
        "\n",
        "print(findCommonElements(L1, L2))"
      ],
      "metadata": {
        "colab": {
          "base_uri": "https://localhost:8080/"
        },
        "id": "55oEu1OD3--i",
        "outputId": "0c8f7e07-bcd8-4e4e-a992-0a288dff9f8d"
      },
      "execution_count": null,
      "outputs": [
        {
          "output_type": "stream",
          "name": "stdout",
          "text": [
            "[23, 24, 22, 20, 21]\n"
          ]
        }
      ]
    },
    {
      "cell_type": "markdown",
      "source": [
        "# Question_3\n",
        "\n",
        "You have a deck of shuffled cards ranging from 0 to 100,000,000. There are 2 sub-ordinate below you and two subordinates below them and it goes on.\n",
        "\n",
        "- The job of the sub-ordinate is to split the deck of cards that they received and give it to two sub-ordinate of them. If they receive a deck of cards from their subordinates, they merge it in an ascending order and give it their higher level.\n",
        "\n",
        "- If a subordinate received only two card, then he/she himself/herself arrange in ascending order give it back that to the superior.\n",
        "\n",
        "- If a subordinate received only one card, then he/she will give back that to the superior.\n",
        "\n",
        "\n",
        "\n",
        "```\n",
        "Terminology:\n",
        "\n",
        "(67) subordinate number 67\n",
        "\n",
        "[1, 3, 5, 2] -> [1, 2, 3, 5] deck of cards got -> deck of cards returned\n",
        "\n",
        "--------------------------------\n",
        "\n",
        "(0) [3, 1, 2, 0, 5] -> [0, 1, 2, 3, 5]\n",
        "|\n",
        "|--(1) [3, 1] -> [1, 3]\n",
        "|\n",
        "|--(2) [2, 0, 5] -> [0, 2, 5]\n",
        "    |\n",
        "    |--(3) [2] -> [2]\n",
        "    |\n",
        "    |--(4) [0, 5] -> [0, 5]\n",
        "```\n",
        "\n",
        "Your task is to find how many people (including you) are required to sort the cards and print the sorted deck of cards and number of people required as a tuple.\n",
        "\n",
        "Write the function **def subordinates(L):**\n",
        "\n",
        "```python\n",
        "def subordinates(L):\n",
        "```\n",
        "\n",
        "**Sample input 1**\n",
        "\n",
        "```\n",
        "[194, 69, 103, 150, 151, 44, 103, 98]\n",
        "```\n",
        "\n",
        "**Output**\n",
        "\n",
        "```\n",
        "([44, 69, 98, 103, 103, 150, 151, 194], 7)\n",
        "```\n",
        "\n",
        "**Sample input 2**\n",
        "\n",
        "```\n",
        "[10, 33, 45, 67, 92, 100, 5]\n",
        "```\n",
        "\n",
        "**Output**\n",
        "\n",
        "```\n",
        "([5, 10, 33, 45, 67, 92, 100], 7)\n",
        "```"
      ],
      "metadata": {
        "id": "G4TT0ypW5d_s"
      }
    },
    {
      "cell_type": "code",
      "source": [
        "def merge_lists(A, B):\n",
        "  \"\"\"Returns Sorted List of elements of A and B\"\"\"\n",
        "  merged_list = []\n",
        "  i, j, k = 0, 0, 0\n",
        "  # i -> Pointer for A\n",
        "  # j -> Pointer for B\n",
        "  # k -> Pointer for the merged_list\n",
        "  while k < (len(A) + len(B)):\n",
        "    # While there are elements to be merged\n",
        "    if i == len(A): \n",
        "      # When A is empty\n",
        "      merged_list.extend(B[j:])\n",
        "      k += len(B) - j\n",
        "    elif j == len(B):\n",
        "      # When B is empty\n",
        "      merged_list.extend(A[i:])\n",
        "      k += len(A) - i\n",
        "    \n",
        "    # Compare top element of pile A with top element of pile B\n",
        "    elif A[i] < B[j]:\n",
        "      merged_list.append(A[i])\n",
        "      i += 1\n",
        "      k += 1\n",
        "    else:\n",
        "      merged_list.append(B[j])\n",
        "      j += 1\n",
        "      k += 1\n",
        "\n",
        "  return merged_list\n",
        "\n",
        "count = 0\n",
        "def subordinates(L):\n",
        "  \"\"\"Returns Sorted List L using Merge Sort\"\"\"\n",
        "  global count\n",
        "  count += 1\n",
        "  if len(L) == 2:\n",
        "    count -= 2\n",
        "\n",
        "  if len(L) <= 1:\n",
        "    return (L, (count))\n",
        "  \n",
        "  A = subordinates(L[:(len(L))//2])[0]\n",
        "  B = subordinates(L[len(L)//2:])[0]\n",
        "\n",
        "  merged_list = merge_lists(A, B)\n",
        "  return (merged_list, (count))"
      ],
      "metadata": {
        "id": "NdD5k3Az5gUo"
      },
      "execution_count": null,
      "outputs": []
    },
    {
      "cell_type": "code",
      "source": [
        "L = [10, 33, 45, 67, 92, 100, 5, 99, 105]\n",
        "\n",
        "print(subordinates(L))"
      ],
      "metadata": {
        "colab": {
          "base_uri": "https://localhost:8080/"
        },
        "id": "dWCEpuc_-vOt",
        "outputId": "8781a396-b80d-45b3-e118-63c41c760ef3"
      },
      "execution_count": null,
      "outputs": [
        {
          "output_type": "stream",
          "name": "stdout",
          "text": [
            "([5, 10, 33, 45, 67, 92, 99, 100, 105], 9)\n"
          ]
        }
      ]
    },
    {
      "cell_type": "markdown",
      "source": [
        "# Question_4\n",
        "Given a list `L` of random numbers and another number `pairSum`, find whether there exists two numbers in the list such that their sum is equal to `pairSum`. \n",
        "\n",
        "Write a Python function ***findPair(L, pairSum)*** that return `True` if there exist a pair of integers in `L` whose sum is equal to `x`, `False` otherwise.. Try to write a solution which is $O(n~log~n)$ or better.\n",
        "\n",
        "**Hint:** Try to sort the list first.\n",
        "\n",
        "\n",
        "\n",
        "For example consider the below list. We need to find if there exists any pair whose sum is equal to 21. 11+10 = 21. So the function should return True.\n",
        "\n",
        "For the same list if we want to find if there exist any pair whose sum is equal to 2. Clearly there is no such pair so the function should return False.\n",
        "\n",
        "**Sample Input 1**\n",
        "\n",
        "```\n",
        "10 4 11 5 1 8 7\n",
        "21\n",
        "```\n",
        "\n",
        "**Sample Output 1**\n",
        "\n",
        "```\n",
        "True\n",
        "```\n",
        "\n",
        "**Sample Input 2**\n",
        "\n",
        "```\n",
        "10 4 11 5 1 8 7\n",
        "2\n",
        "```\n",
        "\n",
        "**Sample Output 2**\n",
        "\n",
        "```\n",
        "False\n",
        "```"
      ],
      "metadata": {
        "id": "iUIPtrfLGfFG"
      }
    },
    {
      "cell_type": "code",
      "source": [
        "def findPair(L, pairSum):\n",
        "  L.sort()\n",
        "\n",
        "  left = 0\n",
        "  right = len(L) - 1\n",
        "\n",
        "  while left < right:\n",
        "    # If sum is found in current part of list\n",
        "    if L[left] + L[right] == pairSum:\n",
        "      # print(L)\n",
        "      # print(L[left], L[right])\n",
        "      return True\n",
        "    \n",
        "    # If sum is greater than the sum of current part of list, Move one step right\n",
        "    elif L[left] + L[right] < pairSum:\n",
        "      left += 1\n",
        "    \n",
        "    # If sum is lesser than the sum of current part of list, move one step left\n",
        "    else:\n",
        "      right -= 1\n",
        "  \n",
        "  return False"
      ],
      "metadata": {
        "id": "ovtvPFlJGgg_"
      },
      "execution_count": null,
      "outputs": []
    },
    {
      "cell_type": "code",
      "source": [
        "L = list(map(int, \"3825 29286 12635 73450 69276 1052 67615 27144 32660\".split(' ')))\n",
        "\n",
        "print(findPair(L, 3825))\n",
        "print(findPair(L, 33111))\n",
        "\n",
        "L = list(map(int, \"10 4 11 5 1 8 7\".split(' ')))\n",
        "print(findPair(L, 2))"
      ],
      "metadata": {
        "colab": {
          "base_uri": "https://localhost:8080/"
        },
        "id": "cqKmkbbrH1HH",
        "outputId": "2b2936c1-224d-4303-9d9c-229ea8ce9649"
      },
      "execution_count": null,
      "outputs": [
        {
          "output_type": "stream",
          "name": "stdout",
          "text": [
            "False\n",
            "[1052, 3825, 12635, 27144, 29286, 32660, 67615, 69276, 73450]\n",
            "3825 29286\n",
            "True\n",
            "False\n"
          ]
        }
      ]
    }
  ]
}