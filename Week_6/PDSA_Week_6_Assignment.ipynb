{
  "nbformat": 4,
  "nbformat_minor": 0,
  "metadata": {
    "colab": {
      "provenance": [],
      "authorship_tag": "ABX9TyPsqqc7xBJktudcrWiZ3Nm1",
      "include_colab_link": true
    },
    "kernelspec": {
      "name": "python3",
      "display_name": "Python 3"
    },
    "language_info": {
      "name": "python"
    }
  },
  "cells": [
    {
      "cell_type": "markdown",
      "metadata": {
        "id": "view-in-github",
        "colab_type": "text"
      },
      "source": [
        "<a href=\"https://colab.research.google.com/github/Ashrockzzz2003/DSA_NoteBooks/blob/main/Week_6/PDSA_Week_6_Assignment.ipynb\" target=\"_parent\"><img src=\"https://colab.research.google.com/assets/colab-badge.svg\" alt=\"Open In Colab\"/></a>"
      ]
    },
    {
      "cell_type": "markdown",
      "source": [
        "# Practice Assignments"
      ],
      "metadata": {
        "id": "GEaUKntFRTYM"
      }
    },
    {
      "cell_type": "markdown",
      "source": [
        "## PPA_1"
      ],
      "metadata": {
        "id": "Brn9XoyaRVeA"
      }
    },
    {
      "cell_type": "code",
      "execution_count": 6,
      "metadata": {
        "colab": {
          "base_uri": "https://localhost:8080/"
        },
        "id": "j81AzPr5RQyd",
        "outputId": "b0a63571-6cf9-4471-d2a9-f82fb93e511e"
      },
      "outputs": [
        {
          "output_type": "stream",
          "name": "stdout",
          "text": [
            "66 55 43 34 12 7 2 20 5\n",
            "5\n",
            "8\n",
            "True\n"
          ]
        }
      ],
      "source": [
        "class min_heap:\n",
        "  # Initialize\n",
        "  def __init__(self):\n",
        "    self.heap = []\n",
        "  \n",
        "  def min_heapify(self, k):\n",
        "    l = 2*k + 1\n",
        "    r = 2*k + 2\n",
        "\n",
        "    smallest = k\n",
        "\n",
        "    if l < len(self.heap) and self.heap[l] < self.heap[smallest]:\n",
        "      smallest = l\n",
        "    if r < len(self.heap) and self.heap[r] < self.heap[smallest]:\n",
        "      smallest = r\n",
        "    if smallest != k:\n",
        "      self.heap[k], self.heap[smallest] = self.heap[smallest], self.heap[k]\n",
        "      self.min_heapify(smallest)\n",
        "    \n",
        "  def build_min_heap(self, L):\n",
        "    self.heap = []\n",
        "    for i in L:\n",
        "      self.heap.append(i)\n",
        "    n = int((len(self.heap) // 2) - 1)\n",
        "    for k in range(n, -1, -1):\n",
        "      self.min_heapify(k)\n",
        "  \n",
        "  def delete_min(self):\n",
        "    item = None\n",
        "    if self.heap != []:\n",
        "      self.heap[0], self.heap[-1] = self.heap[-1], self.heap[0]\n",
        "      item = self.heap.pop()\n",
        "      self.min_heapify(0)\n",
        "    \n",
        "    return item\n",
        "  \n",
        "  def insert_in_min_heap(self, v):\n",
        "    self.heap.append(v)\n",
        "    index = len(self.heap) - 1\n",
        "\n",
        "    while index > 0:\n",
        "      parent = (index - 1) // 2\n",
        "      if self.heap[index] < self.heap[parent]:\n",
        "        self.heap[index], self.heap[parent] = self.heap[parent], self.heap[index]\n",
        "        index = parent\n",
        "      else:\n",
        "        break\n",
        "\n",
        "def KminGreaterThan(arr, k, num):\n",
        "    heap = min_heap()\n",
        "    heap.build_min_heap(arr)\n",
        "\n",
        "    for i in range(k):\n",
        "      smallest = heap.delete_min()\n",
        "    \n",
        "    return (smallest >= num)\n",
        "      \n",
        "arr = list(map(int, input().split(' ')))\n",
        "k = int(input())\n",
        "num = int(input())\n",
        "\n",
        "print(KminGreaterThan(arr, k, num))"
      ]
    },
    {
      "cell_type": "code",
      "source": [
        "def heapify(L, k):\n",
        "  l = 2*k + 1\n",
        "  r = 2*k + 2\n",
        "\n",
        "  smallest = k\n",
        "\n",
        "  if l < len(L) and L[l] < L[smallest]:\n",
        "    smallest = l\n",
        "  if r < len(L) and L[r] < L[smallest]:\n",
        "    smallest = r\n",
        "  if smallest != k:\n",
        "    L[smallest], L[k] = L[k], L[smallest]\n",
        "    heapify(L, smallest)\n",
        "\n",
        "def build_min_heap(L):\n",
        "  n = (len(L) // 2) - 1\n",
        "  for i in range(n, -1, -1):\n",
        "    heapify(L, i)\n",
        "  return L\n",
        "\n",
        "def delete_min(L):\n",
        "  L[0], L[-1] = L[-1], L[0]\n",
        "  L_min = L.pop()\n",
        "  heapify(L, 0)\n",
        "  return L_min\n",
        "\n",
        "def KminGreaterThan(arr,k,num):\n",
        "  arr = build_min_heap(arr)\n",
        "  for x in range(k): \n",
        "    deleted_val = delete_min(arr)\n",
        "  return deleted_val > num"
      ],
      "metadata": {
        "id": "Pa4JwBvTh1YK"
      },
      "execution_count": null,
      "outputs": []
    },
    {
      "cell_type": "markdown",
      "source": [
        "## PPA_2"
      ],
      "metadata": {
        "id": "e4Qdn1d_eX_W"
      }
    },
    {
      "cell_type": "code",
      "source": [
        "def heapify(A, size, k):\n",
        "  l = 2*k + 1\n",
        "  r = 2*k + 2\n",
        "  largest = k\n",
        "\n",
        "  if l < size and A[l] > A[largest]:\n",
        "    largest = l\n",
        "  if r < size and A[r] > A[largest]:\n",
        "    largest = r\n",
        "  if largest != k:\n",
        "    A[k], A[largest] = A[largest], A[k]\n",
        "    heapify(A,size,largest)\n",
        "\n",
        "def heapSort(arr):\n",
        "    n = len(arr)\n",
        "    for i in range(n//2, -1, -1):\n",
        "        heapify(arr, n, i)\n",
        "    for i in range(n-1, 0, -1):\n",
        "        arr[i], arr[0] = arr[0], arr[i]\n",
        "        heapify(arr, i, 0)\n",
        "\n",
        "L = [int(item) for item in input().split(\" \")]\n",
        "heapSort(L)\n",
        "print(*L)"
      ],
      "metadata": {
        "colab": {
          "base_uri": "https://localhost:8080/"
        },
        "id": "iAFX_2hxeZUs",
        "outputId": "fed32f4b-30c5-489c-f29a-483d5ea872f6"
      },
      "execution_count": 7,
      "outputs": [
        {
          "output_type": "stream",
          "name": "stdout",
          "text": [
            "45 22 57 12 33 73 55 2 80 62\n",
            "2 12 22 33 45 55 57 62 73 80\n"
          ]
        }
      ]
    },
    {
      "cell_type": "markdown",
      "source": [
        "## PPA_3"
      ],
      "metadata": {
        "id": "KLAwRW2ffU0p"
      }
    },
    {
      "cell_type": "code",
      "source": [
        "class MakeUnionFind():\n",
        "  # Initialize\n",
        "  def __init__(self):\n",
        "    self.component = {}\n",
        "    self.member = {}\n",
        "    self.size = {}\n",
        "  \n",
        "  def makeunionfind(self,vertices):\n",
        "    for x in range(vertices):\n",
        "      self.component[x], self.member[x], self.size[x] = x, [x], 1\n",
        "  \n",
        "  def find(self,i):\n",
        "    return self.component[i]\n",
        "\n",
        "  def union(self,i,j):\n",
        "    c_old = self.component[i]\n",
        "    c_new = self.component[j]\n",
        "    for x in self.member[c_old]:\n",
        "      self.component[x] = c_new\n",
        "      self.member[c_new].append(x)\n",
        "      self.size[c_new] += 1\n",
        "  \n",
        "def kruskal(edges, exvert, vertices):\n",
        "  TE, cost = [], 0\n",
        "  muf = MakeUnionFind()\n",
        "  muf.makeunionfind(vertices)\n",
        "\n",
        "  edges = [(d,u,v) for (u,v,d) in edges]\n",
        "  edges.sort()\n",
        "\n",
        "  for (d,u,v) in edges:\n",
        "    if muf.component[u] != muf.component[v] and v != exvert and u != exvert:\n",
        "      TE.append((u,v))\n",
        "      cost += d\n",
        "      if muf.size[u] <= muf.size[v]:\n",
        "        muf.union(u,v)\n",
        "      else:\n",
        "        muf.union(v,u)\n",
        "  \n",
        "  return (muf.member,cost)\n",
        "\n",
        "def connectCamps(Wlist, exCamp):\n",
        "  edges = []\n",
        "  vertices = len(Wlist.keys())\n",
        "  for u in Wlist.keys():\n",
        "    for (v, d) in edges:\n",
        "      edges.append((u, v, d))\n",
        "  \n",
        "  return kruskal(edges, exCamp, vertices)\n",
        "\n",
        "vertices = int(input())\n",
        "edges = eval(input())\n",
        "exCamp = int(input())\n",
        "\n",
        "print(kruskal(edges, exCamp, vertices))"
      ],
      "metadata": {
        "colab": {
          "base_uri": "https://localhost:8080/"
        },
        "id": "nncB3CGgfWHC",
        "outputId": "f0a6e756-7c63-4db9-974e-0996c8ffadfb"
      },
      "execution_count": 14,
      "outputs": [
        {
          "output_type": "stream",
          "name": "stdout",
          "text": [
            "8\n",
            "[(0,1,10),(0,2,50),(0,3,300),(5,6,45),(2,1,30),(6,4,37),(1,6,65),(2,5,76),(1,3,40),(3,4,60),(2,4,20),(6,7,77)]\n",
            "6\n",
            "({0: [0], 1: [1, 0, 4, 2, 6, 3, 5], 2: [2], 3: [3], 4: [4, 2], 5: [5], 6: [6], 7: [7, 1, 0, 4, 2, 6, 3, 5]}, 259)\n"
          ]
        }
      ]
    },
    {
      "cell_type": "markdown",
      "source": [
        "# Graded Assignments"
      ],
      "metadata": {
        "id": "Ub3FlJngy1zc"
      }
    },
    {
      "cell_type": "markdown",
      "source": [
        "## GrPA_1"
      ],
      "metadata": {
        "id": "oFYzaHlRy3bB"
      }
    },
    {
      "cell_type": "code",
      "source": [
        "def max_heapify(A, size, k):\n",
        "  l = 2*k + 1\n",
        "  r = 2*k + 2\n",
        "  largest = k\n",
        "\n",
        "  if l < size and A[l] > A[largest]:\n",
        "    largest = l\n",
        "  if r < size and A[r] > A[largest]:\n",
        "    largest = r\n",
        "  if largest != k:\n",
        "    A[k], A[largest] = A[largest], A[k]\n",
        "    max_heapify(A,size,largest)\n",
        "\n",
        "def build_max_heap(A):\n",
        "  n = (len(A) // 2) - 1\n",
        "  for k in range(n, -1, -1):\n",
        "    max_heapify(A, len(A), k)\n",
        "\n",
        "def heapsort(A):\n",
        "  build_max_heap(A)\n",
        "  n = len(A)\n",
        "  for i in range(n-1, -1, -1):\n",
        "    A[0], A[i] = A[i], A[0]\n",
        "    max_heapify(A, i, 0)\n",
        "\n",
        "def mergeKLists(L):\n",
        "  l = []\n",
        "  for i in L:\n",
        "    l += i\n",
        "  heapsort(l)\n",
        "\n",
        "  return l\n",
        "\n",
        "L = [[4, 5], [8, 26, 69]]\n",
        "print(mergeKLists(L))"
      ],
      "metadata": {
        "colab": {
          "base_uri": "https://localhost:8080/"
        },
        "id": "zHjWjy-Hy43L",
        "outputId": "0295c560-5d64-412a-fccd-3b683201d541"
      },
      "execution_count": 17,
      "outputs": [
        {
          "output_type": "stream",
          "name": "stdout",
          "text": [
            "[4, 5, 8, 26, 69]\n"
          ]
        }
      ]
    },
    {
      "cell_type": "markdown",
      "source": [
        "## GrPA_2"
      ],
      "metadata": {
        "id": "JOyr-1FS0RL6"
      }
    },
    {
      "cell_type": "code",
      "source": [
        "class Tree:\n",
        "  #constructor\n",
        "  def __init__(self, initval=None):\n",
        "    self.value = initval\n",
        "    if self.value:\n",
        "      self.left = Tree()\n",
        "      self.right = Tree()\n",
        "    else:\n",
        "      self.left = self.right = None\n",
        "    return\n",
        "  \n",
        "  #Only empty node has value None\n",
        "  def isempty(self):\n",
        "    return(self.value == None)\n",
        "  \n",
        "  #Leaf nodes have both children empty\n",
        "  def isleaf(self):\n",
        "    return(self.value != None and self.left.isempty() and self.right.isempty())\n",
        "\n",
        "# Inorder Traversal\n",
        "def inorder(root):\n",
        "  temp = root\n",
        "  if temp.isempty():\n",
        "    return []\n",
        "  else:\n",
        "    return (inorder(temp.left) + [temp.value] + inorder(temp.right))\n",
        "\n",
        "def maxLessThan(root, k):\n",
        "  L = inorder(root)\n",
        "  max = None\n",
        "  for i in L:\n",
        "    if i <= k:\n",
        "      max = i\n",
        "  \n",
        "  return max\n",
        "\n",
        "\n",
        "#insert element to BST\n",
        "def insertToBST(root, x):\n",
        "  # Tree should have atleast one element.\n",
        "  temp = root\n",
        "  while (not temp.isempty()):\n",
        "    if (x < temp.value):\n",
        "      temp = temp.left\n",
        "    else:\n",
        "      temp = temp.right\n",
        "\n",
        "  temp.value = x\n",
        "  temp.left = Tree()\n",
        "  temp.right = Tree()\n",
        "\n",
        "L = [int(item) for item in input().split(\" \")]\n",
        "x = int(input())\n",
        "root = Tree(L[0])\n",
        "for item in L[1:]:\n",
        "  insertToBST(root, item)\n",
        "\n",
        "print(maxLessThan(root, x))"
      ],
      "metadata": {
        "colab": {
          "base_uri": "https://localhost:8080/"
        },
        "id": "_OA1efTP0TLy",
        "outputId": "2456a071-bce5-4a4b-f68f-85564b8c70e9"
      },
      "execution_count": 23,
      "outputs": [
        {
          "output_type": "stream",
          "name": "stdout",
          "text": [
            "50 52 54 74 93 100 114 124 130 143\n",
            "92\n",
            "74\n"
          ]
        }
      ]
    },
    {
      "cell_type": "markdown",
      "source": [
        "## GrPA_3"
      ],
      "metadata": {
        "id": "38b8KbNB2w0R"
      }
    },
    {
      "cell_type": "code",
      "source": [
        "def max_heapify(A, size, k):\n",
        "  l = 2*k + 1\n",
        "  r = 2*k + 2\n",
        "  largest = k\n",
        "\n",
        "  if l < size and A[l] > A[largest]:\n",
        "    largest = l\n",
        "  if r < size and A[r] > A[largest]:\n",
        "    largest = r\n",
        "  if largest != k:\n",
        "    A[k], A[largest] = A[largest], A[k]\n",
        "    max_heapify(A,size,largest)\n",
        "\n",
        "def min_max(A):\n",
        "  n = (len(A) // 2) - 1\n",
        "  for k in range(n, -1, -1):\n",
        "    max_heapify(A, len(A), k)"
      ],
      "metadata": {
        "id": "M4sGJE982x89"
      },
      "execution_count": null,
      "outputs": []
    }
  ]
}