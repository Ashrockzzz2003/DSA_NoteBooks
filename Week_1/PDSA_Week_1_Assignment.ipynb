{
  "nbformat": 4,
  "nbformat_minor": 0,
  "metadata": {
    "colab": {
      "provenance": []
    },
    "kernelspec": {
      "name": "python3",
      "display_name": "Python 3"
    },
    "language_info": {
      "name": "python"
    }
  },
  "cells": [
    {
      "cell_type": "markdown",
      "source": [
        "# Week_1\n"
      ],
      "metadata": {
        "id": "dN9lInJhkVfl"
      }
    },
    {
      "cell_type": "markdown",
      "source": [
        "## Practice_Assignments"
      ],
      "metadata": {
        "id": "cH6peqazk4ZX"
      }
    },
    {
      "cell_type": "markdown",
      "source": [
        "### PPA_1\n",
        "<hr>\n",
        "\n",
        "## Twin Primes\n",
        "\n",
        "Twin primes are `pairs of prime numbers that differ by 2`. For example $(3, 5), (5, 7),$ and $(11,13)$ are twin primes.\n",
        "\n",
        "Write a function `Twin_Primes(n, m)` where `n` and `m` are positive integers and `n < m` , that returns all unique twin primes between `m and n` (both inclusive). The function returns a list of tuples and each tuple `(a,b)` represents one unique twin prime where $n <= a < b <= m$.\n"
      ],
      "metadata": {
        "id": "Ch7Qe_2zk8Xc"
      }
    },
    {
      "cell_type": "code",
      "source": [
        "def prime(n):\n",
        "    for i in range(2,int(n**0.5)+1):\n",
        "        if n%i==0:\n",
        "            return False\n",
        "    return True"
      ],
      "metadata": {
        "id": "z_RtjmHSmyML"
      },
      "execution_count": null,
      "outputs": []
    },
    {
      "cell_type": "code",
      "execution_count": null,
      "metadata": {
        "id": "UkMtlJ3qkPqt"
      },
      "outputs": [],
      "source": [
        "def Twin_Primes(n, m):\n",
        "  last_prime = 2\n",
        "  if(n > 2):\n",
        "    last_prime = n\n",
        "  twin_primes_list = []\n",
        "  for i in range(n+1, m+1):\n",
        "    if(prime(i) == True):\n",
        "      if(i - last_prime == 2):\n",
        "        twin_primes_list.append((last_prime, i))\n",
        "      last_prime = i\n",
        "  \n",
        "  return list(set(twin_primes_list))"
      ]
    },
    {
      "cell_type": "code",
      "source": [
        "print(Twin_Primes(1, 15))\n",
        "print(Twin_Primes(11, 25))\n",
        "print(Twin_Primes(5, 50))"
      ],
      "metadata": {
        "colab": {
          "base_uri": "https://localhost:8080/"
        },
        "id": "WWTZDM64ngPP",
        "outputId": "aeb3e0ab-da7b-4a84-ce2e-27e475128a40"
      },
      "execution_count": null,
      "outputs": [
        {
          "output_type": "stream",
          "name": "stdout",
          "text": [
            "[(5, 7), (11, 13), (3, 5)]\n",
            "[(17, 19), (11, 13)]\n",
            "[(17, 19), (5, 7), (29, 31), (41, 43), (11, 13)]\n"
          ]
        }
      ]
    },
    {
      "cell_type": "markdown",
      "source": [
        "### PPA_2\n",
        "\n",
        "<img src=\"https://backend.seek.onlinedegree.iitm.ac.in/21t3_cs2002/assets/img/w1ppa2updated.png\">**bold text**"
      ],
      "metadata": {
        "id": "vLflPG0uxEMn"
      }
    },
    {
      "cell_type": "code",
      "source": [
        "import math\n",
        "\n",
        "class Triangle:\n",
        "\n",
        "  def __init__(self, a, b, c):\n",
        "    self.a = a\n",
        "    self.b = b\n",
        "    self.c = c\n",
        "  \n",
        "  def Is_valid(self):\n",
        "    if (self.a + self.b > self.c) and (self.a + self.c > self.b) and (self.c + self.b > self.a): \n",
        "      return \"Valid\"\n",
        "    else:\n",
        "      return \"Invalid\"\n",
        "  \n",
        "  def Side_Classification(self):\n",
        "    if (self.a + self.b > self.c) and (self.a + self.c > self.b) and (self.c + self.b > self.a): \n",
        "      if(self.a == self.b == self.c):\n",
        "        return \"Equilateral\"\n",
        "      elif (self.a == self.b or self.a == self.c or self.b == self.c):\n",
        "        return \"Isosceles\"\n",
        "      else:\n",
        "        return \"Scalene\"\n",
        "    else:\n",
        "      return \"Invalid\"\n",
        "  \n",
        "  def Angle_Classification(self):\n",
        "    if (self.a + self.b > self.c) and (self.a + self.c > self.b) and (self.c + self.b > self.a): \n",
        "      # If a is maximum\n",
        "      if (self.a >= self.b and self.a >= self.c):\n",
        "        if (self.b)**2 + (self.c)**2 > (self.a)**2:\n",
        "          return \"Acute\"\n",
        "        elif (self.b)**2 + (self.c)**2 == (self.a)**2:\n",
        "          return \"Right\"\n",
        "        elif (self.b)**2 + (self.c)**2 < (self.a)**2:\n",
        "          return \"Obtuse\"\n",
        "      # If b is maximum\n",
        "      elif (self.b >= self.a and self.b >= self.c):\n",
        "        if (self.a)**2 + (self.c)**2 > (self.b)**2:\n",
        "          return \"Acute\"\n",
        "        elif (self.a)**2 + (self.c)**2 == (self.b)**2:\n",
        "          return \"Right\"\n",
        "        elif (self.a)**2 + (self.c)**2 < (self.b)**2:\n",
        "          return \"Obtuse\"\n",
        "      # If c is maximum\n",
        "      elif (self.c >= self.b and self.c >= self.a):\n",
        "        if (self.b)**2 + (self.a)**2 > (self.c)**2:\n",
        "          return \"Acute\"\n",
        "        elif (self.b)**2 + (self.a)**2 == (self.c)**2:\n",
        "          return \"Right\"\n",
        "        elif (self.b)**2 + (self.a)**2 < (self.c)**2:\n",
        "          return \"Obtuse\"\n",
        "    else:\n",
        "      return \"Invalid\"\n",
        "  \n",
        "  def Area(self):\n",
        "    if (self.a + self.b > self.c) and (self.a + self.c > self.b) and (self.c + self.b > self.a):\n",
        "      s = (self.a + self.b + self.c) / 2 \n",
        "      return math.sqrt(s*(s - self.a)*(s - self.b)*(s - self.c))\n",
        "    else:\n",
        "      return \"Invalid\""
      ],
      "metadata": {
        "id": "XzHuCI94xOat"
      },
      "execution_count": null,
      "outputs": []
    },
    {
      "cell_type": "code",
      "source": [
        "a = 2\n",
        "b = 3\n",
        "c = 4\n",
        "T = Triangle(a, b, c)\n",
        "print(T.Is_valid())\n",
        "print(T.Side_Classification())\n",
        "print(T.Angle_Classification())\n",
        "print(T.Area())"
      ],
      "metadata": {
        "colab": {
          "base_uri": "https://localhost:8080/"
        },
        "id": "GdrvLxYv0_Kp",
        "outputId": "12a54eb5-dde0-4f99-e4c8-60710a0555d4"
      },
      "execution_count": null,
      "outputs": [
        {
          "output_type": "stream",
          "name": "stdout",
          "text": [
            "Valid\n",
            "Scalene\n",
            "Obtuse\n",
            "2.9047375096555625\n"
          ]
        }
      ]
    },
    {
      "cell_type": "markdown",
      "source": [
        "## Graded_Assignments"
      ],
      "metadata": {
        "id": "E2BvzqFR8gt1"
      }
    },
    {
      "cell_type": "markdown",
      "source": [
        "### GrPA_1"
      ],
      "metadata": {
        "id": "tcBRPXXq8jnK"
      }
    },
    {
      "cell_type": "code",
      "source": [
        "def find_Min_Difference(L, P):\n",
        "  L.sort()\n",
        "  subset = L[0:0+P]\n",
        "  min_diff = subset[-1] - subset[0]\n",
        "  for i in range(len(L)-P+1):\n",
        "    subset = L[i:i+P]\n",
        "    min_diff = min(subset[-1] - subset[0], min_diff)\n",
        "  return min_diff"
      ],
      "metadata": {
        "id": "p2Ycfz6zDXNP"
      },
      "execution_count": null,
      "outputs": []
    },
    {
      "cell_type": "code",
      "source": [
        "def find_Min_Difference(L, P):\n",
        "  L.sort()\n",
        "  minimum_difference = L[0 + P - 1] - L[0]\n",
        "  for i in range(len(L) - P + 1):\n",
        "    minimum_difference = min(L[i + P - 1] - L[i], minimum_difference)\n",
        "  return minimum_difference"
      ],
      "metadata": {
        "id": "wIEeHHoiCcyK"
      },
      "execution_count": null,
      "outputs": []
    },
    {
      "cell_type": "code",
      "source": [
        "L = [1,2,3,-4,3,2,1,5,-6,7,8,9,10]\n",
        "P = 6\n",
        "\n",
        "print(find_Min_Difference(L, P))"
      ],
      "metadata": {
        "colab": {
          "base_uri": "https://localhost:8080/"
        },
        "id": "me-AZuZA8zNV",
        "outputId": "e9f4924d-135d-4959-daf2-94c9114a47c4"
      },
      "execution_count": null,
      "outputs": [
        {
          "output_type": "stream",
          "name": "stdout",
          "text": [
            "2\n"
          ]
        }
      ]
    },
    {
      "cell_type": "markdown",
      "source": [
        "### GrPA_2"
      ],
      "metadata": {
        "id": "F50rZggxJXg3"
      }
    },
    {
      "cell_type": "code",
      "source": [
        "def Goldbach(n):\n",
        "  \"\"\"Returns list of tuples which is a sum of two prime integers a and b where a <= b\"\"\"\n",
        "  goldbach_list = []\n",
        "  for i in range(2, n):\n",
        "    if(prime(i) == True):\n",
        "      for j in range(i, n):\n",
        "        if(prime(j) == True):\n",
        "          if(i + j == n):\n",
        "            goldbach_list.append((i, j))\n",
        "  \n",
        "  return goldbach_list"
      ],
      "metadata": {
        "id": "_yFUN1phJZhl"
      },
      "execution_count": null,
      "outputs": []
    },
    {
      "cell_type": "code",
      "source": [
        "print(Goldbach(16))\n",
        "print(Goldbach(26))\n",
        "print(Goldbach(12))"
      ],
      "metadata": {
        "colab": {
          "base_uri": "https://localhost:8080/"
        },
        "id": "Y9cWVPnkLN0g",
        "outputId": "1c32b51c-06e0-4283-b742-a74b07f7d0d5"
      },
      "execution_count": null,
      "outputs": [
        {
          "output_type": "stream",
          "name": "stdout",
          "text": [
            "[(3, 13), (5, 11)]\n",
            "[(3, 23), (7, 19), (13, 13)]\n",
            "[(5, 7)]\n"
          ]
        }
      ]
    },
    {
      "cell_type": "markdown",
      "source": [
        "### GrPA_3\n"
      ],
      "metadata": {
        "id": "6kk26uJKN3lj"
      }
    },
    {
      "cell_type": "code",
      "source": [
        "def odd_one(L):\n",
        "  # int, float, bool, str\n",
        "  count = [0, 0, 0, 0]\n",
        "\n",
        "  for i in range(len(L)):\n",
        "    if(type(L[i]) == int):\n",
        "      count[0] += 1\n",
        "    elif(type(L[i]) == float):\n",
        "      count[1] += 1\n",
        "    elif(type(L[i]) == bool):\n",
        "      count[2] += 1\n",
        "    elif(type(L[i]) == str):\n",
        "      count[3] += 1\n",
        "  \n",
        "  if(count.index(1) == 0):\n",
        "    return \"int\"\n",
        "  elif(count.index(1) == 1):\n",
        "    return \"float\"\n",
        "  elif(count.index(1) == 2):\n",
        "    return \"bool\"\n",
        "  else:\n",
        "    return \"str\"\n"
      ],
      "metadata": {
        "id": "aEKhjteXN567"
      },
      "execution_count": null,
      "outputs": []
    },
    {
      "cell_type": "code",
      "source": [
        "print(odd_one([2,13,16,4.5]))\n",
        "print(odd_one([1.5,2.0,3.6,1,2.6,8.6]))\n",
        "print(odd_one([2,3,4,5,6,7,'1']))"
      ],
      "metadata": {
        "colab": {
          "base_uri": "https://localhost:8080/"
        },
        "id": "I1ftjXBMPN79",
        "outputId": "b441745d-dfea-48a7-eb86-8a3e9a40bfbd"
      },
      "execution_count": null,
      "outputs": [
        {
          "output_type": "stream",
          "name": "stdout",
          "text": [
            "float\n",
            "int\n",
            "str\n"
          ]
        }
      ]
    },
    {
      "cell_type": "markdown",
      "source": [
        "## Subjective_Assignments"
      ],
      "metadata": {
        "id": "VWpBNUetSFh8"
      }
    },
    {
      "cell_type": "code",
      "source": [
        "x = range(5)\n",
        "s = 0\n",
        "for i in x:\n",
        "  s += i\n",
        "\n",
        "print(i)"
      ],
      "metadata": {
        "colab": {
          "base_uri": "https://localhost:8080/"
        },
        "id": "VKCFY0KjQgso",
        "outputId": "fcc36a5e-1b1a-4f0b-cc29-59dd86cf2698"
      },
      "execution_count": null,
      "outputs": [
        {
          "output_type": "stream",
          "name": "stdout",
          "text": [
            "4\n"
          ]
        }
      ]
    },
    {
      "cell_type": "code",
      "source": [
        "def f(n):\n",
        "  s = 0\n",
        "  for i in range(2, n):\n",
        "    if n%i == 0 and i%2 == 1:\n",
        "      s += 1\n",
        "  return s"
      ],
      "metadata": {
        "id": "OyAdFzPiSKUg"
      },
      "execution_count": null,
      "outputs": []
    },
    {
      "cell_type": "code",
      "source": [
        "print(f(60) - f(59))"
      ],
      "metadata": {
        "colab": {
          "base_uri": "https://localhost:8080/"
        },
        "id": "ILeZk8GbScp5",
        "outputId": "8ea015ed-ec57-4695-c3b6-703df4e2b1b3"
      },
      "execution_count": null,
      "outputs": [
        {
          "output_type": "stream",
          "name": "stdout",
          "text": [
            "3\n"
          ]
        }
      ]
    },
    {
      "cell_type": "code",
      "source": [
        "class Person:\n",
        "  def __init__(self, name):\n",
        "    self.name = name\n",
        "  def say_hi(self):\n",
        "    print(\"Hello,\", self.name)"
      ],
      "metadata": {
        "id": "5gtzBFq1Shdo"
      },
      "execution_count": null,
      "outputs": []
    },
    {
      "cell_type": "code",
      "source": [
        "P = Person(\"Good Morning\")\n",
        "P.say_hi()"
      ],
      "metadata": {
        "colab": {
          "base_uri": "https://localhost:8080/"
        },
        "id": "S1nc6K41S341",
        "outputId": "0e9ced41-0b5e-40a2-c3e8-69cf1a5f3378"
      },
      "execution_count": null,
      "outputs": [
        {
          "output_type": "stream",
          "name": "stdout",
          "text": [
            "Hello, Good Morning\n"
          ]
        }
      ]
    },
    {
      "cell_type": "code",
      "source": [
        "a = [1,2,3]\n",
        "\n",
        "try:\n",
        "  print(\"Second Element:\", a[1])\n",
        "  print(\"Fourth Element:\", a[3])\n",
        "except IndexError:\n",
        "  print(\"An Index Error Occurred\")"
      ],
      "metadata": {
        "colab": {
          "base_uri": "https://localhost:8080/"
        },
        "id": "X-s_m9FNTX8-",
        "outputId": "290cc2c1-f8ba-4c74-a298-5a25aa44ea62"
      },
      "execution_count": null,
      "outputs": [
        {
          "output_type": "stream",
          "name": "stdout",
          "text": [
            "Second Element: 2\n",
            "An Index Error Occurred\n"
          ]
        }
      ]
    },
    {
      "cell_type": "code",
      "source": [
        "def special3Bad(L):\n",
        "  try:\n",
        "    if L[0] % L[1] == 0 and L[1] != 0: \n",
        "      if L[0] / (L[1] ** 2 - L[2]) == 0:\n",
        "        return True\n",
        "    return False\n",
        "  except ZeroDivisionError:\n",
        "    print('ZeroDivisionError')\n",
        "  except:\n",
        "    print('Some other exception occurred')\n",
        "  else:\n",
        "    print('No exception occurred')\n",
        "\n",
        "L = [4, 2, 8]\n",
        "special3Bad (L)"
      ],
      "metadata": {
        "colab": {
          "base_uri": "https://localhost:8080/"
        },
        "id": "LxA-3_bSUDBQ",
        "outputId": "5ab91948-fcd8-494d-a479-60676ad03e0f"
      },
      "execution_count": null,
      "outputs": [
        {
          "output_type": "execute_result",
          "data": {
            "text/plain": [
              "False"
            ]
          },
          "metadata": {},
          "execution_count": 99
        }
      ]
    },
    {
      "cell_type": "code",
      "source": [
        "def isSymmetricBad(L):\n",
        "  try:\n",
        "    while len(L) > 0:\n",
        "      if L.pop(0) != L.pop(-1):\n",
        "        return False\n",
        "    return True\n",
        "\n",
        "  except IndexError:\n",
        "    print('IndexError')\n",
        "  except:\n",
        "    print('some other exception occurred')\n",
        "  else:\n",
        "    print('No exception occurred')\n",
        "L = [2, 4, 6]\n",
        "isSymmetricBad (L)"
      ],
      "metadata": {
        "colab": {
          "base_uri": "https://localhost:8080/"
        },
        "id": "u4Li5lupVV2Y",
        "outputId": "7303a81c-8d0e-454c-d491-de5eb0e456ea"
      },
      "execution_count": null,
      "outputs": [
        {
          "output_type": "execute_result",
          "data": {
            "text/plain": [
              "False"
            ]
          },
          "metadata": {},
          "execution_count": 105
        }
      ]
    },
    {
      "cell_type": "code",
      "source": [
        "def gcd (m, n):\n",
        "  print(\"I was called\")\n",
        "  (a,b) = (max (m, n), min(m, n))\n",
        "  if a % b == 0:\n",
        "    return(b)\n",
        "  else:\n",
        "    return(gcd (b, a % b))\n",
        "\n",
        "print (gcd(24,130))"
      ],
      "metadata": {
        "colab": {
          "base_uri": "https://localhost:8080/"
        },
        "id": "Ay5IonN_WCzG",
        "outputId": "fb1c4749-5b50-4f98-bfda-0858ca89f48c"
      },
      "execution_count": null,
      "outputs": [
        {
          "output_type": "stream",
          "name": "stdout",
          "text": [
            "I was called\n",
            "I was called\n",
            "I was called\n",
            "I was called\n",
            "2\n"
          ]
        }
      ]
    }
  ]
}