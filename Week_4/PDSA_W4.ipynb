{
  "nbformat": 4,
  "nbformat_minor": 0,
  "metadata": {
    "colab": {
      "provenance": [],
      "toc_visible": true,
      "authorship_tag": "ABX9TyOV+1cgB58q119WwZFWT/eX",
      "include_colab_link": true
    },
    "kernelspec": {
      "name": "python3",
      "display_name": "Python 3"
    },
    "language_info": {
      "name": "python"
    }
  },
  "cells": [
    {
      "cell_type": "markdown",
      "metadata": {
        "id": "view-in-github",
        "colab_type": "text"
      },
      "source": [
        "<a href=\"https://colab.research.google.com/github/Ashrockzzz2003/DSA_NoteBooks/blob/main/Week_4/PDSA_W4.ipynb\" target=\"_parent\"><img src=\"https://colab.research.google.com/assets/colab-badge.svg\" alt=\"Open In Colab\"/></a>"
      ]
    },
    {
      "cell_type": "markdown",
      "source": [
        "# Graphs\n",
        "\n",
        "- Useful way to visualise a relation.\n",
        "- Examples\n",
        "  - Friendships\n",
        "  - Teachers and Courses\n",
        "\n",
        "\n",
        "\n",
        "- $G = (V, E)$\n",
        "- Set of vertices or nodes.\n",
        "  - One vertex, many vertices\n",
        "- $E$ is a set of edges\n",
        "- $E ⊆ V × V$\n",
        "- A sequence that revisit a vertex is a `path`.\n",
        "\n",
        "## Types\n",
        "\n",
        "- Directed Graph\n",
        "- Undirected Graph"
      ],
      "metadata": {
        "id": "xjAq5nJoCp8c"
      }
    },
    {
      "cell_type": "markdown",
      "source": [
        "## Examples"
      ],
      "metadata": {
        "id": "iZNm-yL-F338"
      }
    },
    {
      "cell_type": "markdown",
      "source": [
        "### Graph Coloring Problem\n",
        "\n",
        "- $G = (V, E)$, set of colors $C$.\n",
        "- Smallest set of colors that we need to color G such that no two adjacent vertices have the same color.\n",
        "- Planar Graph\n",
        "  - No two edges cross each other.\n",
        "  - Can always color with 4 colors.\n",
        "  - Not all graphs are planar. General case?"
      ],
      "metadata": {
        "id": "fbxisRzrE9Lv"
      }
    },
    {
      "cell_type": "markdown",
      "source": [
        "### How many classrooms do we need?\n",
        "\n",
        "- Courses and timetable slots, edges represent overlapping slots.\n",
        "- Colors are classrooms."
      ],
      "metadata": {
        "id": "hNClcFwGFopG"
      }
    },
    {
      "cell_type": "markdown",
      "source": [
        "### Security Cameras\n",
        "\n",
        "- A hotel wants to install security cameras.\n",
        "  - All corridors are straight lines.\n",
        "  - Camera can monior all corridors that meet at an intersection.\n",
        "\n",
        "- Minimum number of cameras needed?\n",
        "\n",
        "### Solution\n",
        "\n",
        "- Represent the floor plan as a graph.\n",
        "  - $V$ - intersection of corridors\n",
        "  - $E$ - corridor segments connecting intersections.\n",
        "- Vertex Cover\n",
        "  - Marking $v$ covers all edges from $v$\n",
        "  - Mark smallest subset $V$ to cover all edges."
      ],
      "metadata": {
        "id": "n6djgec1GL6g"
      }
    },
    {
      "cell_type": "markdown",
      "source": [
        "### Dance School\n",
        "\n",
        "- A dance school puts up group dances.\n",
        "  - Each dance has a set of dances.\n",
        "  - Sets of dancers may overlap across dances.\n",
        "\n",
        "- Organizing a cultural programme.\n",
        "  - Each dancer performs at most once.\n",
        "  - Maximum number of dances possible.\n",
        "\n",
        "### Solution\n",
        "- Represent the dances as a graph.\n",
        "  - $V$ - Dances\n",
        "  - $E$ - Sets of dances overlap\n",
        "- Independent set\n",
        "  - Subset of vertices such that no two are connected by an edge."
      ],
      "metadata": {
        "id": "tHizRKHcG3Nd"
      }
    },
    {
      "cell_type": "markdown",
      "source": [
        "### Matching\n",
        "\n",
        "- Class Project\n",
        "  - If two people, they must be friend.\n",
        "\n",
        "- Assume we have a graph describing friendships.\n",
        "- Find a good allocation of groups.\n",
        "- Matching\n",
        "  - $ G = (V, E)$, an indirected graph\n",
        "  - A $matching$ is a subset $M ⊆ E$ of mutually disjoint edges.\n",
        "- Find a maximal matching in $G$.\n",
        "- Is there a perfect matching that covers all edges?"
      ],
      "metadata": {
        "id": "mP5JqGoHHz1Y"
      }
    },
    {
      "cell_type": "markdown",
      "source": [
        "## Representing Graphs\n",
        "\n",
        "- Working with graphs.\n",
        "- How do we represent these graphs computationally?\n",
        "\n",
        "- Let $|V| = n$\n",
        "  - Assume $V = {0,1,2...n-1}$\n",
        "  - Use a table to map actual vertex to this set.\n",
        "\n",
        "- Edges are now pairs $(i, j)$ where $0 <= i,j < n$\n",
        "  - Also $i != j$, no self loops.\n",
        "\n"
      ],
      "metadata": {
        "id": "3U9rUDmyIu2o"
      }
    },
    {
      "cell_type": "markdown",
      "source": [
        "### Adjacency Matrix\n",
        "- Rows and columns numbered {$0, 1, 2...n-1$}\n",
        "- $A[i,j] = 1$ if $(i,j)\\in E$\n",
        "\n",
        "![image.png](data:image/png;base64,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)\n"
      ],
      "metadata": {
        "id": "fUeXOwlNJuFD"
      }
    },
    {
      "cell_type": "code",
      "execution_count": 27,
      "metadata": {
        "id": "hmxQ6xabCJQQ",
        "colab": {
          "base_uri": "https://localhost:8080/"
        },
        "outputId": "d35a55c7-15b4-4788-d4cb-a521a9bfb7eb"
      },
      "outputs": [
        {
          "output_type": "stream",
          "name": "stdout",
          "text": [
            "[[0. 1. 0. 0. 1. 0. 0. 0. 0. 0.]\n",
            " [0. 0. 1. 0. 0. 0. 0. 0. 0. 0.]\n",
            " [1. 0. 0. 0. 0. 0. 0. 0. 0. 0.]\n",
            " [0. 0. 0. 0. 1. 0. 1. 0. 0. 0.]\n",
            " [1. 0. 0. 1. 0. 0. 0. 1. 0. 0.]\n",
            " [0. 0. 0. 1. 0. 0. 0. 1. 0. 0.]\n",
            " [0. 0. 0. 0. 0. 1. 0. 0. 0. 0.]\n",
            " [0. 0. 0. 0. 1. 0. 0. 0. 1. 0.]\n",
            " [0. 0. 0. 0. 0. 1. 0. 0. 0. 1.]\n",
            " [0. 0. 0. 0. 0. 0. 0. 0. 1. 0.]]\n"
          ]
        }
      ],
      "source": [
        "edges = [(0, 1), (0, 4), (1, 2), (2, 0), (3, 4), (3, 6), (4, 0), (4, 3), (4, 7), (5, 3), (5, 7), (6, 5), (7, 4), (7, 8), (8, 5), (8, 9), (9, 8)]\n",
        "\n",
        "import numpy as np\n",
        "A = np.zeros(shape = (10, 10))\n",
        "\n",
        "for (i, j) in edges:\n",
        "  A[i, j] = 1\n",
        "\n",
        "print(A)"
      ]
    },
    {
      "cell_type": "markdown",
      "source": [
        "### Undirected_Graph\n",
        "\n",
        "- $A[i, j] = 1$ if $A[j, i] = 1$\n",
        "- Symmetric across main diagonal"
      ],
      "metadata": {
        "id": "2YRSag6QHJkC"
      }
    },
    {
      "cell_type": "code",
      "source": [
        "edges = [(0, 1), (0, 4), (1, 2), (2, 0), (3, 4), (3, 6), (4, 0), (4, 3), (4, 7), (5, 3), (5, 7), (6, 5), (7, 4), (7, 8), (8, 5), (8, 9), (9, 8)]\n",
        "\n",
        "import numpy as np\n",
        "A = np.zeros(shape = (10, 10))\n",
        "\n",
        "for (i, j) in edges:\n",
        "  A[i, j] = 1\n",
        "  A[j, i] = 1\n",
        "\n",
        "print(A)"
      ],
      "metadata": {
        "colab": {
          "base_uri": "https://localhost:8080/"
        },
        "id": "fI5cARRTHU5M",
        "outputId": "e6113d76-82d9-4be0-d808-675e1424ce1e"
      },
      "execution_count": 28,
      "outputs": [
        {
          "output_type": "stream",
          "name": "stdout",
          "text": [
            "[[0. 1. 1. 0. 1. 0. 0. 0. 0. 0.]\n",
            " [1. 0. 1. 0. 0. 0. 0. 0. 0. 0.]\n",
            " [1. 1. 0. 0. 0. 0. 0. 0. 0. 0.]\n",
            " [0. 0. 0. 0. 1. 1. 1. 0. 0. 0.]\n",
            " [1. 0. 0. 1. 0. 0. 0. 1. 0. 0.]\n",
            " [0. 0. 0. 1. 0. 0. 1. 1. 1. 0.]\n",
            " [0. 0. 0. 1. 0. 1. 0. 0. 0. 0.]\n",
            " [0. 0. 0. 0. 1. 1. 0. 0. 1. 0.]\n",
            " [0. 0. 0. 0. 0. 1. 0. 1. 0. 1.]\n",
            " [0. 0. 0. 0. 0. 0. 0. 0. 1. 0.]]\n"
          ]
        }
      ]
    },
    {
      "cell_type": "markdown",
      "source": [
        "### Neighbours\n",
        "\n",
        "- Neighbours of $i$ - column $j$ with entry 1."
      ],
      "metadata": {
        "id": "Uxz5dNt6HZs7"
      }
    },
    {
      "cell_type": "code",
      "source": [
        "def neighbours(A, i):\n",
        "  nbrs = []\n",
        "  (rows, cols) = A.shape\n",
        "  for j in range(cols):\n",
        "    if A[i, j] == 1:\n",
        "      nbrs.append(j)\n",
        "  \n",
        "  return nbrs"
      ],
      "metadata": {
        "id": "9lwEgLCWHg2Z"
      },
      "execution_count": 29,
      "outputs": []
    },
    {
      "cell_type": "code",
      "source": [
        "edges = [(0, 1), (0, 4), (1, 2), (2, 0), (3, 4), (3, 6), (4, 0), (4, 3), (4, 7), (5, 3), (5, 7), (6, 5), (7, 4), (7, 8), (8, 5), (8, 9), (9, 8)]\n",
        "\n",
        "import numpy as np\n",
        "A = np.zeros(shape = (10, 10))\n",
        "\n",
        "for (i, j) in edges:\n",
        "  A[i, j] = 1\n",
        "\n",
        "print(A)\n",
        "neighbours(A, 4)"
      ],
      "metadata": {
        "colab": {
          "base_uri": "https://localhost:8080/"
        },
        "id": "gqdl_M-aH2bn",
        "outputId": "6edf32ff-1ee7-4886-fd77-f682101f68e7"
      },
      "execution_count": 30,
      "outputs": [
        {
          "output_type": "stream",
          "name": "stdout",
          "text": [
            "[[0. 1. 0. 0. 1. 0. 0. 0. 0. 0.]\n",
            " [0. 0. 1. 0. 0. 0. 0. 0. 0. 0.]\n",
            " [1. 0. 0. 0. 0. 0. 0. 0. 0. 0.]\n",
            " [0. 0. 0. 0. 1. 0. 1. 0. 0. 0.]\n",
            " [1. 0. 0. 1. 0. 0. 0. 1. 0. 0.]\n",
            " [0. 0. 0. 1. 0. 0. 0. 1. 0. 0.]\n",
            " [0. 0. 0. 0. 0. 1. 0. 0. 0. 0.]\n",
            " [0. 0. 0. 0. 1. 0. 0. 0. 1. 0.]\n",
            " [0. 0. 0. 0. 0. 1. 0. 0. 0. 1.]\n",
            " [0. 0. 0. 0. 0. 0. 0. 0. 1. 0.]]\n"
          ]
        },
        {
          "output_type": "execute_result",
          "data": {
            "text/plain": [
              "[0, 3, 7]"
            ]
          },
          "metadata": {},
          "execution_count": 30
        }
      ]
    },
    {
      "cell_type": "markdown",
      "source": [
        "### Directed_Graph\n",
        "\n",
        "- Rows represent outgoing edges.\n",
        "- Columns represent incoming edges."
      ],
      "metadata": {
        "id": "MfogXDqfISKd"
      }
    },
    {
      "cell_type": "markdown",
      "source": [
        "### Degree Of A Vertex i\n",
        "\n",
        "- Number of edges incident on $i$\n",
        "- $degree(6) = 2$\n",
        "- For Directed graphs\n",
        "  - OutDegree\n",
        "  - InDegree"
      ],
      "metadata": {
        "id": "kvYs0AUyI2gG"
      }
    },
    {
      "cell_type": "markdown",
      "source": [
        "### Checking_Reachability\n",
        "\n",
        "- Is $Delhi(0)$ reachable from $Madurai(9)$\n",
        "- Mark 9 as reachable\n",
        "- Mark each neighbour of 9 as reachable\n",
        "- Systematically mark neighbours of marked vertices.\n",
        "- If marking process stops without target being marked, target is unreachable otherwise reachable."
      ],
      "metadata": {
        "id": "IAnztqC0JUr3"
      }
    },
    {
      "cell_type": "markdown",
      "source": [
        "#### Approaches\n",
        "  1. BFS(Breadth First Search)\n",
        "    - Propagate marks in layers\n",
        "  2. DFS(Depth First Search)\n",
        "    - Explore a path till it dies out, then backtrack."
      ],
      "metadata": {
        "id": "9-eChlwyKZJN"
      }
    },
    {
      "cell_type": "markdown",
      "source": [
        "#### Adjacency_List\n",
        "\n",
        "- List of neighbours for each vertex"
      ],
      "metadata": {
        "id": "xoItGyTwKSY-"
      }
    },
    {
      "cell_type": "code",
      "source": [
        "edges = [(0, 1), (0, 4), (1, 2), (2, 0), (3, 4), (3, 6), (4, 0), (4, 3), (4, 7), (5, 3), (5, 7), (6, 5), (7, 4), (7, 8), (8, 5), (8, 9), (9, 8)]\n",
        "\n",
        "import numpy as np\n",
        "A = np.zeros(shape = (10, 10))\n",
        "\n",
        "for (i, j) in edges:\n",
        "  A[i, j] = 1\n",
        "\n",
        "print(\"Adjacency List\\n\")\n",
        "\n",
        "adjacency_list = {}\n",
        "for i in range(len(A)):\n",
        "  adjacency_list[i] = []\n",
        "\n",
        "for (i,j) in edges:\n",
        "  adjacency_list[i].append(j)\n",
        "\n",
        "print(adjacency_list)"
      ],
      "metadata": {
        "colab": {
          "base_uri": "https://localhost:8080/"
        },
        "id": "Wk7dS1wZIZqm",
        "outputId": "cbf5ba3a-5950-459c-ee38-51456c602acd"
      },
      "execution_count": 31,
      "outputs": [
        {
          "output_type": "stream",
          "name": "stdout",
          "text": [
            "Adjacency List\n",
            "\n",
            "{0: [1, 4], 1: [2], 2: [0], 3: [4, 6], 4: [0, 3, 7], 5: [3, 7], 6: [5], 7: [4, 8], 8: [5, 9], 9: [8]}\n"
          ]
        }
      ]
    },
    {
      "cell_type": "markdown",
      "source": [
        "## Breadth_First_Search\n",
        "\n",
        "- propagate marks in $layers$\n",
        "- Explore the graph level by level\n",
        "  - First visit vertices one step away\n",
        "  - Then two steps away\n",
        "  - ...\n",
        "- Each Visited vertex has to be explored\n",
        "  - Extend the search to its neighbours\n",
        "  - Do this only once for each vertex\n",
        "- Maintain information about vertices\n",
        "  - Which vertices have been visited already\n"
      ],
      "metadata": {
        "id": "TyG_Q7L2MNnS"
      }
    },
    {
      "cell_type": "markdown",
      "source": [
        "### Algorithm\n",
        "\n",
        "- Assume $V = {0, 1,...n-1}$\n",
        "- $visited$ : $V → [True, False]$ tells us whether $v \\in V$ has been visited.\n",
        "  - Initially, $cisited(v) = False$ for all $v \\in V$.\n",
        "- Maintain a sequence of visited vertices yet be explored.\n",
        "  - A $queue$, first in first out\n",
        "  - Initially empty"
      ],
      "metadata": {
        "id": "iS2mzS3LNAZc"
      }
    },
    {
      "cell_type": "markdown",
      "source": [
        "#### Queue"
      ],
      "metadata": {
        "id": "0epHzItPPwvu"
      }
    },
    {
      "cell_type": "code",
      "source": [
        "class Queue:\n",
        "  def __init__(self):\n",
        "    self.queue = []\n",
        "  \n",
        "  def addq(self, v):\n",
        "    self.queue.append(v)\n",
        "  \n",
        "  def delq(self):\n",
        "    v = None\n",
        "    if not self.isempty():\n",
        "      v = self.queue[0]\n",
        "      self.queue = self.queue[1:]\n",
        "    return v\n",
        "  \n",
        "  def isempty(self):\n",
        "    return self.queue == []\n",
        "  \n",
        "  def __str__(self):\n",
        "    return(str(self.queue))"
      ],
      "metadata": {
        "id": "pCOyOMNkMTa_"
      },
      "execution_count": 32,
      "outputs": []
    },
    {
      "cell_type": "code",
      "source": [
        "q = Queue()\n",
        "\n",
        "for i in range(3):\n",
        "  q.addq(i)\n",
        "  print(q)\n",
        "  \n",
        "print(q.isempty())\n",
        "\n",
        "for j in range(3):\n",
        "  print(q.delq(), q)\n",
        "\n",
        "print(q.isempty())"
      ],
      "metadata": {
        "colab": {
          "base_uri": "https://localhost:8080/"
        },
        "id": "RUgm5bkaPz2I",
        "outputId": "ac6bc807-e6f8-4b81-fcc0-3255fb87f42e"
      },
      "execution_count": 33,
      "outputs": [
        {
          "output_type": "stream",
          "name": "stdout",
          "text": [
            "[0]\n",
            "[0, 1]\n",
            "[0, 1, 2]\n",
            "False\n",
            "0 [1, 2]\n",
            "1 [2]\n",
            "2 []\n",
            "True\n"
          ]
        }
      ]
    },
    {
      "cell_type": "markdown",
      "source": [
        "### Implementation\n",
        "\n",
        "- Exploring a vertex $i$\n",
        "  - For each edge $(i, j)$ if $visited(j)$ is $False$\n",
        "    - Set $visited(j)$ to True\n",
        "    - Append $j$ to queue\n",
        "  \n",
        "- Intially\n",
        "  - $visited(v) = False$ for all $v \\in V$\n",
        "  - Queue of vertices to be explored is empty.\n",
        "\n",
        "- Start $BFS$ from $j$\n",
        "  - Set $visited(j) = True$\n",
        "  - Append $j$ to the queue\n",
        "\n",
        "- Remove and explore vertex $i$ at head of queue.\n",
        "  - For each edge $(i, j)$ if $visited(j) = False$,\n",
        "    - Set $visited(j) = True$\n",
        "    - Append $j$ to the queue."
      ],
      "metadata": {
        "id": "dPSmxG2oQhTQ"
      }
    },
    {
      "cell_type": "code",
      "source": [
        "def BFS(A, v):\n",
        "  \"\"\"Returns reachable vertices from vertex v\"\"\"\n",
        "  (rows, cols) = A.shape\n",
        "  visited = {}\n",
        "  for i in range(rows):\n",
        "    visited[i] = False\n",
        "  \n",
        "  q = Queue()\n",
        "\n",
        "  visited[v] = True\n",
        "  q.addq(v)\n",
        "\n",
        "  while(not q.isempty()):\n",
        "    j = q.delq()\n",
        "    for k in neighbours(A, j):\n",
        "      if(not visited[k]):\n",
        "        visited[k] = True\n",
        "        q.addq(k)\n",
        "  \n",
        "  return visited"
      ],
      "metadata": {
        "id": "WUbljEH_RNwA"
      },
      "execution_count": 34,
      "outputs": []
    },
    {
      "cell_type": "code",
      "source": [
        "edges = [(0, 1), (0, 4), (1, 2), (2, 0), (3, 4), (3, 6), (4, 0), (4, 3), (4, 7), (5, 3), (5, 7), (6, 5), (7, 4), (7, 8), (8, 5), (8, 9), (9, 8)]\n",
        "\n",
        "import numpy as np\n",
        "A = np.zeros(shape = (10, 10))\n",
        "\n",
        "for (i, j) in edges:\n",
        "  A[i, j] = 1\n",
        "\n",
        "# BFS from vertex 7\n",
        "print(BFS(A, 7))"
      ],
      "metadata": {
        "colab": {
          "base_uri": "https://localhost:8080/"
        },
        "id": "aHdHoUalS6cW",
        "outputId": "9aec2ea0-4a2d-42bb-c161-40ab92ea179e"
      },
      "execution_count": 35,
      "outputs": [
        {
          "output_type": "stream",
          "name": "stdout",
          "text": [
            "{0: True, 1: True, 2: True, 3: True, 4: True, 5: True, 6: True, 7: True, 8: True, 9: True}\n"
          ]
        }
      ]
    },
    {
      "cell_type": "markdown",
      "source": [
        "### Complexity of BFS\n",
        "\n",
        "- $G = (V, E)$\n",
        "  - $|V| = n$\n",
        "  - $|E| = m$\n",
        "  - If $G$ is connected, $m$ can vary from $n-1$ ro $n(n-1)/2$\n",
        "\n",
        "- In BFS, each reachable vertex is processed exactly once\n",
        "  - Visit the vertex: add to queue\n",
        "  - Expore the vertex: remove from queue\n",
        "  - Visit and explore at most n vertices.\n",
        "\n",
        "- BFS with Adjacency matrix: $O(n^2)$\n",
        "- BFS with Adjacency List:\n",
        "  - $n$ steps to initialize each vertex.\n",
        "  - $2m$ steps to explore all vertices\n",
        "    - Example of $amortized$ analysis.\n",
        "  - $O(n + m)$"
      ],
      "metadata": {
        "id": "rq8oGBSZTcJH"
      }
    },
    {
      "cell_type": "markdown",
      "source": [
        "### Enhancing BFS to record paths\n",
        "\n",
        "- a path from $i → k$."
      ],
      "metadata": {
        "id": "EzeZNID7VBjJ"
      }
    },
    {
      "cell_type": "code",
      "source": [
        "def BFS_List_Path(adjacency_list, v):\n",
        "  (visited, parent) = ({}, {})\n",
        "  for i in adjacency_list.keys():\n",
        "    visited[i] = False\n",
        "    parent[i] = -1 # No Parent\n",
        "  q = Queue()\n",
        "\n",
        "  visited[v] = True\n",
        "  q.addq(v)\n",
        "\n",
        "  while(not q.isempty()):\n",
        "    j = q.delq()\n",
        "    for k in adjacency_list[j]:\n",
        "      if(not visited[k]):\n",
        "        visited[k] = True\n",
        "        parent[k] = j\n",
        "        q.addq(k)\n",
        "  \n",
        "  # From k, follow parent links to trace back a path to i\n",
        "  return (visited, parent)"
      ],
      "metadata": {
        "id": "8HV8E4gxTeq9"
      },
      "execution_count": 36,
      "outputs": []
    },
    {
      "cell_type": "code",
      "source": [
        "edges = [(0, 1), (0, 4), (1, 2), (2, 0), (3, 4), (3, 6), (4, 0), (4, 3), (4, 7), (5, 3), (5, 7), (6, 5), (7, 4), (7, 8), (8, 5), (8, 9), (9, 8)]\n",
        "\n",
        "import numpy as np\n",
        "A = np.zeros(shape = (10, 10))\n",
        "\n",
        "for (i, j) in edges:\n",
        "  A[i, j] = 1\n",
        "\n",
        "adjacency_list = {}\n",
        "for i in range(len(A)):\n",
        "  adjacency_list[i] = []\n",
        "\n",
        "for (i,j) in edges:\n",
        "  adjacency_list[i].append(j)\n",
        "\n",
        "# BFS from vertex 7\n",
        "print(BFS_List_Path(adjacency_list, 7))"
      ],
      "metadata": {
        "colab": {
          "base_uri": "https://localhost:8080/"
        },
        "id": "tLg2jZjuWE59",
        "outputId": "26fef17c-94b0-468f-c1cc-75765027790e"
      },
      "execution_count": 38,
      "outputs": [
        {
          "output_type": "stream",
          "name": "stdout",
          "text": [
            "({0: True, 1: True, 2: True, 3: True, 4: True, 5: True, 6: True, 7: True, 8: True, 9: True}, {0: 4, 1: 0, 2: 1, 3: 4, 4: 7, 5: 8, 6: 3, 7: -1, 8: 7, 9: 8})\n"
          ]
        }
      ]
    },
    {
      "cell_type": "markdown",
      "source": [
        "### Enhancing BFS to search Distance\n",
        "\n",
        "- BFS explores neighbour level by level.\n",
        "- By recording the level at which a vertex is visited, we get its distance from the source vertex\n",
        "- Instead of visited(j), maintain level(j)."
      ],
      "metadata": {
        "id": "Yc3vg6yqWn6y"
      }
    },
    {
      "cell_type": "code",
      "source": [
        "def BFS_List_Path_Level(adjacency_list, v):\n",
        "  (level, parent) = ({}, {})\n",
        "  for i in adjacency_list.keys():\n",
        "    level[i] = -1\n",
        "    parent[i] = -1\n",
        "  \n",
        "  q = Queue()\n",
        "\n",
        "  level[v] = 0\n",
        "  q.addq(v)\n",
        "\n",
        "  while(not q.isempty()):\n",
        "    j = q.delq()\n",
        "    for k in adjacency_list[j]:\n",
        "      if(level[k] == -1):\n",
        "        level[k] = level[j] + 1\n",
        "        parent[k] = j\n",
        "        q.addq(k)\n",
        "  \n",
        "  return (level, parent)"
      ],
      "metadata": {
        "id": "dzt5qV7eW5pK"
      },
      "execution_count": 39,
      "outputs": []
    },
    {
      "cell_type": "code",
      "source": [
        "edges = [(0, 1), (0, 4), (1, 2), (2, 0), (3, 4), (3, 6), (4, 0), (4, 3), (4, 7), (5, 3), (5, 7), (6, 5), (7, 4), (7, 8), (8, 5), (8, 9), (9, 8)]\n",
        "\n",
        "import numpy as np\n",
        "A = np.zeros(shape = (10, 10))\n",
        "\n",
        "for (i, j) in edges:\n",
        "  A[i, j] = 1\n",
        "\n",
        "adjacency_list = {}\n",
        "for i in range(len(A)):\n",
        "  adjacency_list[i] = []\n",
        "\n",
        "for (i,j) in edges:\n",
        "  adjacency_list[i].append(j)\n",
        "\n",
        "# BFS from vertex 7\n",
        "print(BFS_List_Path_Level(adjacency_list, 7))"
      ],
      "metadata": {
        "colab": {
          "base_uri": "https://localhost:8080/"
        },
        "id": "HtT5TBz0XZ3W",
        "outputId": "086ab674-c472-4f40-85e2-bfdc75c9641d"
      },
      "execution_count": 40,
      "outputs": [
        {
          "output_type": "stream",
          "name": "stdout",
          "text": [
            "({0: 2, 1: 3, 2: 4, 3: 2, 4: 1, 5: 2, 6: 3, 7: 0, 8: 1, 9: 2}, {0: 4, 1: 0, 2: 1, 3: 4, 4: 7, 5: 8, 6: 3, 7: -1, 8: 7, 9: 8})\n"
          ]
        }
      ]
    }
  ]
}