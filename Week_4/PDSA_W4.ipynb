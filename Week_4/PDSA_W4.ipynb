{
  "nbformat": 4,
  "nbformat_minor": 0,
  "metadata": {
    "colab": {
      "provenance": [],
      "toc_visible": true,
      "authorship_tag": "ABX9TyNoTh8GSoBH/EaJ3wbM69kU",
      "include_colab_link": true
    },
    "kernelspec": {
      "name": "python3",
      "display_name": "Python 3"
    },
    "language_info": {
      "name": "python"
    }
  },
  "cells": [
    {
      "cell_type": "markdown",
      "metadata": {
        "id": "view-in-github",
        "colab_type": "text"
      },
      "source": [
        "<a href=\"https://colab.research.google.com/github/Ashrockzzz2003/DSA_NoteBooks/blob/main/Week_4/PDSA_W4.ipynb\" target=\"_parent\"><img src=\"https://colab.research.google.com/assets/colab-badge.svg\" alt=\"Open In Colab\"/></a>"
      ]
    },
    {
      "cell_type": "markdown",
      "source": [
        "# Graphs\n",
        "\n",
        "- Useful way to visualise a relation.\n",
        "- Examples\n",
        "  - Friendships\n",
        "  - Teachers and Courses\n",
        "\n",
        "\n",
        "\n",
        "- $G = (V, E)$\n",
        "- Set of vertices or nodes.\n",
        "  - One vertex, many vertices\n",
        "- $E$ is a set of edges\n",
        "- $E ⊆ V × V$\n",
        "- A sequence that revisit a vertex is a `path`.\n",
        "\n",
        "## Types\n",
        "\n",
        "- Directed Graph\n",
        "- Undirected Graph"
      ],
      "metadata": {
        "id": "xjAq5nJoCp8c"
      }
    },
    {
      "cell_type": "markdown",
      "source": [
        "## Examples"
      ],
      "metadata": {
        "id": "iZNm-yL-F338"
      }
    },
    {
      "cell_type": "markdown",
      "source": [
        "### Graph Coloring Problem\n",
        "\n",
        "- $G = (V, E)$, set of colors $C$.\n",
        "- Smallest set of colors that we need to color G such that no two adjacent vertices have the same color.\n",
        "- Planar Graph\n",
        "  - No two edges cross each other.\n",
        "  - Can always color with 4 colors.\n",
        "  - Not all graphs are planar. General case?"
      ],
      "metadata": {
        "id": "fbxisRzrE9Lv"
      }
    },
    {
      "cell_type": "markdown",
      "source": [
        "### How many classrooms do we need?\n",
        "\n",
        "- Courses and timetable slots, edges represent overlapping slots.\n",
        "- Colors are classrooms."
      ],
      "metadata": {
        "id": "hNClcFwGFopG"
      }
    },
    {
      "cell_type": "markdown",
      "source": [
        "### Security Cameras\n",
        "\n",
        "- A hotel wants to install security cameras.\n",
        "  - All corridors are straight lines.\n",
        "  - Camera can monior all corridors that meet at an intersection.\n",
        "\n",
        "- Minimum number of cameras needed?\n",
        "\n",
        "### Solution\n",
        "\n",
        "- Represent the floor plan as a graph.\n",
        "  - $V$ - intersection of corridors\n",
        "  - $E$ - corridor segments connecting intersections.\n",
        "- Vertex Cover\n",
        "  - Marking $v$ covers all edges from $v$\n",
        "  - Mark smallest subset $V$ to cover all edges."
      ],
      "metadata": {
        "id": "n6djgec1GL6g"
      }
    },
    {
      "cell_type": "markdown",
      "source": [
        "### Dance School\n",
        "\n",
        "- A dance school puts up group dances.\n",
        "  - Each dance has a set of dances.\n",
        "  - Sets of dancers may overlap across dances.\n",
        "\n",
        "- Organizing a cultural programme.\n",
        "  - Each dancer performs at most once.\n",
        "  - Maximum number of dances possible.\n",
        "\n",
        "### Solution\n",
        "- Represent the dances as a graph.\n",
        "  - $V$ - Dances\n",
        "  - $E$ - Sets of dances overlap\n",
        "- Independent set\n",
        "  - Subset of vertices such that no two are connected by an edge."
      ],
      "metadata": {
        "id": "tHizRKHcG3Nd"
      }
    },
    {
      "cell_type": "markdown",
      "source": [
        "### Matching\n",
        "\n",
        "- Class Project\n",
        "  - If two people, they must be friend.\n",
        "\n",
        "- Assume we have a graph describing friendships.\n",
        "- Find a good allocation of groups.\n",
        "- Matching\n",
        "  - $ G = (V, E)$, an indirected graph\n",
        "  - A $matching$ is a subset $M ⊆ E$ of mutually disjoint edges.\n",
        "- Find a maximal matching in $G$.\n",
        "- Is there a perfect matching that covers all edges?"
      ],
      "metadata": {
        "id": "mP5JqGoHHz1Y"
      }
    },
    {
      "cell_type": "markdown",
      "source": [
        "## Representing Graphs\n",
        "\n",
        "- Working with graphs.\n",
        "- How do we represent these graphs computationally?\n",
        "\n",
        "- Let $|V| = n$\n",
        "  - Assume $V = {0,1,2...n-1}$\n",
        "  - Use a table to map actual vertex to this set.\n",
        "\n",
        "- Edges are now pairs $(i, j)$ where $0 <= i,j < n$\n",
        "  - Also $i != j$, no self loops.\n",
        "\n"
      ],
      "metadata": {
        "id": "3U9rUDmyIu2o"
      }
    },
    {
      "cell_type": "markdown",
      "source": [
        "### Adjacency Matrix\n",
        "- Rows and columns numbered {$0, 1, 2...n-1$}\n",
        "- $A[i,j] = 1$ if $(i,j)\\in E$\n",
        "\n",
        "![image.png](data:image/png;base64,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)\n"
      ],
      "metadata": {
        "id": "fUeXOwlNJuFD"
      }
    },
    {
      "cell_type": "code",
      "execution_count": null,
      "metadata": {
        "id": "hmxQ6xabCJQQ",
        "colab": {
          "base_uri": "https://localhost:8080/"
        },
        "outputId": "d35a55c7-15b4-4788-d4cb-a521a9bfb7eb"
      },
      "outputs": [
        {
          "output_type": "stream",
          "name": "stdout",
          "text": [
            "[[0. 1. 0. 0. 1. 0. 0. 0. 0. 0.]\n",
            " [0. 0. 1. 0. 0. 0. 0. 0. 0. 0.]\n",
            " [1. 0. 0. 0. 0. 0. 0. 0. 0. 0.]\n",
            " [0. 0. 0. 0. 1. 0. 1. 0. 0. 0.]\n",
            " [1. 0. 0. 1. 0. 0. 0. 1. 0. 0.]\n",
            " [0. 0. 0. 1. 0. 0. 0. 1. 0. 0.]\n",
            " [0. 0. 0. 0. 0. 1. 0. 0. 0. 0.]\n",
            " [0. 0. 0. 0. 1. 0. 0. 0. 1. 0.]\n",
            " [0. 0. 0. 0. 0. 1. 0. 0. 0. 1.]\n",
            " [0. 0. 0. 0. 0. 0. 0. 0. 1. 0.]]\n"
          ]
        }
      ],
      "source": [
        "edges = [(0, 1), (0, 4), (1, 2), (2, 0), (3, 4), (3, 6), (4, 0), (4, 3), (4, 7), (5, 3), (5, 7), (6, 5), (7, 4), (7, 8), (8, 5), (8, 9), (9, 8)]\n",
        "\n",
        "import numpy as np\n",
        "A = np.zeros(shape = (10, 10))\n",
        "\n",
        "for (i, j) in edges:\n",
        "  A[i, j] = 1\n",
        "\n",
        "print(A)"
      ]
    },
    {
      "cell_type": "markdown",
      "source": [
        "### Undirected_Graph\n",
        "\n",
        "- $A[i, j] = 1$ if $A[j, i] = 1$\n",
        "- Symmetric across main diagonal"
      ],
      "metadata": {
        "id": "2YRSag6QHJkC"
      }
    },
    {
      "cell_type": "code",
      "source": [
        "edges = [(0, 1), (0, 4), (1, 2), (2, 0), (3, 4), (3, 6), (4, 0), (4, 3), (4, 7), (5, 3), (5, 7), (6, 5), (7, 4), (7, 8), (8, 5), (8, 9), (9, 8)]\n",
        "\n",
        "import numpy as np\n",
        "A = np.zeros(shape = (10, 10))\n",
        "\n",
        "for (i, j) in edges:\n",
        "  A[i, j] = 1\n",
        "  A[j, i] = 1\n",
        "\n",
        "print(A)"
      ],
      "metadata": {
        "colab": {
          "base_uri": "https://localhost:8080/"
        },
        "id": "fI5cARRTHU5M",
        "outputId": "e6113d76-82d9-4be0-d808-675e1424ce1e"
      },
      "execution_count": null,
      "outputs": [
        {
          "output_type": "stream",
          "name": "stdout",
          "text": [
            "[[0. 1. 1. 0. 1. 0. 0. 0. 0. 0.]\n",
            " [1. 0. 1. 0. 0. 0. 0. 0. 0. 0.]\n",
            " [1. 1. 0. 0. 0. 0. 0. 0. 0. 0.]\n",
            " [0. 0. 0. 0. 1. 1. 1. 0. 0. 0.]\n",
            " [1. 0. 0. 1. 0. 0. 0. 1. 0. 0.]\n",
            " [0. 0. 0. 1. 0. 0. 1. 1. 1. 0.]\n",
            " [0. 0. 0. 1. 0. 1. 0. 0. 0. 0.]\n",
            " [0. 0. 0. 0. 1. 1. 0. 0. 1. 0.]\n",
            " [0. 0. 0. 0. 0. 1. 0. 1. 0. 1.]\n",
            " [0. 0. 0. 0. 0. 0. 0. 0. 1. 0.]]\n"
          ]
        }
      ]
    },
    {
      "cell_type": "markdown",
      "source": [
        "### Neighbours\n",
        "\n",
        "- Neighbours of $i$ - column $j$ with entry 1."
      ],
      "metadata": {
        "id": "Uxz5dNt6HZs7"
      }
    },
    {
      "cell_type": "code",
      "source": [
        "def neighbours(A, i):\n",
        "  nbrs = []\n",
        "  (rows, cols) = A.shape\n",
        "  for j in range(cols):\n",
        "    if A[i, j] == 1:\n",
        "      nbrs.append(j)\n",
        "  \n",
        "  return nbrs"
      ],
      "metadata": {
        "id": "9lwEgLCWHg2Z"
      },
      "execution_count": 1,
      "outputs": []
    },
    {
      "cell_type": "code",
      "source": [
        "edges = [(0, 1), (0, 4), (1, 2), (2, 0), (3, 4), (3, 6), (4, 0), (4, 3), (4, 7), (5, 3), (5, 7), (6, 5), (7, 4), (7, 8), (8, 5), (8, 9), (9, 8)]\n",
        "\n",
        "import numpy as np\n",
        "A = np.zeros(shape = (10, 10))\n",
        "\n",
        "for (i, j) in edges:\n",
        "  A[i, j] = 1\n",
        "\n",
        "print(A)\n",
        "neighbours(A, 4)"
      ],
      "metadata": {
        "colab": {
          "base_uri": "https://localhost:8080/"
        },
        "id": "gqdl_M-aH2bn",
        "outputId": "6edf32ff-1ee7-4886-fd77-f682101f68e7"
      },
      "execution_count": null,
      "outputs": [
        {
          "output_type": "stream",
          "name": "stdout",
          "text": [
            "[[0. 1. 0. 0. 1. 0. 0. 0. 0. 0.]\n",
            " [0. 0. 1. 0. 0. 0. 0. 0. 0. 0.]\n",
            " [1. 0. 0. 0. 0. 0. 0. 0. 0. 0.]\n",
            " [0. 0. 0. 0. 1. 0. 1. 0. 0. 0.]\n",
            " [1. 0. 0. 1. 0. 0. 0. 1. 0. 0.]\n",
            " [0. 0. 0. 1. 0. 0. 0. 1. 0. 0.]\n",
            " [0. 0. 0. 0. 0. 1. 0. 0. 0. 0.]\n",
            " [0. 0. 0. 0. 1. 0. 0. 0. 1. 0.]\n",
            " [0. 0. 0. 0. 0. 1. 0. 0. 0. 1.]\n",
            " [0. 0. 0. 0. 0. 0. 0. 0. 1. 0.]]\n"
          ]
        },
        {
          "output_type": "execute_result",
          "data": {
            "text/plain": [
              "[0, 3, 7]"
            ]
          },
          "metadata": {},
          "execution_count": 30
        }
      ]
    },
    {
      "cell_type": "markdown",
      "source": [
        "### Directed_Graph\n",
        "\n",
        "- Rows represent outgoing edges.\n",
        "- Columns represent incoming edges."
      ],
      "metadata": {
        "id": "MfogXDqfISKd"
      }
    },
    {
      "cell_type": "markdown",
      "source": [
        "### Degree Of A Vertex i\n",
        "\n",
        "- Number of edges incident on $i$\n",
        "- $degree(6) = 2$\n",
        "- For Directed graphs\n",
        "  - OutDegree\n",
        "  - InDegree"
      ],
      "metadata": {
        "id": "kvYs0AUyI2gG"
      }
    },
    {
      "cell_type": "markdown",
      "source": [
        "### Checking_Reachability\n",
        "\n",
        "- Is $Delhi(0)$ reachable from $Madurai(9)$\n",
        "- Mark 9 as reachable\n",
        "- Mark each neighbour of 9 as reachable\n",
        "- Systematically mark neighbours of marked vertices.\n",
        "- If marking process stops without target being marked, target is unreachable otherwise reachable."
      ],
      "metadata": {
        "id": "IAnztqC0JUr3"
      }
    },
    {
      "cell_type": "markdown",
      "source": [
        "#### Approaches\n",
        "  1. BFS(Breadth First Search)\n",
        "    - Propagate marks in layers\n",
        "  2. DFS(Depth First Search)\n",
        "    - Explore a path till it dies out, then backtrack."
      ],
      "metadata": {
        "id": "9-eChlwyKZJN"
      }
    },
    {
      "cell_type": "markdown",
      "source": [
        "#### Adjacency_List\n",
        "\n",
        "- List of neighbours for each vertex"
      ],
      "metadata": {
        "id": "xoItGyTwKSY-"
      }
    },
    {
      "cell_type": "code",
      "source": [
        "edges = [(0, 1), (0, 4), (1, 2), (2, 0), (3, 4), (3, 6), (4, 0), (4, 3), (4, 7), (5, 3), (5, 7), (6, 5), (7, 4), (7, 8), (8, 5), (8, 9), (9, 8)]\n",
        "\n",
        "import numpy as np\n",
        "A = np.zeros(shape = (10, 10))\n",
        "\n",
        "for (i, j) in edges:\n",
        "  A[i, j] = 1\n",
        "\n",
        "print(\"Adjacency List\\n\")\n",
        "\n",
        "adjacency_list = {}\n",
        "for i in range(len(A)):\n",
        "  adjacency_list[i] = []\n",
        "\n",
        "for (i,j) in edges:\n",
        "  adjacency_list[i].append(j)\n",
        "\n",
        "print(adjacency_list)"
      ],
      "metadata": {
        "colab": {
          "base_uri": "https://localhost:8080/"
        },
        "id": "Wk7dS1wZIZqm",
        "outputId": "cbf5ba3a-5950-459c-ee38-51456c602acd"
      },
      "execution_count": null,
      "outputs": [
        {
          "output_type": "stream",
          "name": "stdout",
          "text": [
            "Adjacency List\n",
            "\n",
            "{0: [1, 4], 1: [2], 2: [0], 3: [4, 6], 4: [0, 3, 7], 5: [3, 7], 6: [5], 7: [4, 8], 8: [5, 9], 9: [8]}\n"
          ]
        }
      ]
    },
    {
      "cell_type": "markdown",
      "source": [
        "## Breadth_First_Search\n",
        "\n",
        "- propagate marks in $layers$\n",
        "- Explore the graph level by level\n",
        "  - First visit vertices one step away\n",
        "  - Then two steps away\n",
        "  - ...\n",
        "- Each Visited vertex has to be explored\n",
        "  - Extend the search to its neighbours\n",
        "  - Do this only once for each vertex\n",
        "- Maintain information about vertices\n",
        "  - Which vertices have been visited already\n"
      ],
      "metadata": {
        "id": "TyG_Q7L2MNnS"
      }
    },
    {
      "cell_type": "markdown",
      "source": [
        "### Algorithm\n",
        "\n",
        "- Assume $V = {0, 1,...n-1}$\n",
        "- $visited$ : $V → [True, False]$ tells us whether $v \\in V$ has been visited.\n",
        "  - Initially, $cisited(v) = False$ for all $v \\in V$.\n",
        "- Maintain a sequence of visited vertices yet be explored.\n",
        "  - A $queue$, first in first out\n",
        "  - Initially empty"
      ],
      "metadata": {
        "id": "iS2mzS3LNAZc"
      }
    },
    {
      "cell_type": "markdown",
      "source": [
        "#### Queue"
      ],
      "metadata": {
        "id": "0epHzItPPwvu"
      }
    },
    {
      "cell_type": "code",
      "source": [
        "class Queue:\n",
        "  def __init__(self):\n",
        "    self.queue = []\n",
        "  \n",
        "  def addq(self, v):\n",
        "    self.queue.append(v)\n",
        "  \n",
        "  def delq(self):\n",
        "    v = None\n",
        "    if not self.isempty():\n",
        "      v = self.queue[0]\n",
        "      self.queue = self.queue[1:]\n",
        "    return v\n",
        "  \n",
        "  def isempty(self):\n",
        "    return self.queue == []\n",
        "  \n",
        "  def __str__(self):\n",
        "    return(str(self.queue))"
      ],
      "metadata": {
        "id": "pCOyOMNkMTa_"
      },
      "execution_count": 17,
      "outputs": []
    },
    {
      "cell_type": "code",
      "source": [
        "q = Queue()\n",
        "\n",
        "for i in range(3):\n",
        "  q.addq(i)\n",
        "  print(q)\n",
        "  \n",
        "print(q.isempty())\n",
        "\n",
        "for j in range(3):\n",
        "  print(q.delq(), q)\n",
        "\n",
        "print(q.isempty())"
      ],
      "metadata": {
        "colab": {
          "base_uri": "https://localhost:8080/"
        },
        "id": "RUgm5bkaPz2I",
        "outputId": "ac6bc807-e6f8-4b81-fcc0-3255fb87f42e"
      },
      "execution_count": null,
      "outputs": [
        {
          "output_type": "stream",
          "name": "stdout",
          "text": [
            "[0]\n",
            "[0, 1]\n",
            "[0, 1, 2]\n",
            "False\n",
            "0 [1, 2]\n",
            "1 [2]\n",
            "2 []\n",
            "True\n"
          ]
        }
      ]
    },
    {
      "cell_type": "markdown",
      "source": [
        "### Implementation\n",
        "\n",
        "- Exploring a vertex $i$\n",
        "  - For each edge $(i, j)$ if $visited(j)$ is $False$\n",
        "    - Set $visited(j)$ to True\n",
        "    - Append $j$ to queue\n",
        "  \n",
        "- Intially\n",
        "  - $visited(v) = False$ for all $v \\in V$\n",
        "  - Queue of vertices to be explored is empty.\n",
        "\n",
        "- Start $BFS$ from $j$\n",
        "  - Set $visited(j) = True$\n",
        "  - Append $j$ to the queue\n",
        "\n",
        "- Remove and explore vertex $i$ at head of queue.\n",
        "  - For each edge $(i, j)$ if $visited(j) = False$,\n",
        "    - Set $visited(j) = True$\n",
        "    - Append $j$ to the queue."
      ],
      "metadata": {
        "id": "dPSmxG2oQhTQ"
      }
    },
    {
      "cell_type": "code",
      "source": [
        "def BFS(A, v):\n",
        "  \"\"\"Returns reachable vertices from vertex v\"\"\"\n",
        "  (rows, cols) = A.shape\n",
        "  visited = {}\n",
        "  for i in range(rows):\n",
        "    visited[i] = False\n",
        "  \n",
        "  q = Queue()\n",
        "\n",
        "  visited[v] = True\n",
        "  q.addq(v)\n",
        "\n",
        "  while(not q.isempty()):\n",
        "    j = q.delq()\n",
        "    for k in neighbours(A, j):\n",
        "      if(not visited[k]):\n",
        "        visited[k] = True\n",
        "        q.addq(k)\n",
        "  \n",
        "  return visited"
      ],
      "metadata": {
        "id": "WUbljEH_RNwA"
      },
      "execution_count": 16,
      "outputs": []
    },
    {
      "cell_type": "code",
      "source": [
        "edges = [(0, 1), (0, 4), (1, 2), (2, 0), (3, 4), (3, 6), (4, 0), (4, 3), (4, 7), (5, 3), (5, 7), (6, 5), (7, 4), (7, 8), (8, 5), (8, 9), (9, 8)]\n",
        "\n",
        "import numpy as np\n",
        "A = np.zeros(shape = (10, 10))\n",
        "\n",
        "for (i, j) in edges:\n",
        "  A[i, j] = 1\n",
        "\n",
        "# BFS from vertex 7\n",
        "print(BFS(A, 7))"
      ],
      "metadata": {
        "colab": {
          "base_uri": "https://localhost:8080/"
        },
        "id": "aHdHoUalS6cW",
        "outputId": "9aec2ea0-4a2d-42bb-c161-40ab92ea179e"
      },
      "execution_count": null,
      "outputs": [
        {
          "output_type": "stream",
          "name": "stdout",
          "text": [
            "{0: True, 1: True, 2: True, 3: True, 4: True, 5: True, 6: True, 7: True, 8: True, 9: True}\n"
          ]
        }
      ]
    },
    {
      "cell_type": "code",
      "source": [
        "def BFSList(AList,v):\n",
        "    visited = {}\n",
        "    for i in AList.keys():\n",
        "        visited[i] = False\n",
        "    q = Queue()\n",
        "    \n",
        "    visited[v] = True\n",
        "    q.addq(v)\n",
        "    \n",
        "    while(not q.isempty()):\n",
        "        j = q.delq()\n",
        "        for k in AList[j]:\n",
        "            if (not visited[k]):\n",
        "                visited[k] = True\n",
        "                q.addq(k)               \n",
        "    return(visited)"
      ],
      "metadata": {
        "id": "5KUsao_JC5Wj"
      },
      "execution_count": 15,
      "outputs": []
    },
    {
      "cell_type": "markdown",
      "source": [
        "### Complexity of BFS\n",
        "\n",
        "- $G = (V, E)$\n",
        "  - $|V| = n$\n",
        "  - $|E| = m$\n",
        "  - If $G$ is connected, $m$ can vary from $n-1$ ro $n(n-1)/2$\n",
        "\n",
        "- In BFS, each reachable vertex is processed exactly once\n",
        "  - Visit the vertex: add to queue\n",
        "  - Expore the vertex: remove from queue\n",
        "  - Visit and explore at most n vertices.\n",
        "\n",
        "- BFS with Adjacency matrix: $O(n^2)$\n",
        "- BFS with Adjacency List:\n",
        "  - $n$ steps to initialize each vertex.\n",
        "  - $2m$ steps to explore all vertices\n",
        "    - Example of $amortized$ analysis.\n",
        "  - $O(n + m)$"
      ],
      "metadata": {
        "id": "rq8oGBSZTcJH"
      }
    },
    {
      "cell_type": "markdown",
      "source": [
        "### Enhancing BFS to record paths\n",
        "\n",
        "- a path from $i → k$."
      ],
      "metadata": {
        "id": "EzeZNID7VBjJ"
      }
    },
    {
      "cell_type": "code",
      "source": [
        "def BFS_List_Path(adjacency_list, v):\n",
        "  (visited, parent) = ({}, {})\n",
        "  for i in adjacency_list.keys():\n",
        "    visited[i] = False\n",
        "    parent[i] = -1 # No Parent\n",
        "  q = Queue()\n",
        "\n",
        "  visited[v] = True\n",
        "  q.addq(v)\n",
        "\n",
        "  while(not q.isempty()):\n",
        "    j = q.delq()\n",
        "    for k in adjacency_list[j]:\n",
        "      if(not visited[k]):\n",
        "        visited[k] = True\n",
        "        parent[k] = j\n",
        "        q.addq(k)\n",
        "  \n",
        "  # From k, follow parent links to trace back a path to i\n",
        "  return (visited, parent)"
      ],
      "metadata": {
        "id": "8HV8E4gxTeq9"
      },
      "execution_count": 19,
      "outputs": []
    },
    {
      "cell_type": "code",
      "source": [
        "edges = [(0, 1), (0, 4), (1, 2), (2, 0), (3, 4), (3, 6), (4, 0), (4, 3), (4, 7), (5, 3), (5, 7), (6, 5), (7, 4), (7, 8), (8, 5), (8, 9), (9, 8)]\n",
        "\n",
        "import numpy as np\n",
        "A = np.zeros(shape = (10, 10))\n",
        "\n",
        "for (i, j) in edges:\n",
        "  A[i, j] = 1\n",
        "\n",
        "adjacency_list = {}\n",
        "for i in range(len(A)):\n",
        "  adjacency_list[i] = []\n",
        "\n",
        "for (i,j) in edges:\n",
        "  adjacency_list[i].append(j)\n",
        "\n",
        "# BFS from vertex 7\n",
        "print(BFS_List_Path(adjacency_list, 7))"
      ],
      "metadata": {
        "colab": {
          "base_uri": "https://localhost:8080/"
        },
        "id": "tLg2jZjuWE59",
        "outputId": "26fef17c-94b0-468f-c1cc-75765027790e"
      },
      "execution_count": null,
      "outputs": [
        {
          "output_type": "stream",
          "name": "stdout",
          "text": [
            "({0: True, 1: True, 2: True, 3: True, 4: True, 5: True, 6: True, 7: True, 8: True, 9: True}, {0: 4, 1: 0, 2: 1, 3: 4, 4: 7, 5: 8, 6: 3, 7: -1, 8: 7, 9: 8})\n"
          ]
        }
      ]
    },
    {
      "cell_type": "markdown",
      "source": [
        "### Enhancing BFS to search Distance\n",
        "\n",
        "- BFS explores neighbour level by level.\n",
        "- By recording the level at which a vertex is visited, we get its distance from the source vertex\n",
        "- Instead of visited(j), maintain level(j)."
      ],
      "metadata": {
        "id": "Yc3vg6yqWn6y"
      }
    },
    {
      "cell_type": "code",
      "source": [
        "def BFS_List_Path_Level(adjacency_list, v):\n",
        "  (level, parent) = ({}, {})\n",
        "  for i in adjacency_list.keys():\n",
        "    level[i] = -1\n",
        "    parent[i] = -1\n",
        "  \n",
        "  q = Queue()\n",
        "\n",
        "  level[v] = 0\n",
        "  q.addq(v)\n",
        "\n",
        "  while(not q.isempty()):\n",
        "    j = q.delq()\n",
        "    for k in adjacency_list[j]:\n",
        "      if(level[k] == -1):\n",
        "        level[k] = level[j] + 1\n",
        "        parent[k] = j\n",
        "        q.addq(k)\n",
        "  \n",
        "  return (level, parent)"
      ],
      "metadata": {
        "id": "dzt5qV7eW5pK"
      },
      "execution_count": 18,
      "outputs": []
    },
    {
      "cell_type": "code",
      "source": [
        "edges = [(0, 1), (0, 4), (1, 2), (2, 0), (3, 4), (3, 6), (4, 0), (4, 3), (4, 7), (5, 3), (5, 7), (6, 5), (7, 4), (7, 8), (8, 5), (8, 9), (9, 8)]\n",
        "\n",
        "import numpy as np\n",
        "A = np.zeros(shape = (10, 10))\n",
        "\n",
        "for (i, j) in edges:\n",
        "  A[i, j] = 1\n",
        "\n",
        "adjacency_list = {}\n",
        "for i in range(len(A)):\n",
        "  adjacency_list[i] = []\n",
        "\n",
        "for (i,j) in edges:\n",
        "  adjacency_list[i].append(j)\n",
        "\n",
        "# BFS from vertex 7\n",
        "print(BFS_List_Path_Level(adjacency_list, 7))"
      ],
      "metadata": {
        "colab": {
          "base_uri": "https://localhost:8080/"
        },
        "id": "HtT5TBz0XZ3W",
        "outputId": "0eb4248a-1243-42e3-f5c8-0b3c81737284"
      },
      "execution_count": null,
      "outputs": [
        {
          "output_type": "stream",
          "name": "stdout",
          "text": [
            "({0: 2, 1: 3, 2: 4, 3: 2, 4: 1, 5: 2, 6: 3, 7: 0, 8: 1, 9: 2}, {0: 4, 1: 0, 2: 1, 3: 4, 4: 7, 5: 8, 6: 3, 7: -1, 8: 7, 9: 8})\n"
          ]
        }
      ]
    },
    {
      "cell_type": "markdown",
      "source": [
        "## Depth_First_Search\n",
        "\n",
        "- Start from $i$, visit an unexplored neighbour $j$\n",
        "- Suspend the exploration of $i$ and explore $j$ instead\n",
        "- Continue till you reach a vertex with no unexplored neighbours\n",
        "- Bactrack to nearest suspended vertex that still has an unexplored neighbour\n",
        "- Suspended vertices are stored in a $stack$\n",
        "  - Last in First Out\n",
        "  - Most recently suspended is checked first\n",
        "- Recursively can be implemented because it is a stack of calls in the end!\n"
      ],
      "metadata": {
        "id": "xh_xRsiy4h1k"
      }
    },
    {
      "cell_type": "markdown",
      "source": [
        "### Approach_1"
      ],
      "metadata": {
        "id": "iM7XDZsF7WMz"
      }
    },
    {
      "cell_type": "code",
      "source": [
        "def DFSInit(A):\n",
        "  # Initialize visited and parent to pass to v\n",
        "  (rows, cols) = A.shape\n",
        "  (visited, parent) = ({}, {})\n",
        "  for i in range(rows):\n",
        "    visited[i] = False\n",
        "    parent[i] = -1\n",
        "  \n",
        "  return (visited, parent)\n",
        "\n",
        "def DFS(A, visited, parent, v):\n",
        "  visited[v] = True\n",
        "  for k in neighbours(A, v):\n",
        "    if(not visited[k]):\n",
        "      parent[k] = v\n",
        "      (visited, parent) = DFS(A, visited, parent, k)\n",
        "  \n",
        "  return (visited, parent)"
      ],
      "metadata": {
        "id": "xXZPPlRg4nQv"
      },
      "execution_count": 14,
      "outputs": []
    },
    {
      "cell_type": "markdown",
      "source": [
        "### Approach_2\n",
        "- Making visited and Parent Global"
      ],
      "metadata": {
        "id": "blTesJ3f7PqT"
      }
    },
    {
      "cell_type": "code",
      "source": [
        "(visited, parent) = ({}, {})\n",
        "\n",
        "def DFSInit_Global(A):\n",
        "  # Initialize\n",
        "  (rows, cols) = A.shape\n",
        "  for i in range(rows):\n",
        "    visited[i] = False\n",
        "    parent[i] = -1\n",
        "  return\n",
        "\n",
        "def DFS_Global(A, v):\n",
        "  visited[v] = True\n",
        "\n",
        "  for k in neighbours(A, v):\n",
        "    if(not visited[k]):\n",
        "      parent[k] = v\n",
        "      DFS_Global(A, k)\n",
        "  \n",
        "  return"
      ],
      "metadata": {
        "id": "UugjtNhp7YeD"
      },
      "execution_count": 6,
      "outputs": []
    },
    {
      "cell_type": "markdown",
      "source": [
        "### Approach_3\n",
        "\n",
        "- using adjacency list"
      ],
      "metadata": {
        "id": "I8FopjqV8PZe"
      }
    },
    {
      "cell_type": "code",
      "source": [
        "def DFSInitList(A_list):\n",
        "  (visited, parent) = ({}, {})\n",
        "  for i in A_list.keys():\n",
        "    visited[i] = False\n",
        "    parent[i] = -1\n",
        "  return (visited, parent)\n",
        "\n",
        "def DFSList(A_list, visited, parent, v):\n",
        "  visited[v] = True\n",
        "\n",
        "  for k in A_list[v]:\n",
        "    if(not visited[k]):\n",
        "      parent[k] = v\n",
        "      (visited, parent) = DFSList(A_list, visited, parent, k)\n",
        "  \n",
        "  return (visited, parent)"
      ],
      "metadata": {
        "id": "3P-WSX2Q7IAf"
      },
      "execution_count": 3,
      "outputs": []
    },
    {
      "cell_type": "markdown",
      "source": [
        "### Approach_4\n",
        "\n",
        "- Global Version of DFS using Adjacency list"
      ],
      "metadata": {
        "id": "VQxQs6xP9JjN"
      }
    },
    {
      "cell_type": "code",
      "source": [
        "(visited, parent) = ({}, {})\n",
        "\n",
        "def DFSInitList_Global(A_list):\n",
        "  for i in A_list.keys():\n",
        "    visited[i] = False\n",
        "    parent[i] = -1\n",
        "  return\n",
        "\n",
        "def DFSList_Global(A_list, v):\n",
        "  visited[v] = True\n",
        "\n",
        "  for k in A_list[v]:\n",
        "    if(not visited[k]):\n",
        "      parent[k] = v\n",
        "      DFSList_Global(A_list, k)\n",
        "  \n",
        "  return"
      ],
      "metadata": {
        "id": "sx9jaUGW9OaJ"
      },
      "execution_count": 10,
      "outputs": []
    },
    {
      "cell_type": "code",
      "source": [
        "edges = [(0, 1), (0, 4), (1, 2), (2, 0), (3, 4), (3, 6), (4, 0), (4, 3), (4, 7), (5, 3), (5, 7), (6, 5), (7, 4), (7, 8), (8, 5), (8, 9), (9, 8)]\n",
        "\n",
        "import numpy as np\n",
        "A = np.zeros(shape = (10, 10))\n",
        "\n",
        "for (i, j) in edges:\n",
        "  A[i, j] = 1\n",
        "\n",
        "adjacency_list = {}\n",
        "for i in range(len(A)):\n",
        "  adjacency_list[i] = []\n",
        "\n",
        "for (i,j) in edges:\n",
        "  adjacency_list[i].append(j)\n",
        "\n",
        "# Adjacency Matrix\n",
        "(visited, parent) = ({}, {})\n",
        "DFSInit_Global(A)\n",
        "DFS_Global(A, 4)\n",
        "\n",
        "print(\"Adjacency Matrix:\\n\\nvisited:\", visited, \"\\nparent:\", parent)\n",
        "\n",
        "# Adjacency List\n",
        "(visited, parent) = ({}, {})\n",
        "DFSInitList_Global(adjacency_list)\n",
        "DFSList_Global(adjacency_list, 4)\n",
        "\n",
        "print(\"\\n\\nAdjacency List:\\n\\nvisited:\", visited, \"\\nparent:\", parent)"
      ],
      "metadata": {
        "colab": {
          "base_uri": "https://localhost:8080/"
        },
        "id": "UzIqc7V49j_D",
        "outputId": "09c382c2-0293-41d8-cd23-7f2a0f9a7f2f"
      },
      "execution_count": 13,
      "outputs": [
        {
          "output_type": "stream",
          "name": "stdout",
          "text": [
            "Adjacency Matrix:\n",
            "\n",
            "visited: {0: True, 1: True, 2: True, 3: True, 4: True, 5: True, 6: True, 7: True, 8: True, 9: True} \n",
            "parent: {0: 4, 1: 0, 2: 1, 3: 4, 4: -1, 5: 6, 6: 3, 7: 5, 8: 7, 9: 8}\n",
            "\n",
            "\n",
            "Adjacency List:\n",
            "\n",
            "visited: {0: True, 1: True, 2: True, 3: True, 4: True, 5: True, 6: True, 7: True, 8: True, 9: True} \n",
            "parent: {0: 4, 1: 0, 2: 1, 3: 4, 4: -1, 5: 6, 6: 3, 7: 5, 8: 7, 9: 8}\n"
          ]
        }
      ]
    },
    {
      "cell_type": "markdown",
      "source": [
        "### Complexity of DFS\n",
        "\n",
        "- DFS with Adjacency matrix: $O(n^2)$\n",
        "- DFS with Adjacency List:\n",
        "  - $O(n + m)$"
      ],
      "metadata": {
        "id": "wHrUPwXI-3m1"
      }
    },
    {
      "cell_type": "markdown",
      "source": [
        "## Applications of BFS and DFS"
      ],
      "metadata": {
        "id": "uYUTXY62CC3q"
      }
    },
    {
      "cell_type": "markdown",
      "source": [
        "### Connected_Components\n",
        "\n",
        "- If number of components go greater than 1, then we have a disconnected graph"
      ],
      "metadata": {
        "id": "OChkf2k3CG0c"
      }
    },
    {
      "cell_type": "code",
      "source": [
        "def Components(AList):\n",
        "    component = {}\n",
        "    for i in AList.keys():\n",
        "        component[i] = -1   \n",
        "    (compid,seen) = (0,0)   \n",
        "    while seen < max(AList.keys()):\n",
        "        startv = min([i for i in AList.keys() if component[i] == -1])\n",
        "        visited = BFSList(AList,startv)\n",
        "        for i in visited.keys():\n",
        "            if visited[i]:\n",
        "                seen = seen + 1\n",
        "                component[i] = compid\n",
        "        compid = compid + 1    \n",
        "    return(component)"
      ],
      "metadata": {
        "id": "mpaYBKiSCRK-"
      },
      "execution_count": 22,
      "outputs": []
    },
    {
      "cell_type": "code",
      "source": [
        "AList = {0: [1], 1: [2], 2: [0], 3: [4, 6], 4: [3, 7], 5: [3, 7], 6: [5], 7: [4, 8], 8: [5, 9], 9: [8]}\n",
        "print(Components(AList))"
      ],
      "metadata": {
        "colab": {
          "base_uri": "https://localhost:8080/"
        },
        "id": "KuigVJobDTab",
        "outputId": "761dcf41-9415-4810-ceb6-b67faea7912e"
      },
      "execution_count": 23,
      "outputs": [
        {
          "output_type": "stream",
          "name": "stdout",
          "text": [
            "{0: 0, 1: 0, 2: 0, 3: 1, 4: 1, 5: 1, 6: 1, 7: 1, 8: 1, 9: 1}\n"
          ]
        }
      ]
    },
    {
      "cell_type": "markdown",
      "source": [
        "### Detect_Cycles\n",
        "\n",
        "- A Path that starts and ends in the same vertex\n",
        "- Cycle may repeat a vertex\n",
        "- Cycle should not repeat edges\n",
        "- Simple Cycle\n",
        "  - Only repeated vertices are start and end\n",
        "- A graph is $acyclic$ if it has no cycles"
      ],
      "metadata": {
        "id": "tD00BWBZEjfD"
      }
    },
    {
      "cell_type": "markdown",
      "source": [
        "#### BFS_Tree\n",
        "\n",
        "- Edges explored by BFS form a tree\n",
        "  - Technicallt, one tree per component\n",
        "  - Collection of trees is a forest\n",
        "- Any non-tree edge creates a cycle\n",
        "  - Detect cycles by searching for non-tree edges"
      ],
      "metadata": {
        "id": "6gohoXt-Fipr"
      }
    },
    {
      "cell_type": "markdown",
      "source": [
        "#### DFS_Tree\n",
        "\n",
        "- Maintain a DFS counter, initially 0\n",
        "- Increment counter each time we start and finish exploring a node\n",
        "- Each vertex is assigned a $pre$ and a $post$ number."
      ],
      "metadata": {
        "id": "0JYUMPuNF2bX"
      }
    },
    {
      "cell_type": "code",
      "source": [
        "(visited,pre,post) = ({},{},{})\n",
        "\n",
        "def DFSInitPrePost(AList):\n",
        "    # Initialize   \n",
        "    for i in AList.keys():\n",
        "        visited[i] = False\n",
        "        (pre[i],post[i]) = (-1,-1)\n",
        "    return\n",
        "\n",
        "def DFSListPrePost(AList, v, count):\n",
        "    visited[v] = True\n",
        "    pre[v] = count\n",
        "    count = count+1                      \n",
        "    for k in AList[v]:\n",
        "        if (not visited[k]):\n",
        "            count = DFSListPrePost(AList,k,count)\n",
        "    post[v] = count\n",
        "    count = count+1                           \n",
        "    return(count)\n",
        "\n",
        "AList = {0: [1, 4],1: [0],2: [],3: [],4: [0, 8, 9],5: [],6: [],7: [],8: [4, 9],9: [8, 4]}\n",
        "\n",
        "DFSInitPrePost(AList)\n",
        "\n",
        "print(\"Counter\")\n",
        "print(DFSListPrePost(AList,0,0))\n",
        "print(\"\")\n",
        "\n",
        "print(\"Visited\")\n",
        "print(visited)\n",
        "print(\"\")\n",
        "\n",
        "print(\"Pre\")\n",
        "print(pre)\n",
        "print(\"\")\n",
        "\n",
        "print(\"Post\")\n",
        "print(post)"
      ],
      "metadata": {
        "colab": {
          "base_uri": "https://localhost:8080/"
        },
        "id": "Kpna2TPNEoLm",
        "outputId": "dc57e5a0-fbfe-4022-e6c6-a1b70e0f7332"
      },
      "execution_count": 27,
      "outputs": [
        {
          "output_type": "stream",
          "name": "stdout",
          "text": [
            "Counter\n",
            "10\n",
            "\n",
            "Visited\n",
            "{0: True, 1: True, 2: False, 3: False, 4: True, 5: False, 6: False, 7: False, 8: True, 9: True}\n",
            "\n",
            "Pre\n",
            "{0: 0, 1: 1, 2: -1, 3: -1, 4: 3, 5: -1, 6: -1, 7: -1, 8: 4, 9: 5}\n",
            "\n",
            "Post\n",
            "{0: 9, 1: 2, 2: -1, 3: -1, 4: 8, 5: -1, 6: -1, 7: -1, 8: 7, 9: 6}\n"
          ]
        }
      ]
    },
    {
      "cell_type": "markdown",
      "source": [
        "### Directed_Cycles\n",
        "\n",
        "- In a directed graph, a cycle must follow same direction.\n",
        "- Tree edges\n",
        "- Different tpes of non-tree edges\n",
        "  - Forward Edges\n",
        "  - Back Edges\n",
        "  - Cross Edges"
      ],
      "metadata": {
        "id": "dkeLAgcJHTkC"
      }
    },
    {
      "cell_type": "markdown",
      "source": [
        "### Classifying non-tree edges in directed graphs\n",
        "- Use pre/post numbers\n",
        "- Tree edge/forward edge ($u,v$) <br>\n",
        "Interval [pre($u$), post($u$)] contains [pre($v$), post($v$)]\n",
        "- Back edge ($u,v$) <br>\n",
        "Interval [pre($v$), post($v$)] contains [pre($u$), post($u$)]\n",
        "- Cross edge ($u,v$) <br>\n",
        "Intervals [pre($u$), post($u$)] and [pre($v$), post($v$)] are disjoint"
      ],
      "metadata": {
        "id": "gb3SE68_Ji41"
      }
    },
    {
      "cell_type": "markdown",
      "source": [
        "### Connectivity in directed graphs\n",
        "- Take directions into account\n",
        "- Vertices $i$ and $j$ are strongly connected if there is a path from $i$ to $j$ and a path frm $j$ to $i$\n",
        "- Directed graphs can be decomposed into strongly connected components (SCCs)\n",
        "  - Within an SCC, each pair of vertices is strongly connected\n",
        "- DFS numbering can be used to compute SCCs"
      ],
      "metadata": {
        "id": "0sKaRbfiJc99"
      }
    },
    {
      "cell_type": "markdown",
      "source": [
        "## Directed_Acyclic_Graphs"
      ],
      "metadata": {
        "id": "P-MPrupxJ96k"
      }
    },
    {
      "cell_type": "markdown",
      "source": [
        "### Tasks and Dependencies\n",
        "- Startup moving into new office space\n",
        "- Major tasks for completing the interiors\n",
        "  - Lay floor tiles\n",
        "  - Plaster the walls \n",
        "  - Paint the walls\n",
        "  - Lay conduits for electrical wires\n",
        "\n",
        "![image.png](data:image/png;base64,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)\n",
        "\n",
        "![image.png](data:image/png;base64,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)\n",
        "\n",
        "- Contraints on the sequence\n",
        "  - Lay conduits before tiles and plastering\n",
        "  - Lay tiles, plaster wall before painting\n",
        "  - Finish painting before any cabling/wiring work\n",
        "  - Electrical wiring before installing fittings\n",
        "- Represent constraints as a directed graph\n",
        "  - Vertices are tasks\n",
        "  - Edge $(t,u)$ if task $t$ has to be completed before task $u$ "
      ],
      "metadata": {
        "id": "KhVFanGUKQ4M"
      }
    },
    {
      "cell_type": "markdown",
      "source": [
        "### Directed_Acyclic_Graphs\n",
        "\n",
        "- Formally, we have a directed acyclic graph (DAG)\n",
        "- $G$ = ($V, E$), a directed graph without directed cycles\n",
        "- Find a schedule\n",
        "  - Enumerate $V$ = {$0,1,..,n-1$} such that for any ($i,j$) $\\in$ $E$, $i$ appears before $j$\n",
        "  - `Topological sorting`\n",
        "- How long will the work take?\n",
        "  - Find the longest path in the DAG\n"
      ],
      "metadata": {
        "id": "8dtqeiEMK6Qy"
      }
    },
    {
      "cell_type": "markdown",
      "source": [
        "### Topological_Sorting\n",
        "- A graph with directed cycles cannot be sorted topologically\n",
        "- Path $i$ $\\to$ $j$ means $i$ must be listed before $j$\n",
        "- Cycle $\\implies$ vertices $i,j$ such that there are paths $i$ $\\to$ $j$ and $j$ $\\to$ $i$\n",
        "- $i$ must appear before $j$, and $j$ must appear before $i$, impossible!\n",
        "- Every DAG can be topologically sorted\n"
      ],
      "metadata": {
        "id": "QACSe3Y2Ltuq"
      }
    },
    {
      "cell_type": "markdown",
      "source": [
        "#### Strategy\n",
        "- First list vertices with no dependencies\n",
        "- As we proceed, list vertices whose dependencies have already been listed\n",
        "- Why will there be a starting vertex with no dependencies?\n",
        "- How do we guarantee we can keep progressing with the listing?"
      ],
      "metadata": {
        "id": "uFRcpEJ3Mdkb"
      }
    },
    {
      "cell_type": "markdown",
      "source": [
        "#### Approach_1\n",
        "- A vertex with no dependencies has no incoming edges, $indegree(v)$ = $0$<br><br>\n",
        "\n",
        "##### **Claim** : Every DAG has a vertex with indegree 0\n",
        "\n",
        " - Start with any vertex with $indegree$ $\\gt$ 0\n",
        " - Follow edge back to one of its predecessors\n",
        " - Repeat so long as $indegree$ $\\gt$ 0\n",
        " - If we repeat $n$ times, we must have a cycle, which is impossible in a DAG <br><br> \n",
        " \n",
        "##### **Fact** : Every DAG has a vertex with indegree 0\n",
        " - List out a vertex $j$ with indegree = 0\n",
        " - Delete $j$ and all edges from $j$\n",
        " - What remains is again a DAG!\n",
        " - Can find another vertex with $indegree$ = 0 to list and eliminate\n",
        " - Repeat till all vertices are listed\n",
        "\n",
        "#### Algorithm\n",
        "\n",
        "- Compute $indegree$ of each vertex\n",
        "  - Scan each column of the adjacency matrix\n",
        "- List a vertex with $indegree$ 0 and remove it from the DAG\n",
        "- Update indegrees\n",
        "- Can find another vertex with $indegree$ = 0 to list and eliminate\n",
        "- Repeat till all vertices are listed\n",
        "\n",
        "\n",
        "\n"
      ],
      "metadata": {
        "id": "ZxGzeP_0Ml9M"
      }
    },
    {
      "cell_type": "code",
      "source": [
        "def toposort(AMat):\n",
        "    (rows, cols) = AMat.shape\n",
        "    indegree = {} # indegree of each node\n",
        "    toposortlist = [] # Final list with topologically sorted vertices\n",
        "\n",
        "    # Computing Indegrees\n",
        "    for c in range(cols):\n",
        "        indegree[c] = 0\n",
        "        for r in range(rows):\n",
        "            if AMat[r,c] == 1:\n",
        "                indegree[c] = indegree[c] + 1\n",
        "\n",
        "    # Find a vertex with indegree 0 and remove it from DAG, update indegree\n",
        "    for i in range(rows):\n",
        "        j = min([k for k in range(cols)\n",
        "                 if indegree[k] == 0])\n",
        "        toposortlist.append(j)\n",
        "        indegree[j] = indegree[j]-1\n",
        "        for k in range(cols):\n",
        "            if AMat[j,k] == 1:\n",
        "                indegree[k] = indegree[k] - 1\n",
        "                  \n",
        "    return(toposortlist)"
      ],
      "metadata": {
        "id": "8mNj-OL4HWwi"
      },
      "execution_count": 28,
      "outputs": []
    },
    {
      "cell_type": "code",
      "source": [
        "edges=[(0,2),(0,3),(0,4),(1,2),(1,7),(2,5),(3,5),(3,7),(4,7),(5,6),(6,7)]\n",
        "\n",
        "size = 8\n",
        "\n",
        "import numpy as np\n",
        "AMat = np.zeros(shape=(size,size))\n",
        "\n",
        "for (i,j) in edges:\n",
        "    AMat[i,j] = 1\n",
        "    \n",
        "print(toposort(AMat))"
      ],
      "metadata": {
        "colab": {
          "base_uri": "https://localhost:8080/"
        },
        "id": "5QpAsmqWQJ9b",
        "outputId": "fa483f39-f277-4b4f-d906-f1c9897546e0"
      },
      "execution_count": 29,
      "outputs": [
        {
          "output_type": "stream",
          "name": "stdout",
          "text": [
            "[0, 1, 2, 3, 4, 5, 6, 7]\n"
          ]
        }
      ]
    },
    {
      "cell_type": "markdown",
      "source": [
        "##### Complexity\n",
        "\n",
        "- Initializing indegrees is $O(n^2)$\n",
        "- Loop to enumerate vertices runs $n$ times\n",
        "  - Identify next vertex to enumerate: $O(n^2)$\n",
        "  - Updating indegrees: $O(n)$"
      ],
      "metadata": {
        "id": "5tPrUNtBQuUs"
      }
    },
    {
      "cell_type": "markdown",
      "source": [
        "#### Approach_2\n",
        "\n",
        "- Compute indegrees by scanning adjacency lists\n",
        "- Maintain queue of vertices with indegree 0\n",
        "- Enumerate head of queue, update indegree 0 to queue\n",
        "- Repeat till queue is empty"
      ],
      "metadata": {
        "id": "a-G46wVBQ2bQ"
      }
    },
    {
      "cell_type": "code",
      "source": [
        "class Queue:\n",
        "    def __init__(self):\n",
        "        self.queue = []\n",
        "    def addq(self,v):\n",
        "        self.queue.append(v)\n",
        "    def isempty(self):\n",
        "        return(self.queue == [])\n",
        "    def delq(self):\n",
        "        v = None\n",
        "        if not self.isempty():\n",
        "            v = self.queue[0]\n",
        "            self.queue = self.queue[1:]\n",
        "        return(v)    \n",
        "    def __str__(self):\n",
        "        return(str(self.queue))\n",
        "\n",
        "def toposortlist(AList):\n",
        "    (indegree,toposortlist) = ({},[])\n",
        "    zerodegreeq = Queue()\n",
        "\n",
        "    for u in AList.keys():\n",
        "        indegree[u] = 0\n",
        "    \n",
        "    # Indegree update of all edges\n",
        "    for u in AList.keys():\n",
        "        for v in AList[u]:\n",
        "            indegree[v] = indegree[v] + 1\n",
        "    \n",
        "    for u in AList.keys():\n",
        "        if indegree[u] == 0:\n",
        "            zerodegreeq.addq(u)\n",
        "                \n",
        "    while (not zerodegreeq.isempty()):\n",
        "        j = zerodegreeq.delq()\n",
        "        toposortlist.append(j)\n",
        "        indegree[j] = indegree[j]-1\n",
        "        for k in AList[j]:\n",
        "            indegree[k] = indegree[k] - 1\n",
        "            if indegree[k] == 0:\n",
        "                zerodegreeq.addq(k)                \n",
        "    return(toposortlist)"
      ],
      "metadata": {
        "id": "kLu2I9EsQ9Sk"
      },
      "execution_count": 30,
      "outputs": []
    },
    {
      "cell_type": "code",
      "source": [
        "edges=[(0,2),(0,3),(0,4),(1,2),(1,7),(2,5),(3,5),(3,7),(4,7),(5,6),(6,7)]\n",
        "\n",
        "size = 8\n",
        "\n",
        "import numpy as np\n",
        "AMat = np.zeros(shape=(size,size))\n",
        "\n",
        "for (i,j) in edges:\n",
        "    AMat[i,j] = 1\n",
        "\n",
        "adjacency_list = {}\n",
        "\n",
        "for i in range(len(AMat)):\n",
        "  adjacency_list[i] = []\n",
        "\n",
        "for (i,j) in edges:\n",
        "  adjacency_list[i].append(j)\n",
        "\n",
        "\n",
        "print(toposortlist(adjacency_list))"
      ],
      "metadata": {
        "colab": {
          "base_uri": "https://localhost:8080/"
        },
        "id": "q5dISITfQ_CE",
        "outputId": "176d6dc5-917a-4db8-af30-5532dd48ca0d"
      },
      "execution_count": 33,
      "outputs": [
        {
          "output_type": "stream",
          "name": "stdout",
          "text": [
            "[0, 1, 3, 4, 2, 5, 6, 7]\n"
          ]
        }
      ]
    },
    {
      "cell_type": "markdown",
      "source": [
        "##### Complexity\n",
        "\n",
        "- Initializing indegree is $O(m + n)$\n",
        "- Loop to enumerate vertices runs $n$ times\n",
        "  - Updating indegree: amortised $O(m)$\n",
        "- Overall: $O(m + n)$"
      ],
      "metadata": {
        "id": "IB0-8ET8R1mF"
      }
    },
    {
      "cell_type": "markdown",
      "source": [
        "### Longest_Path_in_DAG\n",
        "\n",
        "- $G$ = ($V,E$), a directed graph without directed cycles\n",
        "- Topological sorting\n",
        "  - Enumerate $V$ = {$0,1,...,n-1$} such that for any ($i,j$) $\\in$ $E$, $i$ appears before $j$\n",
        "  - Feasible schedule\n",
        "- Imagine the DAG represents prerequisites between courses\n",
        "- Each course takes a semester\n",
        "- Minimum number of semesters to complete the program?\n",
        "\n",
        "![image.png](data:image/png;base64,iVBORw0KGgoAAAANSUhEUgAAAYkAAAEcCAYAAAAydkhNAAAgAElEQVR4Aey9Z3RVV5Yu6v5x3+/+8d7o7tGj76jXt7pfhzLGNrZxquvKweWuqq7qW45t4wQ2YDBJkZyjyWCSCUIiGhAgkMgZgSJBAiQhJASIoCydtPfR98a31p7n7HN0JAQoHMHeGltrn73nmmuuOeeac+X1lNvthnM7PHB0wNEBRwccHYikA095PB44t8ODqNMBtwce3o5+OjxwdKBbdcBxEo4CdqsCRnQC4iAcJxF9snHKyxMnE8dJOEoffUrvOInok4lTTp5YmThOwlH+h1Z+t8cD+x2xVfAw/HWcxEPLpMNk8DBy66g4TgsyquT/lNfrhXM7PHhQHfB4veDttm4+B3B4gs8CJ2EAxg4f6Zk4bHhUvEjvIsVt5Z3QIKGmxQOv134HaW83ra2kd7/4QkdrYWj81mlsLb68D8UTIX/hfFb5YXpu2y3pR4hvy7+kyVDJrxWZhcDZ4itaI9Kj9a1lPKGTYUsYRUc4/vDfQmNrYTj8Q6TTku62+XhfmUWgqbPiOE6iC5ndWULsLrxUfDoJKQABOqSwteZI5LuElgxCCrR8Yygysj2HwMr3NkKhNdSpiYEJN4YR8nQf3AF6hO424Jkfocdlc7RCm7wL4FS47LQGeSJ4JK6EgoO/Q/HouHwX6X2A18pxki8udXu8LniU09DGOAgXpMWeL4VbeGGTm8ST9CPS1wq85C0Yx84TTRfxhsO1nc8wZ2anOdKzJddI6UjeIjlHO3wA7j46Ei1wjpPoIYLqboWhkutbzzhqUcsXPtoKlscjccIMkg2GeBScLQwpZAJrK5xBWqy4knYrYRDeEzAgHq/HMnp2B+HWzXz1LUh7a7wP4I1EexgtAViFm2lr/HaDZn+W70EetjSIpItwYjQljh2PPPObwEsce7yWedTp0TFoB6GdhOZbqGOwxxUaVCiyY9gqP4LyD5F7GDzjB+kl/zzwelryJDx9zT8LPgJOe5qih/Z3rT2Hp6PgBL8936SR3XBerXsSL5wf0fzbcRIiWCdsUZBFcanYLKCsnUoNle/Ud1UgrAJrFQgWGHucJiteaJyg4bDjJv4AHNOQAmcziMQnOFvQY9FFHEKD4LfH0wbHbmToLHRBlny2hlsMAnEIbomjaLfRLDwMhxN4nQbTDTqwSHgJp/lCmoO8lzza8QlvBA9DwtlhG71e8BZYjTsoE23UNF0urwfBO2isA3TYeE46BKekGwmO3+zyCOaPMqc+aXlIXMKH49bdhOLkNV/sebTzRPCH55P4+U7iMR3eKt2AHIk7yHfCCi2SV4VX4O2hwq1lK7DEr+AlnSgPn/L5fHBuhwet64AXPtZ+m5rgrquHt64evnodehsa4XO51XefzwN1ez3qnae+Ad66Ogu2Du66OngaG+HzeODz+vRN3WOBaWwM4CZ+3p6GBnhdLvg8TF/De70+eFxuaNwWHGFJT5PAeoP6TGPT2AhvfR18greuHm7iJh0B3ddxPE0uRYenrk7TUEe66+EhHd4gHYomtxuehkZ4LLykWcEyj24rj4KfdDc2hcAyHvPocVs1dJ8bXp9H3wp3Qwg8+edtagrlh8cHr5t5DOLWsqmDp6FeG1qfDx6fD17rdjOP9fUKN/OpbvJP8mjR7PVpY+1utPJYT7k3wMu7oQlet1fhDPLQp+gT/RA6FN1ud4DXpIP0uN0euJh/pUvUFd71Ki+KFjd5znjku1fhDsid9NdbclRwlKWWoconFwjXW7gtXdX6R7opG5uOWPqn5BjIo6V/AVhLt8kTl0ulLXJnSH4q2YiOUGd5u71aRxReq9zU16OhpgbupibliOz8i9bnpwzDgHM7PAjXAZ9hgLdh+GA0NeLa2bM4tT4Z2evWIz8pBWfXJePczj2oulauYQwvDB9vH2rKr+Pc7j3IXLsOeUnrcXbdOhxLWofizExVwAyfAXUbhjIMV46dwMm165G9dj1y1ybj9Nr1OJ+WjpryChhen4a14twuLkHejl04u249ctatR+a6JGRu3ISb5y/CaHJZsD5Fk+veXVw+fBBnktYhdx3vJJxYl4TzBw+i9vbtUL33GSg7X4BTG7fg9Op1yFmThMw1STi9aStuXi4OpcMw0Fh5BxczDuDU2hRkrSU/UnB83XoUHT+Bpupqiyekw4Dh9qDkbDZOJ29QNOcmpeAU6U9Nxb1rpTDoHAwPfIZHxau9XoFzaXsVT86uXY+stUk4sTYJ185mBfkn5bauAddOZuJs8gYFl7suGafWrUPe3t2ovlmh8PkoQwv+euElnNq6DSfXrsOZtWuRuW4tTqUk48b5c/DRCQlew4CrphoFhw/jdFIyctelIG/9RmQmbcCl/UdQX3lX4bTDX8/Lx9lNm5GdRB0h3WtxasNGVBaTf94Q+Prbt3Fu336cWp+C7KQNyE3aiNPrUlB89ASa7t1TPDGUTvkU/0qzc5G5aasl92ScTEpG5vZU3C0v13pn6Ioe83n3WhnOpO5SdOckpSBnXTKOr1mHktOZcNXWBuhQtLvcKD55WstmfTLOJW/AWYZpe1Bzq9LGP83DyitXcPr7bTi9NgU5a1NwhrjXJ+N6fr6q7Cg++7TOsmJScPAQMpOTkZO0HnmkeX0yDq5Pxq2iYl1hsvFbZBRtoeMkeoCQukNpWIDEANQVFWHNoIEY8K//ilG9n0X808/iq169Mfntd3Hu4GFlmBU8C4fXh6JTpzHro34Y/PQzSHimN0Y88wwGvfgCts2Zg/rKSuVI6EzogFy3bmHjmPEY2rsPYp5+DnFPP4/BvZ7FvI8/RfGZswHjJo4lL30fpv35Lxj6dC/E9XoGX/d6BjFv/BQn1ybBqKsPcRJVJcVYOWwohj5D2KfVPbBXLywbMQzXLxWARihgQH0GDiVvRNyvfouve/VGfK/nMKTXs0j4ze9wdtdeGB7LWVn6cqvgEpZ+MRhf9eqDkb36YPjTz2HQM89j04TJuHftmqrZKgdL+KYm7FqwECNfex2jevVG4nN9MKj3sxj3pz/h3KGDyiD6bLSUZGZi1ocfYlCvZzGq1/MY2as3vnq+D3bPm4f6W7d0HkVvq2qQOnUGRr38KoY/3Vvx8MtevTGrXz8UZWcpHms6tJE7uX074v/j9xj8dC+MeroXhjz9NIa89AKOfLcS7uoqJXORe215Ob6LicWIPi8i9unnEP/Mi/jqmeexfODXKL9QGJS7Rcuh71Zj1M9/ga+f7o2Ep3tj2NO9EPOTnyJ3zx4YbrclSy33O5cvY9nAQRj2/AuIfaYPEp/ti8HPPI91cYmoLC5RslFOgg7OZyBtyTIMe+OnGPr0M4h5+hn0f7oXEn7/RxScOKkckJdOwqKj8PhJTPjLO/i69/OIf+Z5xD3znOL39pkzUV1Bx2nAS/1mxaO+CdumzsCwV1/DyN7PIrH3cxjc6xnMeP8DlOTlBRyKlMHs1F0Y+bu3MJR4ez2PEU/3xpAXXsThlavQQOdGGoiXady5g+9GjsKQF1/ECEV3b1UmRv/xP3HlxAnFE7YeBHe0ho6TkMLmhCHKykLEm4p7butWJL3zNnIXLoCRkwvj9BkYmWdh0FDcuacMqHIShGfNv6oaxsVCGKfOWLCZMHJzYFwvh+FqChQi3UppglF8FUZmNoxTWTBOZ8HIzIJRcAlGdY2GtVoRCvftuzDyLsI4eQbGqUyNPzcPxvUbMFw2Q8RWTUMdjOIrMM5mwsg8qe8zp/W7+lqrtmoZf68B43YVjPOFOn3SwDu/AMbtahgeq/BbBkA5pEvFMM7katpJ99lcGFdLdbo+tgoYhzVhN4yyMhhnszW9ZwmbBePCBRi3K2F4muANOAkfjOoqzb8zOTAyeWfByMmDwVpzo51/hs7z1Wsat+JftqanoBBGTRUM1TphLZ759MK4xzxe1Lw7dRrGqVMwss/CqCiH4XZp4yl0NzTAYCvgTLbFb8onB0ZhMYya+iBPiJtyv3ETRnauxn3yNIzTlHsejLt3rNq+1TIlfG0NjEuXYZwhzrMwTpM3OTDYaqtvsJysbpkqB112HUZWjuYf9Y/3+Qsw7t61nIRVqaF8qmpgFBA3cZ7VupqdA6P0Gox6ViR8Kp9ewja5YZRc07jPEG+mpv9CgZYDu7p8UmHywai8DSMnX+Ol/vEmbjofdqtZZUY5iibqdjGMbOp2puYh6ea7+jrFswC8xIvC0HESUSiUaKhR2J1E/vr12PTB+yhI3RFsBdD48aZx4JiBtDzUb6twC0wg9GjDzN/kOwsp4QPfw54t3AqOsB4vDI+nlTj8bsVXuO00MF23ddvf2+kgLZZRD6HHeh9wEkzDq7tP2IWiYBlaz14PDA+7vXT3iuaRwIXlj3EJz6mlhhesDetavxj1MHg7P9rDP0WThYvwbfKadFg0E1bhD0vfzhclC34XOdrzKHK2pS1xxVkxrRB67PFtfBBeS/zwkPzjeITinUWLnX57GqSZFQnRV9E/O4wdv6LRLgvSyN9WqPhr8chKM9AyIM6AfhDG0hmFnzRQHy39E3qjNHzKNE04t8ODcB3wmiZ8lm4UpqRg2/vv43xqKkyfD6bXo0M++4yW+mMYML1eDUdYBe+BaXhhmr5QeMIqnMQrcdwwfVYahiUbhoQ1mCZhBd4L0+fV7/ndrs+Mo2DdML0u6yZuH0zBK/AKlnTb8JIegbXDB+hg3ojbun3uQB4NwcswAM/82W6Fm/wwQHjyW8VjHskr8s1j8S+cFtIjN2XgFdot3thwh/IkgmxEnmY4/0Q2NpoVHcIXysMuH6Zt44nih0flL4QGpkOeBHgtcShzylLzg3zR+iJyt3hCfiv9sOSudMpGO2lSPLHTbemq0Cvy4e8A7+zwmg5Ng9gH0sG8M33qE+UuempLX8nckjvlwDyRXoEnjnBdFXqiMHScRBQKJbRAiYJ2bWh3EhfWJ2PDu+8hf0dqwDBJa6c1ZZfv9jC0wAXzY4cJfw4YoYCcrFpuWK1L06ENrp1/hmHqWrGC1zXU1mhmWuHp83dLGrQBiARrKIMvRi6YR6YZCV7zJMzAMK8R4FujW+eRtIfSHzCwAd5peiLS0YrRigTLdxFpCUtf4trlEXyOzA+FO0Av+WKlFYEfGtaCCcQR5xkZfwtZ0km0itsmP4Vf0yL5soct8BLe4lNEuHBnZac/yp4dJxFlAgkWonAF7drfrNVKS+L8+hQkvfffyE3dFaipy/eQGrPFS6kV09HIHaglh/E7Eqw4KNVfex/4IB00FqFOojXcfM87nNcCLzglbA1evjMkzR7r5rMdv8QXuED+wuDs9AgthBV4wWOH47OdjuAzHVUoPwgbjteOOxyv4BYaBJZpRKJFcAdpsLWOwvgtsK3hDqdF4NuLm/CC2x6H7+24+duO255HO5w822Hbwkv4cNyE97rduFlWjnprvE3wRnPoOIkwpYlmYXUlbVIAWBuqOJmJM9+uRFluXqCASQHoTJp0TTG0ULeeXksn0Tpse3G2AhehFhhuPPi709JvF+4u5Ee76OlufnR3+pSHiYaKm1gweizy9h+Cr8nVzTrSPp44TsJR8IiKGnAC7Dd2s6/Z6udtpVuiMwziwzmJlrXnDqdNdVGEFjDHSYTyo8N53uPLqXYSjYWX8Wnfl3H42+XgDDndJRXdvHOcRI9Xvk5WMPYz+6S/u/W0xKl0ZA364Z1EJzsKcRK2FoXjJFrXjSfZYQTKg1SuCgoxqW9f5CxZBrO2LjDGF808cpyE4yQitiREaank7Gt3W328AaWPwDd+C3wXQxoBTnDfL3w4J8EZVLx1ze1+aTzUd8mb4yTa1J2H4u0j6Etnp2fXR/tzW+kGy4Olj+cvYt5LL+H8oqUwaxwn8UQpUFuK0tO/2WfPtCsvEYxou+KFGYj2FkSNm4WQLQi5O9FJkE7Jo0WzOEgZywkYh7A8PQwfHi6O8KOT+dBt+evelkt7dTOgB9KSuFCA2X1fRv7ib1VLgmXr4eTbdfGclsQTquTtVkzDhLu+EfVVVXA3NkWeDtpeHophVWEr0yjbiysinBjGTu5uiph2cDaLOIx287gVfI8en/xwnMSj8zHcILefpy2cRMlVbP20P0q2bodZ36CmLZO+AFyn6UJ4Htr/+ym/3w/ndngQrgOm3w/eftOPazl5OLZhI65dvKh+h8O29ltwKDwWLuLTtwm/3353lAwEZ0fhc/C0Jt8n6b3WZROm0tmgTrTQ8TB7GtB90fXGJvjLr8N/rwp+n69H2F7HSYQJ9UlS/LbyaoiT8PtxYuNGzHr/fRxPTYXfNPV9H76xMHFhGcPa2lpcvXoV5dcr0Njk0gWDePyGdfM5WPCcZ4cX0aYDos/U6YbGJtTU1qnDsugE7GWlTbpNA37D0OVHwh6g946T6AFCalPxOol+Kj5vpp2zcSNWfvQhsnbvgp+Kzvs+6bKbw+VuwsWLF7B08WJ8/tnnGDJsJLZu34mb3CSNLQpVuyIux0ncj5/O9+51nNTnxsYGVFTcwOat27Hl+924VXlHtbbb7ST8uovHp1am87l789RenXKcxH2MXXsZ+bjB2Z3EhZQN2PDB+8jbtdNyEPdzEtro5+bl4O23/ws/+tG/4Wc/+zlee+119H31x5g+bzFu3r1n627qGYXlcZOxk5/26R0HqQsLLmLz5g2ITxiHH/zg/8MHHw7C5StXH8hJsNXh8/vhMv3wWM/tdzDto7UzZOo4CcdJRGwV2J1EXnIKVr/zHrLZ3WT1rQb7WsOVlw7CRH19HcaMGYO+r76CpOQUuD0eXC8vx/Bhw/Hyj3+C9Zu3gSfNdYZSOzjDZeL8fhSdaGpyY+GChXjnnXfwq1//Gf/3//MDfDYgASVXbzyYk+CgNA9zamjQBw6Z2mlEu6N4qrm5Gc7t8CBcB8zmZvDm+5I96UiLT8Slw4fR3Oy/j76YCub0qRN487e/QVxCIqprawNxsrJy8Oabf8DgoTG4WXk38D48fee3o5PRogOcpnrtWhnu3avGxcJbePW1t9Dv00QUldyA3yonDNtDr7emBge3bEX5xUK9C+4Dxm9PGh0N4ziJdgq3oxkf7fio9Erx/c1o5lGVl4tgVFWh2e9HM9/xDued7d3qlSvQ94UXsHTptxrOb6KZLYzqGgweMAhvvfmfyMzMaokjHKfz2+FRFOnAhcIKvPLqb/HxZwkoLql4YCfReKUIH7/yCvYvXwmzoRGm3ypnUZTH8HLtOIkoFk64sLryd6BmZPrRzJvOwTSt5/s7iUVz5+Gnr7+BTRs369aH34dmzmZqakL8V4PxynN9kLZzt2MAHf3rETog5eHchTK8/MpvLCdx/5aExFPlh7K+XITYl19B5rIVaFZOwq8rY1GsB46TiGLhdKVTaDUt1nQMf2DqXqAVYWs1BOJKC8PfjHmz5+K3v/gddqWmobmZrQivchLNrgaMGTIIr/V+Brt37FAFJFCQHFn0CIMZkPcTJS/dzZp/4RpefuXX+PizRBS3o7spoNtSXi4VYcLLryDbchJGs+MkHKXv4QWJSi7jEwwDSh+eLxYC02phmM2YOWU2fvWz3yFtV7rlJHxobjbQ7K7H+KED8Xrvp7FrxzYYzc3qfjINT4Quu3C+Or+jxIbosbb8C6WWkxjdrjGJQHkRJ1FwBZP6voycJcvRXN+gF6wGxvnoiO435tf1OuO0JJxC2HYhZFeTYaLZMHR3Uwi/bEpta0Wwe2rm1Nn4xU/exK7UvRq/39DOwlWHcUO+xCvPPo3U1G3wOU6ibf6H8LvrDYTjvIXnWtfPWU6i32cP6SSuXMXst/6Ac6uTlJPgTEDV0mZrW92Ok3AKRA8p9KwB+dnVZPpRc70Cpdk5qLl5y5IfFVmUWkJrQNvK39zZc/GT136OrZu3WU5Cw5kN1UgYNACv9umNtN2pqhUhs6gcgyQGyQm7QhdkWmz70rI7iV+i32fxKAoZuNbfw1sCIS0JVqSqalGYvBk1WblodnH3AVaerAqU4yQcxW+fMkYHn5STsAz+me2pWPjlV8jcy64j0sd+VHEO9lAKSjO+XbQYfXo/h+XLlgedhN+Phnt38NXnn+IXb/xvHD180BmT6CGVhp6ku+2lVTb+o7O4fxzquR/nL7K76ef4+LNRKCq5rvRXd8MSh4aJiEt1x1qTQFTrnC1zqws2EK89dHS9fXC6m5xCGrGAyDgEFT57wyYs++AjnE3daU19pZMQhyBOQgqJLii7U1Px49dexcRJk9DU5LKmzvpx5WIB3v7Tn/BJv34oLiqOmHbEQubIyeFVB+qAz+fDzZs3ce3aNTQ2NraDt9qAF16+jldf+xU+HRCP4qt6dpOuUEl50HCt6jAdks/Q3bchXU1db/xbpTGMz0/BuRwOROCAHwBvXhc3bkbyf3+E/F27gWb9zgr0D/v/ZgOAiYryMnz+2af43X/8AYePHoPPMFBfV4eli5egb99XMXPOPDS53ILOjsF5djjQKRxgi6GmpgYXL17EgQMHMHPmTCxatAhlZWVtpkdjyng3blTgyPEcvPDiT/H+RyNxKvM8Kioq0eTyoLnVAhGGmnBSuAJxAg9hwNHx03ES0SGHqKPCtDmJS8kp2Pzuezi/c2eIk4is2iwBjN2M77//Hi+++BLefvc9bNi0CQvnz8cvf/FrvNtvALLyLzoOIuqk/ngS1NDQgKKiIhw5cgQrV67E119/jc8++wzDhg1DamqqcgD3y/nevWmYMGEcPvhwAP7xh73Rp++b+GLQaEyYPA/nC67CNCOXBsHLr3KrdyE/BCo6Q8dJRKdcup0qqeyQkEubNmNTv49xLi1NaTr1m98ZRr6awaqV1+PGxpRk/Mdbv8Pzzz2PF1/siwEDh+JUVh58NicUGYfz1uFA+zgg3SaE5jMvl8ulWghZWVnYvHkzRo8ejQ8++ACDBg3CihUrcOnSJXi93vYlAOD777fiyy+/wCeffYEvB8fii8Fx+OjjQRg2YjSy8wrhM/xtFQiVDmkzPV5cLy5BQ1WNWpjaRiFqN22dDeg4ic7mcA/FH3ASzc24m5uL88kpuHWxoJ1OQpVWoFm7kpsVN3D82HGczcpDdU2dcjB0EmxvOJfDgUflALuROAjtdrtRUVGBM2fOqFbslClT8OWXX2L48OFYtmwZsrOz1fjDo6YX3ghou8IUmpqr4ibmDB2O/D370Ox+gG6qUDRd+ssZuA4bpJFayZMeBmY3qTUSXDHNxXLW7IzWeGZfK6FgZFA7OCjHAXEuoNMzQoLvn3R+O/l/OF3gAHRlZSVyc3OVY5g+fTo+/fRTfPHFF5g6dSoOHjyoDr0S/oZPew3/LXCthSwX9kkdrcHJe8KrZ2sGlffSZQx++WWcDGzL0cYCVYnbzaHjJLpZAKJMURuqPZtk/6b7FOQWTkJmfATjBQpNG3xnwfV4PLhz5w7q6+vbMfMkiD9q+dhGfh2a25Yf9cHOI7YaqqqqcP78eezbtw/z589X3UgfffSR2p4+PT1d6Q7hJJ44AzuuSO8Evq2wPTos8QOwkofCQkx/uS/yvl1mrbh2nERASMI0J2y7QEQbf6jk+uhGnu+r95nhu4Dyhxs/cRTh7x/wN43Apk2bsHHjRlVTJF/sBTza+OTQ07F6bTfgInfOMCosLMSxY8ewatUqNfDM7qSEhAQ17lBeXg62LOyysONpz3s7TEc8B8qJzUnM6Psy8r/91rYtR8fyriPotuNwWhIPaLzszHsSnqnkXr8Jt99UoTogpS0n0UH8bGpqQnJyMt577z3MmTMH169fDxxQ9CTw/UnMozgD5p2tAJ4IxzUMxcXFOH78OFavXo24uDg1zhATE6McBZ0GxyLscYV34iDkd3eELZ3EZcx49XXksbupvgHOBn8dZDC6Q7hOmlbtxu+Hu74eNbdvo6m+XhXezt4DXwo3Q06jff/99zFjxgxlLMJrio6corsW+iDyEUPPCgJbBZmZmdiyZQvGjRuHjz/+WE1dXbp0aWAAWnDTmdCpiN7I+2gIg07C2vyyrALbRsajNG0fmptcgdZ5NNDaGg1OS8JxZCHNc1EUKrcoePGZM9i7fAWK8vIULPd08vkMdSj87du3I9biBI+ELMC1tbWqr5jTE8UgyPe2wlOnTmHIkCGIj48Hn2WF7IPgaAu/8637HQ2no3JmEqesbtu2DRyA7t+/vxprmD17Nk6cOBFV41N0Shwz4xoM+9hHuC5JGQpsse/yorm6Hs31bjRzC/4eYH8cJ9EDhBSueF3x2z6D49SGjfjmg//GSdmWw9+MS5evYO7cBdi7Nx0mZz21g4808CkpKapF0B54O0xBQQFGjBihapSyAMr+3XnufkN/PxmEO3Ua17t376qZSZTprFmzVFfS0CFDwOmrHICurq4O0S3ikPt+6XXmd06sYPfXyZMn1ZqMiCc1hpcJjtcZ1kaYsq1+OEwU/nacRBQKpTOVu7247U7i/MZNSPqoH/J26ZPk7ty+g6lTp+Orr4YiOzsnpBC3hX/H9u2IjY3B8WPHrJbE/ZyLdSKeNejHmubUqdPQr18/rF+/HmzFMD1lfGRg0JFnu+XRlqw66puf3UBm0LBTVhyAptPn9NRvv/0WgwcNwkcffogJ48eDOnKj4gZMTr22yVIcg5J1N5+5QBrY7fnlF19gwfz5ytExn4HT5xTdEXRbJnVQV+XZlkd7fqPp2XESPUBI3aEwdidxMWUDkj/4EPk7d6GpsRFr16zDZ58PwB5rV1jpmmqt6SzvuS1CfHwc0tP33r82qAqRzUlYNUh2Na1bt061KBYuXIiy8nI1wMl9+bnpoN54sPVatZ1WeW6Nv4HvUqAZtqIvKo92OAtWcAg/5XeksC3ckjeJ1xosjY/A2MNI8Pbv4c8t4K28qe3jra5IyZOEgiMQ198Mw+uD6TNQXVODK0VFOHnqlJJfbGwsPvnkE4waNQpJ69bhanExvF6P1gvyWFoMVlp2JxHkhe6uYfot0g6Tk51uO6w83y8M5InrfAxD0ZkQn4CZMwrW+LIAACAASURBVGbgxo0bUM5Qzf7zwwzZJVk7C8GvHElPcxIhzBfBOGHAiD2p/OEsJt7M//n1KVj/zvvITd2Jo4cP44sBA7B81Xeob2xSMAIbDDldVt+G3wRvTp89d+ECEkaPxtbvv9cD4LbBRuEz4UJvDkjqQUnD5AClHqRMS0vDR/0+wsRJE3Gx4CI8Xo9KR9ISfBIKTqHRx9qglUd+U7Vdq8YbCqtpVzARygXfC06JFx7K9/DQ6/dD32YoLbZ0BL/QKjjIX80XGbDVv+3wLfIYlk/iEhjS4VH0aHkJ38L5InEIKzdnv/mUnLXsJG5jUyOKS4px4uQJrFy9GqPHjcegrzi2lKBWQHP8QfXpWzL3GT7wVnK26YHgY/eUYWp+k26hWdMd1FeBl9DOE8YRXoZ/t8MJXwSW3wSe4yd0FPPmzcfESZNRUlICn2nCa2o5+vwGTL8PfnXzmTxluiZMbnRZUwM3B60j6L+kEU3hU9FEjENLUBG7mxdijGgkru4/gMMzZuPolq2IjxmlugUqbtwIMeZiPFgQWEh4G9ZtqkJjouz6dUyeOlXNadfdEFZXhK07Qgqq4GMoDkcbRdbidE3u6NGjGPDFAMTExeD0mdNobGrSs0WIz4aTvCRe+y34aQSUAbDF0TSIo2NaYohbyoewkQyJPU2RZXj6YuRoZHnrvFr0WEZJ4vCbfA/lg/CDxog814YqiNser6UzFGOo4bWxJ55Ani2+aJ7ovApuu5MQ5+z2uFF+vRxnzp7B1m1bMWb8WHwyoD8GDx2K+QsW4nTmGTUALTxhaND4W5WKoKyF1+IM9W+RW0sawvJpM+oqjYBDDsrLToPwmaHwxC5Xvhd4djXRwO9I3YkhXw9Hbl6echCkScuJNGu5kJdSHpg3d3UVUtesQXF2LkyP1XKy4ZY0oil0nESUC6i7lEUKjd9nwF9Vg3sFlzB7/DiMGPoV8nJzAwWG9AmsFBAW+HAHQRgOQs6eNQsbk5PhN2yGt4WB1oUtpJCaLHRSO/PBr36bKCgswOixiRgy9Cvs25eBurpa7SA4cyTMUQgvQ+nV+/7Y+84lHyzUEqe1kLg0fNCI2GH5XX4LrITMHw0Lb5VXVVPWLRfGIVykW+MT4ylOgrzRcQWv1LAFh4onvDY1bsIKPEPCBvFbz2GwEoehyrtp4M6d28jLy8XutF2YPmMqBg3+EkOHDcGU6dOw78AB1d2k8WqcqhatxitMZXCJJ4TOEDokr0FY4ZuEQkso/UH58b3ISdIK4YdKT/PPDiewQbx+1Rog/WfPZuOTTz/HiZMnA3IkvMaradaOm60jLZ/GkhJ88uqrOLRiBYyGBqvVFKTTzqNoeXachAjVCQPGTJSTBcH0+dQ5EClJSRjc/3Nk7N2DytJS5B44gNy9e3EuIwPZe9Jw7sgRVN26pftmVTNaF5KGe/dQeCoTWXszkL17N8Z89immDvsapefPwWdNhQ10afh8KL90CVn7MpCTvhd5GRk4s3cPLhw/jprKWzADXRHscvKhprIS50+cwL7k9ej321/jP3/+U6xbvgwV10oDfcTK8DAfbjdK8/KRlZ6BvIz9yM/Yj+y9GSg6m4XGqnvws5/ZMoZ0DneuX8eFo0eRn7EP5/ftR156Bs4dOox75ddBx6nwUmfYzVDfgKKsLGSnp+P8vn0qTlZ6Oq6dPw9PQ4MNr4avKC5G7qFDyM3IQP6+fchJT0fekcO4d6NCGSDyX4yai335mZnITU9XvCYd2ekZuHn5MnxuzrOnYbMcheFD6cWLyN53AHkZ+5C3b7/Kb8HJU6i7V6WdZsBJmKipvI3zx09YPNmHXOLefwB3SktVLVdoYOj3eFGafw75Bw6h4PARXDh0GGf27cPR9HQcSN+LVSuWIWbkcAwe+AUS42OxbuliHN2+HTl705GfnqHymnPgAKrKy+H30WD6dUXBMOBtaMCVrCzkZGSoPOZnZCBrbzrKz1+Ap7HBcn7sqvHBb/hw/fIl5Ozfr+g9t490pyv9q+V07EAXjtY/V1UVCk+c0DD7tNypizcvXYavyR3KE68XpRcuIEfJex/OWTpSeOo0GhT/LGOudMVE4YUL+OTd97Fm3nzkZuxXepWVsR93SkphuD2KFqkw+T0eXM/Lx4V1SRjx7/+OrG+XwF9fpypT7amMSJnsjtBxEo5zaOEcRBGVkzBNHDpyBP36f47Va9fA53bjdHIKZv305/imTx8s69sXM3r3xsLf/wEX9x+A32eGtBJuZOdizcf9MaXPy5jz6o8x4P/9R/zlBz/A1mlT4VJrLNjlZHU7NTRg79x5mPDKK5jzQh8seOVlTHj+OSx+520UHT0Kw+eFl/3WVndI0bFjWPj+B5j1xk8w/bUf44N//xHe+tGPsHD8ONykMWIt2aqdG3fuIjVxDCb36YsFfV/H4r4/xrTn+iJ5wCBU5OWr2TTs9lAG0e9H7s5dWPqHP2PBS69g+Suv4ZsX+2Ler3+Lc9u2w+9yq1opcZNHTaWl2DD0a0x74SUse/l1LOn7Kia/2Bdp4yegtrRU0SE1Uub1wIqVmP6LX2LOy69iyauvYtaLfTD7rTdxPmMv/F6vptuq+VZfvIgNn/fHnD4vYOnLr2D+i30x5cW+OLFgATx37gS6aVT3kNuDHTNmY9prP8GCl17Hold+jEl9Xsa3732Iq6fPKLlwujJppkMsOnIUC955D1NefBkLX2YeX8bkH7+B7LXrYdTUBhyV4klDI/ZMmIIJz76AuH/rhYH/8m/46F/+FR+99hq+fOddTBo7Bps3pKC0+Ap8Xg8K96Rh6e//gNnPvYBFL76Cb156BdPf+AkubP0e/sZGzWerMuEqL8P6IV9hZt+X8G3fvljy8iuY/MJL2DduEuquUY66G8xrepWjOLR4MWa88Yaidyll88ILmPvWWyg6dAg0xqK/DKvz8rD6vfcx+4UXseSV15TsyZMT3yyAq1Kv8Qm0OBvrsXPqVEx//Q3Mf+FVLKWOPN8Xqz78GBVZ2cq5kRemz6t4mHPkKP74fB98+IMfYlbfH2N+3zcw/qUfI3vNeniraxUMW3OqdVFXj32J47DkuRcw64c/RPH6tcpJUJej3kmIIXBCXeAdPlhNemsV65XiYgwfFYPEMWPUUY9mowt3T57FlXlLUD55Ou5MmY6yiVNQvHgZqvMvwHT7lMFVfDQMeK6WoXzdRhRN+wblcxch7aOPseKt3+PChg0wa2sCA9Ec0DPrG1G+/wAKZs5CxZQpuDVtOoqmT0fxypWou3hR1W49rHkS1meg4fIVFK1Zj0vTZqN83hIUr1qD7VOmYtQH72PulMkoLCxAk9utTsUzq2twY+duXJ42CxWTZ+LWlNkomjgTxauSUM+an2HAZ3BgVA8u1py7gGtLVynYyikzcG3yNFyZNx9VmZkwmxpVH7SHDsjwway8hfItW1A8dQbuTJ6B21Nm4fLU2bixbSe8N9kCMvSgJnF7fbhx7AQK5y1E+bRZuD11BsomT8alRQtRlZ+nWjzknRoEJXx5BSrWpeDapOm4PXk6bkyehktTZ+BeejrMqnvwmgZ8pqHpdrlRlnEQRbPm49bk2bg9dQ6uTJ2NS0tXofbiZZU28fI2fD40FBTiyqo1uDp9DiqnzsH1KXNwcfZC3DtyEmattbreNNFQX4/KK0XInzQNG3q/gOn/8wcY3+cFLOn3MTKWLkNxTm5wNT4nFhhe3Dt7BsXzF6J80jTcmjIDZVNnovCbuag+fRpmY4NFM2F9MG9X4tqWTbg6bRruTJmC29Nm4NK0Wbj1/S54b95RsnZzK3DTB8Ptwr3DR1H0zUKUT56J21Nm4vrk6SiYPx/V+bkwXU3KOIv+mWXlKF+9FqVTpuPmlBmomDoLhVNmoCotHca9ezb988FsqEdF+j4UzZqHm5Nm4s7k2SiZMhMlK1ah4fIlmB63pptOwvDhTslVTP3PPyPpV2/i6vhpuDF9Hi5M+wY1R09p/hkGXBa/zbpG3Nyehiuz5qJ0wXw0ncuD6XIFKjHRbHeeimbiHNq6x3HRYPLmGcCTJk/Bl4MG48zZLGVkzCYvzCYfzHoPzOp6mHdrYFbVwqxrgtno0TAyC8lLWA/MBg/MOhdMlxdZa9dh96gYXCc+GnvLGdHom26vOpTFbGiEWVUN8161LmwNxO2C6fHBa5jw+kwYdEYuj8bPtGubdHyfgZMHD2DgJx8jZuRInD59Go3cTsTt0fCk4x7prodZ1Qizzg3TxWmaFq9Jj8ernR3prm6Aea8OJmuGdXXKkNBY0DgrY8s80jBx0LzG4sfdWpg1jTDr+d6tuuxUi8YwdTcOaWGeiJN5ZF7r62C6GmF6PYonajBX0WLxmjTcvgfzTpXmd20dTHejmg2k6CBu0kIeqjyS7gaYtS6dR9Li8Qacj+EhP1yavlrym7BumI3MjxeuhkaUFBfjNLfG2LQJayZMxNbPBiDz6xG4MfsbuI8cBR0v1zPoGWe6C5DdgKaXsnJDybG6Dua9WpgM6xpg1jeob5zBpGYxMb/uJs3D6mqYd+/CvFcFs7ZB0016vAbokFU+XcTr1t9I8906mFV1Gq+Nf8p2KH54YDa6YdY0wKyq1/LkM2lhdx2dFJ0xDT9/U6eoS9QP3oQlzU2NMH0eJXc9y47xDOyYMQOZ4yag8XKJxk1+sxy46Ei0k1CVCcqlkY6I+mbl18uxiu4p4w9iWx0n0QOE9CACfVRYVaP2+VBXV4dV361C/8/7IyMjQxckGgQaaK8JHw222wuv2wOvx6u26TCUwbCMBgsfC57HC0Pder582qZNGDt4ME4cPBis8VEGjEvn5PPBR3xuj+rXVc8+Hwym6zN1bV+efQZ8XgueBY7vLRq4jXR8XByGDB2KvenpqLp3D4bQ7CJ+n/pNA6QclEqf+dO/Ob+fefS5g7QwHxyjUXTKIDMNuaLPq/hAfijaCWutEdCGVJwQ6fTA53XDx5opWzpuNwxO4bVqqCEy9BkwPAYMRYcF63ZbzkRPFw10qVn8Yz59zKOLNW9Dycuw51Pxm7zTslGOxeWBx+1Bxa1byM7NxY5t2zFu7FgMHDQIQ77+GgvnzEb+gYNovHNX8Vg5MdWSsloDdA5yG16VF+LXsrRCJSOrYqAqB1ZcnxeGooX5c6nWAn+bXq1v5J+kp569whPmz5IRcROnwhs0vNSngCzJF4/+zffaQTCO1j3lZD0+VUGgfnh5K92mzDR+4bVMxU5esRzThg9D0fnzOq/ks0U3aaZjU3EoR6/WV8pZ5S+M1hC5R5FdcpxEFAkjGpSE0/s4D/zQ4UNq75zvVq2Cm7U3MaKWcaTyswuAzWmGrC2FFiCrEKq57+wS0QV9b0Y6ho8coQx3IL+WYedvwhG31Bztz6rWZdHBZ8JI2oHCaMmTBuN6eTlmzpqFzz//XC3gqrh5Ey7DVLfH0GkpGiRvgptdTxHwEyedkKLDpjdiDHSXiPDCqinb4HR+9Xu2RNzqtgyJSjNyHMGveSIwer2I8JAwrOGy60l4SJ4IXwJdacIffqOsfT61YvjC+fPYu28fZs+fjyHDh2Pg4MEYN3682keJfCOcyr9NRiJTbTDFSZAuTaPIR2TE34yjeS4tDw0fiWbJW3hIWLnt+sF3rcmGaWv+BeNqui0+KtlrhyH8Jt3Ub6Fb8Gte63xk7M/A518MUFN+3exetdEgcAwZV+TBkO/C8xWtv53jS7v0IMDoToyrSnnx0Hjuk8TdN7kVRqRLjnBshvzpI341BsYIQvC8a3nP6bPTpk7F/n37IqHV79QR2Xp1cyBiGLQNu05LXlhwskVCbV0d1qxZo7byWLBwIbi+Q9FjrchtFb+iWfJmhXznJ3FhxCgKbLDko9wtQYO8sWiQ1bwqTgR4QRVIQV5EgCVxGp8mQdEagV4e5sRznrnWZPV3q1Sr4avBg9VW3MkpKep8aBotuThgS8PGlcPqaoGTLyLcQqt8EoSBUD4I3cEwEp8lWgBtMLp8ahHaQfis8cpbG7j1KoA7LEc2yMBj0ZUrGDRwoFpJTh5JGQoAhD9ESDYcJNp+O04i2iTSzfRwZ0vuwPnVV18hJycnQI0YMhVahUfOwZYwkv7LOwmvlZVh3vz52Lt3bwB3+IPAShj+XX7L9/BQvktImtP2pKHfJ59gytSpuMzpo5zG2IYRYBzJF02lPNNIMr3wi+8CMDa84XD8HU6vitsKXoG34+ZzJBokrXD88p6773J1MHdUXbt2LeLi41V3UkJiItYmJakV8U0ul4CHhIpGK492/CFAYT/scPbnMDD10/49/DkcPvy7/A6H429+i8Q7vm/tai1OJPg7d+5i8OCvsDcjAx5O7X0A2UTCF43vHCcRjVLpJpq4LxKNx8CBA9Xma+IYSI48M3yUi07om2++UafOsfuiKy6hmXtHcXPAoUOHqi3HaTRbuyROa987+n1HpReOh12HPLCJu5VyU8TExER1/vPXX3+NBQsW4OzZs2rr9Uj5Ia5wfJHgnuR31CHuQ0Xeciv8x/FynMTjKNUHzBMNAeeU04gOGDBAdc/QuPCd3UjYnx8wiQA4C9LEiROVo+DgeFdcpFtoz8/PV62kL774Qg3ICw3yvSvoiZTGo6Rvzx+f6Xxv3bqFvLw8cI8rOmWOy/DgngkTJuDQoUNqYkIkOuzv7Hjt753nUA7MnTsXixYtUrMBQ788Hr8cJ/F4yPGhcyHGiV0wrBFNnTpVKbssSLIjFlj7uwd9pvOZOXOmSodbfXfHxXEWHolKw8nxisrKykBLyU5PeH4702iGp2Wnw/4sNAg8Q44dMOS2J3SCu3btUo6B8uQuq3QSO3bsULuVSnw7Tuf50TjA3Yh5INaVK1ceDVGUxnacRJQKpivJ4sEvrGGym+ncuXOtJi2GqVWAdnwgDjbN2dXR2qB4O9A8NIgYSQ7c8iyDP/zhD+poVB6XKd/aQt4RPIiE/0Hw2ulky4wD0Gwd8GhPOoXPPvsMCQkJ2Lp1q+pqsg9AM660EB8kzUg0O+80B5KSktTJiZx2zetx46vjJJ5wTec4BI02DQu7JrriYq2WToIH3HfHJUaWxnLjxo34r//6L0yePFnN6mJXTXcU8gdJk2dAs9bKcQaejkaHQPkNGzZMTfUtLCyE2+2OyFrJ+8OGEZE+4S85rjN27Fg4TuIJV4THMfs0FJwCybOEV61aBR7J+CDG6mF5wu6Q8ePH48yZMw+LokPjHTt2TB2bGRMTowa0aYTFiHZoQm0gs/Nd0raH7KYrKytDZmYmNmzYgDFjxiinwJbD/Pnz1Xs6/PtddpwP83w//E/id7aI6ajptKXr73Hig9OSeJyk+YB54XRI9ltzPQRnwNBodMXF6a+cXcMzjKPhYr5ZCxwyZIga3N29e7eaqdJV/CAPxGDzmS0cGhs6Bg5A05lu27ZNTU3mzCzybt68eaBzY3eTPW57+CnwDxq2B/eTCMPjWDkRYsuWLZAKxuPEB8dJPE7SbEdexDBw0JiHzXMcgush5H07UDwyyPHjxzF8+HDs3LnzkXF1BAIZpL969apq4fBYTdbWOVbTVXyRdOgc7t27p8aG9uzZo5zBl19+iUGDBqkBf76Ts70l74zDPES6BG+kb867juEAnTlboRybkNlyHYM5OrA4TiI65NBlVNCY8MhInhNNY8hac1dfrLWzec7acbRc5AsNKnnDGU/kDac1siuhKwwtWwQXL15UrSsOqHM9Ax0pu+VSUlLUDrytOYK2eNgVtLeV/uP+TfjLSQMrV65UDvxxy7PjJB43ibaRH1Fo6YPnoGdXjUPYySotLVXGj7X1hzF8dlyd8cyaOR3Yhx9+qGY+sVuO7x71Iv/tFxdicfD+8OHDysDQcQ4ePFg5CA6oc3sUysd+heOwf4v0LDKP9M159+gcEHnIBAJOJX/cLsdJPG4SvU9+2KUSFxenprxyK3BR8vtE69DPVVVVmDZtGpYvX676cDsU+SMisxtVDupzexKO2eTm5qoZQ/bv7UnKDs9nzjqikzx16pRqIbClwAWMI0eOVI6C6xzYr93aRRz2S/CHvxcY+S6/nbBzOLB9+3Y1AcS+lU3npNT1WB0n0fU877YU2Zc9Y8YMtS2FKHNrxqWziGR67MOdNWsWZs+erRaAdVZaHYH3woULanBfBtq5YO1BWj+EZWvgxo0byjFs3rxZjQWxK4k4uahPBqBbo7ctGbX1jfju9721NJ33D8YBTi7guFFWVtaDRewB0I6T6AFC6ggS2bXBfZk4n747ZxXJIOuyZcuUgeRq52i9xMByoR1XonNbi+TkZDWwfD+aGZcD0DQanPXCTRNpRHjTOe7fvz8iHsaTdO+XRnu+dySu9qT3pMJQRzg7jq3PjuiajCY+Ok4imqTRCbTQSLA2y50/aaBWrFjRrdP0uFiNhei7775ThpddL9F8idHmNEeuJeFWHhxYZssg/CIs4Tgwf+DAASxZskQZDjpmDkRznINTje0bGwp+exiO91F+E69zdS4HyGN2I3IxI2XcVndh51LSOdgdJ9E5fI0KrGJ4OA7BQVFurEfjJu+7g0hpSXDGzujRo9VeQ91Bx/3SFB7ZQxp39j1z5hNbA3RwdMCcEcWtMTgAzZlRMgDNkLPI+C18AJrpE3dnX12RRmfnIdrxUy+oBxy7ovzZJfk4XY6TeJykGZYXKi7HIbjBGw8R4q6g3X2RJt5cUMe55dxzKFovcRCkz/7MLgUONnMCAPdH4jgDB6DZ3cA9sNitx24mTmtlXh1DHa0S7hi6eJoj5cyNKznmx66nx+lynMTjJE1bXmiYOA7BPnSuBt3X1klwtnid/SjGlrN76CS6Y53Gw+ZRBqC5NQZbZa+99hr+6Z/+SW0SyJYFu/S4caDkka0m1jIdJ/GwHO8Z8aQiwMV01GnunfU4XY6TeJykaeWFRomKe/r0abWimn3odBjRcIkB5awh7j/Ezf6i+SIfufKas1c4AM3aIvueuTU0F9txhtK7776ruhkIx4txeDvXk8UBzlJja5LTpR+ny3ESj5M0bXnhQiwZh+BgabRcUqvmIjIaWo5NyLtooZEGnjOTOE2YLR0OQHPKKg0Au5U4OMmV2GwpsOXAyQCc+cRVtzKgLc4wWvLk0NH5HOCEBbbaudFftOn0o+TecRKPwr0oiyuGSdZDsMbLxVnRdEnh4cZ1HOijgWU3jrzvKlqZHp2B8IwhB6DZVcCuucWLF6tWAnfIJZ10DNeuXQuZmSS0Mi53tuUsJk515UA114KE45e0JJ4TPl4cYLnjWBV1IdJEhZ6aW8dJ9FTJhdFNA0SjxJotZ9RwUzgZh+C3aLs4ZZAD6tzNlCuwu/oirzheQH6x1cWZSeQbZ1yxxcApq9yLh4P93IK7PQaex7/SUXD1NLv67PEkvoRdnV8nvc7nAGXLCSKc4cRJC4/L5TiJx0CSVE4aPd6cLcS5/DRwNMTRbJTYjcPZIGxVdOXFWj674DjQzJlIbClwzyRum84WBAem5WwG8k+m7fL5fld2drY6HY5benPRIp0Qr2iWw/3y5HxvPwfYxcvzPdiqaI++tB9z90E6TqL7eN9hKYsB4mll7DtnLbgrz4d42Iywq4mzhLiBXmdfbDWw4PIUMU5bpXPivkys9bM1Q+fKFk14wRbePgh9HK/gbCd2VfHUvzt37jxIdAe2B3OAcuc0aFlDE65PPTFrjpPoiVKz0SxKSEPEIzjZzdRd+zLZyGrXI5vlXGvAcRNpCbUrYjuBiJMzjsgPLoLjPkkcp6Ej5VkaqamprW7tLHxtZ1ItwHiuAGeVvf/++yHneT8q3hYJOS+iigOc6MDJDRyXelymPztOIqpU7MGIocHhzW0AuB6CNVdZdyDfHgxj10KTVk6DZf89u3R4P+jFfNIZMJSL/cGcYssFe+zS4hGf3JKEXQFyNgMLsFz2uPLuUULhPdNgq+XTTz9VLQvO6GIe5fujpOHEjU4OcBEluy4Ziqyjk9L2U+U4ifbzKqog7YaG87N5whz3Q4qW9RDtYRbXHnA2EAd8H9ZJ0EEwLmcm0Qiz24g1eI4vsDuJ3Vns8qHTkDEaO23CRwnlW/hvvo/0TuDDQzssxz5kzIMO8XE84jI8/0/qb54n8dFHHwV0mnrQ0y/HSfRQCYoRYn8+V3mOHTtWzd3vSdkpKChQ50qwxv8wToIOsaysTG21za4rNvM5YMxxBg5AcxDZvtma8Cy84Lb1Ppyf4XHDv7f2m7SwNcMpkvYB7dbgnfc9kwMc12J55MxCTpB4HC7HSfRQKdJYcVYQt7BmLVXGIXpCdsTQ0sGxxs+uMjHU96OfzoSHJbFGznhsiXCMgVMPOebAVkn4OcOCW9KV3/dLq6O/c50F6WWrb9OmTWq8pKPTcPB1LwfYsuVZKd9//30LPexeyh4+dcdJPDzvui0mjRxr0exG4XRX1sR5KePXbVQ9eMJcncxxAnaTsXDJxWfeYsz5zBXQ3O5g586dyhmIY+BsEtbaOEBN+PBLcNi/ybtw2K74zfES5pfrKdja4UwoXt1JU1fk+0lKgxUBbt8STTsdPAr/HSfxKNzrhrhi7NjPzX2D2M0ifdw0keqOYCy7gdT7Jsk1BAsWLAA3RuN4gVxsLXDQl2czcCxhz549agCaM6E4O4mzuDhbSbbGsBtY+7Pgi6aQ9HE1Lldw01FwKm5JydXHZpAzmnjdXbQsXLhQzdrjlPTH4XKcRA+SojgIOaeai8AC50OIg7BqpT0hW3QG7DLijCMOPPOSsxl4aA8XBMoKaM49J+zFixdDBqDJE9XqCJvhFK35l1YS6eOEAz3rKlEt4LOPn0Qr/Q5d9+cAt+WQabD3h45+CMdJRL+MNIXWdFcuCJs5Ywa+Hjq0xW6ToS2Jll0v0ZjVjRs3qhWqnDLI1tHKFSswdswYlT+G7JrhoK+sgGYepLVgD9FDWk9Cv2ryAWrbj6FDh6hWRVra7semHzsada2raOL4IMfIqNNSseuqyZV5jwAAIABJREFUtDsjHcdJtIOrYnz9aAZv/ae7dsKja1gNoeGtLqBwQFvNn73x/mbexN8KXms9xLqkJHzy6adIS0tTdibYk29LgA7F+hOaBW9rriOYR6GldbqZEuE13c2KdokfCT/zZlo0qZjNgM8wcKuyUi1qe/PNN1U3EtczcHYSm+snT5xQ3U2SjuC35VI90jeIswjKhrlveWkcdtlouEiwjM2vOo+hPGmJWb8RGsNDOzy/KZlQ3hYPr10rxZQpk9XMpw0bNrRYoR3Ap/LK/OrbjleeBTZAt03PBEbCFrBKB1uXu4bXZUDrauv8C8EteVYc1fiFBgkJH6CZ+bP+5HtPCtkNyq5EjpXZ1+P0pDzYaXWchJ0bEZ6pvEZzM3zNzfBaN5/5jkrN7/aLBtGgEWwGvNZNeC4TC4fVuAEPAPbIM+SkOS7zCodlN8Xh48fx6cCBWLhsOWqbmuBt9qtb1VYYQayHZYCCNGjaFd2W4ROaVTRA0afg0QyPuv3wwa8MmqZGILWRYP6ZPw/zCMCHsDyqlo8f/mY/DGh+eU0TN25V4uSZM9iwZQsWLlmCP/3pz+jduzdGjBiOjIwMVN6+rWjRPBce6vjhPOFv8toOq2WjDY7kkSFhTUsuQb7o+JRj+MV3djiRJdOLRIfgFjjGjSRzOgjKzdPsh5vjE0q3gOq6Oqxeu1YtvJs3dy7Ky8oUSTTGBnnY7FeOls6WN9+TDqFFnjXdWt7E7UWzkk24rhKe7ygbTY+WO+H5jt/CL41by5xy501+h8MKbn6TMiN8oW4TXuhmGnymDEmvm7pnlTeWpZ54ccyJa3R4Vop9rK0n5oU0O07iPpKjnrJQ+vx+VSCo+D5/Mwy/VVjtCk8D4gcMP+DzBw0c4+iatC0xqzZIo8OCRMNMY8ubxoXK5WpqCsz6KbpyRc0EGjdpEsoqbihHQkNDuuhA7A6CpU6cVbCQakfHwqhbF8HCyjxqeHGGdD4mfDCVm1DFmBmzbm24aAAkj2IsgqW6uZl0mTCbTTQ11qOs6ApOHj6MFUu/RWJCglrLwI3QJk+ZjNjYGGRmng7kgbzSdGv8kfmnV5sT1qQ8LIOlZGPxNsQSSR4pG5uzoByZn3BYvtKyCeaR+VVOIphNJVCtI6FwTIM8JR77Rb74/CY8ftNy8oDHrx2YYZpq6uR/v/8BJk+aDA58+gwfDL8Jg4sGeStdovNl/jXZTELuoGx0BYK80zK3U0F47WTofMRpaR3UTp3OPSQB4Z8lc1U5IB8V/+y4NSXUMcFtlyWdRHhZICXaSWjnqZyEHa+VOZVf4as9ySh85lgax9S6Y4fjjmaH4yTux1GfD+7blagrLkZjcTEaiotQV1yExorrMF1NgcKm0Pib4autR31pGeqLStBYUoq64quoKS2Fm4ejc3BV0qOyuz1ovHkLtUVB3DVFV9Bw8wYKcnJwLjdXNVfv3L6NOVOnIvazz5CzZw8ahI6iK6gtLYW3rs6ySEFrYTa60XD9BuoCuItRW1yMptu34ffR/NtquqYJd1UV6q5eRWNxEZpKdB5ry8vgbeSAslX3o+Ggs6yvR11ZOeqYx+KraCgqQd3Va/DU6R1PmUWOIVy6VIiD6Xvx3by5GPPJJxj7/ntYPGwY9ixdgoqcbPibmpCfn4u5c+fg6NEjyih5a2tRd7UU9VeK0FhcgvriEtSVXoO3tk45KW3cyDw/mt1uNN68qfJVX1SEhqIi1JL+ykr4PV5lOcV4kvGemlrUlVImlGOJ4k39tTL4OGhut+Y0xI2NqC+/rmAaSq6ivuQqaopL4Lp9B81eXxCe8UwTrrt3UVtSgvoi4i5GbVER6srK4GtsDNChRM9KRl0t6q6RjiI0lmjZM6773j00GwaOHjmqDq8ZnZiA3NOn4K6shKe8XMumuBjMayMPPXLpGWEBnfI3Kz41lJWjsaQETSUlaCgpQd21a/ByN1qr9aGlSYZQ/24EdJu0KP7dugm/26V4HHQUzfBU16CWsqFOFTGvJagruw5fk0t7KZ1BpS/NbhcayqkjlGOR4kl1UbHiE/XPVhIA04Dr7h3UlZSgsagITcXFKl59eTkM5pHitlrYbLHR+Ya3RqRYRUs4d+5cNQuPa2N6+uU4iftI0HfvLs5v3IidMbHYHxeHfbExSB0xDEcXzkN1SZGKretkuqpVdiYLeydMRtqIOByIH4udMQnYMX4iig4fAXzslAmWp4aKGzj93RqkjorFgdhY7IsZha0jh+Po8m/x3cwZWLN8Oaqqq5CSkoyhH/dD0pixODhlCvaMHIH9MSOxa/gw7J40CaVZWRYdQdxVRVdxdOG32DkiFvtjY5ERG4vvY2KQtXEjvNXVuktHaHE14VL6XuwaPRoZI0fiUFwMto8YhrTZs1FRUBDIo8pnczMq8s5h74zZSB0Zi0PxY3AgYSzSxk/GuT0ZKC24hBOHjyBp3VpMnjQRoz79DG/3eQl/+Nu/x+Sf/BTpMaNwYNxYnFm5HDXXSlFYcBGTJ03A7t27VDrXzpzFngmTkDZsBA7ExWP3qFjsHjcZ106cVvxjBxj/mNOmihvIXL0G2+PisHfUKMW/bTEjcTppLepv3QzlSTNQfPQodo0bh9SRo5AeG4edw0di79RpqDh3Tlkeu2zuXbqMQ9/MV3lMj0/EnvhEbB0Vi/zNW+C5VxUiR7hduJC2G6mjRyNt1CjN6+EjsG/2HNy+fDlAh3oAcCsvF+nTp2HnqJE4GBeL/TGjsC0uDhf37FUOmHA5uTlIiB2FhAH9sSYuDnsSE3EwPhYHY0chdejXODp/EapKwwyQHyg/k4X9U2cgfVQMDsbFIS02FqkTJ6H8zBnA6w2pHHhv3cLx5cuRyhXCMTFKB7cOH4bT361Cw03yz8YRvx/Fh8m/Cdg9PAb7RyVg57BY7Jn+DW4VFAUrKVYcV9k1HJ03D7uUro5CRlwsNo0Yifzt2+GpqbFjBrwenEvdjl0J8dg3cgQOjhqF7cOGYe+smbhTUqJgWalhK8QwTFXJUTPahKFRGHINE6dsc6O/nn45TqJVCeoC4rl3D9mbN2NTQgJ2jB6DHYmJ2BAzEvsWLcBd5STsBakZJVnZ2DZ5KrbEJmLnmInYnDAWWyZNxeWjx1o4ibobN3FsbRI2xSdiZ+Jo7OAGdKMTsG3uN/j6ww8xYuhQ7ErbjVExMVj77VJt5KbPwBYW/IQEFW6fNh0l2TkqFzSdvHndLS7FgaUrsTluNFITx2D76NFISUjA6S1bVKsmpCXhbsLFjHRsHjsO22g8SceoUUidOw8VhVRyq/5utSTK889hxzfzsHHMWOwePQ4bBw7BpD/8GVM+6Y9v4scgcdhwjB2diNWrVuJUegZOrEnC7onTkDZ+InZPGI+NdLZLFuPO1RJUXC9HYkIc1q5dA3bFkH/bp0zD5lFxSB09BpvjE/H9xKkoOZUJGHSy0lkGNNy4ieNJyYqObQmJSjYp8fE4un4dam/eUHwISMffjEvHjmHLxIkq/e2Jo7EpNg47ps9E2bl81UoJ8q8Zd65cQcbCxdgUPxrbRo/D1tFjkRyfiKyt21Sri8iJW11uF87v3YOtE8Zja3w8ticmIjk2FmkLFqCyqCgIaBFz89x57J49G5vi4rAzMQE7EuKRkpiIc+kZ8FpTgYn32tUSLJk8CW/9y7/iy+f7IIn93ImJSPl6uKLt7tVrwRaNRcq17BzsnDETW5i3+ASVxqaJk1F6OhPweJV+KB1phmqhHFy5ChvjEhRsakIikkaOwlEemmM5CTv/Lh87jq2TpmBzLOHHYGNMIrbPmoebdBKs4gtwM1BfVob9ixZjc1yc0mvq37qYOGRvT4WrhZPwInfXTmwZMxrbY2Owk8fajhqJ7bNn4lZJseI0aSb6wuwcnD9yDA3WQVV8F40Xx9e4jinaToZ8GF45TqJNrrFda6iaDrjYi01f3k1NYO2RRiu0m4IDEgbg9liwHv3s9nI6T6C5rxSb/7jrKbtFXAKvceacOoXf/+rXePbZZ/HfH32EWbPnIOtsFq4UXkLVjVtobmjS+JkO94cxTFWCxMipnhMOjLgNwGXhJ/2E95Fm3djXBYx5NHUeVd7cQKOVT9KmcFtFVDkJE80eD6pv30ZeVhb2JKcgefpMzI+Nx8zYBKxcsBhHDhzAXZ6hwLES3qTFY+MLaSHdfhN1tTWYNHGiOsbUIG0teEIeCh2kWFOtxEbD5CVen84n8+dhHolbmcKgdMkU4ud34YXAU2bWAKyKxXwqOnw6bcKp26vTM+24RUfIM0svqBse5tGj8QjZDBnVZ1o64tK65HJpmkifDGSo8YxmuGtrkbpyNcb2+xQpi5egkq0Hdu+QHuqUjEdJTikvlUeXpocyDcDaeGd1kyme8LuSPUPqFOmgjuhBaRWL/5gedULxwpIL5Ur58rv9FjqIV9123AqjUKzzQF6Rb+Sh8JE8NH0W03SctVOnY8XQ4bhRUKjik51h2IJ4u/GJ511zDQwPsOrp02AdJ9GWIilra6kgn8Xo8VnukPiEtcErGNsrWznS0Sx4hZs49WBhSlIS/vl//S889dRT+Md//Ef0HzAACfHxmDN9Jgpy8+FnYbVfViUupHUgpLAUSUkSeuxxFb0WkHICzKc9DonmIKkf1TXVyM/PQ1raLixbvAhjYmIQM2QI5s+YjiMZGaiqvBPIvkqChpYGWHUiR8BLu+P1gf233367LGQzPsVfe+ezxdYQ0vmD78PpbQF0/xeCRiXDf+ohLJ68D/nGHySAjtq6+Vs9hw3+qvg23aE+0eGIoZfvylHwtR/NfPaZ2J+6G6MGDMTcaTNUZcEMcxAqqp1cJWvittLjNwGSdOwvAjoYzLuA29GGPIcD8Ldc8k3wkkXyTmACoXywyoDwIzDiF8xDyoRJSP5iECovXFSxBW0AVZQ8VFdXq2ndPBa3p0+DdZxEa0pF5Tb9cHEg9fZt+DhI7TfVlE5dx4ocUdRdlJe/+Sy3fNextfGVef781tjUpE6W+7/+x//AX/3VXylH8Q//8A947733sHHDRjWHXnCp0JoOyWdxEnxW6dAu225mqWVB5UvdheO3ZjPZ4TgAXVhYiN1puzF/wTzEJcZhRMwITJk6GRs3pOByYaHa7VLSl7QD6SgHo9dStKDFYuHSpUvVeddygluATGsGTxCXjX6brSW9wVvPetIZDZWRzmlQForWQGYt2EDiOi1+Dskbv4dcGivr3P5mrR90qPoWWnQE3WknvA7uTSXyD2YimIBKn/kDcPzwEQzu/wUSY+OQnZUNj5cTVoMiFd6rFoDohcX/EECVB6sL0ZI96dUzpkJpVpRYiQiPRY7yOwS3RbqKouSi8dnjBHOnnzR6qyPRolfxJKQlo4jG1klTsWXgENyJcifB3QS4Lxm3j+npK+kdJxGmsVZ50FbH40Hu3j1IW7wId4uLVFlQU/gso6/VNhQB39mNCp/Dfwfj6Qa9Nhu6sBdeuoS333lHOYi//uu/xuuvv64OrOFWHIJbDeBZA3lsjHNeuzgIhpKmhPKNv1Xa/Be4WYhlPQPdRDOaXC4wvSOHj2D1d6sxduw4DPpqMGJiY7B67Wrknc9HA2ftWGiIlzRpWqw0bGwJp1toVLQAav8pnvvAvfjtOCPTK5nQ6UgeJZRs2ZJvgVP4EUKHRJQwLG9ty13LkROG9aRh/g6yWNMistYQInM73QGaGdm6+CiNDb7Kzz+HuIQEDB85EvsPHkBdfX0LeRNneB4VuhCihB69FkbiMLQlr6mwXjAQuBDeWbQGMm3jHeEljvDQjj8cp+CVeAwVvBVp4/hJ2NB/EG6fv6BSDXwXGqIonDRpkloYWllZGUVUPTgpjpMI45kotNLJpgZ8P2EcZv7mV7hx7JjudhGlDYtn/8m4lk4HXvO3KHTwm/2tBuWRmhyLYDcT+zSPHj2qNoTjV9bG1BRAC7/EJl77HcQfSD70gTU8v1VjVM9++LxetWvl8ePH1YZ7nKc/cvgIJMYnYNmyZWprbu5gar+YjtzCNxbyttKP9I3bZnMmCA8havWShFoFsBETKZH2xouQToRXEbARSqQQiQD7d8JFgomAlq8kqhWlvLwc02fMwJcDB2LDxo24wx1wbam3gkW/JqDCY4+hXrQZrd0fI6Gy3jEI/yzvQt7LywiJps5bgNTEsbh3WW+e94CcjICx815xnQRPXizi5IUefDlOIkx4VDrWeJTSNtYjfdxYrPnlL1F35KjqO25DfwOYWoNp+T70DVdqfrdqFf7zj39Uu6MGNu+zul3YHSALkSRmpDBASGsPlmPgQDH3gjp16hS2bN6M2bNmqwNT2EzmQrf9+/bhNtccsG+cfQsRLnv6D1tguctrYmIi6KAe+RKCHhRR5Ow9IJb7Jc7v5NJDcMqGmrLg1unLV6xA/wH9VcizRfieOtL+y45UlL79sdsNaSPJ9hiIbqMi8E4VQJUX6yufTT/Kc/NQcSpTTeNm99xDcDKYRic9SVlhVxNnOHEQuydfjpMIkx5rwgEnUd+AQ2PGYesvfw3X4aNKSSMqdBiOh/3JrbN5mA43BuN5ETTOclPx5H5Y/IxHfBxU4yZk3K563rx5ajMynub2zTffqLMpeKgP4QSe/avym++kECgA279IBsD2udVHDu7RMXHn18f/enQNEj1gpYItT24BQdnxECfKSr73bF6ST+JQrcF9DtZL3xvzqWZgRV8upXxQr7/88ssedSBYJG46TiKMK3QSvFVNprYBhxLGYutPfgHXwSOhTuJhLWJYevafnAUhMyGoaDTMUuDtoT1Oe5+5BXfgbIalSzFy1ChVy+HJdlu2bFFNYjluUZS8vbgfFY7TBHnkIw8Ucq72ccCuD0ePHFGnE9LRnj17VlUwulqG7aP6QaDCnIQ180/PMOSMOc4k64RC+CAk3gdWjhamTHqyPBwnESZoqbsoJ9Hgwrnlq3D8q2Fwn83VtRiBj279VFSyNVJcXIz9+/dj1apV4PkTbDFwr3tuwZ2Xl6cMimSJoRgf+7vOfiaN3OuGO6DaWyydnW5Px2+XFbdTZ9cGx7G4+6icz2GH6Vn5DXMSnOlkdaeZ1kSLaDe8lAHPnqc82OqLdnpb0w/HSYRxRlRTjRK7vfBdLYPv3AXgblVUOAkafh7VyampdqUTY+Dz+cCBzUOHDmH16tXgYT3cfpsDaDzFjoPD7G6iMZaWShgLuvwn+9c5E4QDfdKa6XIieniClD9rrjy1b8CAAeqAJk4pFr3oedmTkijVNm5uqGff6R2H9QyyaM0X+c7yxUrZcm6vU1UVNeXtQXnmOIkwjlE11c1dKLlPjGkN2rKPntOLAgBhEbvgJ2cXcZCX/dA0rGIA2EXFgUt22/AQHxqKwYMHqy6cRYsW4eDBg0pJBZ7KyzjSf90FpLeZBB0fF9StWLEi5HChNiM5H0M4ILKlMeK6kw8++EBNfpAztEOAe8SPlk6CU7UrK67j1rUyeLmKO4ovqYCxLFK3Oc4XLeXtQdnmOIlWOKZUlBMqOHymViJHWD3bSty2XxPzg1+s/a9btw7vvvuu6jpi85Xv2N/JMQUqIvukeXAPxxm4lz1nR9kvqd2IQbF/685nFh46szlz5rQ4cKc76eppaYt8uc08pxX369dP6YJaYxPl/fctea2dhJ6/xNaELje71yVhx8IluFNWritJLSNGxRtxCKy0cXJIWVmZ4ySiQjIdSQR1Uuw5C1hgyag0NdpKTEdkoWX3CbuGGD5sOaWxZ+3w+eefx29+8xts3boV6enpWLJkiWot0DHMmjVLOQYaBDqQtq5ocxKklV1NrHWRfud6OA6Ik2DIi7PF+vfvj/j4eDVjTvrF5fvDpdJVsZgH+5JDnac14yZi5YBBuNkDVlyTzyynsbGxatJIz+B7S/k6LYmWPNFvlI5y3xxu8CcbzNkchNbZCLG1ctfV1eLYsaNqxSVr9vMXLsK+g4dxt6o64HsiRG7xikaT/fX//M//rFZh/+xnPwNXJ3MQmniTk5NRUFAQ8QQsKmVritnWtxZEdMELOj4OqOfm5nZBao93EnbZcjr1wIED1fkUNFh1dXU9qG+c4w76T2pYWydOweYvBuJOlK+4lu4mdgF/8sknPXqjP8dJtGYvaOsNE+W5+biQnq4OsgmMRzBOBCfBV1TppqYGbPt+C/7y9v/BW7//D/zlL3/Bq6/9GD/5+a+wZNlK3LqtV8gqFDpSCypY62NXEscW/v7v/17t4cS9nP7mb/5GKd2xY8fUnjA0CKKQLZD0gBfixPbu3au6y5gv5+o4DpC/POGOExg+//xzpKSkqC49uyPpuNQ6HlOgeKjCAmyeMBEbB/TH7fPnVGLBjqiOT/tRMIpel5aWqokEXCjKctoTL8dJhEktoJR87/Zi99wFWPTeB6g8ezbUMVhKa48ucU+cOIZ33vkLPus/AKcyM1V/5I4dqfjtm/+BZ559EWtTtsKjd/cOxWkhY38mN9XjrKQf/vCH4AZ/dBR/+7d/i7/7u7/DG2+8oRZPnTt3TnVlSf+nnZae9szZWOw24z78ztVxHKBh4s3xK04M+PDDD5XucAacGLKOS63jMUmZEswbJ0xAyhfR7ySEXk6DpV5zsklP3ejPcRIiTSuUCXfqZ0MT9owZj5W/+BVqeGgQxyXksj3ylTSLabAXLFiIv7zzHk7woBd1aeCtW7fhRz96Bu9/+hWu3qoNaZhYgCrgNFYu5Wc/PVfSLliwQA1Mz549G9OmTVM1bnbNpKWlPRZn6DLT3BqE8/y5lYFzdSwHxBlQrziQyh2F2YXJKbPyrWNT7DhsASehHpqRsyMVWau/A4825RWtLQnhAB0010pwYga3wOmJl+MkwqRGpQuuuK7H4cQx2PbLX8J9JGzFdVg85SR4frHPhwP7D2Lbtp2ob7DOwLZWixYWFuDdd9/GT3/7No6evdyqk6Bi0dkwjHTxPaeNckrs/QapI8WPxnccV+GCOm4V4lydywEuruR2ETRe3J4lmnUoUBfjAw83amgEamr0wUocc4vc89u5DHxA7DNnzlROmTOceuLlOIkwqQWdRDNQV4uDiQnY/POfwnX4sNrgj98jm+5ga8Jv+GF4DW3kOdNEOQk/LlzIx//5y5/w2z/2w9lz18NSfrJ/spa1cOFCNUOLDtK5OpcDXG3PrVC4QpstUg5o///svQd8VdeZL2o743kpL29e7p14bpLJzc3czEwyyRvfJE7zxE7c7TQ7Thw7MZjei22K6d2ATW+mdzAYIYkuhAQCFXoVIJookhCgAmqn1//7/b+919E+m3PUkMQ5aG/9ttY+e6/6rW+t/yrf962YvogG6ohUZlR0lkIQEtNZp1IrrRwrU/gxndkImbNAwkSUEAiwc6+pRvZHk7H59dfhoIVSbhLrM406RzD8qERmORvgKWUIIjExAT/56c8wcNgklFVSb1QfBsUHr5so1bw/uV5LzVRKa8Xr2m3zUqRlY+MyE82hcNmpW7dusqFNBc2YvlSjM7oxnWEtc2rmxllbrC/vRSKnBRImqpD/ZKbAzt3pwPWsLFz4dD3cl6/JJnODQIIAoVurpJYoA169eg2dO3fFU79+Gen7Dkoakk6cMbyJXM32kxrg3HuhQl28rt02GzFaISLVWVVWVopyZq9evbBo0SLRDGby/K78tEJ2mpYE204cXJxBULKMFp5jnqYR6GmBhIkoqs8WK5NeHjbvATw8AJ5mirU1UK3bNwU0/pRIuMykxXatoBAjR4/DS6+8hlVrE+Fw8zQwwRztX5wwu7GIzf3MxsMzLKg1zg1V62o9ClDRkwIDBIopU6bIDCNWJeZ8Thd8djsCPDs9Ti7O0LisR+VGZeU5TrIu2bRAIlpt8ZziAG3z6x16qFePFqD2fQhoOIO4VoDxk6fgtTc7YPmaJFTb3Zqpj1rvbf5JjVo//fRTURTkJrZ1tS4FKAxBMWSeTaGUGjUrAdqMgqBBoQz6u5+j4dzMbJzYsRM1ZWVCoFgeXyk6UTBg0KBBIH/H/N5PBLazQCICURT3cd5AbFDbC7q1g2ghVLDQLOHK1asYN3Ey2nXtg6Qde1Dj9IUAIpaZu84CtsBHdjy8qSNBG1TxfpJXC5Co1aKk7g1PCWSnxvqgBB07Oy5L8VtrW5Y1t5PVkz/G8gGDcPP8eaFJI8ZurUbDSAnR5AxtONHQX7xdFkjUWWP6uqwIKDVsjVZEYRFEYWERpkyfiZ5938WuPVnw+A1go5aa6ky77XxU4r48z5vigly7ta77RwEu91EfR2loc7mEyng0A6OUwtQouaVzWTsr11LaMGEi1vfph9IYt91kpgv32zhDi0fbZBZImGvT+DvgR3V5GcoKC+C22Ro8zS4sLMD4CRPwVvuOSNyaghslZSi6fkO7i66jtPQ2PG6vvilhTLBtPquZBO3cUFSQIpnWdX8pwDNLKG3Gsymo1Ekjk9yzIHC0pihnCCT0KUXyhA+R3KsXyvVzo+NlJsEDtTg7y8vLu78V24TULZAwES3ElHzvdePQlmQkT/kI5RcviM+w72Fh9S/BADas/xT//u//ip/84pd4b+hovDt4KPq8+z769X8fffv0x+zZC3D1iqYxGhZFG/2h1rm5nEFTJLQvZF33nwLcg+DMgWYluFTy1ltv4fvf/76YrKcyZ2tc5va2Ydw4fNaje8h2k/l7a+SpKWlwAESLAvFowNICCVONyx6EeuewY8uE8Zj1m1dQun+/jPyjM6X2hZvde9J34d13+6FX3/7o0fdddO/VCz169USvXn3Qo0cfTJs2F/mXClQqbd7l0gVvaqTSrPLatWvbPE3uNwEI3NyPKCkpQXJyMl599VV861vfwuc//3kxWMnz0lvjMre3jMVLsG/SZFRdvizJ83s8XJyJ0Wz7vn37xJpCPORZ5dECCUUJ3SVIaGY5gkBVNfaOGo3EF16EY1+W6D6EgYgpLH+ys3O7XWJ4z2a3o6q6BtU11XLX1NhQXWVphQbZAAAgAElEQVSHrcYNr5cxWZeRAlz35lo4D1eKR1FBY1ni/ZkzBSp/cS2ds7vHH38cjz76qFgj/sd//EdZiuI5KS19mUHgTv5lVJ89B391TWjQ1tJ5aI74a2pqBCR4QFhrzcKaI9+MwwIJEyUJEAISFGmqqETO8BHY8ezz8GbsaxBImKKzfjaCAtS0ZqfEA5YIGNZ1/yhAsU3uPdByLPclnn76aXz1q1/F5z73OQGKF154QYwycsbRapeaVoiyqtJDarXU7ykhDnp4zjzFYCkpFk+XBRKm2gqbSVRXY8/wEdjw7POw78sU8aT6ZhKm6Ew/FZebXls/hQJsSPPnz5cT6goKChosKGCRr2UpwHOzuUxCybOOHTsKYDz22GNi+4nLKGpPqSVzoVqOiKMHtOVJ8yyjJdNvjrgXL14soMslvHi6LJAw1VYYSNjtOL96DY6MHAX36bMWSJho1RI/KUlD66QXLlywQKIlCHwPcRIMCApUuuPpiNSOp7BBq4KEbjbn3gZr90CEewi6atUqoRkPgYqnywIJU20pkAhyGu12I3jzJoJXrwFcA6W2aQN0HFpLhtyU9QfiJ0UFeYoaFeosOsZelbJOtH03t5hPoQ5Fg+qpnoajPhvd8NKbvsTXapMUhUf0Uow4Nzc3vGgx/ssCCVMFkRUJFGKYz+cFaCOGgMG7Dvv1DWooprSsn3dTgDaEqPFLkUHrij0KNGnWYOzf9TZkLplqd2qGwN93X0EUXryEgtNn4aq2xZ2eEQUB1OwrnvoLCyRMnKj4mXMGfzAAX8APb8Avz5p5P1MAw09aL83PzwclGayraRTg2vfAgQOxc+fOpkVghYo9CqhGJWerAG6XS9qIx+MOzUKigYQZLDbNX4SNYyej9FL8GYG8deuWiHiTx6mDEi+XBRJRaoojGg8AqgzxdhM0tBMgIoZgpXMUTMmceNuYilig+/SSy0wECR6zaV0PCAUEAbSZeHXFHaxZtRIjR45AdnY2XC6XtCo1g1CuAgflKkqsGTsBK7r3wc0z8ae5zLL269dPJJziaSBpgYTiPpNL5vQjAJfXDZfLAZ+fhwSZWbY2EG2yUMSNZ1Jbh+bU0qWxT0VFRXKMqaV13VjKxbB/aUx+OaFx59ZkPPH4/4e//9zDmDF9qijsKYlWv36oF4FCtTS66pklTPpwEhL79EcZbTdxXyKGix0pa1QWpZRTzB/wZMi8BRIGYvAxjCl9XuQfOYRjmzfBfuOGiV3DA6ampmLAgAFIT08P/2D9ahQFaDOIG9c88tFSqGsU6WLXMxtVIIiiwgK827s7nvnFT/Ev33gMc2dPR3V1lVhZ5smkvCPNJAQIdDRIGjcByT37oPyMpvFtBJTYJQC3NDUT69OmTQPv4uLiWM5uWN4skAgjh8ak2mGjXGdyIHXaNCz7y1u4c+iI+AwDET0sNU+5zMSjIK2lJhNBG/mT9vYpXkmlOpvN1sjQlveYo4BqMEFg7pzZePvNP+Oj0cPxy5/+CJ/MmQmbrToEEgogjB2/Cq7KtWH8RGzo3T/urMAqkKA1AS6nxtOZKRZIKO7TXTIoz7ySpSVbDdKpJfn8i7BlZss0QzGyMRhlxYcPH47Vq1eHNuKM363nhlOAB93wTAma56BMvnXFOQX0zepzeedALe3xY8dgy7q1+MUTP8Ync2bBYbdp57WY9B/0iUPtzJ4vAkHk7krHqYRE2G5o5zKYQSTWqcXzrqnBTkmneLkskDDVFGcRAhI8m7q6ClmjR2PrSy/Bk5kVUZmOI4SNGzeK9mk8Wng0FT8mfq5YsUKWnFrTJHVMFPxBzEQwCKfNhlEjRuK5F17G3n2ZSE9Kwo9/8APMnzsHDrtdTvkVDDAAhQKJEEn4gufGe7yAi8cKc48j9DVuHiiYQZCgiHe8iMFaIGFir5DtJo6Aqqqwb+QIbH7uObj37RNdCfNMghtQXGOkyQJKLMRLxZuKHVM/Kdk0duzYuFM6iiki3vfM6NpuQSBtxw488+tn8fG02Si/U4HUdevxo+99TwcJXd/BsB9hXG4KFUNQRN+pVs/0GGcXl6O7du2KHTt2gLPmeLgskDDVUhgI2Gw4MG0advz1LThpKjxAeSftSFMVbP/+/TKL2LRpk2xOcWZhXfdGAZqm5uFDBw8evLeIrNCtTgH233JzJh4MoKy0FF06dsJbb3fCqdOa2OqeDRvwk//4DyxeMB9unkuh44lqe3QZx11XKHKVyF0+Yv4FhTF4roQ67zoeBpUWSJjYSjEqGRxOO0oOH0Lh1q3wFRSI9rV2PKkWiBVOKRzuR1CJjhUeD5VuKnLM/aQi3ZAhQ8SoXMxlzspQnRRgPy6dPNtCwIfVK1bi//znD7Fg8UpUVNvh9wewe8MGPPEf/yEzCVtVlbwTw311LTcxVf2QeQEQ/bnOzMToR4rKUwyWknxqQztGsyrZskDCVDtqsMJZA7wuwOcGfHz2AX5tHVSYFABl+inRREkcmla2ruahADf1KOGUlpbWPBFasbQqBdRgyVZ1B+3+9lf8w//zFbRr3wFjxk3Ahx9ORKc338S3HnsMv3v5ZYwcPgIHDx6Gy+2R2YMapKk2FpZx7m9UVcJxuwx+jyvafCMsSCz+oGAG+w1aOuZAM9ZXHyyQiMZFnEkEaLeJwKAvmJo4d9euXSLOZulGRCNi095fv35dpJuowW5d8UcBmU0Hg6ipKMEnc6ahW5eOeKd9O7z99tvo3KkjnnrySfz3L38ZP3/iCfztrbeQmroLThc7fX2pKoKrqHAwZTsy169BxQ1Nz8DUJJW3mHa3bduGwYMHy3nXtNRggURMV1f0zHFZKRAMyE1NUCr6GBmSWtWLFi3EuHHjcPOmJo4XPTbrS2MowGn4xIkT5RhTP2dv1hVfFGBDCfoR9NlhqypDackNUaS7dvUqbt64gdkzZ+Db3/5fmDxhAvIvXBCBD3NHKVHoB4BxdqGuNZMmYkn/vijOiy9lOpV/ukePHkWfPn1w/PhxseFkLrvRbyw8WzOJKLUQAgmx2aRpgxqXQXnGL62V0kZ8rFdylCLG7GuerUyt608++cQycRKztVRPxoKcgXtl81p8GkZYq1atxL/9279i4bx5cDp4BKqChNo4+YbgoKQNVfCEiROxrk8vlJw9I55l/6M2WFw88TwJnnedk5Mjy02xvo9pgURUtgoCPi8qrhfh5vkL8FTbwjamaRueUgqWSeuoBGzyB+7vzJ49W5TqOKuwrnikgN7xc2SlMEDv6Xds24o/vvoHrF+7Bk45J5sfwrt79cYMEkkffoiNvXuiTAcJFXU8UYgn/VEwg8vVNPoX65cFEqYaCmM6pxP716xB4vARuENbMfpUgpXMToz6ETQjYV3NSwGOrKgrsWDBgriycdO8VHiAYjM0KtbtjeLryNidjqtXLsPPM1tCKFJb5rtBgm+Az8aMwbpuXVBy+rSEM0ob1oaO7ScuoXI5dd26dXFx3rUFEiZ+4niGt1w1NqSMGo0lzz2PCirT6SBx4MABOTyEG1Bk+lifLqrixJO7fft2WW6iaLF1PTgUkLai9fd6oQwIYihmZJAIImvVSuydNgWVV8gXNN4faq2G0LH/SOm9yZMng0IasX5ZIGGqITW9ldfV1cgcOQqbXngBrr17RePa4/Fi5apVouxFsxEWSJgI2Ew/qZFKMcFjx441U4xWNPFEASNIyEKULm1Yc70INZcvwW+vEgM68QoSNAjKs9yvXLkS84NMCyRMLYcgoRn4A6CDxObnX4R7b6bYbrpWWITxH36IOXPmaAemGHezTXFZP5tOgZSUFLz33nuW6fWmkzCuQyqQUDN7WVaiSDo3xLmdHWQr5TN9xt9FQ380YqmUcGO5BBZImGpHzSSE9WpqkDFyFBKefRGOvVmy3LQrPR2DPvhAOi/OIizJJhMB7/GnWrqjuRPKknNGYV1tjwJmkJDZhG4Uh2dE1m50xydI5ObmylGmNAqqeD5Wa9kCCVPNqJGL7D847MjfmIiTEz+CO++CnG8wd948jBk3DjzPmlesV7CpeHHzk0t5NJpICRDrapsUMAJFLRTwyXjHJ22uXbuGLl26YM+ePTF/uJYFEiYeU+wnmtZuJ1BeBlwvBmps4LkRw4YPlz0JziAsgDARrxl/8iwJmi+gcIA1W2tGwsZJVFRk9fp88AcCJuFYvQAiWlsLHXFSrFA2KRVJEXrOlGNdDNYCiVC11T4I63GjjHab/B7A7xPjfpuSkzFk6FAcP3FCAMLqvGpp1txPFDOeNGkSli5dainUNTdx4yA+u8OBrdu34dTpXLg9ntCA7PKZM7h09CgclZWy/BuvMMG+g9JNa9euRUVFRUzXiAUS0aonZLvJI5tlt8vLMWP69NC5EQxmzSSiEe/e33N0Rekmbu7F06Hx915yKwZSwOl0YtrMGRg2aiQuXLwYIspns+dg9cjRuHnxkrwLzfxDPuLnYcaMGcLjhYWFMZ1pCySiVY9MZzWb+NyfoGb1qFGjsHXr1mghrPfNSAGOtGbOnClKR5ZtrGYkbBxFde78OfTp31/AQvHA6rETsLxHb9ykcqth+zqOihXKKk9g/OCDD3DhwoXQu1h8sECirlrhvoPLDXdVFRLWrMGkDz8EN5ysq2UpwBkab8qS04AiZcmtq21RQM3Ss/bnoFPXLli/ejVqqqqQ+OEkbOzTF2Vn4x8kUlNTMWDAAPBI01i+LJAw1U7Y9NXjRcGhI0ic/BHGdO6CTxcthjdOjhw0FSuufiqQoNkCKhxRYEBdqvNQvy33waQA61msMCOIVWvXoF/nLjiRmY3NEyYioUdPlORqPKGJxsYnDcjXPO+aJzDG8v6mBRIm/goDCacL++Z8gnbf+Cbee/Z5nM7YK77jdbPMVNSY/0nJDx5jmp2dLXnlOnWsS4LEPFHjJINsYzTRHwgGUVFZialjx2LuyFFY1u9dbBn0AcryzklJ4hkkKJzRt29fEYPluRKxelkgYaqZWj0JalzbsWfMeHT6wv+Nhd16wH7jVkhC2xTM+tlMFKBoIO3Z0CU40Fomp+U8xSsjI8Na7msmOsd6NAQJtkWlU33lwkWM7dsfo//WDoc+S4Dz9h0pQjyDBA39cbmJFqXtYg03NmvFAglTvYRAgofuVtmxfcRoDPnf/4oDy1aI7aawmYYprPXz3inA0RXP6OCmHhWNKN3EQ+NpcZfSTtb+xL3TOB5iMIIEZxT8fSgrC4O6dMfW9Rtgr64RnTq+j8dLLZvyTBrqA5WUlMRsMSyQMFVNCCTIfXYn1oweiw9eeBFXDhwUn3wdr4xpKmpM/uSZv5999hneeOMNdO3aVbRS33zzTfzsZz8ToOCSk3U9+BRgG1NtUVt2ErUIrFuzDv1798XejH1yrny8t8X58+fL4WWXL1+O2Uq1QMJUNUYQcJSVYeZ772Pon/+M8vOamJrxuymo9bOZKECTJ5yGf+Mb38DXv/51fPnLX8bjjz9uiR83E33jJRojUAhgBIK4facCo8aMRd9+/eWM6HgpS7R8JiYmCq/n5eVF83Lf31sgUUcVHN+/H6N69sD6WbPgraiU5aY6vFufmpECNMfxxBNP4JFHHsHDDz+M119/HfFgDK0ZSWBFZaQAl5z8fhGNPpd3Dt27dsPUKVPi9nx5tdzEJVVKOJG3Y/WyQCJKzXg8HqxZvQrjRo5A4eV8DSD8VK6LEsB63awU4BotJT++9KUv4dFHHxU7N1SoUo2rWROzIot9CujKrVVlZXDcvoOsjL3o3Lkz1qxdK0IO8coXXGbq06ePnHfNjexYvCyQMNUKmY13QWEhJn78ERYsXAgCBqe7cnSEBRImijX/T9XgN2/ejB/+8If4yle+gnnz5kk9NH9qVozxRIHdiRuRvnoNKm7cxMqVK9G9Rw9kZWeDIqSKb+KpPDzPnUurnDnH6n6bBRImjgrS6mQggPQ9ezBg2FCk7tkjkwcBCfq1QMJEseb/qYC6rKwMPXr0wHe+8x05D5j1EstKR81PiTYeo2prygWwYuKHWNC/P67n5YlNr3ETJuD9AQNw7pymNxFPQKHySpBYtmxZzBr6s0DC1A5ZcZRZXrR4McZOGIdbJbc0H2RUmfKaAlg/W4QCChDWr18vy05ZWVngdDxWp+QtQoS2HqkCB2l7GjESJk7Ehv79Uapv9NL4H5edePaIEiNVnW+sk4/55P3xxx/LSZe3bul9TYxl3AKJCBVy9uxZjBs1CutWrURx/iXkHzwIN5V3LJCIQK2WeaUaEBsO64OWYAkc8dIBtAxV2lisYSCh/UieMBGb+/TD7bN5oVl9ZmamiErT7HZVVVXc8Iji54SEBBHvjlW7cBZIGNqddEwANm3ejHGDB+PS4UPYvXwZVvXohTvHT4WY0hDEemxFClgA0YrEjoWkjCCh52fD2PFI6N4HZbQCG+S4TVO04/4E9WoIGLKHGAcDCs6KmX+evti/f/8wG2WxQH6VBwskFCVkNSmIsvJyTJ85E3OnToWvtAQ7xo3H4udfRsW+/aLdY5j5GkJajy1NAekM9Ol5S6dlxR8jFDCChMzigzi2MRGnFi6DvfC6ZFITKAnKTJMa+UOHDgWPvlWj9BgpScRsqDweOXIEnTp1Al1esTYYskDCVH37Dx3CkOHDsWnTJqC6Blmjx2LLi7+DywASZEzral0KWCDRuvSOidSMIEEzOYEA3GXl8N8sAVxubSZh6FQvXbqE3r17Y8qUKSguLo6JItSVCQUGzCvBjSChgKOucK39zQIJA8UpRvfphg0YNW4cyHCoqkbWiJHY+vxLcO/NEiYlQFggYSBaizxa87UWIWu8RarYQFxZW9KWfNV7AoSpTPv27ZNROc3M19TUmL7G5k+KwY4dO1YMWcaiGKwFEga+KSoqwsfTpmH+4sViFwY11cgYMxrrX3we1XszgIAfAQQtkDDQrPkf2exlEaH5o7ZijD8KGACBkMBVJ5lU6ABhBgmu89NAJLWY9+/fD9oCi/WLMwrOJGjHqby83FpuiuUKo4r80BEjsDsjQ5NkcthxbftWnJk7C67zZ4GAj2x61+gllssUn3nTRANV3jkiLCoqRGFhAWps2uhQLT8pP5b7oFNAGzyw9anZfLShBCXheFjV8OHDkZ+fHxeEGT9+PCZNmiRm8tUyVKxk3JpJ6DXhcDiwaNEijBk3Djcpr8whi8cNVFYAt8sAh01mEmEDm1ipxQcsHwoAOCqktMrw4cPQtWtndOrUEUOGDkFG5j7YnY6YG3E9YNUQY8XhFMKvtUs9Z9Ek0sk/58+fl/0JmpqPh/0JKtMRKGLRFH6bBwluFPHmUYI8BY2V5fP5EfAHAV9Au/VNMwGOGGs6D2J22MgJ2ps3b8Gf/vRnMRs+evQojBw5As88/yx+89ofsDtzL/yBaGPJB5EqbbNMYctJwQDOHT+OM/sPwFZRKTP6sO86idRIfO/evaCZ+TVr1sj+hBp8xCIl09LS8N5778WkGKwFEjpI0GQvK4kSBmQmfyAoGOENALyJGRy5WFdLU0Cbq/F0ukGDBqNPn75SJw67HXa7Das/XYsf/+ynGDR8OG6VlWmzCatiWrpS7lv85ia3buYsrBg2AjcuXKwzT9KG/X4Z9FF/IicnJ2TfSYFInRG08kfOfLiPcvTo0VZOuf7k2jRIqJEFbQRNnz5d1OOVRASZkzYZue3FWztG0cyy9RPY8tFYCmg05gl1+/Zl4sIFnuNBhPYBQT9y887i96++irc7dsW5/CsIBIJyNzYVy398UIDcYGx1n46fgBU9e+MmlemibF7Le12nhnzE/QkegysSizFabG5Y0+oxpbNizfSMBRLBoKx7Dxo0SCwxKsYTXgoE4a6qgqOsBH6X3RJ+vW8NjCDhFZDYlpKCJ558Gv0Gj8GNskpN0oWrTtb1QFIgtKCoI8WWiZOwuU9flJ/VQCL03VR6DgC5jMyLA41+/fqJ6YsbN26YfMbGT2qJsw/iqYxqoBobOQPaNEiwEqgbQZE5iqBx0yhs5OLx4HTqTuyZPxdVlzm9pQCsJd3UmswbDAbg87rgsFXg5PGD6NS5A37+qxewflMqPD6tLowjzdbMm5VWy1MgBAL6kmLy2LFI6tYNZadPS+LaDP/ufKhVAqWcRnHYd955R/Ynqqur7w4QA28mTJggJvGVocIYyJJkoc2DRGFhISZPnoy5c+eKbgSZUht/AHDYkTJ5Iha/9gfcPpADBC2QaC3GlUbOY8ZtNdiUvAFDBvXDq797Cb/4xc8xdcZs3Cq9LXtEYaDeWpmz0mk1CoTqVweJlFmzsGPYcNyWZcj6NWrUjIJLOCtWrED37t1jVn9izpw5IgbLPimWrjYPEtSN+OCDD5Ceni71QoDQzocKArYqpI0ZiTUvPo+arEwdJAwgEks1+QDlhR1DQNaUgZqaaqxbuxJ9e3bBX9/4I55/7jl8OHkKCq/fCAMJazbxADGAoSiheiVIBIK4fuYMio8eg7uyUiRJQiBiCGN+VEBB/Qnad+L+BO07xdq1evVqEZ5RZ2PESv7aNEhQzHLp0qXCOKWlpVInarM6GPQD1Xewd/RwJL34PFyZmZZZjlbgWtXo1TKDz+9HeXkpCq5extnck/j444/w0m9+h2kz56CkrFz2JKItObRCdq0kWosCZAyKoivUkGf1o/5MqGUnbl5Tioj6E9yfkBlrjEjHZWdny9kYx44dq79AreijTYMEzymg5APt0KtLzSS4Fo7qCuwZOQwbn30Grr37LJBQRGpBV/oCfcmvtk9g50AoCIhGavsOHfCjn/8XtqemwRfUxZMj5EmNINUGZgQv1qt4owAZRN2NzDv5gRfFYTt06ACO3CsrK2NGKZNi3926dZPlMJXXRhaxRby3WZBgJfCwD+pGGJGbIMGb+w+wVePMksU4+O678BLdqVOhvrdIdViRCkjo9nnUsxhioHSTLog8fNQofOVr38CcxUvg1kWUI1GOdazuSN+td/FFAa2Lv7c8K36ggh31Jw4cOBAzIqc8MImn7O3YsSOmznNvcyBBJuFFuWROOakKb5R2kI6JHig+53TAkX8JtpMngfIywE/bTbUz3ntjVyt0NAqwiq4X30Bh0XW4PR5dnozwHITH48bAQQPxT9/6X1i0ejVclFCLEhEVkyhSSMmWioqKKL6s13FDAQNKSDtu4jIRZ5bUnxg3bpyInWq6ONziMCRwH4hCSUuKwRLACBixcrU5kFCEZ8fBDevk5GT1KtzlTMLnFWAQWBBlLqrV3V9GCs9kfP1So7iG5Do7Owtjx43BZxvWo/x2uR4kiIyMPXj6qafw8h/+gIPHjglAECQi1QqXFbicyNkizxig+ehDhw7FVANsCC0sP6HqR0lhEW5eyofbZmuyCQTFh9y85mE/PGP65s2b9x0kWEoq9fKmvan7DVqK79ocSJDwLpdLxOFGjhyJq1evKlrc7RIouBZOV5Y6tHXxyF3S3cGtNxoFOHJTG4cc0bPzPnPmjOio3E0jdvdBFFy7io8mT8Bf3ngNPXt0w4hhQzFsyBA899xz+PWzz2B94kZUOxwCEtGgm0pJubm52Lx5s2a8ccwYsc/FGSTFIbnUwDVp46XyanxnPd8/CpjBf+uyFdg4dTpKpd1qWktmPw3JreqAqeHMJR51Prbi04bE0RJ+aGR0wIABuqWBlkih8XG2KZBQHYDSjZg3b16Ujkofmgo4aMsc2k6F2pFoCls2vnIelBBskOyw2SApgsiRfWpqapR1V9JWA+frRdewfu0q9O3ZHW+89hr+/Npr6Ne3L7Zu3447lZXwBYNyqxqKRC/WOWXkuaRIYOJ6L+udypPMB/PDGQaXpjjFZ15VBxIpPutd61KA3CCtTW9ya8ZOwMpe/XDrbJ5kRNNcanyeVD2TPwgQHTt2DOlP3M/658oGzXOQV2PlapMgQeuQtPiqdCMiVoZYftXsBQmbyozCEraMSKs6XrLjJThMnToV7777ruwBcWRPSQ420LuvWpCgaWifx42igms4cfQoThw7ihvFxfD6tL0h6lKIPoXqSO6OTNIgSBjTYp7UDGP27NkCGOQH5nH9+vUhwIgQnfWqlSlgBomkiR8hue/7KD97TnJS1wChvqwqMOD+BFcVyAOXL1++r4OEkydPYsSIEaDkZaxcbQokyBQc0X7yyScYPXo0aNgv6sVNLI8H13NP4nzGbrhKecYExy3WYlNUmhk+cORORUVuDvbp00dG7Fu2bGn4oSpCaIq+6rLxivDKNaTVkEfVIZj9crnp+PHj2L59uyxJcWbBvSoKNCxfvlyWpGJpE9Gc/wf9d6i6+QAg6cOPkNT7XZTrMwn99T2TgZvXPXr0kL2r+2nfifpaAwcOFHty3MiOhavNgUReXp6MGnhuRKQrxJT86HIhde5cLOncCeXHNQWXsO+RImiD7zhKV50wQZhKQVz357SZILFp0yZwic84mm8wmRTBzW6DI2i4R+ad2q5bt26FmmFw9sPNb0qcnDhxQpatopVD0aDhKVo+66MAq914rR/3IT7t0QclBiuwxu9NeVb1xhUG6k9w+dEo8diUOJsahudd03TIp59+GjOG/toUSLDiuCbNqSVHj5EutesgUwabAzvGjMOSF15EZVaWjGpD3yMFbkPv2LDYWSqA4JSdMwdKirz//vuYOHGidLbNIqVhBohIv5uB9qqzYFScPfAgKs5+Zs2aJTxD8UTONNiA1R6GSpZ0MC9rqW+W23QKhEBCZpRB5G7fgdzVa2EvLpZIQ9+bnoQWD/e3fD4BCM4o7tf52OTBUaNGYeXKlTEjtt2mQMJ4boSNInQRLoIAdx4EJGrs2Dd2PDa99DJcmVmWMp2JXuwY2ZlmZGTIaLtXr15hy0oKQISc96LYFgkUzO9MeWvsTzZO863i4KiSgMEZEQ+rHzt2rKwb80ziJUuWyMyJUlvG8qqw0VwjIEXzY703LO0SJAJ++KuqEbh9G3C7ZdDWnDaZWX+sR85+Bw8e3MQYwv0AACAASURBVOrnTyieWLBgAXhTLDcWrjYFEhR55Ghw48aNUWkfAgn6qK7BvhGjsOm55+DO2AtwA9TSuBbaEWS5IU3zxrSFw9EPO9GioqKIGqzmDlj9jloRxg9mQIj02+i/GZ5VgzVHxXITMFJSUgQwyE/ccyFwcIbBjUcuW9V1qbJHS6OusG33W61plpAgibRGMkPzXArk1f7EtGnTcOvWLeHn1qgrxRdc2owlI4RtBiQ4laSoG0Uf6zqhKgQSHLlU1yBnwkRs+/0ftJmE3zLLYbfbRc+Bymn9+/eXzpFie3XtOSjmj+Q2qHlHAgXzuwZF1DyeVIfBGcapU6dED4N7GJSO4aY392PY0LmkGW3GqmjRPDlqC7GwwtUQjSLS6rn5QMJIxczMTNmfoLQbZ8sEkJa+FF/t3LlTNtHJW7FwtRmQKCgoEFvtlJHn5lC0S7Ee/AHA7sCt7Bxc25AA39Vrstyk+qZo4R+U92RYNbJimdSyEpdY1J4D1+sJDlyLb9FLEb0ut0UzEB55pA6e9OHGNmlCHuPMYtSo0Zg6dZrMMA4fPiw0VDEp+hpprL5ZroECqs5DcoWqheqSbwavzflInibQc5ZsPB+7OdOIFhf5iJvX3PdSwBHNb2u8bzMgQZ0IajLu2rVL6BqN+CGe5MiBImhOlxw+BLdLs+dUV60w8AN0sQPjaJnLShQJ5Z4DXUr/cFmJs7PWGGGF+gdVOZHcGKC76vApVks599TUXbJnwaU4zrpGjByBFSuWy5IUZ2QCNgbJsBgoQmxlIayedVAI+GXZV2yrcbbfghfrkYIK3J9ozfMnKILbu3dvUTita0DbgkUPi7pNgITT6QRFXtlYGyoDTfajRq8nGIQ3GIA/6K8b1Y0MrZNYvQqjeKjHC38b+qUCGd3Qx9Z7sNvsOLB/Pz7+6CNhWIqBbt60WcBBOkNO/nVltubMVcRiG19Geo6SAXptrksly/jkOUIHJZ2+/l49c3+Cinvcr5k9exaGDB0qS1KU/uIeBpek6hO3bM5yNBc9mjMeRdu7yqk+qMSCQeTuP4BjqemoLtPsed0VRvm9R1cNIrk0zT2nGTNmyP7EPUZbb3C2LZoNoq6EMhWi8lJv4Bby0CZAgroRw4cPx+LFixs8+iXz+RGEV+4A/PJLsWSEqa5iaOUlYoXxo2G6HMkPO5nQrXqkOlxzHMb0jc9mf/pvejF6q+HMIWMvJk+chPfffQ+TJk6UNffCgkIEuASnezaGiRJ1I16bc2HKnPocyY2SitHrXV7UR+OHSO8M39VncaNpeitPpKlIS5FefKldBAy1hzFn7lwRq+UG5ZQpH4vII40PRtr0ro1BxWR2DQmHfYr2PsyTjnqmd/zZwOB3haw/w3qQWttLEZOKEM+nU6Zh+aChuHH+gsTB1hTB211ZasoL1TlTHLZ9+/ay/FQfoDclHWMYNTvnoGzhwoWi8KvyYfTXms9tAiRoBoJ2etgISfAGL5GIgT+tU+dJdf6gD76gHwE5AEdnTcXdet/uD3IGAnj1m8/iUzp+BRDU3CbwBLVbDs6hiQkqpelsbwQK/RQujtz96g4EEaw9lUfjGT0vfM3+XN2cETHcXd4NdopqbDZk7NuLcVxW6tkbY0aNQXJSMq4XFYWOElVZYhm5C0HDejSQwfij2dBhlujXeJvzQQpp9AjAKzM3jX6knfg10JjE5E9Sid/VLfErWustSAWTn3r9CG10+vA5dOmeWUblh3GrelSnWUgNqjqgq9OB/lRehB6MiLkUHtIzpqfHeqysqhLAoKb3/EUL8cGwYbLXQ/FLysifOHESXJJSl8QWCN8n0r7p6SAgfOkLBsCbs18vRUYDkWfALAd5QvGG4lu6kk3+U7f+KGFCdU4hDvFZmw39Jx3SwqObcedzKF5VIL0WWe8ciNEgvDYg02hKGhmjV8E2jJmAz3r0Q+kZZbspojfl/Z5d7k2w4+ZKBIGCiqL83VKXAom5c+eGzru2QKKFqE3C8ua5tlSGosRJpFFa1OSF0/1w3r4NR2kJgl63NEJt2UkfUdMPb7YenafDOlBj45DeRxtZEggICBpU6HML6Zy0kZU2k9BHoeyxuD8i8WudsVrmkX5I5UF3VTISTE9fAxYtqwKSui0jPnMpLvd0LtZ8uhbjJk7A5CkfY8vWrbh67Zo0BkYrZWI2DPMg1WGEgE7/pugpbVyniTmc/OY3Ri5XLUiw05JORU+X5VB1qToNFZ8CBgVAfC9R6rSQH6E0tPQUXbR4tbh1ykhOAoEg/OyMSTsd3EL50TtWBdShDlb3p/yTJgKa3G9QdScdvDElVXKIscITp05h67ZtwqucXbz//gB8PGUqkjdtwcWLV+Bye7TlPQ4OCE5+AoAqscZJ5Cm/3GowofGZlodaQvCJIVU5FE2Yf6GtXm8h+pnqUepcDQyE4XQPUldaGckzBFZ2pypeyQH/qQcu4eqDJRlscMAhAye9XsSfRictDLB5wiRs7f0ebjeD7SY95jodtc/EfoRKuFwGqks6ss7IGvBRpcflSYpX0wKAeteA4C3i5YGdSZCwvBuiG2GkbIiH+dLlxpHEJKwcMAD7lizC/uSNSE9KwOnDB+G20569zvAcRbo9uHr2PDI2b8PupGTs3bQZ6YlJOLwnA3dKtPOztc6fwYIoKS5Gzs5U7NqwARlJididmID0pI3Izz2JoNej9Wh6T+uy2XDm2FHsStqItMQE7E5OxK7EjTiWmYnq8tt6o6vNy42CIuzbnoJdCYnIkHwkI2Pbdly/ckVGtqQLp83ZWVn4aNx4/On3v8frr7yEiYMHYtOKZUhL2ICTOdmwVVVKp8FOkjc7k8LLV5CxdSt2b0zA3uQk7Nq4AZmpKbhVfD1EDpKOpLlTWoYDuzOQupH02IKM5E2Sp7wjx+CyOQwgAQR9Hlw5exa7N21G2sZE8Zu6YQNydu1C+U3azaqtJT6W3riBnNRUpCUkICM5GbuTkpCevAlX884h4PFq/oV+gM/lxrljJ7A7aTMykjYhc9MWpCUk4kRmNqrv3KklHGsmGMT1ggJkpKRgZ2IidjPPGxOxd/sO3CwoRNAgBk2wdtpsOJazH6kbE5GelITdyclI2ZCAkwcOwqZblWXe9arEtfwryNi2A+mJydiTvBmpCRuRtWMnynjesn4YDnUtOPudMHosXv3dq3jzj3/GmCHDsXLZSiRs2Igzp88IuLMetYuV48eF3FNCA+G/5M1SxsO7M1BBG2UCVhoR+b/s5k3kpKUjPTlZeIR52b15Kwov5sPn4ZjeELXHK+XZlZgktN63eRNSEzbgyN4MVN2+rc9oNaBgOa8XFCJz1y6kbUrEns1JSEtKQMa2LSgtIv1oep9x038APqdD+Jg0Zj1mbNqEXYmJOHvkKBw1Nm2AoPICYP2oMVjfpSdKT2sG8BRMGry02CM3r3maHQedtLHUEhf5jxdXPSjswOVJzi7U+5ZIs744H1iQIFEpGdAQ3QgjkVhFoQbicuHIylWY+9LLWP3Gn7Gq8zuY2ekdpCxaACdPquOle/ZV23AkcQvm9uiHuR27YVGXHpjToTPWjZmAIp2hjenkHzuBZYOHYcZf38bCjh0xr0N7TO/QHllrViFoU8pYWuTVZaXYuWI5ZnTtgnmdOmJBl86Y3rETNk6eitKLl0PZEEYKBnFu/wEsfG8gZrTviEVdmY8uWPTeQJzNzpZO7UBOjkxlB9Au0bvvYvCf38CI3/0ey7p2w8qevTDrnQ7YOnMm7tDekr50QIAgSpzYnYFP+vbH3PYdsIj5eKcdFn4wEOePHBJi0JtOElzPO4eVo8ZhytudsLhrLyzs0g3T3umI1IWLYLtVovUTuv+g04mDiZswu3tvzO7QCYu6dceMdu2wcsQIXDt92kg6eb564gRWDR2KOe3bY0nXrpjXuQtmde+No5u3IeBw6GN5jmGD8FXXIH3FKszs3B0LOnTBss7dMePtd7Bx0scoyb+ix12b89M5BzB34GBM79gFC7v2xOwOXbDgvUE4n7Uf8GpLDTJTAGArKUHS9JmY3qETPunUDfO7dMfH7TogeeYclBcWacRQCAHg+O4MzH93oPAI457xTicsHzQEV4+dlA6UwKPod+XYCYzv3htvP/kU/vr0s2j3+hv40x9fR+8ePbFk4SIcP3asVg8jGEBGQgJmdu+JeR27YlHnHpjxt474dPQ4FHP93gASLHDBqVNYOXIU5nRiGXvgk649MLtnX5zakQaf3RFG70CNDcmz52Fah85Y2LkblnTrjmnt2mHd+HG4mZ8vHZjkW894bnY25n8wGDO7dMT8bp0ws0M7zO3XB5f2Z4vRTCmg3hn671Qg8aNpmN6+I+YzL527YEb7DkhbuARVt0pCS50qQ2kLFyHtw8mo0OutttaUj5Z1udxE8VSlP9HcqSkwyM/PF4ERDnItkGhuKhvio24ERdjmzJkT5ewCg2f9McR0bFRuN6ovX0FB+m5cSUnBpZ0pOL0zBUW5p+B32GT0pvV0QQSdHpSdz8eZtD04u3MXzqem4UxKKvJzDsJWWq53FnoiHMnfvIUL+7JwetsOnN+5E3kpKTiVkoKbZ04Dbqc+8deG7x6bHYVnz+J0WhrOpabifOou5O5MxZVDR+Esr5Q1Ai3f9B9AxfVi5GXsw+mUnZKPsympuLBjJw5sTMTMDyegb6+eGDt+HLZv24Zr587hxqlc5GfsxaW0NFxI3SX5Ljx2HO7KKmmksp7MBPx+lF8rwNndGTi7g3HvQm5KCvIy96HyxnUg4AstoRFQ7GXluJBzAKe278SF1HTxf2rnThSdPAlvdbWADkGIiw5Btwel5y/hdNpunNmZigu70nA6JQUXc3JQU8qRsDZSlQ4mEIDtZgkuZWYJ3S7u2oW81F0StvzSFemIuIfExQseGhV0uXD9zFnkpu7CuZRUXNy5S2wAXT5wGI7bFXrc+nA/EMSd6zdwZl8mTu/cJfk+m7ILeRmZqCgqBrwcCev7O1was9lx9egxnE5JxbmdaTifmo5TO1Jx9ehxuCqrtM6ZYpu66GZ5QaHUTR55ZFe60PpiZhZqbpboGv06SHDZq9qGopO5OJOxD4dS05C+Ywc2JSVhwdy5GDZoMAa+/77w9+rVq3D26FFcOXYcuWnpGv/tTMPp7Sm4lHMA9vJyLR/CftoI3lZaiovZOULrc6lpyEtNw+n0PbiTfxVBt8H6KOvd5cHVYyeE584LTdKQuyMFlw7sh4MzCX1vhl7Jf7eLinBm3z6cTt2JvNSdOJ2yHWf27EZVUQGgZsn0S6Cwu3D18DHk7kjFOfJUSipO70hB8clceIyzTfoNBFB25QrKz1+Al1rtBkDVW1aLO5y98cCqdu3aif5Ec+sIKZDgTJ/6SBQ355Lw/bwe2JkEibp7926Rca7z3AgT9bXOVmdgblBxesyeTOa16mtAa/Sygc39Av7WOnRx1SI+XQmnwuuJEYDUrrKM8PT9B36WUaf+m8lJHKqD1BpKqMPUetjaNBie8fn0/DA6mx3nMrOxYuJHmNCnPz4ePRrJiYm4VnBNX9PW02S40K3nW1//VkUIfWe+pLyq7CyPT2iiRtiaXz3f5nySXkJXbV+G69CydKKAQMWt8kNaqW+kD8P6eKtNF8N3Cat1hEIYqRsDPSXvhvq4i74Mq+eb3xQtpZPS61j2uzRvofo1xytlZr4IKvotZaZH0lzVtf4sZdSoJz5C5dC8G//XVFXj1IkT2LZ1qwyAhg4dgsF9+mDOxEnYtnYdLh85Bk+NwTYZ6cj8q0vRRNLQacH88lYbMMo7Xb5XroTR612vC3Zsykuo3pkWwwjddP8sP8sp71W59TpkvPKdfKTXp8qTioffGR9/Szy1sy5VtNZwaQOO2vXUn+D5Ey1xsT3wOINVq1bdd0N/DyxIEH15FCAP8KD9laZcskEsHaUupCIbkfqokA2NtzQPQ6MRqSN2gmR6QwNTDUNlhA1BNQrRwfBrm5yhzkFvDKqBSGNjnIYOkd9U61Txy7sg7NU25GRmYfr4DzG8e2/MGjMBqclbUHhV25DmBicbt9zSKPVyqQ6F8ah2rruh1i1pMX96uSU8n/VAekDVnhWJwvMqGaVMDmgRi91jbYJ63DICN5WX/pgu6aCJV2kduXT2EehhLoSxynQSh3VaqgiSvdoOTEZ4Ul5jPk0EUnHTi4Q38AjDKtpKnmrj1gCXmdHj1igR8b9Ey07Zr/HLndu3ceLEcWxOTsay+QswafgojB80BJPG8jyMlTjGJalItqQkIgO9VN4VP0VKXUhPnjHwu57nUM75EHYTWBVQ6gQ3fle8QymsgBfgLaBq9iuJa5FLeP67Pxd5gfadunXrhpkzZ6KkpETaUXPnhro0tB/VUN2u5k5fxffAgsT58+dFeY66EcYpoTR2Vfp6XLKhajMaX7JjJcOrDlHehrcK6RnJ0CYmN6clnUZtx8xNS5FCUR2JagNawnp8tSNZaYiM05gFrgw4XdifvR+Tx3+Id3v3wYRRY7BpYxKKrhUiwFGxREEJHkq+UIxWdV6ql1AJaxnmL0WD0BtVRkamnsODiVeVtbA8hl5qmedYsHb8rD7qbtS49XRVlgmspqCh31qmI35XVaS8hLn8GIpEe9bGrXzWr7u9qC96UJOHUJyMmhVhAMDakHc/mZMkSAi/aHSQZ4rVVlbi1MlTYnxw7tx5GDx4CPr1648J48dj/fp1oukdzZZUqKiG1A3Jam9DxTHUu8F/6DHkTy9nWJsJ+dLj1OkgbUq1Lb19hcWj4jKFvw8/VR9CSwRdunRBQkKCSE6q982VJfZdnE1cuXKlRUCoofl8YEGCa3k0w0EpAePVlIpUvKo6M/6OdCl/kdy7/eujeDWaV67IPpl8qwT1tikN2uSFjT8nZz+mfDwVfXv3xdjRY7F1szZz8Cu5btWpGru/ULpav6a8mF2VBSarykc/xvemLMk3YzwqXKQw6pvZv4qzrjAqbJgf9VJFYMh3hE8GX+HlM+anrvKqOJUbFqH+Q32jawRX9b7eMJE8SFQaL0m0uh8CBnUtkjdtxqxZs0XLmyKVoum9bh1O5eaG6WGYo1Z5qs81h1O/BYAFuxmDRkUVl/JDl+0xdAvv358lJGOe6ntWfQg3lKnT0lLnY/N8Fq6EcMCraFRf3lri+wMJEjwAh0eU0lIpDa+pSiUBjc+NIahicOXWF7Yh/pQfs1tv3HrDoj+HwyGirFTC6tu3n3QClLGmnoOfSzINvMx5MP82R2P8bv6mfhv9GJ/Vd7NLP6pT5nN9lzFO9VxXGOVHuY3xq8LQjXQZv0fzEykc36mw0b435r1KW3UqnC1Sxp/G4qi4R+OD5JUPhgzBhAkfipLYkSNHaqWk9MQYjyax1LROW0BCL1tdJVT5DOU7FKYxpb5/fsvLy0V/ggPS5tafoKUIHoDEJcOm9lvNQZkHEiQ4e6DiC2cTigkVse4nsVUemupyWYE3exVt5pAjtpX69+sn5zqwvK1ilbWpBbDCtRoFzHyvEuYA6syZM3JCIw9Qoi0pHtFKKcDVq1fLkhQHHrwEvNTSliyVqVjqd+O5ndVfunAfBAeKxarzJ8K/Nv6Xoh3bMrW8OaPgrOV+XQ8cSJCYNPFLu/6RJA9UBdwvgt9LugQIzoyysrLuOib0+vXrwkjcf4nnMjaGPm2lnI2hCf2SLnXRRn3nkhSND6oZBpc2KLHDJSnqAdBkNa0UqD2PxuSjrvQbE0+8+KX+BM/HTkxMlGW8eym/CsuBIM+/SU1NFaN/94sWDwxIKManCevJkyeLViStKcrI20BdVQGGV3HxSIYhOPCcAk5B2ZB5XjdHG0rZhmVtSoOOCwJYmWwwBVRbiBZAfVcu/XGGQe1enrhHqUBumLKDIp8tX74ckZakosXP941pZw3xK7OaGF2KYptjG6TibufOnUPnYzekXHXRkPFOnToVn332mQgl1OW3Jb89MCBBgnIUTZ0IbtBxiqbeGQl4rxXXUnEZ4zU+08gbT8niOjIPQCFIcM+BioIsn3VZFDBTgDx+L3zO2SoBgyekUcKGtqR4vgGXcCm3zxkGBy3NcTU0r0aQUM/NkX5zxKFozZkZVzBoToMmPBpatrrywH1VHhHMweD9uh4YkGCFkLm5Yc1REG2rRKokVaHNQfDmjIv5MeY3tOfw8cfCdDzsh/Z8LHBojpp7sOO4F7408iCf2aZoS4on7qkjWmlRmR0XAYNgovYwmkrVhuRXAUNjBBuamp97CUeDfBSLba79iaVLl8qgtzUPPTKX/4ECCR5Qz3MjSFijboSx0A1hSKP/up6bIy7GwRkBbz4THPbu3Qvak+fojdN9rhmrDWn6aY506yqX9S2+KXAv/KH4K1IcFRUVAhjkRwIGl6OoecxNbwIGJajMlpYVb98rReMFJFhOnj/B/YkNGzbc84wrIyMjJAZ7rzRsavgHBiRIgC1bNmPQoIEiMtZUgjQmXKSG1Jjwyi/jUXsOBAdqcnJZiaM3zhyMgKcasQpruRYF7gcFKPrJGQaPA16yZIkMavr16yfLLfxNwCBP18ev9X1XZYsnkCAwcn+CEk8HDx4M7RmqsjTGpY4EB4uU2GS89+OKM5BQrHK3y423adOmytq9OqyFDNiSV3PEz4ZES48874Ib0jxilXsOnDncL6ZoSZq1ZtxNr/27+atW1r/psbZm2VsrLbYBGqPjmd7btm0TMxXUGeCSFAc669atEwkq1SbN+WooSKhwxppR72LNZZk462L5jfoTTekv2K9x+SotLQ1er8Hw4j0U2kjDhnBz7IGEuQTqtxCFP9SqpNEN4siRwxg2fCg2bkwIka8plRIK3ICHe4lfbUhzbZdy6nSTk5NxTZTgaPTJuhpDAXNdKLah27grGo8pfmt8jGHpq4yFvYyPH6RxpFvlnt80Te8TskTK09W4P0ixWg6CaD2VMwwjYKj4VBwNcRkmli+VP+pPcFVA7U+o943JO6WmOEPblJwcee+nkfykvDeGm+MHJIQv+E8VT7lB+HxeJCR8hvHjx6Kg4FqIkRtTGU3x29BKN67LsoHk5OTIXgMPWCc4cI2X4KBEWRsab1Py/KCGIc3MdBOWaXSBI/GY4jW6TYtVssGg6m50vmIzQCS6M6d8T01v6mFQSopitdzD4AyDknpU3Dt+/HgYYLCdNETPx1zPsUgZloX5ZFun2Q7uT3DGJVrsjcww9VfmzJ5990FHipcawZL0qrhZBa8vOy0KEioT0dz6Mnf3d2MRa4tKYJg4cQLmzZsjgBGNce+O797eNJRZ6Y/gwPXJSZMmyRojN/uo58A9B4KDYiqV94bGfW8leHBCK7pFLJFiQP2j+qnc8DDhPKaZH6TVLnXze+RLxWd0w3xG/RDmK65+1EV3flN8TcDgHgb1MDjDoFgtZ9CU2qPyK7XAKSWl/BuJYG4L5t9Gv7HyrOjCtk1ApP7EoYOH4PPR2q0YtZKsGlmCz5EunoQ3dNgwXObJksbLGNjwXr1WQxpjvHxW7w1B6nxsEZCgtRf1x6FT7Z+WF1WIOnMW8aMKaXSBjD08N2IA0tNSow7VGKK5h3ENYVbjshLlpwkOZlFWxVARi2y9vHcKcHlCGmZt44weKTlFDUBq3YaAhDlOjef0t0aWDftgDvXg/CZfGzt91V4IGNS14CCJpkGo16QU97jhSzAxLkmZKaLai9E1+4mF38byjhs7DoP087HlvX5Wi8YWxh7ybuagFvegwYPF0F9YuaLwFF+Tc+Uscr33VTPgKEHCojX/aDGQ4BkB6mYDk2yzsapcmnNi/q380dUvkpIR2O02VFbeEZv6Drsdy5cuwoRxI1FexnMjVEAtEH+ppq6F5y9DpCryJriKCVRQ428yOVX1uXnFUQTXZrmxp5aVVBjLbXkKCA+ww1IYEc4itRmQ9+JbmliIc9T5CcJJ/B7hEt5mAuo2sKJKL0rQCLG1mVfc4OU+BZekCBiU7uMMg6BBRT4uSZn1MNjOzHesE4wmgjp36oSPp0zRzrfhaX5+P/w+r3Y+h6GXMpeFyrTcl8jVj/ElPXg0c2hGovjLEJB9HU9p0U5qqe3z6FX1h7VvDQEjPD5kJnbz/A7AF/TBG/SBh9sE5IAbwyE3ESqZBZY70je+089bYP4uXDiPrVs343L+JVzIO4uPxo3GpyuXIeDXDgzn6IXnJagzE/ysEMmHHwE54KeevETLg+m9GiXRVc+sQMpJcxrdq1cvAYmkpCSxCW/cc2A5VLiGuM1TL3c3rgclXkXDSOXxBcmPAZAPQpZNjXWpeEs/MCoY8CHIQ3BCfEt+Md4GOqqwxviMz4qvja7xu/UsHT7rj2K11HXiHt306dNl/6Jv377ShqiHwW9sX6rtsD2xo2XYSPUea+9y9u/H39q3x+r161FVXS15P3rwAMpKb8k5NeQxdZgUB5mccXk8HhQXFaFPr94Cpi6nE5l79+LWzZsI+AMI8o7CW7X9bi19yP9af6i5EduDiSdbDCTYGftdDlzPPYn01WuQumQZ0peuwM4ly5C6ag3yT+ZKx89Mqozabt/G8fTd2LJ4KVKWLkfqkuXYvmQZDqSkorqsPMQIJ0+ewLAhgzFx1EjMHD0aHV96EQtHj0bauvXY+umnuHTunDAOgYGdA/MSftcSramMRMY0Mik3pThzoBQHR0LcnOOyEmcOFF0zp6M6tca45jis37WdtaJjGE30xiPfHA5cytmPtOUrsHPpUqQuX4EtS5YgLSEBN64VhDe0QAC3Cq4iIzkR25Yuxc5lK4QfU5atwKVDR+Cx24VnhW85QHA6kJeTgxSJexlSl63A5kVLkJG4CaVFxRJ3gGdWy2BCHwwxb6bGaP2upQkBgyayCRg0b04lWY6mqVzKPQx+MxofZB3LyFw3cBlrtGTnz/ytWLYc7/ztb5g/YyaS1qxF33btMGPUSCQuXYIrp0/D43QKX7jcbtFB2ZyYhB0bk/Day7/BlIkTMWPSCy+OLQAAIABJREFUR/jLb/+ADStXo7qiUh881w6ir5w5g5S1a7FtyVKkLFuObUuWYfuKVbh5MR9+T20/ZOx366PVQ6pxNZfLhuAL+OAP+FCdn4/tI0bio5d+i0+79MTarr2wpHN3LO7zHo5s3YGA1ysNx6ePxCsKC7Bz7lzM6NAJizp3x9LOPTCvc3ckTpuJ0qvXQiPvvLNn0bVjB/z7//yfeOa738Ob3/s+uvz8Sbz5059jTMfOOJaZpYGE5INpcGOYrvbsD2ijj3stM0FCgQOZlzMHggNNdl+9elVGAWqkc69pWeG12Vo0OqgOIvTdz1FZAAGPDwGfH4VZOVjR7h188pvfYU3nLljarRtmd+yEZcOH49LxE5pfnQ8Zx+Xjx7B2zGjM69odi7v1xsLOPTG/ay8cXp8A1+072kxVH8X6qyqRvWYNFvTojcXk2269MPOdLlg9chwKTp8N8S3P95D8qbwZ0gvl23qntV2/XwZhbGM8U5p7GNQfWrBggdiQ4j4Gl3I5w+CSFAHjLh6IIVr6/eyD/Ci/VojXn/41/uvb/4K+f3wDT3z7X/D7/3wcEzp3xomdu+CiBJSe7wP7D+DNP7+Bp3/4Y3z/69/E4//27/jO17+Bp//jP7Fk8lSUFd8y8JPWp53YlYZF7w3AJ126Y1G3npjbuRvm9umPy9n74XM6Zaai4pf2ofNw6F0EmjU7SLDDd/t98Pl9uL3/ILa/8TaSuvdFYeZ+XMvej/ysHFzafxDlVwsEJOjfx07b74W7qgLFZ04jLzMTl7KycTkrBxeyslFw+gycVVWynERCX6R9lHbt8MWHHsK/f+nL+N0/fQO//aevY9gbf8XRtD24feuWRgyPC+6KcrjulCHgdkgaAQGOewcJtaxERlVWWbnnkJ+fL+uFJHosM21dTBGP38JorTphui4vAm4fDn2yEEsffwLZI0ahICsL+VlZOJ+ZifyjR1FdWib8oi1Rkhd9qCkrxdXjx3GR/Jq9Hxez9uNC9n6UX7oCn92p1S0bFBu/04HSS5dwMWc/LmXlID97P87ty8KVYydgK7ut86IbrvJyeCorNeBSgBGhUcYj/Vsiz6xT42ydz0rTm8plBAzqYFAjmUqo3PQ2mjc354nxmd+11m+vxw17RQXs5y5iwNPP4m/f+T6GvPomfvD1f8bbT/4Sez7bgDtF1+Gj5WofeTCAmupqfPD+AHztv/13PPboF/CFRz6Hr33xy1g4cSounzoLZ1UNAl5f7QDH58OdoiJcOnQYF7PJhzk4n5WN8wcOoubmLQQkbh88JaU4l5mF6qJiBDxeDZTr4MOHVONqLtfr98Pt84koas2xEzj1wQicXrICfqcbfh83arRpF4/U9HsJJn4BFL/PA7/XBXH5Tf/u52xDftP1gojMfYhO7d7GFx9+BI89+vf49t9/Hn1e/g0uHTgkcWrp+OCvuIPjiQnYs2wxnLduSFiCF9Nsank5YqHsM82Rc72UG9JyEtzVq7Ks1NR4rXBNrxPSjh2I6lBCtCSvOb3wu73IW7MOe99qj+ubtyHEUyHe0sKSd71+8p5H4zXym/CezreMz8vbB5/OuxqfKn8aT/N76HZ75dlRXIwdM2bi+MYkeCuratvBPfBiqJxtNA4CBje9lfFBWmClHgYlCLkkRSkp4wzjftBL9TVejwcXc3OxfORo/P6b38ab//p9PPPdH+C/ffFLeOLb/xtHsnO0Psnrhc/thtfjFX4+c+Iknnzip/jCw5/DIw89jO9981s4uDdL4y+PzmfGPpXPIT7V+VXe+eD3sA/2wXb0GOZ27IxL23fCb7NLuiqfkWjU7CDBxNjY2BA9t0pRcfQ4Ks5fgN/lFhlhj0/7fnemtNmH1++F1+eTWxq9NFQdIHSQOJ93Fh3a/Q1/9/DDcj/5858jbft2+NwuraNQRLpxEymjR2Nlt+5wXroUIsbdad/dQZk7HW4kERwICl27dhWXGtKUWuDmUiTiWu/upmtL0cRcX6xjqWc2JJcX1fnXUJZ5APb8q/C7yYtshFrnTn8aQGgDFp/fKwMXzQ8BhCBUCxSh33rnzLQ9fh88dAlWAiJ6A2X6Ph/ceecx/7XXkTpqNHwlpVqcbbRzbwkeoNVn7lNQD4N7GFRAo8g5DRDyPAxaq6UJHGPaZp4xfmuJ59KbN2Wv4M0nfoJ/+4ev4Iuf+zt87pG/w+c/9yjWrloFO/NH/vF44XV7pC/zuD2YPHESvv61r+Ghhx7Cs0//CrknT9X2cwYeEp7XedXLfla/CRrC3xzwcBCfsRfTf/krnF+zHv7qGomL36W9GOJTNHhIEaq5XHbwnEkIEjpc8Nkd8Dmc8Lk98Hq1RmQEAWO62nsvPD7t5m/tOxs0icbbi/Pn8vDOO+2EaI8//p9YtXoVKqur4PURYLySjs/jg6+gGHuGjEBSh07w5p3XiK4acihulcbdLjec1Z4DpZVosIvTWsot03QvmY6iaPRnLIf1fDctW5omrANjPYR4jB22ywufww2fzanxo9sFr9cjvMJ80S87d8V/Xp3P5LfXp/GTmj3QNfCOSofhyfe18ej+OCIkf5zJw7rf/BZZg4fAV3xT4mRYY1zWc9PpwYEaDxmje/PmTVl24vIvrdVy/4L7hWy7SkqKbdfMMy1Nf84mKktKcCA1FWOHDMW3/vmbeOThR/DwQw9j8IABKNIPEOMgQ/pPndeoRPfKK6/g7//+79Gje3eRlPSY+D0s7zrPsr9VPCa8Kbzogy99N5Y9/Qwur/0MvuoaoYP02VH4scVAwsVG4/XC7fGAxJGGEiUTYQUMNVbVaOmy82ej1hp23rk8tGvfDt/97nfxySfzZGNLxcFGytvn9sF39ToODB6B1Pad4Dt7rlEgQXDgzIEa0jSfwRnExo0bZeZAZmR6ZDIypbFzUvmw3KY3+KbQrq4GL4MTjs50XqwFiEjgrgYkkb7pZZJGqH03goTiPaPLwRFHhr7cM0h55Tc4PmAQfEXFIZBQjbgpZbbC1PKYuS2qNslNb84wuCQ8Z84csVJL6UO2Zx7RSrMhbOutQUvJIzt3nw83iq5j7arVeO0Pr+L//Yd/wNO//KVswJvzocqxaPFifOtb38LYceNw89Yt1AkSEfpZbeCu98OpqVjzi1/iyqpP4auqrh8kmInmvJl5l9cLp9weAQpVoIamQ//q1sJ44PGq2ytrjeos3uLi63r+tc6aaTsY3u2F91oR9r47GFv+/Da8p/M0YhC46igzD1nZt2+fSFBQCY4zCK550lgXl5waWgb6UwDSmDCW36bxI2kdkd4e1kMtP5GvWP8hniR4hPED+YizQ961PGfkR2NaKj4ZEOlxq2dJQ9aXPfCeOIXkl1/BgfcGwFtYFJan8PTN+bF+Nwd9OOO/deuWHMNKwFAHKL3//vsyw6BtKSUl1RzpRYtD+EgGLF5ZieCeyoRx4/DCc89hy6ZNsNVoI3sVXvF00fXr6NqtKz5dvw53Kipk8C38Fca70XmF/aJH8eLOnVjx8ydxeeUa2R9jGvI9SlwPqcw0l8uMM0GXlwChddzaCE5blqk3nbsa7d0FpxntnKwsXL2ibRYb41Qg4ebyVtFNHJ8yE1mDh8N78TKcTidsdjtc+ujf2Ng5mqBmI6WVaLmRa5kJCQkCDgxnTKOhz6qCG+rf8nd3XTeUJsa6DIXRG6OXAwbFVx7Obg1AofyEGkgtSHi8brjl1niZ/GxumPytQIGu+k5XntXs5fwFZHTthtOTJsN744Z8C/kJpd308ofKbMVVb1s1Agb1MGhLimDB44G5l7Fy5UqZYXDT20hXhrvXNs0BC/mPruLJGzduYNvmLTh84ICcBMjVF8VHTF+lmXNgPy5ezofD6Qz7ruKpzave75IX9HQ0XnTB63LCe/o0zs2Zi4qDh+GtsYkfI+/WxqPxY4uAhCTo8aDq1i1cOngQBWfPaplrLAMrQtJVYT1eOOwO2eRRBBBC6o2SaQsqutzwllfgzuk8lJ08DUfxDZw/eQp5eXlwulyh9UuaNlbLStxzUNJK3HOgmKvErYNKKA8qL/W4qnIbG+5e/KvOsq26RtpJw+Bgwe3BjUuXcXZvJkqvFUoDDWsURv6SgY2aSbihAUUtSDCcOQ2+ixofeYcjuLIylO7PQeXJ4/BWVoQavjEu6zmctq1Fj5KSEpGS4gxj5syZIlZLxT1lrZZLUgQM1aa43Kz2Pxqbx7sGBjrv0bxQZUUFqFEdrd+wO+wCEGEgovpIE19KvtQ3SYPL/i54HTZ4K+/Ae+sWvBWV8DqcsgxrBCVzmR5SBW8ulwUQxHW7UXz8ODaNGIG0pcvgsTuk8PJdXxqoM023B9zZD7sZLvTOLdMnxsE4OTvgHYrf6YKnxq6l6/Yga3c6PhozBvv27pX80WYMjwnlzIFy1lxWorQSwYHLSpw9qJED3YbeqkwN9d+S/lRe2oKr6KjKSl5wkh8cDtFizV63Hgs7dcWJ7SnCQ/xGP+KfPKWePRwtcgNUu93UtfG44NJvPnvEjxZG8RvdUFwqPsWrLjc8Tgc89hp4bFVwO21weZzakoEKZ7mGOjDWR8s/k3fY6XNQyFH94cOHRSFWbXrTjhT7B3VEKw8Con+Gq+WbhuXTWVGBI+npuHHpksabxnoXfokeZ1j/xnCKvxS/GeNSz8qPztculxNOtxMOjxtOtw529ZSjRUCCKuUelxslOfuxtWs37Jw2XUwZkKCqUdVJ3FDBIhBefTMR5q54pWG6BEiOHTmC9m+9hd49e+Jy/mU5CY6jBO45UOKB5jOUtJIaJaiRQp35VBVhuY1uLM1N16ggYbfB43Agc94n+OTXz+D4mrXwOF1aI1GdveKpUD2yoZrBgp26ut1we4x3BD5Vcam4yY8CWHa43E44BXyidwjNTR8rvjrqiP2SDhSKj+gWFxcLYKSmpmLhwoVidJBLUjRzTuODSg+jPtoSfFR/YsvPx7i338bhDQlwV1WFtxvhleg8cVcfp3isES75lgMUAgUHPvxdX/4fMhKlOZ4JEE6nC26nCzXZ2TjUsTOyPp4Kd02NVhGsjLpG5i433Oquy19d3yS8S+I5ceKkHP/3zX/+Z3R45x3MmjETXTp3lo1pGt7jGbKcObDsCiCagw5WHA2ffTUHrcx153C7wdtFvrPZcGLuPCQ99SucX7ECbrsddrcLDrc2GgzxG/kmxFf8xtmk8XbA5dZuNjJpaPJdjycU1hiP9uxyueFwuWDnLWnX0w7qiKs2j3enY327d5ooXlIuVxW46c1NZg4oedIcJR65AjFy5EjR9KYeBpeuI9Gf9tsOHTiA0pISOM6cxcif/QwHFyyE+84dOOvrD5ubDzgDcimeVjxeN82aHSRYaK75u7lJnJmNo+06ImvyFLhrNJ0CAkTDQEKbCqmK0lx25DqINIB4p06eQs8ePfHYVx/DF7/wBfz4Rz/CiGHDkKyDAxE+UqVa7+pmmlikj+ITlTdOpXm7q3WQmDUXST/7JS4sI0g4BEDIq+Jf8VQYSPAbG9HdN2cCBAun2w6ngEYDQILtQr8JXq3eOaiyWu49tXnyGWcYtPRMwJgyZYqI1SprtUuWLBEJKiNgEGBGjxyJ+dOnozgzBx/94kkcW7AY7jsVjeIDxePRXMX7dbrsm6sqUXWjGI7KO3C76u8DH4qWYFPfc7TkcLpkA6Y6+wAOd+2NrKmz4Kq2yUidAKI2jiOmIWEZPhwkODvhbX4fMQ6XC6dOnkSfnr3wP776GB595BE88vDD+NKXvoRnn3kGs2bMkGlkZUVlaPYQLR7rfXg9xCo9ONrjreXPCYfLIberqhquGhuOL1iMxOd/g3Or1sNl4zcDHyq+MvEc43I6HYZ4jbTQ0rDzu0ula/we/mwrK8WxtF3IP3wYjqoqaQN1tgN9czRW6W3li7zhBCUtDx06JGLyPA9jwIABYq6HM4xly5aJUh9FVtesXImXn30OQ//4F7z7P/8VxxavhOtOpfSVrcYHdof0y3dyT2HN2NG4nJ0pBgVln6IOfmt2kGCBBSQcLjgu5OPmpwkoTtsDV3VNg0DCbqvBtcv5yMnMxO70dNCQV3p6OnbtSsPu3Rm4eDFfA4s6CnX2zBm8278/vvbVr+LzDz2Ef3j0UXzna1/Dz3/8BF556SX06NoNK5cvR2FBgQUSddAxnjqCWpBgh82OW7tdthrhvZKcQ7i8cDnKDxyFq8Ye3knXCRJOaVhHjhzGxIkfok/fvujRqzfmzl+I/CtXYef+RgRwCdGOwOV0oubCBSzq0R27pk6F89YtedfQAU8orgekrh6k8ii+o0tNb256U9ObUlIDBw5Er969MXbcWKxYvhxP/uSn+PaXvowfPvoF7F28DE7OJBpQp9xMz8rKCvWF7A/T09OQlrYL6bvTkZmdhWuFhZp4vyE+xq1uDopcFP93OlGdkYEPn3sWuevXwUWJKvbZxkGTIQ5+e8hYyOZ4pgwvb6fNAeftSjhv3IKzpBROm02Ql2nId33kZ07zdmkpFs+fj6d/+V94/tln8dvf/lbuF198Ea+//hd8tj4BToc2ajSH5W+q2x8+dBjzpk3DvOHD0ffll9HtueeQtGABdu9KQ+a+fSLyygNMaCAsUhzWu+j0jVXacOmQtzbyp6igdjsdNjhrbHCW34az+CacJbfhrLaH8xD5Sd0mvqRy04b16/DaH36PV155GV27dUe7dzrig+GjcPzEKdgcTtgj8GOoHVBSjnk7fgIrX34ZewYOgrOwUN7VxcexSmcrX/W3DfJhUVGRzDB4bABtR7399tv4H4/9E770yOfwpYcexh9+9Sts37ypQX0QAeIvf/kLfvWrX+H555+X+7nnnsELLzyD5154Dk//+ldYs349Sg39meI/u9MJ3jXsd+02je92pmLhf/0S51euhPP2bekDbXX0yw+pxtWcrp2Nwm6Do8YmOg3Ua6AcsLgOB/hd/OgNW0vbDofDjtJbNzFq2FB877vfxZjRo0R1ft26dbI5lJCwEbm52ulU0fJbY7OL2vr1q1dRee4cNo8YgRXduqM675x0ItHCWe+1TjZe6UDhA97kId6UKbc5bLA7yIPkPTscNjsc1XY4asiPddzCvxq/Jicl4rlnfo0e3bti584UMRR3/PhJHDtxCsU3S1BDnZ0wPtboGOJxG9O3wXHsOJJfehn73x8Ix7UCyaudeYgQ1nr34NCFexNUyv3BD36Ah3WDpI889BD+r7/7Ozzx4x9h5qyZcjCZxruRy03hGorfUsKKex5Lly7F8uVLsHr1CnTq1hn/9oMfIGHTJlRWVYX4ifxnM9zV7HNtNVo72JGCNb98CpdWrISjrFzC1ETsk7X8tAhI2KSB1sBmt8kUyEwA1YDCGpc0ZBvKSm5izPChePbXv0Lm3oxQocMaTh2NSxFGOoUrV5A6dBg2vNMJ9lN1g0tY/FbDjUz3GKaLAgm6PPaxorJCAwq7HTU1Ntg5YKmpgUM67ToAQgGK3S6Sb+3bt8frf/qTnDpo5GPyLgGC/BaJdxSPa+lpILHppZdwwAgSUcJGiq853hlpZD1rgwpjnTYHjY1xcPmJZ168/vrreOqpp+R+5tln8MpvXsGf/vwnmR2MGj0Sx44dFU1rY1jjM61B0FwQbz7zrqmpxpEjB/Hqn17HyA8n40pBYdjgW/Gf6g/DQGL7diz9yU9xftmK+wkSNtgcNbDLrY3q1CyChWcBmHm6IWJwtGW3oezWDYwe/gFeePYZ7M/cV/td+SVAcOMxClBoROEosAaOy/lIHfwBPnunIxycgXDUxxGniqsRbrRGpfIf7buRCR8kP6rcUp/6KN5cvtb0Y6Qz7Wxt2LAB23fswPXi4tqBCgFAZhoG3iMfhW7yjQ0OGXHZsHTZcjzx0ycxdfosHDl2AmvWrsOCBQuRQc3t0jJw9GUegSneoivPAkp2OI4fR8LLLyFrgDaT4CDGTK8H5TeXfHlTS9l8q28NKavya46Dv9W3hsYTKQ4VD+Mw8uq9Pqs80bjgjBkz0KFDB9Gr4F5CZlam6GkdPXYUx08cl5kp9xyYlwalq/d7FXcqRAT3N3/4I7IOHEK1jTNnjecU7xld4VOdrx2Z+7D1nXdwbdMWOG7fkXTNfGzMS7PPJJgxziRkml9xGzXF11FdWqJNc/ROWfNjaKh8HwKJYowfNhjPP/UU1q5cgUULF2HkqNHYui0F5bcrNEKqRh2hk9eWGfTGfusWrm7fgYuffQZHYaG+7GBKN0IcRgJZzwYgjxNa8WyBFStXyEjtb3/9G2bPnIWjBw6g/MZ12Ktrp+ShuhV+0nnGXg2HvQq26gq8//5AfP///Bx9BoxAn/eG4i9/+auMBn/51FNYuGQZbpSUarMJveGqRsl4+Szxqw6o4BourliOom1b4SgtDfGxMUwoPypsHLqqg6zPra+s9YVX31srnvrSifSdebxw4YKcef/aa69h4IABSEpMRFFBoYBcpDB1viOf6QPkz9ZtwE9/9hQWL10hAxY1Y4jYt/7/7Z15cBXXne/1kkm9SqZmap5n5lVNKplJud5MKmO/2E5sByQg3iB2PJPxGu/YcZzFjp2AEWbxgrHB9njDW9jxAmIxZjE2CCTEJgkQoBVJVwtCSLr3dp9e7ibp/f199T2nz72tqysB5jos7j9+dXo5W//681v69F00j0ycU3H8v95uhGsOINHdLT9pxzHTvOZgrkAr+8zKAQwOKuESU7/MJPoRaWpC2ZsLsO/j9Rjs709nTvyRvf7BQZnhcVuOPTAg18xsI4z5s6bjX/7xH1BUOBbX3zARV/9kDMaOHYeXX3kDPX1Rr/4gBgeGZ2PsL91nKoVBy8KgaWIwkUiPf2bXOnzMoL9zTyf8G9mX5r+Ef//Bv+N7//I9XDN+PB6++y6sWb4M3cc6EI+7GBjwmCRHUshgEoMDKRjhHjx4/wP4u4v+N679+W147e3F2LatFGtK1uCaCdfgx1eNxWdbt8sMjiyTAT/Xmu80G8kEBk1D8UguNfdBecHrgi+e+QGcb3/727j8sstwyy9+gddeeQX7q6sQCYfl8tFJeUgzOoi+nh7cesutuOOuB9HQ2DyMu2HspRkbwGAqhsGEjcGki8FUAoNkkf46XWe4LecxSNDg+tE/OICU97gZ3rMPnzz4K3z68isYTND4BjEwoAIEL0RfjJygDBIDcIwoXpg1A3//t3+D+++9Fxs3bcbmzZ/i4V8/gh9ceiXeXfQBkilt1LwgBqfMhaX6+1Fz6AgWLVyMRe8txLJFS7B80WIsW7QYS6QskSVfAgVyYeqAn1dfvmwZXpz7Ai7/4WX4HwUF4MvCb33jG7j0+9/Hr381GRs3fAzDyEo4aIj9NJoUTnS24+47b8fX/+e3MOWp2eju6ZMGlYon8M6Ct/D9f/0+np4zD32GJQ2MDOsgodnmi8TysjL8+b13sXjhQixbvETK0sVLwJ+mPhv8cY08l+i55DrHY/o8y5Hq6OOnUkfXzVWezli52vuP6b78x7K3dZ3skvV4TJd6+1Tb63u8cuVKTJ48GRdddBG+8Vdfx199/Wv45+98B+PHjcPMGTPQ2Nhw8kChg8TgIFZ++D4uvvhiLPjzCpiWm5O/4U7fS+IHkkj2x5HoTyI1oJbt/P4z13aBXts7s5KDpaRw4IS3Fmnt2Ytdkx9C2UsvYyAWx0C/WqdkEPGLfPLoH5DnE7aN8k834c2XX8bhgwfVmmaqHzt2lOOn10zEnXdPRmuoS76M7E/pcTNrlMlUCnV1jVi1cjVKVpZg7arVWPPRKqxZWYLVq9ZgdckarF5NWR3IBaiDkpIS8NNwmzdtQvG0afjn735X/oMhA8U/fOuvcfOEa/D6S/NxoLoStmWptW2PPfI5kEpioD+F3q5O3PvLO3DxDy7F6k82IElmk3F5vra6EjfecB3ueeh3qGtuk0/OZFgzrZ6kB+SLRv43ycoPP8LqVSVYW7Iaa0tYlmBNSUmav5IL8D6MZF+8N9nneExL9rmR9nV9f3+5jo3UfqTj/j78fWfX99fLPsd93ZZ/VMZ9fnT1m9/8Jr7+ta/JTzldcekl+P1vHsFHH7wv/8iML6NPxQdzKfXOO+/Aj676CSr2ViHRr7gjc7kYHNKn9MsppAZSSAyw1Ks+6h3SkLpeos9jeQ8SSQYJ76VVYvceHHpgMvbOewkDTkwqgZm+NLgcRqWMNAXbMGCEw0gmU0glU+hPpnC0sQmT73sAReOvQ2nZXqT6B5CUL7Co3EyQ4CdZHMdFOBxBREtfOLMdicqv1fOr9YFceDoIh8PyS038Psxtt96K//U3f4trrroatxaOwz1XXIl1b72DcE8P4vEY+mmYOkDQKGSQ4LF+WJE+TL7vXvx43Hh8tqMM8YEBJFIJDPQn0dPagLtuuRmTbrsXe2vq00FCG6rf2GjUnNNQ1riffewvey/4snTonIaPfyp1TtYHz+t+WOpt3U4f06U+Plqp6+pSj6H3WZ6svW6TXc/fx0j9nEod3a8phPy/Cmb+/+d738ONRYX414suwttznkOosRGWJZBKJmUy7Odm+LbycVXVlbj8istx/69/g5ZQm/S19KeavexEJd2P5pylrJ/xmek6vsDgP1Yw0lv/0zvOj2TxQpNI9KcQ7++Xj09W+U7svuMulD33AvqdmFQEM30+adDBa2HgyB5PBpNUP1LJBPoTCYSam/Hbhx7Cj64qxPrNWxFP9SOWYjuOPby9PJaIQ5zohnGsC/2xuKzHfrWM2M7rT3/cLCjVx+7OBz3wnvJ9xFtvv43HH38CC157HXt3lGP1nBcwf/y1qPpgpQwOKXLDjxKSIb8wKUklkIg5ePT3v8VlV1+N9Vu2wO3vR5zGnEriROgI7rrlJlx/2/3YdbDhlHhKMnFp74B1okfyLMeWY43A7khMB8dHtvdzUDd8H8H/qXlyyhSsW7Ma1Zs/xQOXX46KpcvQb9ugP6RdjeaLlH9Udd56ewG++92A4gLZAAAXB0lEQVTv4PV33kPUFGlfqn3aaD5Vcs4EqLMTuzdsQG9LM/oTyi+ONn5Bfgyfn99NSEmkkojLC0/C3X8AdcUzcXDhUqTcuFSGDBIMFD7RiuJcLMeFYdmyD/kkEY8jFY+hgT/3/ctfYvy1k1C2uxqxVAoOnzQ8JQ8reS7ch/LFC7F23nw4HZ3p8Tk/rhfrzx4H5YWjC355iUGCxnnkSC1Mw5RPoy0fb0D5r3+H9k82IBWPI5nyPnfuPa3yiVVJEqlETC4tvfnGq7jk0kvw+qJFEGQmnkAqkcSBXVsx8adjcPfvpuJw6Lhk2c/wEBY9Ru22diybMRPbFy5CIhKR/bAvOeZIDAfHR7bv80A3ZLG2rg5lZWUItbbK7++kmlrw5Jgx2PvuQqRMgXiCHI7sx8iVn62HH3kEf/eP38Ynmz9DPJGQ57QvZT3/tp9D2U9CMW7u3oP5t92G+vXr5CdPWc8/hr8dt/MYJFSgYJCgpBJxpE6cgKg5BLO5FSmXhpeUk5ETznlBSZRXVGDuy69iT/UBBQi/QJJwsXbVR/jhJZfioUcew/HeqAwisRzKVX1zLkmkuo5h4/RiLLr3fjj16uUQlRgEiQsnKPgDvIQ9mZTGyD+GSST5JaSUdMhOZxfMAwfhtrUjFYulE4RMcNCGSscdl0+w+6v2YSLfPfzm96htbZP88sn21RefwQ8v+Te89s5C9NouHMk1k6TMl53SRsfxkynE6hrwxk0/x6apU5Hs6kKSv8SZZBs9blBeaLogm/zpHwaL9LWF2rHuiSlo3bgFKWGrZHUUBrSvVGxZuOk/fo5/uvj/YkfF3rQv9QcG/3Z6TO3zvKQkvq0U/100Dg0rViBlmnJubJdmNms+BX4jO7NtBX0iGQclmYgh6dpIOjaSroskDZORz5fBM5vXoo1m165duPOuu3H9pBsxb/7LKPloFeY++wyu/tEVKBp3DTZ+WopYIikjcK6nAR6L0wDjMSTb2rBj6pNYf/c9SBxW32rkkkHMG9c/l2D7wgoc5ID3WWZq8QSSsbji0HEki4lEEpSkFh+XksVEAsI08MabCzB2wrV45Pd/wIr3P8TcOc/hJ1dcht8+8gjqGhph0xFo5qXjV3pMc82xyf2hw1j7sxux54+PI9nRjlg8hngiJh1ILo4DHi8MHofc20QcyahA7+F62J3dSLr0lad6nQmI3hAmjB+Lf7vqOlRU1ai25Fj6vExJH5fdr/R5fIImi1s+x/IxRWhZuhxJw5A+eTSfmMcgwYvVgUKVSU6KxklDkcYyXCG8GHVBbBNHONyHz7ZswWOPPoobb7wJ//Hz/8Sk6yfiVw8+jE+3bEXUELJ+thK0UdHwqSQ5dqgN5VOexMZ77kXySCZIyPOnfHOGz1mPFZTnrm7IR9pYGAjIIRMVCrmM+wKEDhTp0nPsyQTa2zvw6utv4Kabf4FJE2/EpOsmonhKMQ7ur4HjxuBK3oYmP+QizbUOEjU1WP+zSdiXDhKufHnOJYORWA74Onf5Ov17Q6Y8fxhLIunSR+nrU75P+8/cZRzRtlrcffst+MVDT6CqoUX5Oc+PKYbIkp9FbisZEiQ2b8GyK8egZTGDhPmXDhLqorWBuszmdNavDXBE5+wpMR6DYwk0Hz2K0tJS+R2J0m2laGxoguMw89KKzV3qsWVQag1h66OPYfVttyPpPUnwvFJo7vanf/ODfs5lncn7nUjI9Vs+9icSzN5YjhYk9DkymcTx493YubMCGzdsROnWUrS1tiHGLDDuPY3kYDrNmM7eamrw4aSJKH/icSTb2+VvS6m5BDyey/zkb2504HHEEgk4CeUX0wxy5WVE8Rx9zIIb6cTe3TtRfuAQOk0hn5Qz88sEBHWM++yXS6txubrCd2ryyXnL53hvTBGaln2IpCHOYpDwDFNmc3zE0RMc0cnzAnSg8B6LchhfRim5nTONUz4pMHPs7MThN95A5dNPI9ncIpUhncYX6Pdk4wbnc9+Ps6kX7agTXNaRBkOnzgzeSS/1SKM5WcDIxYtuI89lG6inC9bRQaKpCdXTpuHom28iefy4fAkug1auvoNj0lbPJjtfxthMTuib5DIo77H0d9qZjxQoPL8Yt5GM06HH5Dswof1cmpVsBnW/DBLk3+vHjSFZ34iGJcsR3V+DpLClrtNP3en+MvZcoLIrZlb5ET4+xxJx8N+Ywh0dOLT1czRWVSHhusow4qcwTpxZWtw3J25rGb09x5eP8BwvGoY42ohobS0Svb1IuLGMcebpevOlt6Cf0e/r6epHcZhAnC+wYy5CRw5jz4aP0VF/GPG4jViC7wQ8xshktpwyH+yDT7h+8fUbiyvuwhGYR47AamhEImoi7sYRPxVbOOV55Fd/p6vvoP4p6l/7Nenj6I/83OTa9liSfKlfN+bTCGW4zllX12fp78/zqbaDhBBIhCOq9Hyi9Jk5+0wg70FCPk7FGSRi6Kzch5I/PoFNb72FBN/ya0PkZHIYSDxOw9EXqZWgL9b1Ljr7vK6XVdI52AIJS4sVBIkRIBgOW5Yuz8N26SBBo3BclK1Yjtduvw2Va9dIwySnoxnGqetE8+k3SG7TKMl5HAnJoq2MkgbKOTF4nId6DeZ8ZrYR6+3DzpI1OFZzGPx1iaFBgkzk4kkfU0GC3GazqxIeXU/PUffH0vO5DAoycWLp8ZmjP/99LtCOOV+lE4/DirlwYw4iO3ei9L778fmLLyIuBPjztszs5Fjc9oKCLvmxRTcWA0t9jN+MlcsDcdsrvRd+WW0z9VW/7MOJubBdG45rIRZzvfE5h+FjZ7cP9s9vHbkyUYkjLizELRu73liARUUTcGjpCsQdFzxPOfP7TD7JZLbEMryT55iLmOMg5tiIxRyvvp/zfMwl6OPM7+eXpEPP59gNRzHzP/8Le5d/gHjUUH5JsqNZGIknxRdXaLToa1X7qp30c9Jn5r4O5RdjsKV/VH3pfkYqC9gon8LBhevAdW2I8p2ovH8yyl6Yh5hpIubGEHNdNR63c4ytg8TQc2zjl9xtdRv24cRisGJUhiuDBf+IRo3POYzeXvcTlOevnsiAZIkv+ISFyjcWoKTop6hbsgIxy5F8kJH83GOy6eSQzHFXJk6cE3l0ZBKlmM7XHIJ+8nMv86vHtD/zfI57uA5/uupqVLz1DmLhCFz6Sunb9LgZZoYzxXO6nio156oP3XZoHX8b1if3fvGfz7Wd9yDBwW2XGZMDa0c5qu66D2Vz5g4PElkXm2tyX+QYlcBApYJD5skkCBAjg/NF9Hyut5HGQ8PUQeLV17HqJ0WoW7Q0HSRYJz/XoY0zV6DgMfX0oBMdFTCGG3x+5pKvawr6ycf9SDOmE9NDtXjuqquxb8HbiIXDcFyuuvh1PRpLvnq6P69tJkicnCsnaqA7FIIIh+E6J69fwAw7n2K7LizHhmvbMMp3Yt/kh1A+7yW4hiEnxB/fk4qR4/KJg+LNgcsAjm9fH2cpz40+V/Yrx3cdGajccAR1pTtQvelTOD19clyez4w/en/pefnnEWxn7tc5rAveY7LmGiZcU6D6rXex5vpJqFv2AVyLS5BDOfAz4d9WDGRxOuy6HTiuEsWzLZ+k+TTtupbctrqOYd+atWjYUQYnEg0YHKbDC9MW0yxpv3bwEF648ipUvrkAbm+f9FNkR3EzUql4cuTSud9Xjqwzzbe/lD7UddFXvR8L/zQVjVu3Kb+cZQvZfi/vQYKT4pOEawvYDfU4vmoljm0vzQSJ9ISoEM+YqEAdBGxu81yWAvR5ltnnvH2ObUnxDLajE5ufnYsVjz4Owe9ZuC6EF0hG6iM4PrJ+zyfdSOMgK6YF1xA4sXcfQsveR19lNVxBx525TlnXx1B6XzKnOfUY9bXTfbA+kw+VgJA9BiElriPgOjbs2losvu8+bH3uebidnSqA5ehL9xmUmftzPuuCbMj5a59WcwhzGSQWMEj0eu9MM8lEJljo61f8aZ5UQNF96jpDSz+Pmkv6RcdWybb52Va8VDgBR5a9DybSnN9oyXMBf1skn2Jzmcmx4FhROOETcLo64fT0wDEEHK4Fp8ez4bAexabYSpjlcVvXsx042aLP5Sgtx4HgcbZpbsWmKdPw/t0PwKo5IvvkeUq6/2D7gtQFOZT3mDxFDTh9fXC6T8Dp7YVjGoo5x4HiVZWsz30tijuPR82nn01f3XQbh+zasKXQDkw11oFqLJ00Edv++Ec4oRBs2zeOnmtQXnAskgvJoeamowM1S5fi+N49cKJR2NIHCjgOhf7Q5/t0Wx9TJ/NbmsPs0iSr0rc6cDZtxrtjx6F+yXI4vX1yfvSZ6bmmx1Vz/xKChA3LEbBtQwUKW0iHzT8Ft2zloDOT8QKFDBI0KBu25cBiXc+Zs0zX18HCO8YL8wvrUhnpINHUgtI/8beb7odz4LBUhu73ZMoOzp/fgVQbiTQ6OmqLHDIZEbBsAdOx06z4GWM77muuNC90+pmkRukmuy7bkD8tXHZVQULAqarExzdcjz1PPA4n1CoZV4Hk/NZzYCencf/IHxOU3h75f+vkkYwIh/5ObSvOhvapedRc6ZK8aXY179z3n9fbUdaViY4DZ+MGLBlTiIZFy04tSNB551Ms24KQhmjCtk3571+WsGEKW/4EOH8GXFgMGBZsiuUTYUGYAqZpwRBCimkJCNZJ12VbGybfeVgWop4YtoWoFBsGr0nYsBubse3xKVh3xz2wqw/K6xS2DUo+rzno69zTp0w0aIRc9rQoJmxhyj95MW2BCMWiWDAlj5lrIJ/kVAvPk0H+QYwt+/PV9Tgki4pBGxHbVv2SM47LdlWVWHvD9dj1h8dht7Sq/uT8Mn0FHF3ouqCv0ywKCGFJxujDDEtA+TqPMekfM76Ovi1ikSvFFkvyST+oWM/Upf/TfpH1omxDnyk4tgV7wydY8OMrUfvnRbB7etJ+kf3kYrAg18EzPUbDVIGCF0xDsWH5xTsmJ5ze1vVojJZnlGpbBRRt7MwEvfN0+DRez9h0AGB72xSwm0IonTYTHz/wMOyaw3IuWqFneo1B+9xAnSt6UUyQFROWMGSAULwpXoRMZsiRDgCKvzSrWcYn+fUlKvo6yZoUX/00h2RbMDgJ2Pv3Y/XPbkLFE1Ngt4Y8bpVh676C8txmKh/3RyUbKjEmU5o/7ceEMGAxsZBBQiUm0t95yS0TFpm0aN64+uJtqz4UU5LBdP8qMTZNJkkW7F0V2PLoo2jbuBF2X1i2Z/2/cJBQhmiE+3C8oR6hqip0UCqr0FZVha76BvnxqyFKN030tIXQUlWF9qp96NBScwB9HW2waejM4qRYiPT0oLOuDm1V1ejwJFRVjWONDTAjYRUkjnWjY0spQms3wG7vTCtTKYNPJxc+lF/ta8xkbpGuLnQcOoRQVSU6qivRXlWJtuoq9La2wuLaMI1Hig07auB4Y5Oqy/pVVQhVVqHjcC0ix0+oepody0JvRwfaDx6UHHaSxeoqtFZXy75t9s0gEWpDy4oPcWzDJtjHu9PZ31f7/nz17I+BwY5E0XGkVvpCstVZpfzisfo6GH096mkjHSQsnKBf3E+uqnFs/wF0Vu9H2/4DiBzrVGzpgMGnhZ5eyXlb5T7JODmn/+1qaoIRicCORmB3duB4zUFE29pg8xiT8tGCRDoT0hnRGZaMZqYwIYSJjpoavD91KooLCzG3aDyeH1uIpwqLsPhPU9B5+IjKwPR4vb0oX7oEM6+7FrMKx+DForGYzfLW/0LFqg9hGRH5uM+s0BImmquqsOixP+CpsYV4vnA85hRNwIxxE/DBjJnoPXoUlmHA6ovA6u6FRaMMR2B5kZTLBozWqvQyQT2PoBx6X853fZAD08Sedesw9/bbMaOwEC8UjcUzhWMwvbAIm+a/jHCoTTIl2SIbHZ1Y99wcPDNhAuYVFeHFogmYPrYIb//mt2jYvReW4BKVEtpP9fr1mH/HnZhdOA7zxv0UzxYWYvo112LbO+/BOHYMlikUf13HYXWRxajsI9+2F/R3jtuy8OYXasN7jz6GmZKtcZhXNB7Tx47FB8VT0dFQL+1PyGV2+ikLZcuXY/bNN+OZwkLMLxqPFwrHYfYNE3Fg3VqYvb2yDpeS6Ht7Dx/BO5MflHXnFhViTlEhpo0dg9XPz0FXawusSFj+f7tlRpRPNciiajsSPwUjnfiix2WQoKGZBvqajqJm6XJsnz4bFdNnY2fxLOyYMRv7ly5DuPloenJCCFh9vWgt3YayZ59FWfE0VEx/CmXFM1Dx0isI7SyHFdVBwpR99zQ0Yf/i5dherPrdOX0Wdsx6Boc/+BDR9jYVJCJRVVIRFAYJeaMYIIIg8UXv8XnTjvfaELAME20Vu7Fz3nzsKC5GxbRilD1ZjO1PzUbDmvXSkQvJAwOKAetYF+pL1qJ89nPYVTxbyvbps1D9zp/RfaRWcqTWkdm/iY69ldj936+hrHgmdk2fJcvtzzyPo1s+h9ndo4JE1IRFHinc1g7jfA/CwfxPKamSS0HUFX1QZweqly7DjllPo+Kpp7Fr+mxsnz4Th5YuQbi1WSYsfEfBRJtPua1lZSh7cR7KphVj19Ri7HzyKZQ98xw6K3ZC9IUlSwbf5wqBaKgN1W+/h/IZs1Hx1AzsnD4dpcXFqF21Uj55qOAQhixNBgi1BDWaTRew43wKI5rBJ4loBKK7B6K1E6KhFaKuWUljCKKjE6K3B8KIypcppmlAhPsgOjsgmo5CcDmqthGivhmipQPi+AmISATCNJVEoxAn+iBCXRANIYjaJoj6Joijrarvnl4IwwDX4Ni34QmVrq6VpSFvQj6vPegrvyx9YX2a3jxYGgIibEB0dUMcbYGoa4A4Uq/4aiQvXdLQTJMsGorbnj6Ido+tI80Qtc2K4VA7RHe3rBMRJqLkMRxWfbe0QTQchahrgmhohmhuhzh2AiKsuDVMExHDQNQwYej55dn2vrC+gnnk1Qfmug/0izLbNyIQvScgOjshmkIQ9a0QtS0QDS0QoTaInm4II4yooP+iXyRfxyGa6UPrIQ7XQtQ2qH0e53kyxf4NQ7Is2uhz6W8blC9taIRob1c+1iSPEZB3/vNixieObLtfSpCQy02ccDgK0ReF6I1AnAgr6YtARKIQdPR04rw4GhuDQF8YorcPgkbKINATVu0jhnT66SDBvtkH++7x+pZ1w8oovb55szgXLZmbp5bDMvsjKyioc57rhg45SmdOXshgH0R3ryq5z+PRqEoomETQcMgWj/u55TYdvkxWDJkI0TBFlJxrdj3GySLbk1ue9zhPf2IvcMpfulM+1+xWBgjed8mXx1JOvsLKiTNI6KQlQp7CEEx+mXjTP0oWyS758gKQ9KNkl4HIq882knMGk4iXHOvgoJPm0W28QGXbzLjzK8ycwoaBvqiB3qiBnkhUCrfDUWZUzPAzY3Jf1VX1dH0eYwbmn5/OymR9r1/W74tGh/Tt79/fPtjO6P2roIsML4qtEx4zkheZ3Q/liyySUbKq6/ZGyZdi0c8VnybIOc/3UNJ9e3WNr5auvwo8nek1+vnSvAzli0mLyvYNM4qwoXwb62oec7GY4dzjMe1zh/rF053/lxokaEART8I0Jm+bx/2GxklzX9f312X77Lq56utxcvV9ukoJ6l94jk0akMegn69cvIzE4qnW1Zyzn1zsBnxdeHydzj09OV/+IGEgahrSj2pu/Xxlj3vyvk9f9wUGM/pAAh0EDAQMBAycAwxEYRgRn3D/7ProIEic5RtwtgEIxj+7BhjoP9D/cAYYGPxydnVUEI1GEUigg4CBgIGAgYCBXAwEQSIIkkGSEDAQMBAwMCIDQZAI4BgRjlxZRXAsyDYDBr5aDBREIhEEEuggYCBgIGAgYCAXA0GQCIJkkCQEDAQMBAyMyMD/B3AwBuH4jZZMAAAAAElFTkSuQmCC)"
      ],
      "metadata": {
        "id": "c3XyOx3KSRn1"
      }
    },
    {
      "cell_type": "markdown",
      "source": [
        "#### Approach\n",
        "\n",
        "- Find the longest path in a DAG\n",
        "- If $indegree(i) = 0$, $longest-path-to(i) = 0$\n",
        "- If $indegree(i) \\gt 0$, longest path to $i$ is 1 more than longest path to its incoming neighbours <br>\n",
        "$longest-path-to(i) = 1 + max${$longest-path-to(j) | (j,i) \\in E$}\n",
        "- To compute $longest-path-to(i)$, need $longest-path-to(k)$, for each incoming neighbour $k$\n",
        "- If graph is topologically sorted, $k$ is listed before $i$ \n",
        "- Hence compute $longest-path-to()$ in topological order\n",
        "\n",
        "#### Intuition\n",
        "\n",
        "- Let $i_0,i_1,...,i_{n-1}$ be a topological ordering of $V$\n",
        "- All neighbours of $i_k$ appear before it in this list\n",
        "- From left to right, compute $longest-path-to(i_k)$ as $1 + max${$longest-path-to(i_j)|(i_j,i_k) \\in E$}\n",
        "- Overlap this computation with topological sorting\n",
        "\n"
      ],
      "metadata": {
        "id": "xeO5Z46OSkik"
      }
    },
    {
      "cell_type": "markdown",
      "source": [
        "#### Longest path algorithm\n",
        "\n",
        "- Compute indegree of each vertex\n",
        "  - Scan each column of the adjacency matrix\n",
        "- Initialize $textlongest-path-to$ to $0$ for all vertices\n",
        "- List a vertex with indegree 0 and remove it from the DAG\n",
        "- Update indegrees, longest path\n",
        "- Repeat till all vertices are listed"
      ],
      "metadata": {
        "id": "uhyhVF4ESspv"
      }
    },
    {
      "cell_type": "code",
      "source": [
        "class Queue:\n",
        "    def __init__(self):\n",
        "        self.queue = []\n",
        "    def addq(self,v):\n",
        "        self.queue.append(v)\n",
        "    def isempty(self):\n",
        "        return(self.queue == [])\n",
        "    def delq(self):\n",
        "        v = None\n",
        "        if not self.isempty():\n",
        "            v = self.queue[0]\n",
        "            self.queue = self.queue[1:]\n",
        "        return(v)    \n",
        "    def __str__(self):\n",
        "        return(str(self.queue))\n",
        "\n",
        "def longestpathlist(AList):\n",
        "    (indegree,lpath) = ({},{})\n",
        "    zerodegreeq = Queue()\n",
        "\n",
        "    for u in AList.keys():\n",
        "        (indegree[u],lpath[u]) = (0,0)\n",
        "    \n",
        "    for u in AList.keys():\n",
        "        for v in AList[u]:\n",
        "            indegree[v] = indegree[v] + 1\n",
        "    \n",
        "    for u in AList.keys():\n",
        "        if indegree[u] == 0:\n",
        "            zerodegreeq.addq(u)\n",
        "                \n",
        "    while (not zerodegreeq.isempty()):\n",
        "        j = zerodegreeq.delq()\n",
        "        indegree[j] = indegree[j]-1\n",
        "        for k in AList[j]:\n",
        "            indegree[k] = indegree[k] - 1\n",
        "            lpath[k] = max(lpath[k],lpath[j]+1)\n",
        "            if indegree[k] == 0:\n",
        "                zerodegreeq.addq(k)\n",
        "                \n",
        "    return(lpath)"
      ],
      "metadata": {
        "id": "s1LKWc1MSfGj"
      },
      "execution_count": 34,
      "outputs": []
    },
    {
      "cell_type": "code",
      "source": [
        "edges=[(0,2),(0,3),(0,4),(1,2),(1,7),(2,5),(3,5),(3,7),(4,7),(5,6),(6,7)]\n",
        "\n",
        "size = 8\n",
        "\n",
        "import numpy as np\n",
        "AMat = np.zeros(shape=(size,size))\n",
        "\n",
        "for (i,j) in edges:\n",
        "    AMat[i,j] = 1\n",
        "\n",
        "adjacency_list = {}\n",
        "\n",
        "for i in range(len(AMat)):\n",
        "  adjacency_list[i] = []\n",
        "\n",
        "for (i,j) in edges:\n",
        "  adjacency_list[i].append(j)\n",
        "\n",
        "print(longestpathlist(adjacency_list))"
      ],
      "metadata": {
        "colab": {
          "base_uri": "https://localhost:8080/"
        },
        "id": "LzrYW9nRUF4L",
        "outputId": "c080e23a-e9bc-49f0-91d3-facd78ebfef8"
      },
      "execution_count": 36,
      "outputs": [
        {
          "output_type": "stream",
          "name": "stdout",
          "text": [
            "{0: 0, 1: 0, 2: 1, 3: 1, 4: 1, 5: 2, 6: 3, 7: 4}\n"
          ]
        }
      ]
    },
    {
      "cell_type": "markdown",
      "source": [
        "#### Complexity\n",
        "\n",
        "- Initializing indegrees in $O(m + n)$\n",
        "- Loop to enumerate vertices runs $n$ times \n",
        "  - Updating indegrees, longest path: amortised $O(m)$"
      ],
      "metadata": {
        "id": "je5Ru12iUb60"
      }
    },
    {
      "cell_type": "markdown",
      "source": [
        "#### Summary\n",
        "\n",
        "- Directed acyclic graphs are a natural way to represent dependencies\n",
        "- Topological sort gives a feasible schedule that represents dependencies\n",
        "- In parallel with topological sort, we can compute the longest path\n",
        "- Notion of longest path makes sense even for graphs with cycles\n",
        "  - No repeated vertices in a path has at most $n-1$ edges\n",
        "- However, computing longest paths in arbitrary graphs is much harder than for DAGs\n",
        "  - No better strategy known than exhaustively enumerating paths"
      ],
      "metadata": {
        "id": "YuimVUaaUebM"
      }
    }
  ]
}