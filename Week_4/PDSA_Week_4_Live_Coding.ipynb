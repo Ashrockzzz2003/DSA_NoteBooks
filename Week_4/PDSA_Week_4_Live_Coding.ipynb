{
  "nbformat": 4,
  "nbformat_minor": 0,
  "metadata": {
    "colab": {
      "provenance": [],
      "authorship_tag": "ABX9TyOJjIVbB7YKJ0cPVaKmXiFb",
      "include_colab_link": true
    },
    "kernelspec": {
      "name": "python3",
      "display_name": "Python 3"
    },
    "language_info": {
      "name": "python"
    }
  },
  "cells": [
    {
      "cell_type": "markdown",
      "metadata": {
        "id": "view-in-github",
        "colab_type": "text"
      },
      "source": [
        "<a href=\"https://colab.research.google.com/github/Ashrockzzz2003/DSA_NoteBooks/blob/main/Week_4/PDSA_Week_4_Live_Coding.ipynb\" target=\"_parent\"><img src=\"https://colab.research.google.com/assets/colab-badge.svg\" alt=\"Open In Colab\"/></a>"
      ]
    },
    {
      "cell_type": "markdown",
      "source": [
        "# Question 1\n",
        "\n",
        "Write a function `backandforth(AList, end1, end2)` to return the maximum number of possible route between node `end1` and node `end2` in the undirected graph without going through the same node again with exception to `end1` and `end2`. The connectivity details between nodes are provided by the adjacency list `AList`.\n",
        "\n",
        "**Sample Input**\n",
        "```python\n",
        "AList = {\n",
        " 0: [2, 3, 6],\n",
        " 2: [0, 3, 4],\n",
        " 3: [4, 2, 0, 1],\n",
        " 6: [1, 5, 0],\n",
        " 1: [3, 6, 5],\n",
        " 4: [2, 3, 5],\n",
        " 5: [1, 4, 6]\n",
        " }\n",
        "end1 = 0\n",
        "end2 = 1\n",
        "```\n",
        "\n",
        "**Sample Output**\n",
        "```\n",
        "3\n",
        "```\n",
        "\n",
        "**Graphical Representation**\n",
        "\n",
        "![](https://backend.seek.onlinedegree.iitm.ac.in/22t1_cs2002/assets/img/W4L3.2.png)\n",
        "\n",
        "**Explanation**\n",
        "\n",
        "The possible paths are [0, 3, 1],  [0, 6, 1] and [0, 2, 4, 5, 1]. Hence the answer is 3."
      ],
      "metadata": {
        "id": "q9rWBqAV0HBL"
      }
    },
    {
      "cell_type": "code",
      "execution_count": 10,
      "metadata": {
        "id": "TdJV3_QKz0R1"
      },
      "outputs": [],
      "source": [
        "def BFS(AList, v, walk_done):\n",
        "  \"\"\"Returns a path from v to all vertices excluding the ones in walk_done\"\"\"\n",
        "  (visited, parent) = {}, {}\n",
        "\n",
        "  # Initialize\n",
        "  for i in AList.keys():\n",
        "    visited[i] = False\n",
        "    parent[i] = None\n",
        "  \n",
        "  q = []\n",
        "  visited[v] = True\n",
        "  q.append(v)\n",
        "\n",
        "  while len(q) > 0:\n",
        "    u = q.pop(0)\n",
        "    for k in AList[u]:\n",
        "      if not visited[k] and not k in walk_done:\n",
        "        visited[k] = True\n",
        "        parent[k] = u\n",
        "        q.append(k)\n",
        "  \n",
        "  return (visited, parent)\n",
        "\n",
        "def find_path(parent, u, v):\n",
        "  L = []\n",
        "  current = parent[v]\n",
        "  while current != u:\n",
        "    L.append(current)\n",
        "    current = parent[current]\n",
        "  \n",
        "  return L\n",
        "\n",
        "def backandforth(AList, u, v):\n",
        "  walk_done = []\n",
        "  path_count = 0\n",
        "  (visited, parent) = BFS(AList, u, walk_done)\n",
        "\n",
        "  while visited[v]:\n",
        "    path_count += 1\n",
        "    path = find_path(parent, u, v)\n",
        "    walk_done.extend(path)\n",
        "\n",
        "    (visited, parent) = BFS(AList, u, walk_done)\n",
        "  \n",
        "  return path_count"
      ]
    },
    {
      "cell_type": "code",
      "source": [
        "AList = {\n",
        " 0: [2, 3, 6],\n",
        " 2: [0, 3, 4],\n",
        " 3: [4, 2, 0, 1],\n",
        " 6: [1, 5, 0],\n",
        " 1: [3, 6, 5],\n",
        " 4: [2, 3, 5],\n",
        " 5: [1, 4, 6]\n",
        " }\n",
        "end1 = 0\n",
        "end2 = 1\n",
        "\n",
        "print(backandforth(AList, end1, end2))"
      ],
      "metadata": {
        "colab": {
          "base_uri": "https://localhost:8080/"
        },
        "id": "ta5E7_WK51nB",
        "outputId": "37d05244-60b6-4ee9-e007-cebc48dc6df8"
      },
      "execution_count": 11,
      "outputs": [
        {
          "output_type": "stream",
          "name": "stdout",
          "text": [
            "3\n"
          ]
        }
      ]
    },
    {
      "cell_type": "markdown",
      "source": [
        "# Question 2\n",
        "\n",
        "A group of workers have to complete a list of tasks, those tasks have dependencies within the task list. But the workers prefer some interesting task and hates to do some boring task. They always do the most interesting one among the available tasks to be done.\n",
        "\n",
        "Write a function `coolWorkers(AList, preference)` to return the order in which the tasks will be done. `AList` is the adjacency list with the dependencies and `preference` is the tasks sorted in preferred order, in which task in index `0` is the most preferred and index `-1`(last element) be the least preferred.\n",
        "\n",
        "**Sample Input**\n",
        "\n",
        "```python\n",
        "AList = {0: [1, 2, 3], 1: [7], 2: [3, 5], 3: [4, 1, 8], 7: [], 5: [6, 1], 4: [5, 7], 8: [5], 6: [7]}\n",
        "preference = [1, 3, 2, 6, 8, 5, 4, 0, 7]\n",
        "```\n",
        "\n",
        "**Sample Output**\n",
        "\n",
        "```\n",
        "[0, 2, 3, 8, 4, 5, 1, 6, 7]\n",
        "```\n",
        "\n",
        "**Graphical representation**\n",
        "\n",
        "![](https://backend.seek.onlinedegree.iitm.ac.in/22t1_cs2002/assets/img/W4L4.2.png)"
      ],
      "metadata": {
        "id": "XqYueuDs7Nc1"
      }
    },
    {
      "cell_type": "code",
      "source": [
        "def coolWorkers(AList, preference):\n",
        "  indegree = {}\n",
        "  top_sort = []\n",
        "\n",
        "  for i in AList.keys():\n",
        "    indegree[i] = 0\n",
        "  \n",
        "  for u in AList.keys():\n",
        "    for v in AList[u]:\n",
        "      indegree[v] += 1\n",
        "  \n",
        "  for i in range(len(AList.keys())):\n",
        "    available_tasks = [k for k in AList if indegree[k] == 0]\n",
        "    t = [(preference.index(i), i) for i in available_tasks]\n",
        "    t.sort()\n",
        "    j = t[0][1]\n",
        "    top_sort.append(j)\n",
        "    indegree[j] -= 1\n",
        "    \n",
        "    for k in AList[j]:\n",
        "      indegree[k] -= 1\n",
        "    \n",
        "  return top_sort"
      ],
      "metadata": {
        "id": "nX5xCuS97UrJ"
      },
      "execution_count": null,
      "outputs": []
    }
  ]
}